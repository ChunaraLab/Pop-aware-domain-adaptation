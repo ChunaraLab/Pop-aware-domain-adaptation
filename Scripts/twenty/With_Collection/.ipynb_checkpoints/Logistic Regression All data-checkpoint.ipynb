{
 "cells": [
  {
   "cell_type": "code",
   "execution_count": 1,
   "metadata": {
    "collapsed": true
   },
   "outputs": [],
   "source": [
    "import pandas as pd\n",
    "import numpy as np\n",
    "import os\n",
    "import time\n",
    "from sklearn import linear_model\n",
    "from sklearn.metrics import f1_score,roc_curve,precision_score,recall_score,accuracy_score,auc\n",
    "from collections import defaultdict\n",
    "from sklearn import metrics\n",
    "import random\n",
    "random.seed(10)"
   ]
  },
  {
   "cell_type": "markdown",
   "metadata": {},
   "source": [
    "One dataset is held out. All the other datasets are concatenated. We implement a Logistic Regression on the concatenated data and then test out on the held out the data."
   ]
  },
  {
   "cell_type": "code",
   "execution_count": 2,
   "metadata": {
    "collapsed": true
   },
   "outputs": [],
   "source": [
    "symptoms = ['fever','cough','muscle','sorethroat','virus']"
   ]
  },
  {
   "cell_type": "code",
   "execution_count": 3,
   "metadata": {
    "collapsed": true
   },
   "outputs": [],
   "source": [
    "def read_files(filename):\n",
    "    data = pd.read_csv(filename)\n",
    "    data = data[symptoms]\n",
    "    print(data.head())\n",
    "    return data"
   ]
  },
  {
   "cell_type": "code",
   "execution_count": 4,
   "metadata": {
    "collapsed": true
   },
   "outputs": [],
   "source": [
    "def get_training_data(train_files_,train_directory):\n",
    "    data = []\n",
    "    for i in train_files_:\n",
    "        print(train_directory+i)\n",
    "        data.append(read_files(train_directory+i))\n",
    "        \n",
    "    training_data = pd.concat(data)\n",
    "    x_train = training_data.drop(['virus'],axis = 1)\n",
    "    y_train = training_data['virus']\n",
    "    return x_train,y_train"
   ]
  },
  {
   "cell_type": "code",
   "execution_count": 5,
   "metadata": {
    "collapsed": true
   },
   "outputs": [],
   "source": [
    "def get_test_data(test_file_,test_directory):\n",
    "    data = read_files(test_directory+test_file_)\n",
    "    x_test = data.drop(['virus'],axis = 1)\n",
    "    y_test = data['virus']\n",
    "    return x_test,y_test"
   ]
  },
  {
   "cell_type": "code",
   "execution_count": 6,
   "metadata": {
    "collapsed": true
   },
   "outputs": [],
   "source": [
    "def linear_regression_model(x_train,x_test,y_train,y_test):\n",
    "    lm = linear_model.LogisticRegression()\n",
    "    lm.fit(x_train,y_train)\n",
    "    y_pred = lm.predict(x_test)\n",
    "    fpr,tpr,threshold = roc_curve(y_test,y_pred)\n",
    "    auc_score = auc(fpr,tpr)\n",
    "    accuracy = accuracy_score(y_test,y_pred)\n",
    "    precision = precision_score(y_test,y_pred)\n",
    "    recall = recall_score(y_test,y_pred)\n",
    "    f1 = f1_score(y_test,y_pred)\n",
    "    return auc_score,accuracy,precision,recall,f1"
   ]
  },
  {
   "cell_type": "code",
   "execution_count": 7,
   "metadata": {
    "collapsed": true
   },
   "outputs": [],
   "source": [
    "def predict_on_unknown(train_files,test_file,train_directory,test_directory ):\n",
    "    results = defaultdict()\n",
    "    x_train,y_train = get_training_data(train_files,train_directory)\n",
    "    x_test,y_test = get_test_data(test_file,test_directory)\n",
    "    auc_score,accuracy,precision,recall,f1 = linear_regression_model(x_train,x_test,y_train,y_test)\n",
    "    results['AUC'] = auc_score\n",
    "    results['Accuracy'] = accuracy\n",
    "    results['Precision'] = precision\n",
    "    results['Recall'] = recall\n",
    "    results['F1'] = f1\n",
    "    for k,v in results.items():\n",
    "        print(k,\"\\t\",v)\n",
    "    return results"
   ]
  },
  {
   "cell_type": "markdown",
   "metadata": {},
   "source": [
    "### Predict on GoViral"
   ]
  },
  {
   "cell_type": "code",
   "execution_count": 8,
   "metadata": {
    "collapsed": true
   },
   "outputs": [],
   "source": [
    "TRAIN_DIRECTORY = \"../Data/data_1/Goviral/Train/\"\n",
    "TEST_DIRECTORY = \"../Data/data_1/Goviral/Test/\""
   ]
  },
  {
   "cell_type": "code",
   "execution_count": 11,
   "metadata": {
    "collapsed": true
   },
   "outputs": [],
   "source": [
    "train_files = ['goviral.csv','fluwatch.csv','hongkong.csv','hutterite.csv']\n",
    "# train_files = ['goviral.csv']\n",
    "test_file = 'goviral.csv'"
   ]
  },
  {
   "cell_type": "code",
   "execution_count": 12,
   "metadata": {},
   "outputs": [
    {
     "name": "stdout",
     "output_type": "stream",
     "text": [
      "GoViral!\n",
      "../Data/data_1/Goviral/Train/goviral.csv\n",
      "   fever  cough  muscle  sorethroat  virus\n",
      "0    1.0    1.0     0.0         1.0    0.0\n",
      "1    0.0    1.0     0.0         1.0    1.0\n",
      "2    1.0    1.0     0.0         0.0    0.0\n",
      "3    1.0    1.0     1.0         1.0    0.0\n",
      "4    0.0    0.0     1.0         1.0    1.0\n",
      "../Data/data_1/Goviral/Train/fluwatch.csv\n",
      "   fever  cough  muscle  sorethroat  virus\n",
      "0    1.0    0.0     1.0         1.0      0\n",
      "1    0.0    0.0     0.0         0.0      1\n",
      "2    0.0    1.0     0.0         1.0      0\n",
      "3    0.0    1.0     0.0         0.0      1\n",
      "4    0.0    1.0     0.0         1.0      0\n",
      "../Data/data_1/Goviral/Train/hongkong.csv\n",
      "   fever  cough  muscle  sorethroat  virus\n",
      "0    0.0    1.0     1.0         1.0      1\n",
      "1    0.0    0.0     0.0         0.0      0\n",
      "2    0.0    1.0     0.0         0.0      1\n",
      "3    1.0    1.0     1.0         1.0      1\n",
      "4    0.0    1.0     0.0         1.0      1\n",
      "../Data/data_1/Goviral/Train/hutterite.csv\n",
      "   fever  cough  muscle  sorethroat  virus\n",
      "0      0      0       0           0      0\n",
      "1      0      0       0           1      0\n",
      "2      1      0       0           0      1\n",
      "3      0      1       0           0      1\n",
      "4      0      1       0           0      1\n",
      "   fever  cough  muscle  sorethroat  virus\n",
      "0    1.0    1.0     1.0         1.0    1.0\n",
      "1    0.0    0.0     0.0         0.0    0.0\n",
      "2    0.0    0.0     0.0         1.0    0.0\n",
      "3    1.0    1.0     0.0         1.0    0.0\n",
      "4    0.0    1.0     0.0         1.0    0.0\n",
      "AUC \t 0.544144144144\n",
      "Recall \t 0.621621621622\n",
      "Accuracy \t 0.536585365854\n",
      "F1 \t 0.547619047619\n",
      "Precision \t 0.489361702128\n"
     ]
    }
   ],
   "source": [
    "print(\"GoViral!\")\n",
    "results_goviral = predict_on_unknown(train_files,test_file,TRAIN_DIRECTORY,TEST_DIRECTORY)"
   ]
  },
  {
   "cell_type": "markdown",
   "metadata": {},
   "source": [
    "### Predict on FluWatch"
   ]
  },
  {
   "cell_type": "code",
   "execution_count": 13,
   "metadata": {
    "collapsed": true
   },
   "outputs": [],
   "source": [
    "TRAIN_DIRECTORY = \"../Data/data_1/Fluwatch/Train/\"\n",
    "TEST_DIRECTORY = \"../Data/data_1/Fluwatch/Test/\""
   ]
  },
  {
   "cell_type": "code",
   "execution_count": 15,
   "metadata": {},
   "outputs": [
    {
     "name": "stdout",
     "output_type": "stream",
     "text": [
      "FluWatch!\n",
      "../Data/data_1/Fluwatch/Train/goviral.csv\n",
      "   fever  cough  muscle  sorethroat  virus\n",
      "0      1      1       1           1      1\n",
      "1      1      1       0           1      1\n",
      "2      0      1       0           1      0\n",
      "3      0      0       0           0      0\n",
      "4      1      1       0           0      1\n",
      "../Data/data_1/Fluwatch/Train/fluwatch.csv\n",
      "   fever  cough  muscle  sorethroat  virus\n",
      "0    0.0    0.0     0.0         0.0    0.0\n",
      "1    1.0    0.0     1.0         1.0    0.0\n",
      "2    1.0    1.0     0.0         0.0    0.0\n",
      "3    0.0    1.0     0.0         0.0    0.0\n",
      "4    0.0    0.0     0.0         1.0    0.0\n",
      "../Data/data_1/Fluwatch/Train/hongkong.csv\n",
      "   fever  cough  muscle  sorethroat  virus\n",
      "0    0.0    1.0     1.0         1.0      1\n",
      "1    0.0    0.0     0.0         0.0      0\n",
      "2    0.0    1.0     0.0         0.0      1\n",
      "3    1.0    1.0     1.0         1.0      1\n",
      "4    0.0    1.0     0.0         1.0      1\n",
      "../Data/data_1/Fluwatch/Train/hutterite.csv\n",
      "   fever  cough  muscle  sorethroat  virus\n",
      "0      0      0       0           0      0\n",
      "1      0      0       0           1      0\n",
      "2      1      0       0           0      1\n",
      "3      0      1       0           0      1\n",
      "4      0      1       0           0      1\n",
      "   fever  cough  muscle  sorethroat  virus\n",
      "0    1.0    0.0     1.0         1.0    0.0\n",
      "1    0.0    0.0     0.0         0.0    1.0\n",
      "2    0.0    1.0     0.0         1.0    0.0\n",
      "3    0.0    1.0     0.0         0.0    1.0\n",
      "4    0.0    1.0     0.0         1.0    0.0\n",
      "AUC \t 0.506304347826\n",
      "Recall \t 0.782608695652\n",
      "Accuracy \t 0.404109589041\n",
      "F1 \t 0.452830188679\n",
      "Precision \t 0.318584070796\n"
     ]
    }
   ],
   "source": [
    "train_files = ['goviral.csv','fluwatch.csv','hongkong.csv','hutterite.csv']\n",
    "# train_files = ['fluwatch.csv']\n",
    "test_file = 'fluwatch.csv'\n",
    "print(\"FluWatch!\")\n",
    "results_fluwatch = predict_on_unknown(train_files,test_file,TRAIN_DIRECTORY,TEST_DIRECTORY)"
   ]
  },
  {
   "cell_type": "markdown",
   "metadata": {},
   "source": [
    "### Predict on HongKong"
   ]
  },
  {
   "cell_type": "code",
   "execution_count": 16,
   "metadata": {
    "collapsed": true
   },
   "outputs": [],
   "source": [
    "TRAIN_DIRECTORY = \"../Data/data_1/Hongkong/Train/\"\n",
    "TEST_DIRECTORY = \"../Data/data_1/Hongkong/Test/\""
   ]
  },
  {
   "cell_type": "code",
   "execution_count": 17,
   "metadata": {},
   "outputs": [
    {
     "name": "stdout",
     "output_type": "stream",
     "text": [
      "HongKong\n",
      "../Data/data_1/Hongkong/Train/goviral.csv\n",
      "   fever  cough  muscle  sorethroat  virus\n",
      "0      1      1       1           1      1\n",
      "1      1      1       0           1      1\n",
      "2      0      1       0           1      0\n",
      "3      0      0       0           0      0\n",
      "4      1      1       0           0      1\n",
      "../Data/data_1/Hongkong/Train/fluwatch.csv\n",
      "   fever  cough  muscle  sorethroat  virus\n",
      "0    1.0    0.0     1.0         1.0      0\n",
      "1    0.0    0.0     0.0         0.0      1\n",
      "2    0.0    1.0     0.0         1.0      0\n",
      "3    0.0    1.0     0.0         0.0      1\n",
      "4    0.0    1.0     0.0         1.0      0\n",
      "../Data/data_1/Hongkong/Train/hongkong.csv\n",
      "   fever  cough  muscle  sorethroat  virus\n",
      "0    0.0    0.0     0.0         0.0    0.0\n",
      "1    0.0    0.0     0.0         1.0    0.0\n",
      "2    0.0    0.0     0.0         0.0    0.0\n",
      "3    0.0    0.0     0.0         0.0    0.0\n",
      "4    0.0    0.0     0.0         0.0    0.0\n",
      "../Data/data_1/Hongkong/Train/hutterite.csv\n",
      "   fever  cough  muscle  sorethroat  virus\n",
      "0      0      0       0           0      0\n",
      "1      0      0       0           1      0\n",
      "2      1      0       0           0      1\n",
      "3      0      1       0           0      1\n",
      "4      0      1       0           0      1\n",
      "   fever  cough  muscle  sorethroat  virus\n",
      "0    0.0    1.0     1.0         1.0    1.0\n",
      "1    0.0    0.0     0.0         0.0    0.0\n",
      "2    0.0    1.0     0.0         0.0    1.0\n",
      "3    1.0    1.0     1.0         1.0    1.0\n",
      "4    0.0    1.0     0.0         1.0    1.0\n",
      "AUC \t 0.508840295138\n",
      "Recall \t 0.129533678756\n",
      "Accuracy \t 0.703282828283\n",
      "F1 \t 0.175438596491\n",
      "Precision \t 0.271739130435\n"
     ]
    }
   ],
   "source": [
    "train_files = ['goviral.csv','fluwatch.csv','hongkong.csv','hutterite.csv']\n",
    "# train_files = ['hongkong.csv']\n",
    "test_file = 'hongkong.csv'\n",
    "print(\"HongKong\")\n",
    "results_hongkong = predict_on_unknown(train_files,test_file,TRAIN_DIRECTORY ,TEST_DIRECTORY)"
   ]
  },
  {
   "cell_type": "markdown",
   "metadata": {},
   "source": [
    "### Predict on Hutterite"
   ]
  },
  {
   "cell_type": "code",
   "execution_count": 18,
   "metadata": {
    "collapsed": true
   },
   "outputs": [],
   "source": [
    "TRAIN_DIRECTORY = \"../Data/data_1/Hutterite/Train/\"\n",
    "TEST_DIRECTORY = \"../Data/data_1/Hutterite/Test/\""
   ]
  },
  {
   "cell_type": "code",
   "execution_count": 19,
   "metadata": {},
   "outputs": [
    {
     "name": "stdout",
     "output_type": "stream",
     "text": [
      "Hutterite!\n",
      "../Data/data_1/Hutterite/Train/goviral.csv\n",
      "   fever  cough  muscle  sorethroat  virus\n",
      "0      1      1       1           1      1\n",
      "1      1      1       0           1      1\n",
      "2      0      1       0           1      0\n",
      "3      0      0       0           0      0\n",
      "4      1      1       0           0      1\n",
      "../Data/data_1/Hutterite/Train/fluwatch.csv\n",
      "   fever  cough  muscle  sorethroat  virus\n",
      "0    1.0    0.0     1.0         1.0      0\n",
      "1    0.0    0.0     0.0         0.0      1\n",
      "2    0.0    1.0     0.0         1.0      0\n",
      "3    0.0    1.0     0.0         0.0      1\n",
      "4    0.0    1.0     0.0         1.0      0\n",
      "../Data/data_1/Hutterite/Train/hongkong.csv\n",
      "   fever  cough  muscle  sorethroat  virus\n",
      "0    0.0    1.0     1.0         1.0      1\n",
      "1    0.0    0.0     0.0         0.0      0\n",
      "2    0.0    1.0     0.0         0.0      1\n",
      "3    1.0    1.0     1.0         1.0      1\n",
      "4    0.0    1.0     0.0         1.0      1\n",
      "../Data/data_1/Hutterite/Train/hutterite.csv\n",
      "   fever  cough  muscle  sorethroat  virus\n",
      "0    0.0    1.0     0.0         0.0    0.0\n",
      "1    0.0    1.0     0.0         0.0    0.0\n",
      "2    1.0    1.0     0.0         0.0    0.0\n",
      "3    0.0    1.0     0.0         1.0    0.0\n",
      "4    0.0    0.0     1.0         0.0    0.0\n",
      "   fever  cough  muscle  sorethroat  virus\n",
      "0    0.0    0.0     0.0         0.0    0.0\n",
      "1    0.0    0.0     0.0         1.0    0.0\n",
      "2    1.0    0.0     0.0         0.0    1.0\n",
      "3    0.0    1.0     0.0         0.0    1.0\n",
      "4    0.0    1.0     0.0         0.0    1.0\n",
      "AUC \t 0.528837209302\n",
      "Recall \t 0.693333333333\n",
      "Accuracy \t 0.485294117647\n",
      "F1 \t 0.497607655502\n",
      "Precision \t 0.388059701493\n"
     ]
    }
   ],
   "source": [
    "train_files = ['goviral.csv','fluwatch.csv','hongkong.csv','hutterite.csv']\n",
    "# train_files = ['hutterite.csv']\n",
    "test_file = 'hutterite.csv'\n",
    "print(\"Hutterite!\")\n",
    "results_hutterite = predict_on_unknown(train_files,test_file,TRAIN_DIRECTORY,TEST_DIRECTORY)"
   ]
  },
  {
   "cell_type": "code",
   "execution_count": null,
   "metadata": {
    "collapsed": true
   },
   "outputs": [],
   "source": []
  },
  {
   "cell_type": "code",
   "execution_count": null,
   "metadata": {
    "collapsed": true
   },
   "outputs": [],
   "source": []
  },
  {
   "cell_type": "code",
   "execution_count": null,
   "metadata": {
    "collapsed": true
   },
   "outputs": [],
   "source": []
  },
  {
   "cell_type": "code",
   "execution_count": null,
   "metadata": {
    "collapsed": true
   },
   "outputs": [],
   "source": []
  },
  {
   "cell_type": "code",
   "execution_count": null,
   "metadata": {
    "collapsed": true
   },
   "outputs": [],
   "source": []
  }
 ],
 "metadata": {
  "kernelspec": {
   "display_name": "Python 3",
   "language": "python",
   "name": "python3"
  },
  "language_info": {
   "codemirror_mode": {
    "name": "ipython",
    "version": 3
   },
   "file_extension": ".py",
   "mimetype": "text/x-python",
   "name": "python",
   "nbconvert_exporter": "python",
   "pygments_lexer": "ipython3",
   "version": "3.5.4"
  }
 },
 "nbformat": 4,
 "nbformat_minor": 2
}
