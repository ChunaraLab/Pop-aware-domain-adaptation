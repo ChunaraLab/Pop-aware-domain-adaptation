{
 "cells": [
  {
   "cell_type": "markdown",
   "metadata": {
    "deletable": true,
    "editable": true
   },
   "source": [
    "# HongKong Study\n",
    "## Dataset Dictionary\n",
    "\n",
    "Data dictionary for Hong Kong household study (2008-2009)\t\t\t\t\n",
    "\t\t\t\t\n",
    "### household.csv\n",
    "|Column|\t\tExplanation|\t\tCoding\t|\n",
    "|------|------|\n",
    "|hhID\t\t    |  Household ID\t\t|\n",
    "|intervention\t| Intervention arm\t\t|        1: Control; 3: Hand hygiene; 4: Mask+HH\n",
    "|familysize\t\t| No. of people living in the same household\t|\tinteger\n",
    "|clinic_date\t| The date of clinic visit\t\t|d/m/y\n",
    "|clinic_day\t\t| Delay from index symptom onset to randomisation\t|\tin days\n",
    "|v1_day\t\t    | Delay from index symptom onset to visit 1\t|\tin days\n",
    "|v2_day\t\t    |Delay from index symptom onset to visit 2\t|\tin days\n",
    "|v3_day\t\t    | Delay from index symptom onset to visit 3\t|\tin days\n",
    "\t\t\t\t\n",
    "\t\t\t\t\n",
    "### Household member characteristics: demographic.csv\t\t\n",
    "|Column|\t\tExplanation|\t\tCoding\t|\n",
    "|------|------|\n",
    "|hhID\t|\tHousehold ID\t|\tInteger\n",
    "|member\t\t|Household member number\t|0: Index subject;1-7: Household contact\n",
    "|age\t\t|Age\t\t|in years\n",
    "|male\t\t|Sex\t\t|0: Female; 1: Male\n",
    "|vaccine\t|\tReceived influenza vaccination for current season\t\t|1: Yes; 0: No\n",
    "\t\t\t\t\n",
    "\t\t\t\t\n",
    "### Household member daily symptom diaries: symptom.csv\t\n",
    "|Column|\t\tExplanation|\t\tCoding\t|\n",
    "|------|------|\n",
    "|hhID\t|\tHousehold ID\t\t\n",
    "|member\t|\tHousehold member number\t|\t0: Index subject;1-7: Household contact\n",
    "|day\t|\tDay 0 = home visit 1\t|\tin days\n",
    "|bodytemp\t|\tMeasured body temperature\t|\tin °C\n",
    "|headache\t|\tHeadache\t\t|1: Yes; 0: No\n",
    "|sthroat\t|\tSore throat\t|\t1: Yes; 0: No\n",
    "|cough\t\t|Cough\t\t|1: Yes; 0: No\n",
    "|pmuscle\t|\tAches or pains in muscles or joints\t|\t1: Yes; 0: No\n",
    "|rnose\t|\tRunny nose\t|\t1: Yes; 0: No\n",
    "|phlegm\t|\tPhlegm\t\t|1: Yes; 0: No\n",
    "\t\t\t\t\n",
    "\t\t\t\t\n",
    "### Lab-confirmed PCR result: PCRresults.csv\t\n",
    "|Column|\t\tExplanation|\t\tCoding\t|\n",
    "|------|------|\n",
    "|hhID\t|\tHousehold ID\t\t|\n",
    "|member\t|\tHousehold member number\t|\t0: Index subject;1-7: Household contact\n",
    "|visit\t|\tVisit number\t\t|0: Clinic visit; 1-3: Home visit\n",
    "|qPCR\t|\tLaboratory RT-qPCR result\t|\tDetection limit: 900 copies/mL\n",
    "\t\n",
    "\t\t\t\t\n",
    "Remark\t\t\t\t\n",
    "NA - data not available\t\t\t\t"
   ]
  },
  {
   "cell_type": "code",
   "execution_count": 1,
   "metadata": {
    "collapsed": true,
    "deletable": true,
    "editable": true
   },
   "outputs": [],
   "source": [
    "import pandas as pd\n",
    "import numpy as np\n",
    "base_path = '../data/original_per_study/hk/'\n",
    "def load(filename, basepath, sepra, index_col=None):\n",
    "    path = basepath+filename\n",
    "    df = pd.read_csv(path, sep=sepra, index_col=index_col)\n",
    "    return df\n",
    "pcr = load('PCRresults.csv',base_path,';', None)\n",
    "sym = load('symptom.csv',base_path,';', None)\n",
    "dem = load('demographic.csv',base_path, ';', None)\n",
    "household = load('household.csv', base_path, ';', None)\n"
   ]
  },
  {
   "cell_type": "code",
   "execution_count": 2,
   "metadata": {
    "collapsed": true
   },
   "outputs": [],
   "source": [
    "pcr.to_csv('pcr.csv')\n",
    "sym.to_csv('sym.csv')\n",
    "dem.to_csv('dem.csv')\n",
    "household.to_csv('household.csv')"
   ]
  },
  {
   "cell_type": "code",
   "execution_count": 3,
   "metadata": {
    "collapsed": true,
    "deletable": true,
    "editable": true
   },
   "outputs": [],
   "source": [
    "\"\"\"\n",
    "    A patient is first identified by household number and the member number in a household\n",
    "    mhhID is the unque id for a patient. Generating a primary key for each datset\n",
    "\"\"\"\n",
    "pcr['mhhID'] = pcr['hhID'].astype(str) + pcr['member'].astype(str)\n",
    "sym['mhhID'] = sym['hhID'].astype(str) + sym['member'].astype(str)\n",
    "dem['mhhID'] = dem['hhID'].astype(str) + dem['member'].astype(str)"
   ]
  },
  {
   "cell_type": "code",
   "execution_count": 4,
   "metadata": {
    "collapsed": false,
    "deletable": true,
    "editable": true
   },
   "outputs": [
    {
     "name": "stdout",
     "output_type": "stream",
     "text": [
      "The unique number of participants in the survey is:\n",
      "1742\n",
      "1742\n",
      "This proves that Demographics file has all unique records.\n"
     ]
    }
   ],
   "source": [
    "print('The unique number of participants in the survey is:')\n",
    "print(len(dem.groupby('mhhID')['mhhID']))\n",
    "print(len(dem['mhhID']))\n",
    "print('This proves that Demographics file has all unique records.')"
   ]
  },
  {
   "cell_type": "code",
   "execution_count": 5,
   "metadata": {
    "collapsed": false,
    "deletable": true,
    "editable": true
   },
   "outputs": [
    {
     "name": "stdout",
     "output_type": "stream",
     "text": [
      "17420\n",
      "10    1742\n",
      "Name: mhhID, dtype: int64\n"
     ]
    }
   ],
   "source": [
    "print(len(sym))\n",
    "print(sym.groupby('mhhID')['mhhID'].count().value_counts())"
   ]
  },
  {
   "cell_type": "code",
   "execution_count": 6,
   "metadata": {
    "collapsed": false,
    "deletable": true,
    "editable": true
   },
   "outputs": [
    {
     "name": "stdout",
     "output_type": "stream",
     "text": [
      "Total Number of times clinical tests have been conducted:\n",
      "5217\n",
      "No of tests conducted: No. of Patients\n",
      "3    1724\n",
      "1      17\n",
      "2      14\n",
      "Name: mhhID, dtype: int64\n"
     ]
    }
   ],
   "source": [
    "print(\"Total Number of times clinical tests have been conducted:\")\n",
    "print(len(pcr))\n",
    "print(\"No of tests conducted: No. of Patients\")\n",
    "print(pcr.groupby('mhhID')['mhhID'].count().value_counts())"
   ]
  },
  {
   "cell_type": "code",
   "execution_count": 7,
   "metadata": {
    "collapsed": false
   },
   "outputs": [
    {
     "data": {
      "text/plain": [
       "1755"
      ]
     },
     "execution_count": 7,
     "metadata": {},
     "output_type": "execute_result"
    }
   ],
   "source": [
    "len(pcr.groupby(['hhID', 'member']).count())"
   ]
  },
  {
   "cell_type": "code",
   "execution_count": 8,
   "metadata": {
    "collapsed": false
   },
   "outputs": [
    {
     "data": {
      "text/plain": [
       "1742"
      ]
     },
     "execution_count": 8,
     "metadata": {},
     "output_type": "execute_result"
    }
   ],
   "source": [
    "len(sym.groupby(['hhID', 'member']).count())"
   ]
  },
  {
   "cell_type": "code",
   "execution_count": 9,
   "metadata": {
    "collapsed": false
   },
   "outputs": [
    {
     "data": {
      "text/plain": [
       "1742"
      ]
     },
     "execution_count": 9,
     "metadata": {},
     "output_type": "execute_result"
    }
   ],
   "source": [
    "len(dem.groupby(['hhID', 'member']).count())"
   ]
  },
  {
   "cell_type": "code",
   "execution_count": 10,
   "metadata": {
    "collapsed": false
   },
   "outputs": [
    {
     "data": {
      "text/html": [
       "<div>\n",
       "<style>\n",
       "    .dataframe thead tr:only-child th {\n",
       "        text-align: right;\n",
       "    }\n",
       "\n",
       "    .dataframe thead th {\n",
       "        text-align: left;\n",
       "    }\n",
       "\n",
       "    .dataframe tbody tr th {\n",
       "        vertical-align: top;\n",
       "    }\n",
       "</style>\n",
       "<table border=\"1\" class=\"dataframe\">\n",
       "  <thead>\n",
       "    <tr style=\"text-align: right;\">\n",
       "      <th></th>\n",
       "      <th>hhID</th>\n",
       "      <th>member</th>\n",
       "      <th>day</th>\n",
       "      <th>bodytemp</th>\n",
       "      <th>headache</th>\n",
       "      <th>sthroat</th>\n",
       "      <th>cough</th>\n",
       "      <th>pmuscle</th>\n",
       "      <th>rnose</th>\n",
       "      <th>phlegm</th>\n",
       "      <th>mhhID</th>\n",
       "    </tr>\n",
       "  </thead>\n",
       "  <tbody>\n",
       "    <tr>\n",
       "      <th>0</th>\n",
       "      <td>1</td>\n",
       "      <td>0</td>\n",
       "      <td>0</td>\n",
       "      <td>37.7</td>\n",
       "      <td>0.0</td>\n",
       "      <td>1.0</td>\n",
       "      <td>1.0</td>\n",
       "      <td>0.0</td>\n",
       "      <td>1.0</td>\n",
       "      <td>1.0</td>\n",
       "      <td>10</td>\n",
       "    </tr>\n",
       "    <tr>\n",
       "      <th>1</th>\n",
       "      <td>1</td>\n",
       "      <td>0</td>\n",
       "      <td>1</td>\n",
       "      <td>36.1</td>\n",
       "      <td>0.0</td>\n",
       "      <td>1.0</td>\n",
       "      <td>1.0</td>\n",
       "      <td>0.0</td>\n",
       "      <td>1.0</td>\n",
       "      <td>1.0</td>\n",
       "      <td>10</td>\n",
       "    </tr>\n",
       "    <tr>\n",
       "      <th>2</th>\n",
       "      <td>1</td>\n",
       "      <td>0</td>\n",
       "      <td>2</td>\n",
       "      <td>35.9</td>\n",
       "      <td>0.0</td>\n",
       "      <td>1.0</td>\n",
       "      <td>1.0</td>\n",
       "      <td>0.0</td>\n",
       "      <td>1.0</td>\n",
       "      <td>1.0</td>\n",
       "      <td>10</td>\n",
       "    </tr>\n",
       "    <tr>\n",
       "      <th>3</th>\n",
       "      <td>1</td>\n",
       "      <td>0</td>\n",
       "      <td>3</td>\n",
       "      <td>36.0</td>\n",
       "      <td>0.0</td>\n",
       "      <td>1.0</td>\n",
       "      <td>1.0</td>\n",
       "      <td>0.0</td>\n",
       "      <td>0.0</td>\n",
       "      <td>1.0</td>\n",
       "      <td>10</td>\n",
       "    </tr>\n",
       "    <tr>\n",
       "      <th>4</th>\n",
       "      <td>1</td>\n",
       "      <td>0</td>\n",
       "      <td>4</td>\n",
       "      <td>36.0</td>\n",
       "      <td>0.0</td>\n",
       "      <td>1.0</td>\n",
       "      <td>1.0</td>\n",
       "      <td>0.0</td>\n",
       "      <td>1.0</td>\n",
       "      <td>1.0</td>\n",
       "      <td>10</td>\n",
       "    </tr>\n",
       "  </tbody>\n",
       "</table>\n",
       "</div>"
      ],
      "text/plain": [
       "   hhID  member  day  bodytemp  headache  sthroat  cough  pmuscle  rnose  \\\n",
       "0     1       0    0      37.7       0.0      1.0    1.0      0.0    1.0   \n",
       "1     1       0    1      36.1       0.0      1.0    1.0      0.0    1.0   \n",
       "2     1       0    2      35.9       0.0      1.0    1.0      0.0    1.0   \n",
       "3     1       0    3      36.0       0.0      1.0    1.0      0.0    0.0   \n",
       "4     1       0    4      36.0       0.0      1.0    1.0      0.0    1.0   \n",
       "\n",
       "   phlegm mhhID  \n",
       "0     1.0    10  \n",
       "1     1.0    10  \n",
       "2     1.0    10  \n",
       "3     1.0    10  \n",
       "4     1.0    10  "
      ]
     },
     "execution_count": 10,
     "metadata": {},
     "output_type": "execute_result"
    }
   ],
   "source": [
    "sym.head()"
   ]
  },
  {
   "cell_type": "code",
   "execution_count": 11,
   "metadata": {
    "collapsed": false
   },
   "outputs": [
    {
     "data": {
      "text/html": [
       "<div>\n",
       "<style>\n",
       "    .dataframe thead tr:only-child th {\n",
       "        text-align: right;\n",
       "    }\n",
       "\n",
       "    .dataframe thead th {\n",
       "        text-align: left;\n",
       "    }\n",
       "\n",
       "    .dataframe tbody tr th {\n",
       "        vertical-align: top;\n",
       "    }\n",
       "</style>\n",
       "<table border=\"1\" class=\"dataframe\">\n",
       "  <thead>\n",
       "    <tr style=\"text-align: right;\">\n",
       "      <th></th>\n",
       "      <th>hhID</th>\n",
       "      <th>member</th>\n",
       "      <th>visit</th>\n",
       "      <th>qPCR</th>\n",
       "      <th>mhhID</th>\n",
       "    </tr>\n",
       "  </thead>\n",
       "  <tbody>\n",
       "    <tr>\n",
       "      <th>0</th>\n",
       "      <td>1</td>\n",
       "      <td>0</td>\n",
       "      <td>1</td>\n",
       "      <td>3500000.0</td>\n",
       "      <td>10</td>\n",
       "    </tr>\n",
       "    <tr>\n",
       "      <th>1</th>\n",
       "      <td>1</td>\n",
       "      <td>0</td>\n",
       "      <td>2</td>\n",
       "      <td>167000.0</td>\n",
       "      <td>10</td>\n",
       "    </tr>\n",
       "    <tr>\n",
       "      <th>2</th>\n",
       "      <td>1</td>\n",
       "      <td>0</td>\n",
       "      <td>3</td>\n",
       "      <td>3830.0</td>\n",
       "      <td>10</td>\n",
       "    </tr>\n",
       "    <tr>\n",
       "      <th>3</th>\n",
       "      <td>1</td>\n",
       "      <td>1</td>\n",
       "      <td>1</td>\n",
       "      <td>0.0</td>\n",
       "      <td>11</td>\n",
       "    </tr>\n",
       "    <tr>\n",
       "      <th>4</th>\n",
       "      <td>1</td>\n",
       "      <td>1</td>\n",
       "      <td>2</td>\n",
       "      <td>0.0</td>\n",
       "      <td>11</td>\n",
       "    </tr>\n",
       "  </tbody>\n",
       "</table>\n",
       "</div>"
      ],
      "text/plain": [
       "   hhID  member  visit       qPCR mhhID\n",
       "0     1       0      1  3500000.0    10\n",
       "1     1       0      2   167000.0    10\n",
       "2     1       0      3     3830.0    10\n",
       "3     1       1      1        0.0    11\n",
       "4     1       1      2        0.0    11"
      ]
     },
     "execution_count": 11,
     "metadata": {},
     "output_type": "execute_result"
    }
   ],
   "source": [
    "pcr.head()"
   ]
  },
  {
   "cell_type": "code",
   "execution_count": 12,
   "metadata": {
    "collapsed": false
   },
   "outputs": [
    {
     "data": {
      "text/html": [
       "<div>\n",
       "<style>\n",
       "    .dataframe thead tr:only-child th {\n",
       "        text-align: right;\n",
       "    }\n",
       "\n",
       "    .dataframe thead th {\n",
       "        text-align: left;\n",
       "    }\n",
       "\n",
       "    .dataframe tbody tr th {\n",
       "        vertical-align: top;\n",
       "    }\n",
       "</style>\n",
       "<table border=\"1\" class=\"dataframe\">\n",
       "  <thead>\n",
       "    <tr style=\"text-align: right;\">\n",
       "      <th></th>\n",
       "      <th>hhID</th>\n",
       "      <th>intervention</th>\n",
       "      <th>familysize</th>\n",
       "      <th>clinic_date</th>\n",
       "      <th>clinic_day</th>\n",
       "      <th>v1_day</th>\n",
       "      <th>v2_day</th>\n",
       "      <th>v3_day</th>\n",
       "    </tr>\n",
       "  </thead>\n",
       "  <tbody>\n",
       "    <tr>\n",
       "      <th>0</th>\n",
       "      <td>1</td>\n",
       "      <td>1</td>\n",
       "      <td>3</td>\n",
       "      <td>9/1/2008</td>\n",
       "      <td>1</td>\n",
       "      <td>1</td>\n",
       "      <td>4.0</td>\n",
       "      <td>7</td>\n",
       "    </tr>\n",
       "    <tr>\n",
       "      <th>1</th>\n",
       "      <td>2</td>\n",
       "      <td>3</td>\n",
       "      <td>4</td>\n",
       "      <td>11/1/2008</td>\n",
       "      <td>1</td>\n",
       "      <td>1</td>\n",
       "      <td>3.0</td>\n",
       "      <td>8</td>\n",
       "    </tr>\n",
       "    <tr>\n",
       "      <th>2</th>\n",
       "      <td>3</td>\n",
       "      <td>4</td>\n",
       "      <td>5</td>\n",
       "      <td>14/1/2008</td>\n",
       "      <td>2</td>\n",
       "      <td>2</td>\n",
       "      <td>4.0</td>\n",
       "      <td>8</td>\n",
       "    </tr>\n",
       "    <tr>\n",
       "      <th>3</th>\n",
       "      <td>5</td>\n",
       "      <td>3</td>\n",
       "      <td>3</td>\n",
       "      <td>15/1/2008</td>\n",
       "      <td>1</td>\n",
       "      <td>1</td>\n",
       "      <td>4.0</td>\n",
       "      <td>7</td>\n",
       "    </tr>\n",
       "    <tr>\n",
       "      <th>4</th>\n",
       "      <td>6</td>\n",
       "      <td>4</td>\n",
       "      <td>4</td>\n",
       "      <td>17/1/2008</td>\n",
       "      <td>1</td>\n",
       "      <td>1</td>\n",
       "      <td>4.0</td>\n",
       "      <td>7</td>\n",
       "    </tr>\n",
       "  </tbody>\n",
       "</table>\n",
       "</div>"
      ],
      "text/plain": [
       "   hhID  intervention  familysize clinic_date  clinic_day  v1_day  v2_day  \\\n",
       "0     1             1           3    9/1/2008           1       1     4.0   \n",
       "1     2             3           4   11/1/2008           1       1     3.0   \n",
       "2     3             4           5   14/1/2008           2       2     4.0   \n",
       "3     5             3           3   15/1/2008           1       1     4.0   \n",
       "4     6             4           4   17/1/2008           1       1     4.0   \n",
       "\n",
       "   v3_day  \n",
       "0       7  \n",
       "1       8  \n",
       "2       8  \n",
       "3       7  \n",
       "4       7  "
      ]
     },
     "execution_count": 12,
     "metadata": {},
     "output_type": "execute_result"
    }
   ],
   "source": [
    "household.head()"
   ]
  },
  {
   "cell_type": "code",
   "execution_count": 13,
   "metadata": {
    "collapsed": false
   },
   "outputs": [
    {
     "name": "stdout",
     "output_type": "stream",
     "text": [
      "The length should be thrice as the number of households: \n"
     ]
    },
    {
     "name": "stderr",
     "output_type": "stream",
     "text": [
      "/Library/Frameworks/Python.framework/Versions/3.6/lib/python3.6/site-packages/pandas/core/frame.py:2746: SettingWithCopyWarning: \n",
      "A value is trying to be set on a copy of a slice from a DataFrame\n",
      "\n",
      "See the caveats in the documentation: http://pandas.pydata.org/pandas-docs/stable/indexing.html#indexing-view-versus-copy\n",
      "  **kwargs)\n"
     ]
    },
    {
     "data": {
      "text/plain": [
       "1281"
      ]
     },
     "execution_count": 13,
     "metadata": {},
     "output_type": "execute_result"
    }
   ],
   "source": [
    "household['v3_day'] = household['v3_day'] - household['v1_day']\n",
    "household['v2_day'] = household['v2_day'] - household['v1_day']\n",
    "household['v1_day'] = household['v1_day'] - household['v1_day']\n",
    "\n",
    "household_v1 = household[['hhID', 'clinic_date', 'v1_day']]\n",
    "household_v2 = household[['hhID', 'clinic_date', 'v2_day']]\n",
    "household_v3 = household[['hhID', 'clinic_date', 'v3_day']]\n",
    "\n",
    "household_v1.rename(index=str, columns={'v1_day': 'day'}, inplace =True)\n",
    "household_v2.rename(index=str, columns={'v2_day': 'day'}, inplace =True)\n",
    "household_v3.rename(index=str, columns={'v3_day': 'day'}, inplace =True)\n",
    "\n",
    "household_df = pd.concat([household_v1, household_v2, household_v3], ignore_index=True)\n",
    "\n",
    "print(\"The length should be thrice as the number of households: \")\n",
    "len(household_df)"
   ]
  },
  {
   "cell_type": "code",
   "execution_count": 14,
   "metadata": {
    "collapsed": false
   },
   "outputs": [
    {
     "data": {
      "text/plain": [
       "hhID             int64\n",
       "clinic_date     object\n",
       "day            float64\n",
       "dtype: object"
      ]
     },
     "execution_count": 14,
     "metadata": {},
     "output_type": "execute_result"
    }
   ],
   "source": [
    "household_df.dtypes"
   ]
  },
  {
   "cell_type": "code",
   "execution_count": 15,
   "metadata": {
    "collapsed": false
   },
   "outputs": [
    {
     "data": {
      "text/plain": [
       "0.0     428\n",
       "3.0     216\n",
       "6.0     155\n",
       "7.0     145\n",
       "2.0     112\n",
       "4.0      94\n",
       "5.0      88\n",
       "8.0      28\n",
       "9.0       9\n",
       "1.0       2\n",
       "10.0      1\n",
       "11.0      1\n",
       "Name: day, dtype: int64"
      ]
     },
     "execution_count": 15,
     "metadata": {},
     "output_type": "execute_result"
    }
   ],
   "source": [
    "household_df.day.value_counts()"
   ]
  },
  {
   "cell_type": "code",
   "execution_count": 16,
   "metadata": {
    "collapsed": false
   },
   "outputs": [],
   "source": [
    "\"\"\"\n",
    "    I need to filter out symptoms only for the days when tests have been condicted.\n",
    "    The date for all members of the household remains same.\n",
    "    For this I need to merge left join household_df with sym on hhID and day.\n",
    "    The resultant dataframe should have 1742 * 3 number of observations. \n",
    "    Three observations with respect to each patient.\n",
    "\"\"\"\n",
    "sym_household = pd.merge(household_df, sym, how='left', on = ['hhID', 'day'])"
   ]
  },
  {
   "cell_type": "code",
   "execution_count": 17,
   "metadata": {
    "collapsed": false
   },
   "outputs": [
    {
     "data": {
      "text/plain": [
       "5213"
      ]
     },
     "execution_count": 17,
     "metadata": {},
     "output_type": "execute_result"
    }
   ],
   "source": [
    "len(sym_household)"
   ]
  },
  {
   "cell_type": "code",
   "execution_count": 18,
   "metadata": {
    "collapsed": false
   },
   "outputs": [
    {
     "name": "stdout",
     "output_type": "stream",
     "text": [
      "This means there are 4 NA values in mhhID\n"
     ]
    }
   ],
   "source": [
    "sym_household['member'].value_counts().sum()\n",
    "print(\"This means there are 4 NA values in mhhID\")"
   ]
  },
  {
   "cell_type": "code",
   "execution_count": 19,
   "metadata": {
    "collapsed": false
   },
   "outputs": [
    {
     "name": "stdout",
     "output_type": "stream",
     "text": [
      "Total Number of times clinical tests have been conducted:\n",
      "5213\n",
      "No of tests conducted: No. of Patients\n",
      "3    1725\n",
      "2      17\n",
      "Name: mhhID, dtype: int64\n"
     ]
    }
   ],
   "source": [
    "print(\"Total Number of times clinical tests have been conducted:\")\n",
    "print(len(sym_household))\n",
    "print(\"No of tests conducted: No. of Patients\")\n",
    "print(sym_household.groupby('mhhID')['mhhID'].count().value_counts())"
   ]
  },
  {
   "cell_type": "code",
   "execution_count": 20,
   "metadata": {
    "collapsed": false
   },
   "outputs": [
    {
     "data": {
      "text/html": [
       "<div>\n",
       "<style>\n",
       "    .dataframe thead tr:only-child th {\n",
       "        text-align: right;\n",
       "    }\n",
       "\n",
       "    .dataframe thead th {\n",
       "        text-align: left;\n",
       "    }\n",
       "\n",
       "    .dataframe tbody tr th {\n",
       "        vertical-align: top;\n",
       "    }\n",
       "</style>\n",
       "<table border=\"1\" class=\"dataframe\">\n",
       "  <thead>\n",
       "    <tr style=\"text-align: right;\">\n",
       "      <th></th>\n",
       "      <th>hhID</th>\n",
       "      <th>clinic_date</th>\n",
       "      <th>day</th>\n",
       "      <th>member</th>\n",
       "      <th>bodytemp</th>\n",
       "      <th>headache</th>\n",
       "      <th>sthroat</th>\n",
       "      <th>cough</th>\n",
       "      <th>pmuscle</th>\n",
       "      <th>rnose</th>\n",
       "      <th>phlegm</th>\n",
       "      <th>mhhID</th>\n",
       "    </tr>\n",
       "  </thead>\n",
       "  <tbody>\n",
       "    <tr>\n",
       "      <th>0</th>\n",
       "      <td>1</td>\n",
       "      <td>9/1/2008</td>\n",
       "      <td>0</td>\n",
       "      <td>0.0</td>\n",
       "      <td>37.7</td>\n",
       "      <td>0.0</td>\n",
       "      <td>1.0</td>\n",
       "      <td>1.0</td>\n",
       "      <td>0.0</td>\n",
       "      <td>1.0</td>\n",
       "      <td>1.0</td>\n",
       "      <td>10</td>\n",
       "    </tr>\n",
       "    <tr>\n",
       "      <th>1</th>\n",
       "      <td>1</td>\n",
       "      <td>9/1/2008</td>\n",
       "      <td>0</td>\n",
       "      <td>1.0</td>\n",
       "      <td>35.8</td>\n",
       "      <td>0.0</td>\n",
       "      <td>0.0</td>\n",
       "      <td>0.0</td>\n",
       "      <td>0.0</td>\n",
       "      <td>0.0</td>\n",
       "      <td>0.0</td>\n",
       "      <td>11</td>\n",
       "    </tr>\n",
       "    <tr>\n",
       "      <th>2</th>\n",
       "      <td>1</td>\n",
       "      <td>9/1/2008</td>\n",
       "      <td>0</td>\n",
       "      <td>2.0</td>\n",
       "      <td>36.4</td>\n",
       "      <td>0.0</td>\n",
       "      <td>1.0</td>\n",
       "      <td>0.0</td>\n",
       "      <td>0.0</td>\n",
       "      <td>0.0</td>\n",
       "      <td>0.0</td>\n",
       "      <td>12</td>\n",
       "    </tr>\n",
       "    <tr>\n",
       "      <th>3</th>\n",
       "      <td>2</td>\n",
       "      <td>11/1/2008</td>\n",
       "      <td>0</td>\n",
       "      <td>0.0</td>\n",
       "      <td>38.9</td>\n",
       "      <td>1.0</td>\n",
       "      <td>1.0</td>\n",
       "      <td>1.0</td>\n",
       "      <td>1.0</td>\n",
       "      <td>1.0</td>\n",
       "      <td>1.0</td>\n",
       "      <td>20</td>\n",
       "    </tr>\n",
       "    <tr>\n",
       "      <th>4</th>\n",
       "      <td>2</td>\n",
       "      <td>11/1/2008</td>\n",
       "      <td>0</td>\n",
       "      <td>1.0</td>\n",
       "      <td>36.8</td>\n",
       "      <td>0.0</td>\n",
       "      <td>0.0</td>\n",
       "      <td>0.0</td>\n",
       "      <td>0.0</td>\n",
       "      <td>0.0</td>\n",
       "      <td>0.0</td>\n",
       "      <td>21</td>\n",
       "    </tr>\n",
       "  </tbody>\n",
       "</table>\n",
       "</div>"
      ],
      "text/plain": [
       "   hhID clinic_date day  member  bodytemp  headache  sthroat  cough  pmuscle  \\\n",
       "0     1    9/1/2008   0     0.0      37.7       0.0      1.0    1.0      0.0   \n",
       "1     1    9/1/2008   0     1.0      35.8       0.0      0.0    0.0      0.0   \n",
       "2     1    9/1/2008   0     2.0      36.4       0.0      1.0    0.0      0.0   \n",
       "3     2   11/1/2008   0     0.0      38.9       1.0      1.0    1.0      1.0   \n",
       "4     2   11/1/2008   0     1.0      36.8       0.0      0.0    0.0      0.0   \n",
       "\n",
       "   rnose  phlegm mhhID  \n",
       "0    1.0     1.0    10  \n",
       "1    0.0     0.0    11  \n",
       "2    0.0     0.0    12  \n",
       "3    1.0     1.0    20  \n",
       "4    0.0     0.0    21  "
      ]
     },
     "execution_count": 20,
     "metadata": {},
     "output_type": "execute_result"
    }
   ],
   "source": [
    "sym_household.head()"
   ]
  },
  {
   "cell_type": "code",
   "execution_count": 21,
   "metadata": {
    "collapsed": false
   },
   "outputs": [
    {
     "name": "stdout",
     "output_type": "stream",
     "text": [
      "5213\n"
     ]
    },
    {
     "data": {
      "text/html": [
       "<div>\n",
       "<style>\n",
       "    .dataframe thead tr:only-child th {\n",
       "        text-align: right;\n",
       "    }\n",
       "\n",
       "    .dataframe thead th {\n",
       "        text-align: left;\n",
       "    }\n",
       "\n",
       "    .dataframe tbody tr th {\n",
       "        vertical-align: top;\n",
       "    }\n",
       "</style>\n",
       "<table border=\"1\" class=\"dataframe\">\n",
       "  <thead>\n",
       "    <tr style=\"text-align: right;\">\n",
       "      <th></th>\n",
       "      <th>hhID</th>\n",
       "      <th>clinic_date</th>\n",
       "      <th>day</th>\n",
       "      <th>member</th>\n",
       "      <th>bodytemp</th>\n",
       "      <th>headache</th>\n",
       "      <th>sthroat</th>\n",
       "      <th>cough</th>\n",
       "      <th>pmuscle</th>\n",
       "      <th>rnose</th>\n",
       "      <th>phlegm</th>\n",
       "      <th>age</th>\n",
       "      <th>male</th>\n",
       "      <th>vaccine</th>\n",
       "      <th>mhhID</th>\n",
       "    </tr>\n",
       "  </thead>\n",
       "  <tbody>\n",
       "    <tr>\n",
       "      <th>0</th>\n",
       "      <td>1</td>\n",
       "      <td>9/1/2008</td>\n",
       "      <td>0</td>\n",
       "      <td>0</td>\n",
       "      <td>37.7</td>\n",
       "      <td>0.0</td>\n",
       "      <td>1.0</td>\n",
       "      <td>1.0</td>\n",
       "      <td>0.0</td>\n",
       "      <td>1.0</td>\n",
       "      <td>1.0</td>\n",
       "      <td>8.0</td>\n",
       "      <td>1.0</td>\n",
       "      <td>0.0</td>\n",
       "      <td>10</td>\n",
       "    </tr>\n",
       "    <tr>\n",
       "      <th>1</th>\n",
       "      <td>1</td>\n",
       "      <td>9/1/2008</td>\n",
       "      <td>0</td>\n",
       "      <td>1</td>\n",
       "      <td>35.8</td>\n",
       "      <td>0.0</td>\n",
       "      <td>0.0</td>\n",
       "      <td>0.0</td>\n",
       "      <td>0.0</td>\n",
       "      <td>0.0</td>\n",
       "      <td>0.0</td>\n",
       "      <td>44.0</td>\n",
       "      <td>1.0</td>\n",
       "      <td>0.0</td>\n",
       "      <td>11</td>\n",
       "    </tr>\n",
       "    <tr>\n",
       "      <th>2</th>\n",
       "      <td>1</td>\n",
       "      <td>9/1/2008</td>\n",
       "      <td>0</td>\n",
       "      <td>2</td>\n",
       "      <td>36.4</td>\n",
       "      <td>0.0</td>\n",
       "      <td>1.0</td>\n",
       "      <td>0.0</td>\n",
       "      <td>0.0</td>\n",
       "      <td>0.0</td>\n",
       "      <td>0.0</td>\n",
       "      <td>36.0</td>\n",
       "      <td>0.0</td>\n",
       "      <td>0.0</td>\n",
       "      <td>12</td>\n",
       "    </tr>\n",
       "    <tr>\n",
       "      <th>3</th>\n",
       "      <td>2</td>\n",
       "      <td>11/1/2008</td>\n",
       "      <td>0</td>\n",
       "      <td>0</td>\n",
       "      <td>38.9</td>\n",
       "      <td>1.0</td>\n",
       "      <td>1.0</td>\n",
       "      <td>1.0</td>\n",
       "      <td>1.0</td>\n",
       "      <td>1.0</td>\n",
       "      <td>1.0</td>\n",
       "      <td>3.0</td>\n",
       "      <td>0.0</td>\n",
       "      <td>0.0</td>\n",
       "      <td>20</td>\n",
       "    </tr>\n",
       "    <tr>\n",
       "      <th>4</th>\n",
       "      <td>2</td>\n",
       "      <td>11/1/2008</td>\n",
       "      <td>0</td>\n",
       "      <td>1</td>\n",
       "      <td>36.8</td>\n",
       "      <td>0.0</td>\n",
       "      <td>0.0</td>\n",
       "      <td>0.0</td>\n",
       "      <td>0.0</td>\n",
       "      <td>0.0</td>\n",
       "      <td>0.0</td>\n",
       "      <td>39.0</td>\n",
       "      <td>0.0</td>\n",
       "      <td>0.0</td>\n",
       "      <td>21</td>\n",
       "    </tr>\n",
       "  </tbody>\n",
       "</table>\n",
       "</div>"
      ],
      "text/plain": [
       "   hhID clinic_date day member  bodytemp  headache  sthroat  cough  pmuscle  \\\n",
       "0     1    9/1/2008   0      0      37.7       0.0      1.0    1.0      0.0   \n",
       "1     1    9/1/2008   0      1      35.8       0.0      0.0    0.0      0.0   \n",
       "2     1    9/1/2008   0      2      36.4       0.0      1.0    0.0      0.0   \n",
       "3     2   11/1/2008   0      0      38.9       1.0      1.0    1.0      1.0   \n",
       "4     2   11/1/2008   0      1      36.8       0.0      0.0    0.0      0.0   \n",
       "\n",
       "   rnose  phlegm   age  male  vaccine mhhID  \n",
       "0    1.0     1.0   8.0   1.0      0.0    10  \n",
       "1    0.0     0.0  44.0   1.0      0.0    11  \n",
       "2    0.0     0.0  36.0   0.0      0.0    12  \n",
       "3    1.0     1.0   3.0   0.0      0.0    20  \n",
       "4    0.0     0.0  39.0   0.0      0.0    21  "
      ]
     },
     "execution_count": 21,
     "metadata": {},
     "output_type": "execute_result"
    }
   ],
   "source": [
    "sym_dem = pd.merge(sym_household, dem, how='left', on = [ 'hhID', 'member'])\n",
    "sym_dem.drop('mhhID_x', axis=1, inplace=True)\n",
    "print(len(sym_dem))\n",
    "sym_dem.rename(index=str, columns={'mhhID_y': 'mhhID'}, inplace =True)\n",
    "sym_dem.head()"
   ]
  },
  {
   "cell_type": "code",
   "execution_count": 22,
   "metadata": {
    "collapsed": false
   },
   "outputs": [
    {
     "data": {
      "text/html": [
       "<div>\n",
       "<style>\n",
       "    .dataframe thead tr:only-child th {\n",
       "        text-align: right;\n",
       "    }\n",
       "\n",
       "    .dataframe thead th {\n",
       "        text-align: left;\n",
       "    }\n",
       "\n",
       "    .dataframe tbody tr th {\n",
       "        vertical-align: top;\n",
       "    }\n",
       "</style>\n",
       "<table border=\"1\" class=\"dataframe\">\n",
       "  <thead>\n",
       "    <tr style=\"text-align: right;\">\n",
       "      <th></th>\n",
       "      <th>hhID</th>\n",
       "      <th>member</th>\n",
       "      <th>visit</th>\n",
       "      <th>qPCR</th>\n",
       "      <th>mhhID</th>\n",
       "    </tr>\n",
       "  </thead>\n",
       "  <tbody>\n",
       "    <tr>\n",
       "      <th>0</th>\n",
       "      <td>1</td>\n",
       "      <td>0</td>\n",
       "      <td>1</td>\n",
       "      <td>3500000.0</td>\n",
       "      <td>10</td>\n",
       "    </tr>\n",
       "    <tr>\n",
       "      <th>1</th>\n",
       "      <td>1</td>\n",
       "      <td>0</td>\n",
       "      <td>2</td>\n",
       "      <td>167000.0</td>\n",
       "      <td>10</td>\n",
       "    </tr>\n",
       "    <tr>\n",
       "      <th>2</th>\n",
       "      <td>1</td>\n",
       "      <td>0</td>\n",
       "      <td>3</td>\n",
       "      <td>3830.0</td>\n",
       "      <td>10</td>\n",
       "    </tr>\n",
       "    <tr>\n",
       "      <th>3</th>\n",
       "      <td>1</td>\n",
       "      <td>1</td>\n",
       "      <td>1</td>\n",
       "      <td>0.0</td>\n",
       "      <td>11</td>\n",
       "    </tr>\n",
       "    <tr>\n",
       "      <th>4</th>\n",
       "      <td>1</td>\n",
       "      <td>1</td>\n",
       "      <td>2</td>\n",
       "      <td>0.0</td>\n",
       "      <td>11</td>\n",
       "    </tr>\n",
       "  </tbody>\n",
       "</table>\n",
       "</div>"
      ],
      "text/plain": [
       "   hhID  member  visit       qPCR mhhID\n",
       "0     1       0      1  3500000.0    10\n",
       "1     1       0      2   167000.0    10\n",
       "2     1       0      3     3830.0    10\n",
       "3     1       1      1        0.0    11\n",
       "4     1       1      2        0.0    11"
      ]
     },
     "execution_count": 22,
     "metadata": {},
     "output_type": "execute_result"
    }
   ],
   "source": [
    "pcr.head()"
   ]
  },
  {
   "cell_type": "code",
   "execution_count": 23,
   "metadata": {
    "collapsed": true
   },
   "outputs": [],
   "source": [
    "z = sym_dem.groupby('mhhID')"
   ]
  },
  {
   "cell_type": "code",
   "execution_count": 24,
   "metadata": {
    "collapsed": false
   },
   "outputs": [],
   "source": [
    "mhhID_cnt = pd.DataFrame(sym_dem.groupby('mhhID')['mhhID'].count())"
   ]
  },
  {
   "cell_type": "code",
   "execution_count": 25,
   "metadata": {
    "collapsed": false
   },
   "outputs": [
    {
     "data": {
      "text/plain": [
       "mhhID\n",
       "10      [0.0, 0.0, 0.0]\n",
       "1000    [0.0, 0.0, 0.0]\n",
       "1001    [1.0, 1.0, 1.0]\n",
       "1002    [2.0, 2.0, 2.0]\n",
       "1003    [3.0, 3.0, 3.0]\n",
       "Name: member, dtype: object"
      ]
     },
     "execution_count": 25,
     "metadata": {},
     "output_type": "execute_result"
    }
   ],
   "source": [
    "x = sym_dem.groupby('mhhID')['member'].apply(list)\n",
    "x.head()"
   ]
  },
  {
   "cell_type": "code",
   "execution_count": 26,
   "metadata": {
    "collapsed": false
   },
   "outputs": [],
   "source": [
    "\"\"\"\n",
    "    This is done because the day values are different from visit numbers. \n",
    "    day of visit = [0, ,6, 9] assign [1, 2, 3]\n",
    " \n",
    "\"\"\"\n",
    "for index, row in mhhID_cnt.iterrows():\n",
    "    ind = pd.DataFrame(sym_dem[sym_dem['mhhID'] == index])\n",
    "    i=0\n",
    "    for index_x, row_x in ind.iterrows():\n",
    "        i+=1\n",
    "        sym_dem.set_value(index_x, 'day', i)"
   ]
  },
  {
   "cell_type": "code",
   "execution_count": 27,
   "metadata": {
    "collapsed": false
   },
   "outputs": [
    {
     "data": {
      "text/plain": [
       "2.0     1742\n",
       "1.0     1742\n",
       "3.0     1725\n",
       "11.0       1\n",
       "10.0       1\n",
       "Name: day, dtype: int64"
      ]
     },
     "execution_count": 27,
     "metadata": {},
     "output_type": "execute_result"
    }
   ],
   "source": [
    "sym_dem.day.value_counts()"
   ]
  },
  {
   "cell_type": "code",
   "execution_count": 28,
   "metadata": {
    "collapsed": false
   },
   "outputs": [
    {
     "data": {
      "text/html": [
       "<div>\n",
       "<style>\n",
       "    .dataframe thead tr:only-child th {\n",
       "        text-align: right;\n",
       "    }\n",
       "\n",
       "    .dataframe thead th {\n",
       "        text-align: left;\n",
       "    }\n",
       "\n",
       "    .dataframe tbody tr th {\n",
       "        vertical-align: top;\n",
       "    }\n",
       "</style>\n",
       "<table border=\"1\" class=\"dataframe\">\n",
       "  <thead>\n",
       "    <tr style=\"text-align: right;\">\n",
       "      <th></th>\n",
       "      <th>hhID</th>\n",
       "      <th>clinic_date</th>\n",
       "      <th>day</th>\n",
       "      <th>member</th>\n",
       "      <th>bodytemp</th>\n",
       "      <th>headache</th>\n",
       "      <th>sthroat</th>\n",
       "      <th>cough</th>\n",
       "      <th>pmuscle</th>\n",
       "      <th>rnose</th>\n",
       "      <th>phlegm</th>\n",
       "      <th>age</th>\n",
       "      <th>male</th>\n",
       "      <th>vaccine</th>\n",
       "      <th>mhhID</th>\n",
       "    </tr>\n",
       "  </thead>\n",
       "  <tbody>\n",
       "    <tr>\n",
       "      <th>0</th>\n",
       "      <td>1</td>\n",
       "      <td>9/1/2008</td>\n",
       "      <td>1</td>\n",
       "      <td>0</td>\n",
       "      <td>37.7</td>\n",
       "      <td>0.0</td>\n",
       "      <td>1.0</td>\n",
       "      <td>1.0</td>\n",
       "      <td>0.0</td>\n",
       "      <td>1.0</td>\n",
       "      <td>1.0</td>\n",
       "      <td>8.0</td>\n",
       "      <td>1.0</td>\n",
       "      <td>0.0</td>\n",
       "      <td>10</td>\n",
       "    </tr>\n",
       "    <tr>\n",
       "      <th>1</th>\n",
       "      <td>1</td>\n",
       "      <td>9/1/2008</td>\n",
       "      <td>1</td>\n",
       "      <td>1</td>\n",
       "      <td>35.8</td>\n",
       "      <td>0.0</td>\n",
       "      <td>0.0</td>\n",
       "      <td>0.0</td>\n",
       "      <td>0.0</td>\n",
       "      <td>0.0</td>\n",
       "      <td>0.0</td>\n",
       "      <td>44.0</td>\n",
       "      <td>1.0</td>\n",
       "      <td>0.0</td>\n",
       "      <td>11</td>\n",
       "    </tr>\n",
       "    <tr>\n",
       "      <th>2</th>\n",
       "      <td>1</td>\n",
       "      <td>9/1/2008</td>\n",
       "      <td>1</td>\n",
       "      <td>2</td>\n",
       "      <td>36.4</td>\n",
       "      <td>0.0</td>\n",
       "      <td>1.0</td>\n",
       "      <td>0.0</td>\n",
       "      <td>0.0</td>\n",
       "      <td>0.0</td>\n",
       "      <td>0.0</td>\n",
       "      <td>36.0</td>\n",
       "      <td>0.0</td>\n",
       "      <td>0.0</td>\n",
       "      <td>12</td>\n",
       "    </tr>\n",
       "    <tr>\n",
       "      <th>3</th>\n",
       "      <td>2</td>\n",
       "      <td>11/1/2008</td>\n",
       "      <td>1</td>\n",
       "      <td>0</td>\n",
       "      <td>38.9</td>\n",
       "      <td>1.0</td>\n",
       "      <td>1.0</td>\n",
       "      <td>1.0</td>\n",
       "      <td>1.0</td>\n",
       "      <td>1.0</td>\n",
       "      <td>1.0</td>\n",
       "      <td>3.0</td>\n",
       "      <td>0.0</td>\n",
       "      <td>0.0</td>\n",
       "      <td>20</td>\n",
       "    </tr>\n",
       "    <tr>\n",
       "      <th>4</th>\n",
       "      <td>2</td>\n",
       "      <td>11/1/2008</td>\n",
       "      <td>1</td>\n",
       "      <td>1</td>\n",
       "      <td>36.8</td>\n",
       "      <td>0.0</td>\n",
       "      <td>0.0</td>\n",
       "      <td>0.0</td>\n",
       "      <td>0.0</td>\n",
       "      <td>0.0</td>\n",
       "      <td>0.0</td>\n",
       "      <td>39.0</td>\n",
       "      <td>0.0</td>\n",
       "      <td>0.0</td>\n",
       "      <td>21</td>\n",
       "    </tr>\n",
       "  </tbody>\n",
       "</table>\n",
       "</div>"
      ],
      "text/plain": [
       "   hhID clinic_date day member  bodytemp  headache  sthroat  cough  pmuscle  \\\n",
       "0     1    9/1/2008   1      0      37.7       0.0      1.0    1.0      0.0   \n",
       "1     1    9/1/2008   1      1      35.8       0.0      0.0    0.0      0.0   \n",
       "2     1    9/1/2008   1      2      36.4       0.0      1.0    0.0      0.0   \n",
       "3     2   11/1/2008   1      0      38.9       1.0      1.0    1.0      1.0   \n",
       "4     2   11/1/2008   1      1      36.8       0.0      0.0    0.0      0.0   \n",
       "\n",
       "   rnose  phlegm   age  male  vaccine mhhID  \n",
       "0    1.0     1.0   8.0   1.0      0.0    10  \n",
       "1    0.0     0.0  44.0   1.0      0.0    11  \n",
       "2    0.0     0.0  36.0   0.0      0.0    12  \n",
       "3    1.0     1.0   3.0   0.0      0.0    20  \n",
       "4    0.0     0.0  39.0   0.0      0.0    21  "
      ]
     },
     "execution_count": 28,
     "metadata": {},
     "output_type": "execute_result"
    }
   ],
   "source": [
    "sym_dem.head()"
   ]
  },
  {
   "cell_type": "code",
   "execution_count": 29,
   "metadata": {
    "collapsed": false
   },
   "outputs": [],
   "source": [
    "\"\"\"\n",
    "    Joining Results PCR file with sys_dem\n",
    "    I first need to convert days in sys_dem to 1, 2, 3 to match with visit in pcr\n",
    "\"\"\"\n",
    "sym_dem_pcr_hsd = pd.merge(sym_dem, pcr, left_on= ['mhhID', 'day', 'hhID', 'member'] , \\\n",
    "                           right_on = ['mhhID', 'visit', 'hhID', 'member'])"
   ]
  },
  {
   "cell_type": "code",
   "execution_count": 30,
   "metadata": {
    "collapsed": false
   },
   "outputs": [
    {
     "data": {
      "text/html": [
       "<div>\n",
       "<style>\n",
       "    .dataframe thead tr:only-child th {\n",
       "        text-align: right;\n",
       "    }\n",
       "\n",
       "    .dataframe thead th {\n",
       "        text-align: left;\n",
       "    }\n",
       "\n",
       "    .dataframe tbody tr th {\n",
       "        vertical-align: top;\n",
       "    }\n",
       "</style>\n",
       "<table border=\"1\" class=\"dataframe\">\n",
       "  <thead>\n",
       "    <tr style=\"text-align: right;\">\n",
       "      <th></th>\n",
       "      <th>hhID</th>\n",
       "      <th>clinic_date</th>\n",
       "      <th>day</th>\n",
       "      <th>member</th>\n",
       "      <th>bodytemp</th>\n",
       "      <th>headache</th>\n",
       "      <th>sthroat</th>\n",
       "      <th>cough</th>\n",
       "      <th>pmuscle</th>\n",
       "      <th>rnose</th>\n",
       "      <th>phlegm</th>\n",
       "      <th>age</th>\n",
       "      <th>male</th>\n",
       "      <th>vaccine</th>\n",
       "      <th>mhhID</th>\n",
       "      <th>visit</th>\n",
       "      <th>qPCR</th>\n",
       "    </tr>\n",
       "  </thead>\n",
       "  <tbody>\n",
       "    <tr>\n",
       "      <th>0</th>\n",
       "      <td>1</td>\n",
       "      <td>9/1/2008</td>\n",
       "      <td>1</td>\n",
       "      <td>0</td>\n",
       "      <td>37.7</td>\n",
       "      <td>0.0</td>\n",
       "      <td>1.0</td>\n",
       "      <td>1.0</td>\n",
       "      <td>0.0</td>\n",
       "      <td>1.0</td>\n",
       "      <td>1.0</td>\n",
       "      <td>8.0</td>\n",
       "      <td>1.0</td>\n",
       "      <td>0.0</td>\n",
       "      <td>10</td>\n",
       "      <td>1</td>\n",
       "      <td>3500000.0</td>\n",
       "    </tr>\n",
       "    <tr>\n",
       "      <th>1</th>\n",
       "      <td>1</td>\n",
       "      <td>9/1/2008</td>\n",
       "      <td>1</td>\n",
       "      <td>1</td>\n",
       "      <td>35.8</td>\n",
       "      <td>0.0</td>\n",
       "      <td>0.0</td>\n",
       "      <td>0.0</td>\n",
       "      <td>0.0</td>\n",
       "      <td>0.0</td>\n",
       "      <td>0.0</td>\n",
       "      <td>44.0</td>\n",
       "      <td>1.0</td>\n",
       "      <td>0.0</td>\n",
       "      <td>11</td>\n",
       "      <td>1</td>\n",
       "      <td>0.0</td>\n",
       "    </tr>\n",
       "    <tr>\n",
       "      <th>2</th>\n",
       "      <td>1</td>\n",
       "      <td>9/1/2008</td>\n",
       "      <td>1</td>\n",
       "      <td>2</td>\n",
       "      <td>36.4</td>\n",
       "      <td>0.0</td>\n",
       "      <td>1.0</td>\n",
       "      <td>0.0</td>\n",
       "      <td>0.0</td>\n",
       "      <td>0.0</td>\n",
       "      <td>0.0</td>\n",
       "      <td>36.0</td>\n",
       "      <td>0.0</td>\n",
       "      <td>0.0</td>\n",
       "      <td>12</td>\n",
       "      <td>1</td>\n",
       "      <td>0.0</td>\n",
       "    </tr>\n",
       "    <tr>\n",
       "      <th>3</th>\n",
       "      <td>2</td>\n",
       "      <td>11/1/2008</td>\n",
       "      <td>1</td>\n",
       "      <td>0</td>\n",
       "      <td>38.9</td>\n",
       "      <td>1.0</td>\n",
       "      <td>1.0</td>\n",
       "      <td>1.0</td>\n",
       "      <td>1.0</td>\n",
       "      <td>1.0</td>\n",
       "      <td>1.0</td>\n",
       "      <td>3.0</td>\n",
       "      <td>0.0</td>\n",
       "      <td>0.0</td>\n",
       "      <td>20</td>\n",
       "      <td>1</td>\n",
       "      <td>98600.0</td>\n",
       "    </tr>\n",
       "    <tr>\n",
       "      <th>4</th>\n",
       "      <td>2</td>\n",
       "      <td>11/1/2008</td>\n",
       "      <td>1</td>\n",
       "      <td>1</td>\n",
       "      <td>36.8</td>\n",
       "      <td>0.0</td>\n",
       "      <td>0.0</td>\n",
       "      <td>0.0</td>\n",
       "      <td>0.0</td>\n",
       "      <td>0.0</td>\n",
       "      <td>0.0</td>\n",
       "      <td>39.0</td>\n",
       "      <td>0.0</td>\n",
       "      <td>0.0</td>\n",
       "      <td>21</td>\n",
       "      <td>1</td>\n",
       "      <td>0.0</td>\n",
       "    </tr>\n",
       "  </tbody>\n",
       "</table>\n",
       "</div>"
      ],
      "text/plain": [
       "   hhID clinic_date day member  bodytemp  headache  sthroat  cough  pmuscle  \\\n",
       "0     1    9/1/2008   1      0      37.7       0.0      1.0    1.0      0.0   \n",
       "1     1    9/1/2008   1      1      35.8       0.0      0.0    0.0      0.0   \n",
       "2     1    9/1/2008   1      2      36.4       0.0      1.0    0.0      0.0   \n",
       "3     2   11/1/2008   1      0      38.9       1.0      1.0    1.0      1.0   \n",
       "4     2   11/1/2008   1      1      36.8       0.0      0.0    0.0      0.0   \n",
       "\n",
       "   rnose  phlegm   age  male  vaccine mhhID  visit       qPCR  \n",
       "0    1.0     1.0   8.0   1.0      0.0    10      1  3500000.0  \n",
       "1    0.0     0.0  44.0   1.0      0.0    11      1        0.0  \n",
       "2    0.0     0.0  36.0   0.0      0.0    12      1        0.0  \n",
       "3    1.0     1.0   3.0   0.0      0.0    20      1    98600.0  \n",
       "4    0.0     0.0  39.0   0.0      0.0    21      1        0.0  "
      ]
     },
     "execution_count": 30,
     "metadata": {},
     "output_type": "execute_result"
    }
   ],
   "source": [
    "sym_dem_pcr_hsd.head()"
   ]
  },
  {
   "cell_type": "code",
   "execution_count": 31,
   "metadata": {
    "collapsed": false
   },
   "outputs": [],
   "source": [
    "sym_dem_pcr_hsd.qPCR.value_counts()\n",
    "for index, row in sym_dem_pcr_hsd.iterrows():\n",
    "    if(row['qPCR'] == 0.000000e+00):\n",
    "        sym_dem_pcr_hsd.set_value(index, 'qPCR', 0)\n",
    "    else:\n",
    "        sym_dem_pcr_hsd.set_value(index, 'qPCR', 1)"
   ]
  },
  {
   "cell_type": "code",
   "execution_count": 32,
   "metadata": {
    "collapsed": true,
    "deletable": true,
    "editable": true
   },
   "outputs": [],
   "source": [
    "for index, row in sym_dem_pcr_hsd.iterrows():\n",
    "    if row['bodytemp'] > 37.5:\n",
    "        sym_dem_pcr_hsd.set_value(index, 'fever', 1.0)\n",
    "    else:\n",
    "        sym_dem_pcr_hsd.set_value(index, 'fever', 0.0)\n",
    "    if row['age'] > 0 and row['age'] < 4:\n",
    "        sym_dem_pcr_hsd.set_value(index, 'age_1', 1.0)\n",
    "    if row['age'] >= 5 and row['age'] <= 15:\n",
    "        sym_dem_pcr_hsd.set_value(index, 'age_2', 1.0)\n",
    "    if row['age'] >= 16 and row['age'] <= 44:\n",
    "        sym_dem_pcr_hsd.set_value(index, 'age_3', 1.0)\n",
    "    if row['age'] >= 45 and row['age'] <= 64:\n",
    "        sym_dem_pcr_hsd.set_value(index, 'age_4', 1.0)\n",
    "    if row['age'] >= 65:\n",
    "        sym_dem_pcr_hsd.set_value(index, 'age_5', 1.0)"
   ]
  },
  {
   "cell_type": "code",
   "execution_count": 33,
   "metadata": {
    "collapsed": true,
    "deletable": true,
    "editable": true
   },
   "outputs": [],
   "source": [
    "sym_dem_pcr_hsd['gender'] = sym_dem_pcr_hsd['male']\n",
    "sym_dem_pcr_hsd['female'] = sym_dem_pcr_hsd['male'].map({1.0: 0, 0.0: 1})"
   ]
  },
  {
   "cell_type": "code",
   "execution_count": 34,
   "metadata": {
    "collapsed": false,
    "deletable": true,
    "editable": true
   },
   "outputs": [
    {
     "data": {
      "text/plain": [
       "5139"
      ]
     },
     "execution_count": 34,
     "metadata": {},
     "output_type": "execute_result"
    }
   ],
   "source": [
    "len(sym_dem_pcr_hsd)"
   ]
  },
  {
   "cell_type": "code",
   "execution_count": 35,
   "metadata": {
    "collapsed": false
   },
   "outputs": [],
   "source": [
    "\"\"\"\n",
    "    Filter out all rows that have NAs for all symptoms\n",
    "\"\"\"\n",
    "x = sym_dem_pcr_hsd[sym_dem_pcr_hsd[['headache','bodytemp',\n",
    "       'sthroat', 'cough', 'pmuscle', 'rnose', 'phlegm']].isnull().all(axis=1)]\n",
    "in_x = x.index\n",
    "in_sy = sym_dem_pcr_hsd.index\n",
    "y = in_sy.difference(in_x)\n",
    "sym_dem_pcr_hsd= sym_dem_pcr_hsd.loc[y]"
   ]
  },
  {
   "cell_type": "code",
   "execution_count": 40,
   "metadata": {
    "collapsed": false
   },
   "outputs": [],
   "source": [
    "sym_dem_pcr_hsd.rename(index=str, columns={'rnose':'runnynose', 'sthroat':'sorethroat',\\\n",
    "                                          'pmuscle':'muscle'}, inplace =True)\n",
    "sym_dem_pcr_hsd.to_csv('hk_fit_March28.csv')"
   ]
  }
 ],
 "metadata": {
  "kernelspec": {
   "display_name": "Python 3",
   "language": "python",
   "name": "python3"
  },
  "language_info": {
   "codemirror_mode": {
    "name": "ipython",
    "version": 3
   },
   "file_extension": ".py",
   "mimetype": "text/x-python",
   "name": "python",
   "nbconvert_exporter": "python",
   "pygments_lexer": "ipython3",
   "version": "3.6.0"
  }
 },
 "nbformat": 4,
 "nbformat_minor": 2
}
