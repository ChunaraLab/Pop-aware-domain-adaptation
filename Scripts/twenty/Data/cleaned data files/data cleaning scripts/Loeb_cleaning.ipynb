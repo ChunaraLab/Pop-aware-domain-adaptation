{
 "cells": [
  {
   "cell_type": "markdown",
   "metadata": {},
   "source": [
    "# Loeb Dataset Cleaning\n",
    "|Variable\t|Description\n",
    "|-----------|------------|\n",
    "|RID\t|Master Reference ID\n",
    "|ID71\t|Participant ID Season 1\n",
    "|ID72\t|Participant ID Season 2\n",
    "|ID73\t|Participant ID Season 3\n",
    "|Colony\t|Colony as of Season 3\n",
    "|Household\t|House Number as of Season 3\n",
    "|Enrolled0708\t|Enrolled Season 1\n",
    "|Enrolled0809\t|Enrolled Season 2\n",
    "|Enrolled0910\t|Enrolled Season 3\n",
    "|Init\t|Participant initials\n",
    "|DOB\t|Participant date of birth\n",
    "|s1pos.FIRSTPOS\t|Season 1 first positive date\n",
    "|s1pos.LASTPOS\t|Season 1 last positive date\n",
    "|s1pos.LENGTH\t|Length of positivity season 1\n",
    "|s1pos.TYPE\t|Influenza typing season 1\n",
    "|s1pos.Age_at_Senroll\t|Age at season 1 enrollment\n",
    "|s1pos.Age_at_Infection\t|Age at season 1 infection\n",
    "|s2pos.FIRSTPOS\t|Season 2 first positive date\n",
    "|s2pos.LASTPOS\t|Season 2 last positive date\n",
    "|s2pos.LENGTH\t|Length of positivity season 2\n",
    "|s2pos.TYPE\t|Influenza typing season 2\n",
    "|s2pos.Age_at_Senroll\t|Age at season 2 enrollment\n",
    "|s2pos.Age_at_Infection\t|Age at season 2 infection\n",
    "|s3pos.FIRSTPOS\t|Season 3 first positive date\n",
    "|s3pos.LASTPOS\t|Season 3 last positive date\n",
    "|s3pos.LENGTH\t|Length of positivity season 3\n",
    "|s3pos.TYPE\t|Influenza typing season 3\n",
    "|s3pos.Age_at_Senroll\t|Age at season 3 enrollment\n",
    "|s3pos.Age_at_Infection\t|Age at season 3 infection\n",
    "\n",
    "Divide the dataset into three parts for three seasons\n",
    "\n",
    "|Season 1 | Season 2 | Season 3\n",
    "|---------|----------|---------|\n",
    "|RID      |RID|RID\n",
    "|ID71|ID72|ID73\n",
    "|-|-|Colony\n",
    "|-|-|Household\n",
    "|Enrolled0708|Enrolled0709|Enrolled0710\n",
    "|Init|Init|Init\n",
    "|DOB|DOB|DOB\n",
    "|s1pos.FIRSTPOS|s2pos.FIRSTPOS|s3pos.FIRSTPOS\n",
    "|s1pos.LASTPOS|s2pos.LASTPOS|s3pos.LASTPOS\n",
    "|s1pos.LENGTH|s2pos.LENGTH|s3pos.LENGTH\n",
    "|s1pos.TYPE\t|s2pos.TYPE|s3pos.TYPE\n",
    "|s1pos.Age_at_Senroll|s2pos.Age_at_Senroll|s3pos.Age_at_Senroll\n",
    "|s1pos.Age_at_Infection|s2pos.Age_at_Infection|s3pos.Age_at_Infection\n",
    "\n",
    "## Symptom Data\n",
    "\n",
    "|Variable\t|Description\t|Value\n",
    "|---------|----------|---------|\n",
    "|RID\t|Master Reference ID|\t\n",
    "|SYMPID\t|Symptom Reference ID|\tignore this column\n",
    "|symptom\t|Specifiy Symptom|\t\n",
    "|startdate\t|Symptom Start Date\t|\n",
    "|enddate\t|Symptom End Date\t|\n",
    "|Season\tSeason |Symptom Occurred\t|1-Season 1 2-Season 2 3-Season 3\n",
    "\n",
    "Filter out data for each season"
   ]
  },
  {
   "cell_type": "code",
   "execution_count": 1,
   "metadata": {
    "collapsed": true
   },
   "outputs": [],
   "source": [
    "import pandas as pd\n",
    "import numpy as np\n",
    "import csv\n",
    "from datetime import datetime, date, time, timedelta\n",
    "import sys\n",
    "base_path = '../data/original_per_study/loeb/loeb_updated/'"
   ]
  },
  {
   "cell_type": "code",
   "execution_count": 2,
   "metadata": {
    "collapsed": true
   },
   "outputs": [],
   "source": [
    "loeb_flu = pd.read_excel(base_path+'flu_data.xlsx')"
   ]
  },
  {
   "cell_type": "markdown",
   "metadata": {},
   "source": [
    "### Filter out data for each season from both files"
   ]
  },
  {
   "cell_type": "code",
   "execution_count": 3,
   "metadata": {},
   "outputs": [
    {
     "name": "stderr",
     "output_type": "stream",
     "text": [
      "/Users/dishaumarwani/anaconda/lib/python3.6/site-packages/ipykernel/__main__.py:5: SettingWithCopyWarning: \n",
      "A value is trying to be set on a copy of a slice from a DataFrame.\n",
      "Try using .loc[row_indexer,col_indexer] = value instead\n",
      "\n",
      "See the caveats in the documentation: http://pandas.pydata.org/pandas-docs/stable/indexing.html#indexing-view-versus-copy\n",
      "/Users/dishaumarwani/anaconda/lib/python3.6/site-packages/pandas/core/frame.py:2746: SettingWithCopyWarning: \n",
      "A value is trying to be set on a copy of a slice from a DataFrame\n",
      "\n",
      "See the caveats in the documentation: http://pandas.pydata.org/pandas-docs/stable/indexing.html#indexing-view-versus-copy\n",
      "  **kwargs)\n"
     ]
    }
   ],
   "source": [
    "loeb_flu_1 = loeb_flu[['RID', 'DOB', 's1pos.FIRSTPOS',\n",
    "       's1pos.LASTPOS', 's1pos.LENGTH', 's1pos.TYPE', 's1pos.Age_at_Senroll',\n",
    "       's1pos.Age_at_Infection']]\n",
    "lf_s1 = loeb_flu_1[['RID', 's1pos.FIRSTPOS', 's1pos.LASTPOS']]\n",
    "lf_s1['symptom'] = 'flu'\n",
    "lf_s1.rename(index=str, columns={'s1pos.FIRSTPOS': 'startdate', 's1pos.LASTPOS': 'enddate'}, inplace =True)"
   ]
  },
  {
   "cell_type": "code",
   "execution_count": 4,
   "metadata": {},
   "outputs": [
    {
     "name": "stderr",
     "output_type": "stream",
     "text": [
      "/Users/dishaumarwani/anaconda/lib/python3.6/site-packages/ipykernel/__main__.py:5: SettingWithCopyWarning: \n",
      "A value is trying to be set on a copy of a slice from a DataFrame.\n",
      "Try using .loc[row_indexer,col_indexer] = value instead\n",
      "\n",
      "See the caveats in the documentation: http://pandas.pydata.org/pandas-docs/stable/indexing.html#indexing-view-versus-copy\n",
      "/Users/dishaumarwani/anaconda/lib/python3.6/site-packages/pandas/core/frame.py:2746: SettingWithCopyWarning: \n",
      "A value is trying to be set on a copy of a slice from a DataFrame\n",
      "\n",
      "See the caveats in the documentation: http://pandas.pydata.org/pandas-docs/stable/indexing.html#indexing-view-versus-copy\n",
      "  **kwargs)\n"
     ]
    }
   ],
   "source": [
    "loeb_flu_2 = loeb_flu[['RID', 'DOB', 's2pos.FIRSTPOS', 's2pos.LASTPOS',\n",
    "       's2pos.LENGTH', 's2pos.TYPE', 's2pos.Age_at_Senroll',\n",
    "       's2pos.Age_at_Infection']]\n",
    "lf_s2 = loeb_flu_2[['RID', 's2pos.FIRSTPOS', 's2pos.LASTPOS']]\n",
    "lf_s2['symptom'] = 'flu'\n",
    "lf_s2.rename(index=str, columns={'s2pos.FIRSTPOS': 'startdate', 's2pos.LASTPOS': 'enddate'}, inplace =True)"
   ]
  },
  {
   "cell_type": "code",
   "execution_count": 5,
   "metadata": {},
   "outputs": [
    {
     "name": "stderr",
     "output_type": "stream",
     "text": [
      "/Users/dishaumarwani/anaconda/lib/python3.6/site-packages/ipykernel/__main__.py:5: SettingWithCopyWarning: \n",
      "A value is trying to be set on a copy of a slice from a DataFrame.\n",
      "Try using .loc[row_indexer,col_indexer] = value instead\n",
      "\n",
      "See the caveats in the documentation: http://pandas.pydata.org/pandas-docs/stable/indexing.html#indexing-view-versus-copy\n",
      "/Users/dishaumarwani/anaconda/lib/python3.6/site-packages/pandas/core/frame.py:2746: SettingWithCopyWarning: \n",
      "A value is trying to be set on a copy of a slice from a DataFrame\n",
      "\n",
      "See the caveats in the documentation: http://pandas.pydata.org/pandas-docs/stable/indexing.html#indexing-view-versus-copy\n",
      "  **kwargs)\n"
     ]
    }
   ],
   "source": [
    "loeb_flu_3 = loeb_flu[['RID', 'DOB','s3pos.FIRSTPOS', 's3pos.LASTPOS',\n",
    "       's3pos.LENGTH', 's3pos.TYPE', 's3pos.Age_at_Senroll',\n",
    "       's3pos.Age_at_Infection']]\n",
    "lf_s3 = loeb_flu_3[['RID', 's3pos.FIRSTPOS', 's3pos.LASTPOS']]\n",
    "lf_s3['symptom'] = 'flu'\n",
    "lf_s3.rename(index=str, columns={'s3pos.FIRSTPOS': 'startdate', 's3pos.LASTPOS': 'enddate'}, inplace =True)"
   ]
  },
  {
   "cell_type": "code",
   "execution_count": 6,
   "metadata": {
    "collapsed": true
   },
   "outputs": [],
   "source": [
    "loeb_symptom = pd.read_excel(base_path+'symptom_data.xlsx')"
   ]
  },
  {
   "cell_type": "code",
   "execution_count": 7,
   "metadata": {},
   "outputs": [
    {
     "data": {
      "text/html": [
       "<div>\n",
       "<style>\n",
       "    .dataframe thead tr:only-child th {\n",
       "        text-align: right;\n",
       "    }\n",
       "\n",
       "    .dataframe thead th {\n",
       "        text-align: left;\n",
       "    }\n",
       "\n",
       "    .dataframe tbody tr th {\n",
       "        vertical-align: top;\n",
       "    }\n",
       "</style>\n",
       "<table border=\"1\" class=\"dataframe\">\n",
       "  <thead>\n",
       "    <tr style=\"text-align: right;\">\n",
       "      <th></th>\n",
       "      <th>RID</th>\n",
       "      <th>SYMPID</th>\n",
       "      <th>symptom</th>\n",
       "      <th>startdate</th>\n",
       "      <th>enddate</th>\n",
       "      <th>Season</th>\n",
       "    </tr>\n",
       "  </thead>\n",
       "  <tbody>\n",
       "    <tr>\n",
       "      <th>0</th>\n",
       "      <td>11</td>\n",
       "      <td>1</td>\n",
       "      <td>muscle</td>\n",
       "      <td>2009-11-17</td>\n",
       "      <td>2009-11-17</td>\n",
       "      <td>3</td>\n",
       "    </tr>\n",
       "    <tr>\n",
       "      <th>1</th>\n",
       "      <td>11</td>\n",
       "      <td>2</td>\n",
       "      <td>chills</td>\n",
       "      <td>2009-11-17</td>\n",
       "      <td>2009-11-17</td>\n",
       "      <td>3</td>\n",
       "    </tr>\n",
       "    <tr>\n",
       "      <th>2</th>\n",
       "      <td>11</td>\n",
       "      <td>3</td>\n",
       "      <td>fever</td>\n",
       "      <td>2009-11-17</td>\n",
       "      <td>2009-11-21</td>\n",
       "      <td>3</td>\n",
       "    </tr>\n",
       "    <tr>\n",
       "      <th>3</th>\n",
       "      <td>11</td>\n",
       "      <td>4</td>\n",
       "      <td>head</td>\n",
       "      <td>2009-11-17</td>\n",
       "      <td>2009-11-21</td>\n",
       "      <td>3</td>\n",
       "    </tr>\n",
       "    <tr>\n",
       "      <th>4</th>\n",
       "      <td>11</td>\n",
       "      <td>5</td>\n",
       "      <td>cough</td>\n",
       "      <td>2009-11-17</td>\n",
       "      <td>2009-11-24</td>\n",
       "      <td>3</td>\n",
       "    </tr>\n",
       "  </tbody>\n",
       "</table>\n",
       "</div>"
      ],
      "text/plain": [
       "   RID  SYMPID symptom  startdate    enddate  Season\n",
       "0   11       1  muscle 2009-11-17 2009-11-17       3\n",
       "1   11       2  chills 2009-11-17 2009-11-17       3\n",
       "2   11       3   fever 2009-11-17 2009-11-21       3\n",
       "3   11       4    head 2009-11-17 2009-11-21       3\n",
       "4   11       5   cough 2009-11-17 2009-11-24       3"
      ]
     },
     "execution_count": 7,
     "metadata": {},
     "output_type": "execute_result"
    }
   ],
   "source": [
    "loeb_symptom.head()"
   ]
  },
  {
   "cell_type": "code",
   "execution_count": 8,
   "metadata": {
    "collapsed": true
   },
   "outputs": [],
   "source": [
    "loeb_symp_1 = loeb_symptom[loeb_symptom['Season'] == 1].drop([ 'SYMPID', 'Season'], axis=1)\n",
    "loeb_flu_sym_orig_1 = pd.concat([loeb_symp_1, lf_s1])"
   ]
  },
  {
   "cell_type": "code",
   "execution_count": 9,
   "metadata": {
    "collapsed": true
   },
   "outputs": [],
   "source": [
    "loeb_symp_2 = loeb_symptom[loeb_symptom['Season'] == 2].drop(['SYMPID', 'Season'], axis=1)\n",
    "loeb_flu_sym_orig_2 = pd.concat([loeb_symp_2, lf_s2])"
   ]
  },
  {
   "cell_type": "code",
   "execution_count": 10,
   "metadata": {
    "collapsed": true
   },
   "outputs": [],
   "source": [
    "loeb_symp_3 = loeb_symptom[loeb_symptom['Season'] == 3].drop(['SYMPID', 'Season'], axis=1)\n",
    "loeb_flu_sym_orig_3 = pd.concat([loeb_symp_3, lf_s3])"
   ]
  },
  {
   "cell_type": "markdown",
   "metadata": {},
   "source": [
    "## Loeb Symptom Cleaning"
   ]
  },
  {
   "cell_type": "code",
   "execution_count": 11,
   "metadata": {
    "collapsed": true
   },
   "outputs": [],
   "source": [
    "def avg_time(datetimes):\n",
    "    mean = (np.array(datetimes, dtype='datetime64[s]')\n",
    "        .view('i8')\n",
    "        .mean()\n",
    "        .astype('datetime64[s]'))\n",
    "    return str(mean)\n",
    "def min_time(mn_datetimes):\n",
    "    try:\n",
    "        min_time = min(mn_datetimes)\n",
    "    except:\n",
    "        print(mn_datetimes)\n",
    "    return min_time\n",
    "def max_time(mx_datetimes):\n",
    "    try:\n",
    "        max_time = max(mx_datetimes)\n",
    "    except:\n",
    "        print(mx_datetimes)\n",
    "    return max_time"
   ]
  },
  {
   "cell_type": "code",
   "execution_count": 12,
   "metadata": {},
   "outputs": [
    {
     "data": {
      "text/html": [
       "<div>\n",
       "<style>\n",
       "    .dataframe thead tr:only-child th {\n",
       "        text-align: right;\n",
       "    }\n",
       "\n",
       "    .dataframe thead th {\n",
       "        text-align: left;\n",
       "    }\n",
       "\n",
       "    .dataframe tbody tr th {\n",
       "        vertical-align: top;\n",
       "    }\n",
       "</style>\n",
       "<table border=\"1\" class=\"dataframe\">\n",
       "  <thead>\n",
       "    <tr style=\"text-align: right;\">\n",
       "      <th></th>\n",
       "      <th>RID</th>\n",
       "      <th>enddate</th>\n",
       "      <th>startdate</th>\n",
       "      <th>symptom</th>\n",
       "    </tr>\n",
       "  </thead>\n",
       "  <tbody>\n",
       "    <tr>\n",
       "      <th>31</th>\n",
       "      <td>22</td>\n",
       "      <td>2008-02-22</td>\n",
       "      <td>2008-02-15</td>\n",
       "      <td>sore</td>\n",
       "    </tr>\n",
       "    <tr>\n",
       "      <th>32</th>\n",
       "      <td>22</td>\n",
       "      <td>2008-02-22</td>\n",
       "      <td>2008-02-16</td>\n",
       "      <td>sinus</td>\n",
       "    </tr>\n",
       "    <tr>\n",
       "      <th>33</th>\n",
       "      <td>22</td>\n",
       "      <td>2008-02-22</td>\n",
       "      <td>2008-02-16</td>\n",
       "      <td>chills</td>\n",
       "    </tr>\n",
       "    <tr>\n",
       "      <th>34</th>\n",
       "      <td>22</td>\n",
       "      <td>2008-02-22</td>\n",
       "      <td>2008-02-17</td>\n",
       "      <td>cough</td>\n",
       "    </tr>\n",
       "    <tr>\n",
       "      <th>35</th>\n",
       "      <td>22</td>\n",
       "      <td>2008-02-17</td>\n",
       "      <td>2008-02-17</td>\n",
       "      <td>runny</td>\n",
       "    </tr>\n",
       "  </tbody>\n",
       "</table>\n",
       "</div>"
      ],
      "text/plain": [
       "    RID    enddate  startdate symptom\n",
       "31   22 2008-02-22 2008-02-15    sore\n",
       "32   22 2008-02-22 2008-02-16   sinus\n",
       "33   22 2008-02-22 2008-02-16  chills\n",
       "34   22 2008-02-22 2008-02-17   cough\n",
       "35   22 2008-02-17 2008-02-17   runny"
      ]
     },
     "execution_count": 12,
     "metadata": {},
     "output_type": "execute_result"
    }
   ],
   "source": [
    "loeb_flu_sym_orig_1.head()"
   ]
  },
  {
   "cell_type": "code",
   "execution_count": 13,
   "metadata": {
    "collapsed": true
   },
   "outputs": [],
   "source": [
    "def clean_loeb(df):\n",
    "    df.drop_duplicates(inplace=True)\n",
    "    df_new = pd.DataFrame(columns = ['startdate', 'enddate', 'startdate', 'enddate', \\\n",
    "                           'startdate', 'enddate', 'startdate', 'enddate',\\\n",
    "                          'startdate', 'enddate','startdate', 'enddate',\\\n",
    "                           'startdate', 'enddate','startdate', 'enddate',\\\n",
    "                                     'startdate', 'enddate','startdate', 'enddate'],\\\n",
    "                          index = df['RID'].unique())\n",
    "    cols=[('sore', 'startdate'),('sore', 'enddate'),('cough','startdate'),('cough','enddate'),\\\n",
    "         ('sinus', 'startdate'),('sinus', 'enddate'),('fever','startdate'),('fever','enddate'),\\\n",
    "         ('chills','startdate'),('chills','enddate'), ('runny','startdate'),('runny','enddate'), \\\n",
    "        ('headache','startdate'), ('headache','enddate'), ('muscle','startdate'), ('muscle','enddate'),\\\n",
    "     ('duration', 'startdate'), ('duration', 'enddate'), ('flu', 'startdate'), ('flu', 'enddate')]\n",
    "    \n",
    "    df_new.columns=pd.MultiIndex.from_tuples(cols)\n",
    "    \n",
    "    df_rid_unique = list(df['RID'].unique())\n",
    "    df_sym_unique = list(df['symptom'].unique())\n",
    "    for i in df_rid_unique:\n",
    "        for j in df_sym_unique:\n",
    "            stdt = df.loc[(df['RID'] == i) & (df['symptom'] ==j), ['startdate']]['startdate'].tolist()\n",
    "            enddt = df.loc[(df['RID'] == i) & (df['symptom'] ==j), ['enddate']]['enddate'].tolist()\n",
    "            if(len(stdt) !=0):\n",
    "                df_new.loc[i][j, 'startdate'] = min_time(stdt)\n",
    "            if(len(enddt) !=0):\n",
    "                df_new.loc[i][j, 'enddate'] = max_time(enddt)\n",
    "\n",
    "    for i in df_new.columns:\n",
    "        df_new[i] = pd.to_datetime(df_new[i])\n",
    "    \n",
    "    for i in df_rid_unique:\n",
    "        df_new.loc[i]['duration', 'startdate'] = min(df_new.loc[i])\n",
    "        df_new.loc[i]['duration', 'enddate'] = max(df_new.loc[i]) \n",
    "    return df_new"
   ]
  },
  {
   "cell_type": "code",
   "execution_count": 14,
   "metadata": {
    "collapsed": true
   },
   "outputs": [],
   "source": [
    "loeb_1_new = clean_loeb(loeb_flu_sym_orig_1)\n",
    "loeb_2_new = clean_loeb(loeb_flu_sym_orig_2)\n",
    "loeb_3_new = clean_loeb(loeb_flu_sym_orig_3)"
   ]
  },
  {
   "cell_type": "code",
   "execution_count": 15,
   "metadata": {
    "collapsed": true
   },
   "outputs": [],
   "source": [
    "def patient_date_stats(df_old):\n",
    "    count = 0\n",
    "    unique_RID = df_old.index\n",
    "    symptoms = ['chills', 'cough', 'fever', 'headache', 'muscle', 'runny', 'sinus', 'sore', 'flu']\n",
    "    cols = ['RID', 'date','chills', 'cough', 'fever', 'headache', 'muscle', 'runny', 'sinus', 'sore', 'flu']\n",
    "    df_new = pd.DataFrame(columns= cols)\n",
    "    count = 0\n",
    "    for i in unique_RID:\n",
    "        stdt = df_old.loc[i]['duration', 'startdate']\n",
    "        endt = df_old.loc[i]['duration', 'enddate']\n",
    "        while(stdt<=endt):\n",
    "            df_new = df_new.append({'RID': i}, ignore_index=True)\n",
    "            df_new.set_value(count, 'date', stdt)\n",
    "\n",
    "            for j in symptoms:\n",
    "                sx = df_old.loc[i][j,'startdate']\n",
    "                ex = df_old.loc[i][j,'enddate']\n",
    "                if(sx is np.nan and ex is np.nan):\n",
    "                    df_new.iloc[count][j] = np.nan\n",
    "                else:\n",
    "                    if(sx<= stdt <= ex):\n",
    "                        df_new.set_value(count, j, 1)\n",
    "                    else:\n",
    "                        df_new.set_value(count, j, 0)\n",
    "            count +=1\n",
    "            stdt += timedelta(days=7)\n",
    "    return df_new"
   ]
  },
  {
   "cell_type": "code",
   "execution_count": null,
   "metadata": {
    "collapsed": true
   },
   "outputs": [],
   "source": []
  },
  {
   "cell_type": "code",
   "execution_count": 16,
   "metadata": {},
   "outputs": [],
   "source": [
    "season_sym_clean_1 = patient_date_stats(loeb_1_new)\n",
    "season_sym_clean_1['season'] = 1\n",
    "season_sym_clean_1 = pd.merge(season_sym_clean_1 , \\\n",
    "         loeb_flu_1[['RID','DOB']], how='left', on='RID')\n",
    "season_sym_clean_2 = patient_date_stats(loeb_2_new)\n",
    "season_sym_clean_2['season'] = 2\n",
    "season_sym_clean_2 = pd.merge(season_sym_clean_2 , \\\n",
    "         loeb_flu_2[['RID','DOB']], how='left', on='RID')\n",
    "season_sym_clean_3 = patient_date_stats(loeb_3_new)\n",
    "season_sym_clean_3['season'] = 3\n",
    "season_sym_clean_3 = pd.merge(season_sym_clean_3 , \\\n",
    "         loeb_flu_3[['RID','DOB']], how='left', on='RID')"
   ]
  },
  {
   "cell_type": "code",
   "execution_count": 17,
   "metadata": {
    "collapsed": true
   },
   "outputs": [],
   "source": [
    "loeb_clean_all_day_RIDs = pd.concat([season_sym_clean_1, season_sym_clean_2, season_sym_clean_3])"
   ]
  },
  {
   "cell_type": "code",
   "execution_count": 18,
   "metadata": {},
   "outputs": [
    {
     "data": {
      "text/plain": [
       "0.0    492\n",
       "1.0     72\n",
       "Name: flu, dtype: int64"
      ]
     },
     "execution_count": 18,
     "metadata": {},
     "output_type": "execute_result"
    }
   ],
   "source": [
    "loeb_clean_all_day_RIDs['flu'].value_counts()"
   ]
  },
  {
   "cell_type": "code",
   "execution_count": 19,
   "metadata": {},
   "outputs": [
    {
     "data": {
      "text/html": [
       "<div>\n",
       "<style>\n",
       "    .dataframe thead tr:only-child th {\n",
       "        text-align: right;\n",
       "    }\n",
       "\n",
       "    .dataframe thead th {\n",
       "        text-align: left;\n",
       "    }\n",
       "\n",
       "    .dataframe tbody tr th {\n",
       "        vertical-align: top;\n",
       "    }\n",
       "</style>\n",
       "<table border=\"1\" class=\"dataframe\">\n",
       "  <thead>\n",
       "    <tr style=\"text-align: right;\">\n",
       "      <th></th>\n",
       "      <th>RID</th>\n",
       "      <th>Gender</th>\n",
       "      <th>s1asymp</th>\n",
       "      <th>s2asymp</th>\n",
       "      <th>s3asymp</th>\n",
       "    </tr>\n",
       "  </thead>\n",
       "  <tbody>\n",
       "    <tr>\n",
       "      <th>0</th>\n",
       "      <td>11</td>\n",
       "      <td>1</td>\n",
       "      <td>NaN</td>\n",
       "      <td>NaN</td>\n",
       "      <td>NaN</td>\n",
       "    </tr>\n",
       "    <tr>\n",
       "      <th>1</th>\n",
       "      <td>12</td>\n",
       "      <td>0</td>\n",
       "      <td>NaN</td>\n",
       "      <td>NaN</td>\n",
       "      <td>NaN</td>\n",
       "    </tr>\n",
       "    <tr>\n",
       "      <th>2</th>\n",
       "      <td>15</td>\n",
       "      <td>1</td>\n",
       "      <td>NaN</td>\n",
       "      <td>NaN</td>\n",
       "      <td>1.0</td>\n",
       "    </tr>\n",
       "    <tr>\n",
       "      <th>3</th>\n",
       "      <td>16</td>\n",
       "      <td>1</td>\n",
       "      <td>NaN</td>\n",
       "      <td>NaN</td>\n",
       "      <td>NaN</td>\n",
       "    </tr>\n",
       "    <tr>\n",
       "      <th>4</th>\n",
       "      <td>17</td>\n",
       "      <td>0</td>\n",
       "      <td>NaN</td>\n",
       "      <td>NaN</td>\n",
       "      <td>1.0</td>\n",
       "    </tr>\n",
       "  </tbody>\n",
       "</table>\n",
       "</div>"
      ],
      "text/plain": [
       "   RID  Gender  s1asymp  s2asymp  s3asymp\n",
       "0   11       1      NaN      NaN      NaN\n",
       "1   12       0      NaN      NaN      NaN\n",
       "2   15       1      NaN      NaN      1.0\n",
       "3   16       1      NaN      NaN      NaN\n",
       "4   17       0      NaN      NaN      1.0"
      ]
     },
     "execution_count": 19,
     "metadata": {},
     "output_type": "execute_result"
    }
   ],
   "source": [
    "loeb_gender = pd.read_excel(base_path+'gender_data.xlsx')\n",
    "loeb_gender.head()"
   ]
  },
  {
   "cell_type": "code",
   "execution_count": 20,
   "metadata": {},
   "outputs": [],
   "source": [
    "loeb_clean_all_day_RIDs = pd.merge(loeb_clean_all_day_RIDs, loeb_gender[['RID', 'Gender']], how='left', on='RID')"
   ]
  },
  {
   "cell_type": "code",
   "execution_count": 21,
   "metadata": {},
   "outputs": [],
   "source": [
    "from dateutil import relativedelta\n",
    "def intck_month(dataset):\n",
    "    start = dataset['DOB']\n",
    "    end = dataset['date']\n",
    "    rd = relativedelta.relativedelta( pd.to_datetime( end ), pd.to_datetime( start ) )\n",
    "    return abs(rd.years)\n",
    "loeb_clean_all_day_RIDs['age'] = loeb_clean_all_day_RIDs.apply(intck_month, axis=1)"
   ]
  },
  {
   "cell_type": "code",
   "execution_count": 22,
   "metadata": {},
   "outputs": [
    {
     "data": {
      "text/plain": [
       "564"
      ]
     },
     "execution_count": 22,
     "metadata": {},
     "output_type": "execute_result"
    }
   ],
   "source": [
    "len(loeb_clean_all_day_RIDs)"
   ]
  },
  {
   "cell_type": "code",
   "execution_count": 23,
   "metadata": {
    "collapsed": true
   },
   "outputs": [],
   "source": [
    "def age_clean(df=None, col=None):\n",
    "    \"\"\"\n",
    "    For splitting age into 5 ranges\n",
    "    \n",
    "    Takes a dataframe and a column with the age in it as arguments\n",
    "    \"\"\"\n",
    "    for index, row in df.iterrows():\n",
    "        if row[col] > 0 and row[col] < 4:\n",
    "            df.set_value(index, 'age 0-4', 1.0)\n",
    "        if row[col] >= 5 and row[col] <= 15:\n",
    "            df.set_value(index, 'age 5-15', 1.0)\n",
    "        if row[col] >= 16 and row[col] <= 44:\n",
    "            df.set_value(index, 'age 16-44', 1.0)\n",
    "        if row[col] >= 45 and row[col] <= 64:\n",
    "            df.set_value(index, 'age 45-64', 1.0)\n",
    "        if row[col] >= 65:\n",
    "            df.set_value(index, 'age 65+', 1.0)\n",
    "    return df"
   ]
  },
  {
   "cell_type": "code",
   "execution_count": 24,
   "metadata": {},
   "outputs": [],
   "source": [
    "loeb_clean_all_day_RIDs = age_clean(loeb_clean_all_day_RIDs, 'age')"
   ]
  },
  {
   "cell_type": "code",
   "execution_count": 25,
   "metadata": {},
   "outputs": [
    {
     "data": {
      "text/plain": [
       "0    323\n",
       "1    241\n",
       "Name: Gender, dtype: int64"
      ]
     },
     "execution_count": 25,
     "metadata": {},
     "output_type": "execute_result"
    }
   ],
   "source": [
    "loeb_clean_all_day_RIDs.Gender.value_counts()"
   ]
  },
  {
   "cell_type": "code",
   "execution_count": 26,
   "metadata": {
    "collapsed": true
   },
   "outputs": [],
   "source": [
    "def cleanGender(df, col):\n",
    "    for index, row in df.iterrows():\n",
    "        if row[col] == 0:\n",
    "            df.set_value(index, 'Female', 1.0)\n",
    "            df.set_value(index, 'Male', 0.0)\n",
    "        if row[col] == 1:\n",
    "            df.set_value(index, 'Male', 1.0)\n",
    "            df.set_value(index, 'Female', 0.0)\n",
    "    return df"
   ]
  },
  {
   "cell_type": "code",
   "execution_count": 27,
   "metadata": {},
   "outputs": [],
   "source": [
    "loeb_clean_all_day_RIDs = cleanGender(loeb_clean_all_day_RIDs, 'Gender')"
   ]
  },
  {
   "cell_type": "code",
   "execution_count": 28,
   "metadata": {},
   "outputs": [
    {
     "data": {
      "text/plain": [
       "Index(['RID', 'date', 'chills', 'cough', 'fever', 'headache', 'muscle',\n",
       "       'runny', 'sinus', 'sore', 'flu', 'season', 'DOB', 'Gender', 'age',\n",
       "       'age 45-64', 'age 16-44', 'age 5-15', 'age 0-4', 'Female', 'Male'],\n",
       "      dtype='object')"
      ]
     },
     "execution_count": 28,
     "metadata": {},
     "output_type": "execute_result"
    }
   ],
   "source": [
    "loeb_clean_all_day_RIDs.columns"
   ]
  },
  {
   "cell_type": "code",
   "execution_count": 29,
   "metadata": {},
   "outputs": [],
   "source": [
    "loeb_clean_all_day_RIDs.rename(index=str, columns = {'runny':'runnynose', 'sore':'sorethroat'}, inplace=True)"
   ]
  },
  {
   "cell_type": "code",
   "execution_count": 31,
   "metadata": {
    "collapsed": true
   },
   "outputs": [],
   "source": [
    "loeb_clean_all_day_RIDs.to_csv('loeb_clean_7_day_RIDs.csv')"
   ]
  },
  {
   "cell_type": "code",
   "execution_count": 32,
   "metadata": {},
   "outputs": [
    {
     "data": {
      "text/plain": [
       "Index(['RID', 'date', 'chills', 'cough', 'fever', 'headache', 'muscle',\n",
       "       'runnynose', 'sinus', 'sorethroat', 'flu', 'season', 'DOB', 'Gender',\n",
       "       'age', 'age 45-64', 'age 16-44', 'age 5-15', 'age 0-4', 'Female',\n",
       "       'Male'],\n",
       "      dtype='object')"
      ]
     },
     "execution_count": 32,
     "metadata": {},
     "output_type": "execute_result"
    }
   ],
   "source": [
    "loeb_clean_all_day_RIDs.columns"
   ]
  },
  {
   "cell_type": "code",
   "execution_count": null,
   "metadata": {
    "collapsed": true
   },
   "outputs": [],
   "source": []
  }
 ],
 "metadata": {
  "kernelspec": {
   "display_name": "Python 3",
   "language": "python",
   "name": "python3"
  },
  "language_info": {
   "codemirror_mode": {
    "name": "ipython",
    "version": 3
   },
   "file_extension": ".py",
   "mimetype": "text/x-python",
   "name": "python",
   "nbconvert_exporter": "python",
   "pygments_lexer": "ipython3",
   "version": "3.6.0"
  }
 },
 "nbformat": 4,
 "nbformat_minor": 2
}
