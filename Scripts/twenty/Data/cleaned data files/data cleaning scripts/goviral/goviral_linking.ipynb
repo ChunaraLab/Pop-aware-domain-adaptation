{
 "cells": [
  {
   "cell_type": "code",
   "execution_count": 2,
   "metadata": {
    "collapsed": true
   },
   "outputs": [],
   "source": [
    "import pandas as pd\n",
    "import numpy as np"
   ]
  },
  {
   "cell_type": "markdown",
   "metadata": {},
   "source": [
    "# 2013-2014"
   ]
  },
  {
   "cell_type": "code",
   "execution_count": 57,
   "metadata": {
    "collapsed": true
   },
   "outputs": [],
   "source": [
    "df_2013_dem = pd.read_csv('2013_2014_signups.csv', index_col=0)"
   ]
  },
  {
   "cell_type": "code",
   "execution_count": 60,
   "metadata": {},
   "outputs": [],
   "source": [
    "df_2013_dem['kit number'] = df_2013_dem['kit number'].astype(str)"
   ]
  },
  {
   "cell_type": "code",
   "execution_count": 61,
   "metadata": {},
   "outputs": [],
   "source": [
    "df_2013_dem['kit number'] = df_2013_dem['kit number'].apply(lambda x: x.split('.')[0])"
   ]
  },
  {
   "cell_type": "code",
   "execution_count": 62,
   "metadata": {
    "collapsed": true
   },
   "outputs": [],
   "source": [
    "df_2013_dem['kit number'] = df_2013_dem['kit number'].apply(lambda x: x.strip())"
   ]
  },
  {
   "cell_type": "code",
   "execution_count": 34,
   "metadata": {},
   "outputs": [],
   "source": [
    "df_2013 = pd.read_csv('2013_14_Results_Zip.csv', index_col=0)"
   ]
  },
  {
   "cell_type": "code",
   "execution_count": 40,
   "metadata": {},
   "outputs": [],
   "source": [
    "df_2013['kit'] = df_2013['kit'].astype(str)"
   ]
  },
  {
   "cell_type": "code",
   "execution_count": 69,
   "metadata": {
    "collapsed": true
   },
   "outputs": [],
   "source": [
    "# list(pd.merge(df_2013, df_2013_dem, left_on='kit', right_on='kit number', how='left'))"
   ]
  },
  {
   "cell_type": "markdown",
   "metadata": {},
   "source": [
    "There is also \"SignupsReports - manifest_10.06.2015v2\" in Emily/Datasets/Old Data\n",
    "which I think should be the exact same and a merged version but maybe you can double check if they are and merge any  missing records if not.."
   ]
  },
  {
   "cell_type": "code",
   "execution_count": 106,
   "metadata": {
    "scrolled": false
   },
   "outputs": [],
   "source": [
    "# SignupsReports - manifest_10.06.2015v2\n",
    "em_2013 = pd.read_csv('em_2013.csv')"
   ]
  },
  {
   "cell_type": "code",
   "execution_count": 107,
   "metadata": {},
   "outputs": [
    {
     "data": {
      "text/plain": [
       "174"
      ]
     },
     "execution_count": 107,
     "metadata": {},
     "output_type": "execute_result"
    }
   ],
   "source": [
    "len(em_2013)"
   ]
  },
  {
   "cell_type": "markdown",
   "metadata": {},
   "source": [
    "# 2014 - 2015, 2015 - 2016"
   ]
  },
  {
   "cell_type": "code",
   "execution_count": 76,
   "metadata": {},
   "outputs": [],
   "source": [
    "em_2014 = pd.read_csv('UpdatedManifestEm_1716v2.csv')"
   ]
  },
  {
   "cell_type": "code",
   "execution_count": 77,
   "metadata": {},
   "outputs": [
    {
     "data": {
      "text/plain": [
       "175"
      ]
     },
     "execution_count": 77,
     "metadata": {},
     "output_type": "execute_result"
    }
   ],
   "source": [
    "len(em_2014)"
   ]
  },
  {
   "cell_type": "code",
   "execution_count": 81,
   "metadata": {},
   "outputs": [],
   "source": [
    "em_twitter = pd.read_csv('Manifest_Em_16May16_checked_Twitter.csv')"
   ]
  },
  {
   "cell_type": "code",
   "execution_count": 82,
   "metadata": {},
   "outputs": [
    {
     "data": {
      "text/plain": [
       "287"
      ]
     },
     "execution_count": 82,
     "metadata": {},
     "output_type": "execute_result"
    }
   ],
   "source": [
    "len(em_twitter)"
   ]
  },
  {
   "cell_type": "code",
   "execution_count": 83,
   "metadata": {
    "collapsed": true
   },
   "outputs": [],
   "source": [
    "check_kits = list(em_twitter['kit number'])"
   ]
  },
  {
   "cell_type": "code",
   "execution_count": 84,
   "metadata": {
    "collapsed": true
   },
   "outputs": [],
   "source": [
    "check_kits = [str(x).strip().lower() for x in check_kits]"
   ]
  },
  {
   "cell_type": "code",
   "execution_count": 86,
   "metadata": {},
   "outputs": [
    {
     "data": {
      "text/plain": [
       "28"
      ]
     },
     "execution_count": 86,
     "metadata": {},
     "output_type": "execute_result"
    }
   ],
   "source": [
    "len(list(em_twitter[[\n",
    " 'age',\n",
    " 'report sex',\n",
    " 'kit number',\n",
    " 'overallResults',\n",
    " 'Unnamed: 10',\n",
    " 'kit_nasal',\n",
    " 'kit_nasal2',\n",
    " 'Unnamed: 13',\n",
    " 'kit_saliva',\n",
    " 'kit_saliva_2',\n",
    " 'submission_date',\n",
    " 'report date',\n",
    " 'FeverTemp',\n",
    " 'Fever',\n",
    " 'Cough',\n",
    " 'SoreThroat',\n",
    " 'Aches',\n",
    " 'Chills',\n",
    " 'Diarrhea',\n",
    " 'Fatigue',\n",
    " 'Leg',\n",
    " 'Nausea',\n",
    " 'Vomiting',\n",
    " 'rNose',\n",
    " 'soBreath',\n",
    " 'currentvac',\n",
    " 'pastvac',\n",
    " 'doc']]))"
   ]
  },
  {
   "cell_type": "code",
   "execution_count": 87,
   "metadata": {},
   "outputs": [
    {
     "data": {
      "text/plain": [
       "24"
      ]
     },
     "execution_count": 87,
     "metadata": {},
     "output_type": "execute_result"
    }
   ],
   "source": [
    "len(list(em_2014[[\n",
    "    \"age\",\n",
    "    \"report sex\",\n",
    "    \"kit_nasal\",\n",
    "    \"kit_nasal1\",\n",
    "    \"kit_nasal.1\",\n",
    "    'kit_saliva',\n",
    "    'kit_saliva_2',\n",
    "    'submission_date',\n",
    "    'FeverTemp',\n",
    "    'Fever',\n",
    "    'Cough',\n",
    "    'SoreThroat',\n",
    "    'Aches',\n",
    "    'Chills',\n",
    "    'Diarrhea',\n",
    "    'Fatigue',\n",
    "    'Leg',\n",
    "    'Nausea',\n",
    "    'Vomiting',\n",
    "    'rNose',\n",
    "    'soBreath',\n",
    "    'currentvac',\n",
    "    'pastvac',\n",
    "    'doc'\n",
    "]]))"
   ]
  },
  {
   "cell_type": "code",
   "execution_count": 88,
   "metadata": {
    "scrolled": false
   },
   "outputs": [
    {
     "data": {
      "text/plain": [
       "['simplelogin',\n",
       " 'age',\n",
       " 'sampled person',\n",
       " 'sampled relationship',\n",
       " 'report sex',\n",
       " 'Location',\n",
       " 'Signup Zip',\n",
       " 'kit number',\n",
       " 'Unnamed: 8',\n",
       " 'kit_nasal',\n",
       " 'kit_nasal1',\n",
       " 'kit_nasal.1',\n",
       " 'Unnamed: 12',\n",
       " 'kit_saliva',\n",
       " 'kit_saliva_2',\n",
       " 'submission_date',\n",
       " 'report date',\n",
       " 'Unnamed: 17',\n",
       " 'Unnamed: 18',\n",
       " 'FeverTemp',\n",
       " 'Fever',\n",
       " 'Cough',\n",
       " 'SoreThroat',\n",
       " 'Aches',\n",
       " 'Chills',\n",
       " 'Diarrhea',\n",
       " 'Fatigue',\n",
       " 'Leg',\n",
       " 'Nausea',\n",
       " 'Vomiting',\n",
       " 'rNose',\n",
       " 'soBreath',\n",
       " 'currentvac',\n",
       " 'pastvac',\n",
       " 'doc']"
      ]
     },
     "execution_count": 88,
     "metadata": {},
     "output_type": "execute_result"
    }
   ],
   "source": [
    "list(em_2014)"
   ]
  },
  {
   "cell_type": "markdown",
   "metadata": {
    "scrolled": false
   },
   "source": [
    "2015-2016: \"Manifest_Em_16May16_checked_Twitter\" was the original consolidated manifest we had (I think she added all the 2014-2015 data too but please double check).\n"
   ]
  },
  {
   "cell_type": "code",
   "execution_count": 98,
   "metadata": {},
   "outputs": [],
   "source": [
    "count = 0 \n",
    "for i, r in em_2014.iterrows():\n",
    "    kn = r['kit number'].strip()\n",
    "    if kn != np.nan:\n",
    "        if kn.lower() not in check_kits:\n",
    "            count += 1"
   ]
  },
  {
   "cell_type": "code",
   "execution_count": 99,
   "metadata": {},
   "outputs": [
    {
     "data": {
      "text/plain": [
       "1"
      ]
     },
     "execution_count": 99,
     "metadata": {},
     "output_type": "execute_result"
    }
   ],
   "source": [
    "count"
   ]
  },
  {
   "cell_type": "code",
   "execution_count": null,
   "metadata": {
    "collapsed": true
   },
   "outputs": [],
   "source": []
  },
  {
   "cell_type": "markdown",
   "metadata": {
    "collapsed": true
   },
   "source": [
    "# Missing 2015-2016"
   ]
  },
  {
   "cell_type": "code",
   "execution_count": 133,
   "metadata": {},
   "outputs": [],
   "source": [
    "missing = pd.read_csv('MissingData_Linked_Information_02.26.csv')"
   ]
  },
  {
   "cell_type": "code",
   "execution_count": 134,
   "metadata": {
    "collapsed": true
   },
   "outputs": [],
   "source": [
    "missing = missing.dropna(axis=0, subset=['Sample Number']).reset_index(drop=True)"
   ]
  },
  {
   "cell_type": "code",
   "execution_count": 135,
   "metadata": {
    "collapsed": true,
    "scrolled": false
   },
   "outputs": [],
   "source": [
    "missing['Sample Number'] = missing['Sample Number'].apply(lambda y: ''.join(filter(lambda x: x.isdigit(), str(y)))[0:4].lstrip('0'))"
   ]
  },
  {
   "cell_type": "code",
   "execution_count": 136,
   "metadata": {},
   "outputs": [
    {
     "data": {
      "text/plain": [
       "101"
      ]
     },
     "execution_count": 136,
     "metadata": {},
     "output_type": "execute_result"
    }
   ],
   "source": [
    "len(missing)"
   ]
  },
  {
   "cell_type": "markdown",
   "metadata": {},
   "source": [
    "Results from the lab that came in late are attached. Can you please add them in (From the \"StudyData_05012016to11012016\" file"
   ]
  },
  {
   "cell_type": "code",
   "execution_count": 137,
   "metadata": {},
   "outputs": [],
   "source": [
    "study_data = pd.read_csv('StudyData_05012016to11012016.csv')"
   ]
  },
  {
   "cell_type": "code",
   "execution_count": 138,
   "metadata": {},
   "outputs": [
    {
     "data": {
      "text/plain": [
       "518"
      ]
     },
     "execution_count": 138,
     "metadata": {},
     "output_type": "execute_result"
    }
   ],
   "source": [
    "len(study_data)"
   ]
  },
  {
   "cell_type": "markdown",
   "metadata": {},
   "source": [
    " Demographics should also be in goviral-export6may16"
   ]
  },
  {
   "cell_type": "code",
   "execution_count": 139,
   "metadata": {},
   "outputs": [],
   "source": [
    "dem = pd.read_csv('goviral-export6may16-Table 1.csv')"
   ]
  },
  {
   "cell_type": "code",
   "execution_count": 140,
   "metadata": {
    "collapsed": true
   },
   "outputs": [],
   "source": [
    "dem = dem.dropna(axis=0, subset=['kit number']).reset_index(drop=True)"
   ]
  },
  {
   "cell_type": "code",
   "execution_count": 141,
   "metadata": {
    "collapsed": true
   },
   "outputs": [],
   "source": [
    "def remove_letters(stringer):\n",
    "    return ''.join(filter(lambda x: x.isdigit(), stringer))"
   ]
  },
  {
   "cell_type": "code",
   "execution_count": 142,
   "metadata": {
    "collapsed": true,
    "scrolled": false
   },
   "outputs": [],
   "source": [
    "new_col = []\n",
    "for x in list(dem['kit number']):\n",
    "    splt = x.split('-', 2)\n",
    "    if len(splt) == 1:\n",
    "        new_col.append(remove_letters(splt[0].lower().replace('gv14','')).lstrip('0'))\n",
    "    else:\n",
    "        new_col.append(remove_letters(splt[1]).lstrip('0'))"
   ]
  },
  {
   "cell_type": "code",
   "execution_count": 143,
   "metadata": {
    "collapsed": true
   },
   "outputs": [],
   "source": [
    "dem['newkit'] = new_col"
   ]
  },
  {
   "cell_type": "code",
   "execution_count": 144,
   "metadata": {
    "collapsed": true
   },
   "outputs": [],
   "source": [
    "study_data['Study #'] = study_data['Study #'].apply(lambda y: ''.join(filter(lambda x: x.isdigit(), y))[0:4].lstrip('0'))"
   ]
  },
  {
   "cell_type": "code",
   "execution_count": 145,
   "metadata": {
    "collapsed": true
   },
   "outputs": [],
   "source": [
    "dem['kit number'] = dem['kit number'].apply(lambda y: ''.join(filter(lambda x: x.isdigit(), y))[0:4].lstrip('0'))"
   ]
  },
  {
   "cell_type": "code",
   "execution_count": null,
   "metadata": {},
   "outputs": [],
   "source": []
  },
  {
   "cell_type": "markdown",
   "metadata": {},
   "source": [
    "though some (second kits) were sent and recorded in: \"Copy of kits_sent_record_updated\" and those are linked to names, which you have to go back to the \"goviral-export6may16\" file to get the demographics from"
   ]
  },
  {
   "cell_type": "code",
   "execution_count": 146,
   "metadata": {
    "collapsed": true
   },
   "outputs": [],
   "source": [
    "records = pd.read_csv('Kit 1-Table 1.csv')"
   ]
  },
  {
   "cell_type": "code",
   "execution_count": 147,
   "metadata": {
    "collapsed": true,
    "scrolled": false
   },
   "outputs": [],
   "source": [
    "record_kits = list(records['Kit Number 1'].dropna())"
   ]
  },
  {
   "cell_type": "code",
   "execution_count": 148,
   "metadata": {},
   "outputs": [
    {
     "data": {
      "text/html": [
       "<div>\n",
       "<style scoped>\n",
       "    .dataframe tbody tr th:only-of-type {\n",
       "        vertical-align: middle;\n",
       "    }\n",
       "\n",
       "    .dataframe tbody tr th {\n",
       "        vertical-align: top;\n",
       "    }\n",
       "\n",
       "    .dataframe thead th {\n",
       "        text-align: right;\n",
       "    }\n",
       "</style>\n",
       "<table border=\"1\" class=\"dataframe\">\n",
       "  <thead>\n",
       "    <tr style=\"text-align: right;\">\n",
       "      <th></th>\n",
       "      <th>simplelogin</th>\n",
       "      <th>email</th>\n",
       "      <th>first name</th>\n",
       "      <th>last name</th>\n",
       "      <th>Kit Number 1</th>\n",
       "      <th>Notes</th>\n",
       "      <th>Unnamed: 6</th>\n",
       "      <th>Unnamed: 7</th>\n",
       "    </tr>\n",
       "  </thead>\n",
       "  <tbody>\n",
       "    <tr>\n",
       "      <th>0</th>\n",
       "      <td>simplelogin:9</td>\n",
       "      <td>ross@msi.org</td>\n",
       "      <td>Ross</td>\n",
       "      <td>Rizley</td>\n",
       "      <td>230</td>\n",
       "      <td>NaN</td>\n",
       "      <td>NaN</td>\n",
       "      <td>NaN</td>\n",
       "    </tr>\n",
       "    <tr>\n",
       "      <th>1</th>\n",
       "      <td>simplelogin:178</td>\n",
       "      <td>yiyao.li@hotmail.com</td>\n",
       "      <td>Yiyao</td>\n",
       "      <td>Barnoon</td>\n",
       "      <td>57</td>\n",
       "      <td>NaN</td>\n",
       "      <td>NaN</td>\n",
       "      <td>NaN</td>\n",
       "    </tr>\n",
       "    <tr>\n",
       "      <th>2</th>\n",
       "      <td>simplelogin:499</td>\n",
       "      <td>ljarnone@gmail.com</td>\n",
       "      <td>Laurie</td>\n",
       "      <td>Arnone</td>\n",
       "      <td>74</td>\n",
       "      <td>NaN</td>\n",
       "      <td>NaN</td>\n",
       "      <td>NaN</td>\n",
       "    </tr>\n",
       "    <tr>\n",
       "      <th>3</th>\n",
       "      <td>simplelogin:478</td>\n",
       "      <td>monica.morrison@state.ma.us</td>\n",
       "      <td>Monica</td>\n",
       "      <td>Morrison</td>\n",
       "      <td>90</td>\n",
       "      <td>NaN</td>\n",
       "      <td>NaN</td>\n",
       "      <td>NaN</td>\n",
       "    </tr>\n",
       "    <tr>\n",
       "      <th>4</th>\n",
       "      <td>simplelogin:610</td>\n",
       "      <td>jhyang@gmail.com</td>\n",
       "      <td>Jason</td>\n",
       "      <td>Yang</td>\n",
       "      <td>84</td>\n",
       "      <td>NaN</td>\n",
       "      <td>NaN</td>\n",
       "      <td>NaN</td>\n",
       "    </tr>\n",
       "  </tbody>\n",
       "</table>\n",
       "</div>"
      ],
      "text/plain": [
       "       simplelogin                        email first name last name  \\\n",
       "0    simplelogin:9                 ross@msi.org       Ross    Rizley   \n",
       "1  simplelogin:178         yiyao.li@hotmail.com     Yiyao    Barnoon   \n",
       "2  simplelogin:499           ljarnone@gmail.com     Laurie    Arnone   \n",
       "3  simplelogin:478  monica.morrison@state.ma.us     Monica  Morrison   \n",
       "4  simplelogin:610             jhyang@gmail.com      Jason      Yang   \n",
       "\n",
       "  Kit Number 1 Notes  Unnamed: 6  Unnamed: 7  \n",
       "0          230   NaN         NaN         NaN  \n",
       "1           57   NaN         NaN         NaN  \n",
       "2           74   NaN         NaN         NaN  \n",
       "3           90   NaN         NaN         NaN  \n",
       "4           84   NaN         NaN         NaN  "
      ]
     },
     "execution_count": 148,
     "metadata": {},
     "output_type": "execute_result"
    }
   ],
   "source": [
    "records.head()"
   ]
  },
  {
   "cell_type": "code",
   "execution_count": 149,
   "metadata": {
    "scrolled": false
   },
   "outputs": [
    {
     "name": "stderr",
     "output_type": "stream",
     "text": [
      "/Users/untitled/anaconda3/lib/python3.6/site-packages/ipykernel_launcher.py:17: FutureWarning: set_value is deprecated and will be removed in a future release. Please use .at[] or .iat[] accessors instead\n",
      "/Users/untitled/anaconda3/lib/python3.6/site-packages/ipykernel_launcher.py:18: FutureWarning: set_value is deprecated and will be removed in a future release. Please use .at[] or .iat[] accessors instead\n",
      "/Users/untitled/anaconda3/lib/python3.6/site-packages/ipykernel_launcher.py:19: FutureWarning: set_value is deprecated and will be removed in a future release. Please use .at[] or .iat[] accessors instead\n",
      "/Users/untitled/anaconda3/lib/python3.6/site-packages/ipykernel_launcher.py:20: FutureWarning: set_value is deprecated and will be removed in a future release. Please use .at[] or .iat[] accessors instead\n",
      "/Users/untitled/anaconda3/lib/python3.6/site-packages/ipykernel_launcher.py:21: FutureWarning: set_value is deprecated and will be removed in a future release. Please use .at[] or .iat[] accessors instead\n",
      "/Users/untitled/anaconda3/lib/python3.6/site-packages/ipykernel_launcher.py:22: FutureWarning: set_value is deprecated and will be removed in a future release. Please use .at[] or .iat[] accessors instead\n",
      "/Users/untitled/anaconda3/lib/python3.6/site-packages/ipykernel_launcher.py:23: FutureWarning: set_value is deprecated and will be removed in a future release. Please use .at[] or .iat[] accessors instead\n",
      "/Users/untitled/anaconda3/lib/python3.6/site-packages/ipykernel_launcher.py:24: FutureWarning: set_value is deprecated and will be removed in a future release. Please use .at[] or .iat[] accessors instead\n",
      "/Users/untitled/anaconda3/lib/python3.6/site-packages/ipykernel_launcher.py:25: FutureWarning: set_value is deprecated and will be removed in a future release. Please use .at[] or .iat[] accessors instead\n",
      "/Users/untitled/anaconda3/lib/python3.6/site-packages/ipykernel_launcher.py:26: FutureWarning: set_value is deprecated and will be removed in a future release. Please use .at[] or .iat[] accessors instead\n",
      "/Users/untitled/anaconda3/lib/python3.6/site-packages/ipykernel_launcher.py:27: FutureWarning: set_value is deprecated and will be removed in a future release. Please use .at[] or .iat[] accessors instead\n",
      "/Users/untitled/anaconda3/lib/python3.6/site-packages/ipykernel_launcher.py:28: FutureWarning: set_value is deprecated and will be removed in a future release. Please use .at[] or .iat[] accessors instead\n",
      "/Users/untitled/anaconda3/lib/python3.6/site-packages/ipykernel_launcher.py:29: FutureWarning: set_value is deprecated and will be removed in a future release. Please use .at[] or .iat[] accessors instead\n",
      "/Users/untitled/anaconda3/lib/python3.6/site-packages/ipykernel_launcher.py:30: FutureWarning: set_value is deprecated and will be removed in a future release. Please use .at[] or .iat[] accessors instead\n",
      "/Users/untitled/anaconda3/lib/python3.6/site-packages/ipykernel_launcher.py:31: FutureWarning: set_value is deprecated and will be removed in a future release. Please use .at[] or .iat[] accessors instead\n",
      "/Users/untitled/anaconda3/lib/python3.6/site-packages/ipykernel_launcher.py:32: FutureWarning: set_value is deprecated and will be removed in a future release. Please use .at[] or .iat[] accessors instead\n",
      "/Users/untitled/anaconda3/lib/python3.6/site-packages/ipykernel_launcher.py:33: FutureWarning: set_value is deprecated and will be removed in a future release. Please use .at[] or .iat[] accessors instead\n",
      "/Users/untitled/anaconda3/lib/python3.6/site-packages/ipykernel_launcher.py:34: FutureWarning: set_value is deprecated and will be removed in a future release. Please use .at[] or .iat[] accessors instead\n",
      "/Users/untitled/anaconda3/lib/python3.6/site-packages/ipykernel_launcher.py:35: FutureWarning: set_value is deprecated and will be removed in a future release. Please use .at[] or .iat[] accessors instead\n",
      "/Users/untitled/anaconda3/lib/python3.6/site-packages/ipykernel_launcher.py:36: FutureWarning: set_value is deprecated and will be removed in a future release. Please use .at[] or .iat[] accessors instead\n",
      "/Users/untitled/anaconda3/lib/python3.6/site-packages/ipykernel_launcher.py:37: FutureWarning: set_value is deprecated and will be removed in a future release. Please use .at[] or .iat[] accessors instead\n",
      "/Users/untitled/anaconda3/lib/python3.6/site-packages/ipykernel_launcher.py:38: FutureWarning: set_value is deprecated and will be removed in a future release. Please use .at[] or .iat[] accessors instead\n",
      "/Users/untitled/anaconda3/lib/python3.6/site-packages/ipykernel_launcher.py:39: FutureWarning: set_value is deprecated and will be removed in a future release. Please use .at[] or .iat[] accessors instead\n",
      "/Users/untitled/anaconda3/lib/python3.6/site-packages/ipykernel_launcher.py:40: FutureWarning: set_value is deprecated and will be removed in a future release. Please use .at[] or .iat[] accessors instead\n",
      "/Users/untitled/anaconda3/lib/python3.6/site-packages/ipykernel_launcher.py:41: FutureWarning: set_value is deprecated and will be removed in a future release. Please use .at[] or .iat[] accessors instead\n",
      "/Users/untitled/anaconda3/lib/python3.6/site-packages/ipykernel_launcher.py:42: FutureWarning: set_value is deprecated and will be removed in a future release. Please use .at[] or .iat[] accessors instead\n",
      "/Users/untitled/anaconda3/lib/python3.6/site-packages/ipykernel_launcher.py:43: FutureWarning: set_value is deprecated and will be removed in a future release. Please use .at[] or .iat[] accessors instead\n",
      "/Users/untitled/anaconda3/lib/python3.6/site-packages/ipykernel_launcher.py:44: FutureWarning: set_value is deprecated and will be removed in a future release. Please use .at[] or .iat[] accessors instead\n",
      "/Users/untitled/anaconda3/lib/python3.6/site-packages/ipykernel_launcher.py:45: FutureWarning: set_value is deprecated and will be removed in a future release. Please use .at[] or .iat[] accessors instead\n",
      "/Users/untitled/anaconda3/lib/python3.6/site-packages/ipykernel_launcher.py:46: FutureWarning: set_value is deprecated and will be removed in a future release. Please use .at[] or .iat[] accessors instead\n",
      "/Users/untitled/anaconda3/lib/python3.6/site-packages/ipykernel_launcher.py:47: FutureWarning: set_value is deprecated and will be removed in a future release. Please use .at[] or .iat[] accessors instead\n",
      "/Users/untitled/anaconda3/lib/python3.6/site-packages/ipykernel_launcher.py:48: FutureWarning: set_value is deprecated and will be removed in a future release. Please use .at[] or .iat[] accessors instead\n",
      "/Users/untitled/anaconda3/lib/python3.6/site-packages/ipykernel_launcher.py:49: FutureWarning: set_value is deprecated and will be removed in a future release. Please use .at[] or .iat[] accessors instead\n",
      "/Users/untitled/anaconda3/lib/python3.6/site-packages/ipykernel_launcher.py:50: FutureWarning: set_value is deprecated and will be removed in a future release. Please use .at[] or .iat[] accessors instead\n",
      "/Users/untitled/anaconda3/lib/python3.6/site-packages/ipykernel_launcher.py:51: FutureWarning: set_value is deprecated and will be removed in a future release. Please use .at[] or .iat[] accessors instead\n",
      "/Users/untitled/anaconda3/lib/python3.6/site-packages/ipykernel_launcher.py:52: FutureWarning: set_value is deprecated and will be removed in a future release. Please use .at[] or .iat[] accessors instead\n",
      "/Users/untitled/anaconda3/lib/python3.6/site-packages/ipykernel_launcher.py:53: FutureWarning: set_value is deprecated and will be removed in a future release. Please use .at[] or .iat[] accessors instead\n",
      "/Users/untitled/anaconda3/lib/python3.6/site-packages/ipykernel_launcher.py:54: FutureWarning: set_value is deprecated and will be removed in a future release. Please use .at[] or .iat[] accessors instead\n",
      "/Users/untitled/anaconda3/lib/python3.6/site-packages/ipykernel_launcher.py:55: FutureWarning: set_value is deprecated and will be removed in a future release. Please use .at[] or .iat[] accessors instead\n",
      "/Users/untitled/anaconda3/lib/python3.6/site-packages/ipykernel_launcher.py:56: FutureWarning: set_value is deprecated and will be removed in a future release. Please use .at[] or .iat[] accessors instead\n",
      "/Users/untitled/anaconda3/lib/python3.6/site-packages/ipykernel_launcher.py:57: FutureWarning: set_value is deprecated and will be removed in a future release. Please use .at[] or .iat[] accessors instead\n",
      "/Users/untitled/anaconda3/lib/python3.6/site-packages/ipykernel_launcher.py:58: FutureWarning: set_value is deprecated and will be removed in a future release. Please use .at[] or .iat[] accessors instead\n",
      "/Users/untitled/anaconda3/lib/python3.6/site-packages/ipykernel_launcher.py:59: FutureWarning: set_value is deprecated and will be removed in a future release. Please use .at[] or .iat[] accessors instead\n",
      "/Users/untitled/anaconda3/lib/python3.6/site-packages/ipykernel_launcher.py:60: FutureWarning: set_value is deprecated and will be removed in a future release. Please use .at[] or .iat[] accessors instead\n",
      "/Users/untitled/anaconda3/lib/python3.6/site-packages/ipykernel_launcher.py:61: FutureWarning: set_value is deprecated and will be removed in a future release. Please use .at[] or .iat[] accessors instead\n",
      "/Users/untitled/anaconda3/lib/python3.6/site-packages/ipykernel_launcher.py:62: FutureWarning: set_value is deprecated and will be removed in a future release. Please use .at[] or .iat[] accessors instead\n"
     ]
    }
   ],
   "source": [
    "total_missing = 0\n",
    "accounted_for = 0\n",
    "for i, r in missing.iterrows():\n",
    "    if str(r['simplelogin']) == 'nan' and str(r['simplelogin']) != '':\n",
    "        total_missing += 1\n",
    "        NUMBER = ''.join(filter(lambda x: x.isdigit(), r['Sample Number']))[0:4].lstrip('0')\n",
    "        if NUMBER in new_col:\n",
    "            nrow = dem.loc[dem['newkit'] == NUMBER].head(1)\n",
    "            accounted_for +=1\n",
    "        elif NUMBER in record_kits:\n",
    "            email = records.loc[records['Kit Number 1'] == NUMBER].head(1)['email'].iloc[0]\n",
    "            nrow = dem.loc[dem['email'] == email].head(1)\n",
    "            if nrow.empty:\n",
    "                continue\n",
    "        else:\n",
    "            continue\n",
    "        missing.set_value(i, 'simplelogin', nrow['simplelogin'].iloc[0])\n",
    "        missing.set_value(i, 'email', nrow['email'].iloc[0])\n",
    "        missing.set_value(i, 'first name', nrow['first name'].iloc[0])\n",
    "        missing.set_value(i, 'last name', nrow['last name'].iloc[0])\n",
    "        missing.set_value(i, 'twitter', nrow['twitter'].iloc[0])\n",
    "        missing.set_value(i, 'street address 1', nrow['street address 1'].iloc[0])\n",
    "        missing.set_value(i, 'street address 2', nrow['street address 2'].iloc[0])\n",
    "        missing.set_value(i, 'city', nrow['city'].iloc[0])\n",
    "        missing.set_value(i, 'state', nrow['state'].iloc[0])\n",
    "        missing.set_value(i, 'zip code', nrow['zip code'].iloc[0])\n",
    "        missing.set_value(i, 'birthdate', nrow['birthdate'].iloc[0])\n",
    "        missing.set_value(i, 'sex', nrow['sex'].iloc[0])\n",
    "        missing.set_value(i, 'race', nrow['race'].iloc[0])\n",
    "        missing.set_value(i, 'signup date', nrow['signup date'].iloc[0])\n",
    "        missing.set_value(i, 'collect mouthwash', nrow['collect mouthwash'].iloc[0])\n",
    "        missing.set_value(i, 'collect fecal', nrow['collect fecal'].iloc[0])\n",
    "        missing.set_value(i, 'enroll school', nrow['enroll school'].iloc[0])\n",
    "        missing.set_value(i, 'enroll workplace', nrow['enroll workplace'].iloc[0])\n",
    "        missing.set_value(i, 'household participants', nrow['household participants'].iloc[0])\n",
    "        missing.set_value(i, 'open humans', nrow['open humans'].iloc[0])\n",
    "        missing.set_value(i, 'open humans username', nrow['open humans username'].iloc[0])\n",
    "        missing.set_value(i, 'report date', nrow['report date'].iloc[0])\n",
    "        missing.set_value(i, 'sampled person', nrow['sampled person'].iloc[0])\n",
    "        missing.set_value(i, 'sampled relationship', nrow['sampled relationship'].iloc[0])\n",
    "        missing.set_value(i, 'report birthdate', nrow['report birthdate'].iloc[0])\n",
    "        missing.set_value(i, 'report race', nrow['report race'].iloc[0])\n",
    "        missing.set_value(i, 'report sex', nrow['report sex'].iloc[0])\n",
    "        missing.set_value(i, 'report zip code', nrow['report zip code'].iloc[0])\n",
    "        missing.set_value(i, 'fever temperature', nrow['FeverTemp'])\n",
    "        missing.set_value(i, 'current vaccine', nrow['currentvac'].iloc[0])\n",
    "        missing.set_value(i, 'past vaccine', nrow['pastvac'].iloc[0])\n",
    "        missing.set_value(i, 'seek doctor', nrow['doc'].iloc[0])\n",
    "        missing.set_value(i, 'illness cause', nrow['illness cause'].iloc[0])\n",
    "        missing.set_value(i, 'sick contacts', nrow['sick contacts'].iloc[0])\n",
    "        missing.set_value(i, 'symptom body aches', nrow['Aches'].iloc[0])\n",
    "        missing.set_value(i, 'symptom chills', nrow['Chills'].iloc[0])\n",
    "        missing.set_value(i, 'symptom cough', nrow['Cough'].iloc[0])\n",
    "        missing.set_value(i, 'symptom diarrhea', nrow['Diarrhea'].iloc[0])\n",
    "        missing.set_value(i, 'symptom fatigue', nrow['Fatigue'].iloc[0])\n",
    "        missing.set_value(i, 'symptom fever', nrow['Fever'].iloc[0])\n",
    "        missing.set_value(i, 'symptom leg pain', nrow['Leg'].iloc[0])\n",
    "        missing.set_value(i, 'symptom nausea', nrow['Nausea'].iloc[0])\n",
    "        missing.set_value(i, 'symptom runny nose', nrow['rNose'].iloc[0])\n",
    "        missing.set_value(i, 'symptom short of breath', nrow['soBreath'].iloc[0])\n",
    "        missing.set_value(i, 'symptom sore throat', nrow['SoreThroat'].iloc[0])\n",
    "        missing.set_value(i, 'symptom vomiting', nrow['Vomiting'].iloc[0])"
   ]
  },
  {
   "cell_type": "code",
   "execution_count": 150,
   "metadata": {},
   "outputs": [
    {
     "data": {
      "text/plain": [
       "35"
      ]
     },
     "execution_count": 150,
     "metadata": {},
     "output_type": "execute_result"
    }
   ],
   "source": [
    "accounted_for"
   ]
  },
  {
   "cell_type": "code",
   "execution_count": 151,
   "metadata": {},
   "outputs": [
    {
     "data": {
      "text/plain": [
       "66"
      ]
     },
     "execution_count": 151,
     "metadata": {},
     "output_type": "execute_result"
    }
   ],
   "source": [
    "total_missing"
   ]
  },
  {
   "cell_type": "code",
   "execution_count": 152,
   "metadata": {},
   "outputs": [
    {
     "data": {
      "text/plain": [
       "101"
      ]
     },
     "execution_count": 152,
     "metadata": {},
     "output_type": "execute_result"
    }
   ],
   "source": [
    "len(missing)"
   ]
  },
  {
   "cell_type": "code",
   "execution_count": 155,
   "metadata": {
    "collapsed": true
   },
   "outputs": [],
   "source": [
    "missing.to_csv('missingData_linked_information_max.csv')"
   ]
  },
  {
   "cell_type": "code",
   "execution_count": null,
   "metadata": {},
   "outputs": [],
   "source": []
  },
  {
   "cell_type": "code",
   "execution_count": 154,
   "metadata": {
    "collapsed": true
   },
   "outputs": [],
   "source": [
    "# study_data.drop_duplicates()"
   ]
  },
  {
   "cell_type": "code",
   "execution_count": null,
   "metadata": {
    "collapsed": true
   },
   "outputs": [],
   "source": []
  }
 ],
 "metadata": {
  "kernelspec": {
   "display_name": "Python 3",
   "language": "python",
   "name": "python3"
  },
  "language_info": {
   "codemirror_mode": {
    "name": "ipython",
    "version": 3
   },
   "file_extension": ".py",
   "mimetype": "text/x-python",
   "name": "python",
   "nbconvert_exporter": "python",
   "pygments_lexer": "ipython3",
   "version": "3.6.3"
  }
 },
 "nbformat": 4,
 "nbformat_minor": 2
}
