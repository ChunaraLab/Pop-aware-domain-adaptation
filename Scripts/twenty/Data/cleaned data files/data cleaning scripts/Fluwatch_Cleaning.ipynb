{
 "cells": [
  {
   "cell_type": "markdown",
   "metadata": {},
   "source": [
    "# FluWatch\n",
    "## Data Dictionary\n",
    "\n",
    " All swabs were tested for the following viruses:\n",
    " \n",
    "     1. Influenza A(H1N1)pdm09 (H1p)\n",
    "     2. Influenza A(H1N1) sesaon (H1s)\n",
    "     3. Influenza A(H3N2) (H3)\n",
    "     4. Influenza B (FluB)\n",
    "     5.  RSV (RSV) \n",
    "     6. Human metapneumovirus (hMPV)\n",
    "     \n",
    "All swabs in seasons 1-4 and some swabs in seasons 5-6 were tested \n",
    "         for the following viruses: \n",
    "         \n",
    "        1.  Coronavirus (CoV)\n",
    "        2.  parainfluenza virus (PIV)\n",
    "        3.  Adenovirus (AdV)\n",
    "        4.  human rhinovirus (hRhV)\n",
    "\n",
    "|Virus     | Name in dataset\n",
    "|------|------|\n",
    "|Influenza A(H1N1)pdm09 (H1p) | myPCRinc_IND~1p \n",
    "|Influenza A(H1N1) sesaon (H1s) | myPCRinc_IND~1s\n",
    "|Influenza A(H3N2) (H3) |myPCRinc_IND_H3\n",
    "|Influenza B (FluB)| myPCRinc_IND_FluB\n",
    "|RSV (RSV)|myPCRinc_IND_RSV\n",
    "|Human metapneumovirus (hMPV)|myPCRinc_IND~PV\n",
    "|Coronavirus (CoV)|myPCRinc_IND~oV\n",
    "|parainfluenza virus (PIV)|myPCRinc_IND~IV\n",
    "|Adenovirus|myPCRinc_IND_AdV|\n",
    "|Rhinovirus (HRV)|myPCRinc_IND_hRhV|\n",
    "\n",
    "|myPCRinc_N|Total number of swabs\n",
    "\n",
    "|Symptoms | Description\n",
    "|------|------|\n",
    "|fever | Fever today? | \n",
    "|feverish|Feeling Feverish today? All years except U5 Y1-3; (4 cat)\n",
    "|anycough | Dry and/or productive cough today?combined var, All years, all ages (4 cat)\n",
    "|sorethroat| Sore throat today? All years, all ages (4 cat)\n",
    "|runnynose | Runny nose today? All years, all ages (4 cat)\n",
    "|blockednose| Blocked nose today?  all years, all ages (4 cat)\n",
    "|sneeze | Sneezing today? (4 cat)\n",
    "|diarrhoea | Diarrhoea today? All years, all ages (4 cat)\n",
    "| muscle | Muscle Aches today? (4 cat)\n",
    "|headache |Headache today? (4 cat)\n",
    "|rash |Rash today? (4 cat)\n",
    "|earache |Earache today? (4 cat)\n",
    "|wheezy |Wheezy today?\n",
    "|ns | Night Sweats today? (4 cat)\n",
    "|ja | Joint Aches today? (4 cat)\n",
    "|la | Loss of Appetite today? (4 cat)\n",
    "|ft  | Feeling tired today? (4 cat)\n",
    "|vo   |Vomiting today? (4 cat)\n",
    "|na  | Nausea today? (4 cat)\n",
    "\n",
    "\n",
    "season6_map:\n",
    "\n",
    "           1. [1] Winter 06/07\n",
    "           2. [2] Winter 07/08\n",
    "           3. [3] Winter 08/09\n",
    "           4 [4] Summer 09\n",
    "           5 [5] Winter 09/10\n",
    "           6 [6] Winter 10/11\n",
    "mode:\n",
    "\n",
    "           0 [0] fill\n",
    "           1 [1] Online - AMT\n",
    "           2 [2] Online - SM\n",
    "           3 [3] Paper\n",
    "           4 [4] Phone\n",
    "           5 [5] PCR only\n",
    "           6 [6] Reg only\n",
    "fever_map:\n",
    "\n",
    "           0 Afebrile (<37.8 Y4; <38 Y1-3)\n",
    "           1 Mildly Febrile (37.8-38.9 Y4; 38 Y1-3)\n",
    "           2 Moderately Febrile (39.0-39.9 Y4; 39 Y1-3)\n",
    "           3 Very Febrile (>=40 Y1-4)\n",
    "          .a Not taken\n",
    "          .n Not asked/answered\n",
    "symptom:\n",
    "\n",
    "           0 None\n",
    "           1 Mild\n",
    "           2 Moderate\n",
    "           3 Severe\n",
    "          .n Not asked\n",
    "myPCRinc_viruses_map:\n",
    "\n",
    "           0 [0] Only subset of viruses tested\n",
    "           1 [1] All viruses tested\n",
    "          99 Don't know if fully tested [99]\n",
    "swabresult_map:\n",
    "\n",
    "           0 Neg [0]\n",
    "           1 Pos [1]\n",
    "           9 Virus not tested [9]\n",
    "          99 Don't know if tested for this virus [99]"
   ]
  },
  {
   "cell_type": "code",
   "execution_count": 1,
   "metadata": {
    "collapsed": true
   },
   "outputs": [],
   "source": [
    "import pandas as pd\n",
    "import numpy as np\n",
    "from datetime import datetime as dt\n",
    "from dateutil.parser import parse"
   ]
  },
  {
   "cell_type": "code",
   "execution_count": 2,
   "metadata": {
    "collapsed": true
   },
   "outputs": [],
   "source": [
    "base_path = '../data/original_per_study/'\n",
    "save_path = '../data/current/'"
   ]
  },
  {
   "cell_type": "code",
   "execution_count": 3,
   "metadata": {},
   "outputs": [
    {
     "name": "stdout",
     "output_type": "stream",
     "text": [
      "31623\n",
      "118077\n"
     ]
    }
   ],
   "source": [
    "fw_df = pd.read_csv(base_path + 'fluwatch/rumi-daily_data.csv')\n",
    "fw_df_profile = pd.read_csv(base_path + 'fluwatch/rumi-burden_data.csv')\n",
    "print(len(fw_df))\n",
    "print(len(fw_df_profile))"
   ]
  },
  {
   "cell_type": "code",
   "execution_count": 4,
   "metadata": {},
   "outputs": [
    {
     "data": {
      "text/plain": [
       "0    NaN\n",
       "1    NaN\n",
       "2    1.0\n",
       "3    NaN\n",
       "4    NaN\n",
       "Name: myPCRinc_viruses, dtype: float64"
      ]
     },
     "execution_count": 4,
     "metadata": {},
     "output_type": "execute_result"
    }
   ],
   "source": [
    "\"\"\"\n",
    "    This field denotes if all the viruses were tested or not\n",
    "\"\"\"\n",
    "fw_df['myPCRinc_viruses'].head()"
   ]
  },
  {
   "cell_type": "code",
   "execution_count": 5,
   "metadata": {},
   "outputs": [
    {
     "data": {
      "text/plain": [
       "0.0     1526\n",
       "1.0     1227\n",
       "99.0       6\n",
       "Name: myPCRinc_viruses, dtype: int64"
      ]
     },
     "execution_count": 5,
     "metadata": {},
     "output_type": "execute_result"
    }
   ],
   "source": [
    "fw_df['myPCRinc_viruses'].value_counts()"
   ]
  },
  {
   "cell_type": "code",
   "execution_count": 6,
   "metadata": {},
   "outputs": [
    {
     "name": "stdout",
     "output_type": "stream",
     "text": [
      "1227\n"
     ]
    },
    {
     "name": "stderr",
     "output_type": "stream",
     "text": [
      "/Users/dishaumarwani/anaconda/lib/python3.6/site-packages/ipykernel/__main__.py:6: SettingWithCopyWarning: \n",
      "A value is trying to be set on a copy of a slice from a DataFrame\n",
      "\n",
      "See the caveats in the documentation: http://pandas.pydata.org/pandas-docs/stable/indexing.html#indexing-view-versus-copy\n"
     ]
    }
   ],
   "source": [
    "\"\"\"\n",
    "    'myPCRinc_viruses' select rows where it is 1\n",
    "\"\"\"\n",
    "fw_df_all_tested = fw_df[fw_df['myPCRinc_viruses'] == 1.0]\n",
    "print(sum(fw_df['myPCRinc_viruses'] == 1.0))\n",
    "fw_df_all_tested.drop('myPCRinc_viruses', axis=1, inplace=True)"
   ]
  },
  {
   "cell_type": "code",
   "execution_count": 7,
   "metadata": {
    "collapsed": true
   },
   "outputs": [],
   "source": [
    "x = fw_df_all_tested[fw_df_all_tested[['fever',\n",
    "       'feverish', 'anycough', 'sorethroat', 'runnynose', 'blockednose',\n",
    "       'sneeze', 'diarrhoea', 'muscle', 'headache', 'rash', 'earache',\n",
    "       'wheezy']].isnull().all(axis=1)]\n",
    "in_x = x.index\n",
    "in_sy = fw_df_all_tested.index\n",
    "y = in_sy.difference(in_x)\n",
    "fw_df_all_tested= fw_df_all_tested.loc[y]"
   ]
  },
  {
   "cell_type": "code",
   "execution_count": 8,
   "metadata": {},
   "outputs": [
    {
     "data": {
      "text/plain": [
       "915"
      ]
     },
     "execution_count": 8,
     "metadata": {},
     "output_type": "execute_result"
    }
   ],
   "source": [
    "len(fw_df_all_tested)"
   ]
  },
  {
   "cell_type": "markdown",
   "metadata": {},
   "source": [
    "### Extracting Gender and age information"
   ]
  },
  {
   "cell_type": "code",
   "execution_count": 9,
   "metadata": {
    "collapsed": true
   },
   "outputs": [],
   "source": [
    "fw_profile = fw_df_profile[['p_id', 'sex', 'agegp6']]\n",
    "fw_profile_dis = fw_profile.drop_duplicates(['p_id'])"
   ]
  },
  {
   "cell_type": "code",
   "execution_count": 10,
   "metadata": {},
   "outputs": [
    {
     "data": {
      "text/plain": [
       "5484"
      ]
     },
     "execution_count": 10,
     "metadata": {},
     "output_type": "execute_result"
    }
   ],
   "source": [
    "len(fw_profile_dis)"
   ]
  },
  {
   "cell_type": "code",
   "execution_count": 11,
   "metadata": {
    "collapsed": true
   },
   "outputs": [],
   "source": [
    "fw_df = fw_df_all_tested.merge(fw_profile_dis,on=['p_id'], how='left')"
   ]
  },
  {
   "cell_type": "code",
   "execution_count": 12,
   "metadata": {},
   "outputs": [
    {
     "data": {
      "text/plain": [
       "915"
      ]
     },
     "execution_count": 12,
     "metadata": {},
     "output_type": "execute_result"
    }
   ],
   "source": [
    "len(fw_df)"
   ]
  },
  {
   "cell_type": "markdown",
   "metadata": {},
   "source": [
    "#### Cleaning age"
   ]
  },
  {
   "cell_type": "code",
   "execution_count": 13,
   "metadata": {
    "collapsed": true
   },
   "outputs": [],
   "source": [
    "\"\"\"\n",
    "           1 Age 0 to 4\n",
    "           2 Age 5 to 15\n",
    "           3 Age 16 to 44\n",
    "           4 Age 45 to 64\n",
    "           5 Age 65 to 74\n",
    "           6 75+\n",
    "\n",
    "\"\"\"   \n",
    "\n",
    "def age_clean(df=None, col=None):\n",
    "    \"\"\"\n",
    "    For splitting age into 5 ranges\n",
    "    \n",
    "    Takes a dataframe and a column with the age in it as arguments\n",
    "    \"\"\"\n",
    "    for index, row in df.iterrows():\n",
    "        if row[col] == 1.0:\n",
    "            df.set_value(index, 'age 0-4', 1.0)\n",
    "        if row[col] == 2.0:\n",
    "            df.set_value(index, 'age 5-15', 1.0)\n",
    "        if row[col] == 3.0:\n",
    "            df.set_value(index, 'age 16-44', 1.0)\n",
    "        if row[col] == 4.0:\n",
    "            df.set_value(index, 'age 45-64', 1.0)\n",
    "        if row[col] == 5.0:\n",
    "            df.set_value(index, 'age 65+', 1.0)\n",
    "        if row[col] == 6.0:\n",
    "            df.set_value(index, 'age 65+', 1.0)\n",
    "    df.drop(col, axis=1, inplace=True)\n",
    "    return df"
   ]
  },
  {
   "cell_type": "code",
   "execution_count": 14,
   "metadata": {
    "collapsed": true
   },
   "outputs": [],
   "source": [
    "fw_df = age_clean(df=fw_df, col='agegp6')"
   ]
  },
  {
   "cell_type": "markdown",
   "metadata": {},
   "source": [
    "#### cleaning date"
   ]
  },
  {
   "cell_type": "code",
   "execution_count": 15,
   "metadata": {
    "collapsed": true
   },
   "outputs": [],
   "source": [
    "#parsing the date\n",
    "fw_df['date'] = pd.to_datetime(fw_df.date, format='%d%b%Y')"
   ]
  },
  {
   "cell_type": "code",
   "execution_count": 16,
   "metadata": {
    "collapsed": true
   },
   "outputs": [],
   "source": [
    "#new dataframe for date\n",
    "fw_date = pd.DataFrame(fw_df['date'])\n",
    "#new column for month\n",
    "fw_date['Month_num'] = fw_date['date'].dt.month\n",
    "#new column to convert numerical to string Month\n",
    "fw_date['Month'] = fw_date['Month_num'].map({ 1: 'January', 2:'Febuary', 3:'March', 4:'April',5:'May',\\\n",
    "                                       6:'June', 7:'July', 8:'August',9:'September',\\\n",
    "                            10:'October', 11:'November', 12:'December'})"
   ]
  },
  {
   "cell_type": "markdown",
   "metadata": {},
   "source": [
    "#### Cleaning Fever"
   ]
  },
  {
   "cell_type": "code",
   "execution_count": 17,
   "metadata": {},
   "outputs": [
    {
     "data": {
      "text/plain": [
       "0.0    559\n",
       "1.0    190\n",
       "2.0     81\n",
       "3.0      9\n",
       "Name: feverish, dtype: int64"
      ]
     },
     "execution_count": 17,
     "metadata": {},
     "output_type": "execute_result"
    }
   ],
   "source": [
    "fw_df.feverish.value_counts()"
   ]
  },
  {
   "cell_type": "code",
   "execution_count": 18,
   "metadata": {
    "collapsed": true
   },
   "outputs": [],
   "source": [
    "\"\"\"\n",
    "    Temprature greater than 37.5 is considered as fever\n",
    "\"\"\"\n",
    "fw_df.feverish.replace({0.0:0, 1.0:1, 2.0:1, 3.0:1}, inplace=True)"
   ]
  },
  {
   "cell_type": "code",
   "execution_count": 19,
   "metadata": {},
   "outputs": [
    {
     "data": {
      "text/plain": [
       "0.0    559\n",
       "1.0    280\n",
       "Name: feverish, dtype: int64"
      ]
     },
     "execution_count": 19,
     "metadata": {},
     "output_type": "execute_result"
    }
   ],
   "source": [
    "fw_df.feverish.value_counts()"
   ]
  },
  {
   "cell_type": "code",
   "execution_count": 20,
   "metadata": {},
   "outputs": [
    {
     "data": {
      "text/plain": [
       "0     732\n",
       ".a     67\n",
       "1      61\n",
       "2      10\n",
       "3       2\n",
       "Name: fever, dtype: int64"
      ]
     },
     "execution_count": 20,
     "metadata": {},
     "output_type": "execute_result"
    }
   ],
   "source": [
    "fw_df.fever.value_counts()"
   ]
  },
  {
   "cell_type": "code",
   "execution_count": 21,
   "metadata": {
    "collapsed": true
   },
   "outputs": [],
   "source": [
    "fw_df['fever']=fw_df.fever.map({'0':0, '1':1, '2':1, '3':1, '.a' :'.a'})"
   ]
  },
  {
   "cell_type": "code",
   "execution_count": 22,
   "metadata": {},
   "outputs": [
    {
     "data": {
      "text/plain": [
       "0     732\n",
       "1      73\n",
       ".a     67\n",
       "Name: fever, dtype: int64"
      ]
     },
     "execution_count": 22,
     "metadata": {},
     "output_type": "execute_result"
    }
   ],
   "source": [
    "fw_df.fever.value_counts()"
   ]
  },
  {
   "cell_type": "code",
   "execution_count": 23,
   "metadata": {},
   "outputs": [
    {
     "name": "stderr",
     "output_type": "stream",
     "text": [
      "/Users/dishaumarwani/anaconda/lib/python3.6/site-packages/ipykernel/__main__.py:1: SettingWithCopyWarning: \n",
      "A value is trying to be set on a copy of a slice from a DataFrame.\n",
      "Try using .loc[row_indexer,col_indexer] = value instead\n",
      "\n",
      "See the caveats in the documentation: http://pandas.pydata.org/pandas-docs/stable/indexing.html#indexing-view-versus-copy\n",
      "  if __name__ == '__main__':\n"
     ]
    }
   ],
   "source": [
    "fw_df[fw_df['fever'].isnull()]['feverish'] = fw_df[fw_df['feverish'].isnull()]['fever']"
   ]
  },
  {
   "cell_type": "code",
   "execution_count": 24,
   "metadata": {},
   "outputs": [
    {
     "data": {
      "text/plain": [
       "0.0    559\n",
       "1.0    280\n",
       "Name: feverish, dtype: int64"
      ]
     },
     "execution_count": 24,
     "metadata": {},
     "output_type": "execute_result"
    }
   ],
   "source": [
    "fw_df['feverish'].value_counts()"
   ]
  },
  {
   "cell_type": "markdown",
   "metadata": {},
   "source": [
    "#### Cleaning Gender"
   ]
  },
  {
   "cell_type": "code",
   "execution_count": 25,
   "metadata": {},
   "outputs": [
    {
     "data": {
      "text/plain": [
       "0.0    509\n",
       "1.0    404\n",
       "Name: sex, dtype: int64"
      ]
     },
     "execution_count": 25,
     "metadata": {},
     "output_type": "execute_result"
    }
   ],
   "source": [
    "fw_df.sex.value_counts()"
   ]
  },
  {
   "cell_type": "code",
   "execution_count": 26,
   "metadata": {
    "collapsed": true
   },
   "outputs": [],
   "source": [
    "fw_df['male'] = fw_df['sex']\n",
    "fw_df['female'] = fw_df['sex']"
   ]
  },
  {
   "cell_type": "code",
   "execution_count": 27,
   "metadata": {
    "collapsed": true
   },
   "outputs": [],
   "source": [
    "fw_df['female'].replace({1: 'male', 0: 'female'}, inplace=True)\n",
    "fw_df['female'].replace({'male':0,'female':1}, inplace=True)"
   ]
  },
  {
   "cell_type": "code",
   "execution_count": 28,
   "metadata": {
    "collapsed": true
   },
   "outputs": [],
   "source": [
    "fw_df['sex'] = fw_df['sex'].replace({1: 'male', 0: 'female'})"
   ]
  },
  {
   "cell_type": "code",
   "execution_count": 29,
   "metadata": {},
   "outputs": [
    {
     "data": {
      "text/plain": [
       "Index(['p_id', 'date', 'season6', 'illnessid', 'start_dt', 'end_dt',\n",
       "       'duration', 'dayofillness', 'mode', 'onlinesurveydate', 'fever',\n",
       "       'feverish', 'anycough', 'sorethroat', 'runnynose', 'blockednose',\n",
       "       'sneeze', 'diarrhoea', 'muscle', 'headache', 'rash', 'earache',\n",
       "       'wheezy', 'ns', 'ja', 'la', 'ft', 'vo', 'na', 'weekstart', 'lonePCR',\n",
       "       'myPCRinc_n', 'myPCRinc_N', 'myPCRinc_NumPos', 'myPCRinc_IND_H1p',\n",
       "       'myPCRinc_IND_H1s', 'myPCRinc_IND_H3', 'myPCRinc_IND_FluB',\n",
       "       'myPCRinc_IND_RSV', 'myPCRinc_IND_hMPV', 'myPCRinc_IND_CoV',\n",
       "       'myPCRinc_IND_PIV', 'myPCRinc_IND_AdV', 'myPCRinc_IND_hRhV',\n",
       "       'PCRoutsideILLNESS', 'sex', 'age 0-4', 'age 45-64', 'age 16-44',\n",
       "       'age 5-15', 'age 65+', 'male', 'female'],\n",
       "      dtype='object')"
      ]
     },
     "execution_count": 29,
     "metadata": {},
     "output_type": "execute_result"
    }
   ],
   "source": [
    "fw_df.columns"
   ]
  },
  {
   "cell_type": "markdown",
   "metadata": {},
   "source": [
    "#### Renaming Columns"
   ]
  },
  {
   "cell_type": "code",
   "execution_count": 30,
   "metadata": {
    "collapsed": true
   },
   "outputs": [],
   "source": [
    "fw_df.rename(index=str, columns={'diarrhoea': 'diarrhea', 'anycough':'cough','ns':'nightsweat',\\\n",
    "                                         'ja':'joint aches', 'la': 'loss of appetite',\\\n",
    "                                         'ft':'feeling tired', 'vo':'vomit', 'na':'nausea'}, inplace =True)"
   ]
  },
  {
   "cell_type": "code",
   "execution_count": 31,
   "metadata": {
    "collapsed": true
   },
   "outputs": [],
   "source": [
    "fw_df.rename(index=str, columns= {'myPCRinc_IND_H1p':'Influenza A(H1N1)', 'myPCRinc_IND_H1s':'Influenza A(H1N1)',\n",
    "       'myPCRinc_IND_H3':'Influenza A(H3N2)', 'myPCRinc_IND_FluB':'Influenza B (FluB)',\\\n",
    "                                  'myPCRinc_IND_RSV':'RSV',\\\n",
    "       'myPCRinc_IND_hMPV':'Human metapneumovirus (hMPV)', 'myPCRinc_IND_CoV':'Coronavirus(CoV)', \\\n",
    "                                  'myPCRinc_IND_PIV':'parainfluenza virus (PIV)',\n",
    "       'myPCRinc_IND_AdV':'Adenovirus', 'myPCRinc_IND_hRhV':'Rhinovirus', 'myPCRinc_NumPos':'flu_or_virus'}, inplace=True)"
   ]
  },
  {
   "cell_type": "code",
   "execution_count": 32,
   "metadata": {},
   "outputs": [
    {
     "data": {
      "text/plain": [
       "Index(['p_id', 'date', 'season6', 'illnessid', 'start_dt', 'end_dt',\n",
       "       'duration', 'dayofillness', 'mode', 'onlinesurveydate', 'fever',\n",
       "       'feverish', 'cough', 'sorethroat', 'runnynose', 'blockednose', 'sneeze',\n",
       "       'diarrhea', 'muscle', 'headache', 'rash', 'earache', 'wheezy',\n",
       "       'nightsweat', 'joint aches', 'loss of appetite', 'feeling tired',\n",
       "       'vomit', 'nausea', 'weekstart', 'lonePCR', 'myPCRinc_n', 'myPCRinc_N',\n",
       "       'flu_or_virus', 'Influenza A(H1N1)', 'Influenza A(H1N1)',\n",
       "       'Influenza A(H3N2)', 'Influenza B (FluB)', 'RSV',\n",
       "       'Human metapneumovirus (hMPV)', 'Coronavirus(CoV)',\n",
       "       'parainfluenza virus (PIV)', 'Adenovirus', 'Rhinovirus',\n",
       "       'PCRoutsideILLNESS', 'sex', 'age 0-4', 'age 45-64', 'age 16-44',\n",
       "       'age 5-15', 'age 65+', 'male', 'female'],\n",
       "      dtype='object')"
      ]
     },
     "execution_count": 32,
     "metadata": {},
     "output_type": "execute_result"
    }
   ],
   "source": [
    "fw_df.columns"
   ]
  },
  {
   "cell_type": "code",
   "execution_count": 33,
   "metadata": {},
   "outputs": [
    {
     "name": "stdout",
     "output_type": "stream",
     "text": [
      "fever\n",
      "43\n",
      "feverish\n",
      "76\n",
      "cough\n",
      "6\n",
      "sorethroat\n",
      "1\n",
      "runnynose\n",
      "10\n",
      "blockednose\n",
      "14\n",
      "sneeze\n",
      "14\n",
      "diarrhea\n",
      "17\n",
      "muscle\n",
      "17\n",
      "headache\n",
      "12\n",
      "rash\n",
      "565\n",
      "earache\n",
      "565\n",
      "wheezy\n",
      "309\n",
      "nightsweat\n",
      "624\n",
      "joint aches\n",
      "624\n",
      "loss of appetite\n",
      "624\n",
      "feeling tired\n",
      "624\n",
      "vomit\n",
      "624\n",
      "nausea\n",
      "624\n"
     ]
    }
   ],
   "source": [
    "col = ['fever',\\\n",
    "       'feverish', 'cough', 'sorethroat', 'runnynose', 'blockednose', 'sneeze',\\\n",
    "       'diarrhea', 'muscle', 'headache', 'rash', 'earache', 'wheezy',\\\n",
    "       'nightsweat', 'joint aches', 'loss of appetite', 'feeling tired',\\\n",
    "       'vomit', 'nausea']\n",
    "for i in col:\n",
    "    print(i)\n",
    "    print(sum(fw_df[i].isnull()))"
   ]
  },
  {
   "cell_type": "code",
   "execution_count": 34,
   "metadata": {},
   "outputs": [
    {
     "data": {
      "text/plain": [
       "1.0    468\n",
       "0.0    417\n",
       "2.0     29\n",
       "3.0      1\n",
       "Name: flu_or_virus, dtype: int64"
      ]
     },
     "execution_count": 34,
     "metadata": {},
     "output_type": "execute_result"
    }
   ],
   "source": [
    "fw_df['flu_or_virus'].value_counts()"
   ]
  },
  {
   "cell_type": "code",
   "execution_count": 35,
   "metadata": {
    "collapsed": true
   },
   "outputs": [],
   "source": [
    "fw_df['flu_or_virus'] = fw_df['flu_or_virus'].map({1.0:1, 0.0:0, 2.0:1, 3.0:1})"
   ]
  },
  {
   "cell_type": "code",
   "execution_count": 36,
   "metadata": {
    "collapsed": true
   },
   "outputs": [],
   "source": [
    "fw_df.to_csv('../data/current/flu_cleaned.csv')"
   ]
  },
  {
   "cell_type": "code",
   "execution_count": 37,
   "metadata": {
    "collapsed": true
   },
   "outputs": [],
   "source": [
    "fw_900 = pd.read_csv('../data/current/flu_cleaned.csv', index_col=0)"
   ]
  },
  {
   "cell_type": "code",
   "execution_count": 38,
   "metadata": {},
   "outputs": [
    {
     "data": {
      "text/plain": [
       "Index(['p_id', 'date', 'season6', 'illnessid', 'start_dt', 'end_dt',\n",
       "       'duration', 'dayofillness', 'mode', 'onlinesurveydate', 'fever',\n",
       "       'feverish', 'cough', 'sorethroat', 'runnynose', 'blockednose', 'sneeze',\n",
       "       'diarrhea', 'muscle', 'headache', 'rash', 'earache', 'wheezy',\n",
       "       'nightsweat', 'joint aches', 'loss of appetite', 'feeling tired',\n",
       "       'vomit', 'nausea', 'weekstart', 'lonePCR', 'myPCRinc_n', 'myPCRinc_N',\n",
       "       'flu_or_virus', 'Influenza A(H1N1)', 'Influenza A(H1N1).1',\n",
       "       'Influenza A(H3N2)', 'Influenza B (FluB)', 'RSV',\n",
       "       'Human metapneumovirus (hMPV)', 'Coronavirus(CoV)',\n",
       "       'parainfluenza virus (PIV)', 'Adenovirus', 'Rhinovirus',\n",
       "       'PCRoutsideILLNESS', 'sex', 'age 0-4', 'age 45-64', 'age 16-44',\n",
       "       'age 5-15', 'age 65+', 'male', 'female'],\n",
       "      dtype='object')"
      ]
     },
     "execution_count": 38,
     "metadata": {},
     "output_type": "execute_result"
    }
   ],
   "source": [
    "fw_900.columns"
   ]
  },
  {
   "cell_type": "code",
   "execution_count": 39,
   "metadata": {
    "collapsed": true
   },
   "outputs": [],
   "source": [
    "fw_900.drop(['p_id', 'date', 'season6', 'illnessid', 'start_dt', 'end_dt',\n",
    "       'duration', 'dayofillness', 'mode', 'onlinesurveydate',  'rash', 'earache', 'wheezy',\n",
    "       'nightsweat', 'joint aches', 'loss of appetite', 'feeling tired',\n",
    "       'vomit', 'nausea', 'weekstart', 'lonePCR', 'myPCRinc_n', 'myPCRinc_N', 'Influenza A(H1N1)', 'Influenza A(H1N1).1',\n",
    "       'Influenza A(H3N2)', 'Influenza B (FluB)', 'RSV',\n",
    "       'Human metapneumovirus (hMPV)', 'Coronavirus(CoV)',\n",
    "       'parainfluenza virus (PIV)', 'Adenovirus', 'Rhinovirus',\n",
    "       'PCRoutsideILLNESS', 'sex', 'fever'],axis=1, inplace=True)\n",
    "fw_900.rename(columns = {'flu_or_virus':'flu', 'feverish':'fever'}, inplace=True)\n"
   ]
  },
  {
   "cell_type": "code",
   "execution_count": 40,
   "metadata": {},
   "outputs": [
    {
     "name": "stdout",
     "output_type": "stream",
     "text": [
      "17\n"
     ]
    },
    {
     "data": {
      "text/plain": [
       "Index(['fever', 'cough', 'sorethroat', 'runnynose', 'blockednose', 'sneeze',\n",
       "       'diarrhea', 'muscle', 'headache', 'flu', 'age 0-4', 'age 45-64',\n",
       "       'age 16-44', 'age 5-15', 'age 65+', 'male', 'female'],\n",
       "      dtype='object')"
      ]
     },
     "execution_count": 40,
     "metadata": {},
     "output_type": "execute_result"
    }
   ],
   "source": [
    "fw_900.fillna(0, inplace=True)\n",
    "print(len(fw_900.columns))\n",
    "fw_900.columns"
   ]
  },
  {
   "cell_type": "code",
   "execution_count": 41,
   "metadata": {},
   "outputs": [
    {
     "name": "stdout",
     "output_type": "stream",
     "text": [
      "0.0    635\n",
      "1.0    280\n",
      "Name: fever, dtype: int64\n",
      "1.0    641\n",
      "0.0    274\n",
      "Name: cough, dtype: int64\n",
      "1.0    511\n",
      "0.0    404\n",
      "Name: sorethroat, dtype: int64\n",
      "1.0    682\n",
      "0.0    233\n",
      "Name: runnynose, dtype: int64\n",
      "1.0    478\n",
      "0.0    437\n",
      "Name: blockednose, dtype: int64\n",
      "1.0    582\n",
      "0.0    333\n",
      "Name: sneeze, dtype: int64\n",
      "0.0    869\n",
      "1.0     46\n",
      "Name: diarrhea, dtype: int64\n",
      "0.0    606\n",
      "1.0    309\n",
      "Name: muscle, dtype: int64\n",
      "0.0    481\n",
      "1.0    434\n",
      "Name: headache, dtype: int64\n",
      "1    498\n",
      "0    417\n",
      "Name: flu, dtype: int64\n",
      "0.0    844\n",
      "1.0     71\n",
      "Name: age 0-4, dtype: int64\n",
      "0.0    548\n",
      "1.0    367\n",
      "Name: age 45-64, dtype: int64\n",
      "0.0    679\n",
      "1.0    236\n",
      "Name: age 16-44, dtype: int64\n",
      "0.0    781\n",
      "1.0    134\n",
      "Name: age 5-15, dtype: int64\n",
      "0.0    810\n",
      "1.0    105\n",
      "Name: age 65+, dtype: int64\n",
      "0.0    511\n",
      "1.0    404\n",
      "Name: male, dtype: int64\n",
      "1.0    509\n",
      "0.0    406\n",
      "Name: female, dtype: int64\n"
     ]
    }
   ],
   "source": [
    "fw_900.replace({2.0:1.0, 3.0:1.0}, inplace=True)\n",
    "for i in fw_900.columns:\n",
    "    print(fw_900[i].value_counts())"
   ]
  },
  {
   "cell_type": "code",
   "execution_count": 42,
   "metadata": {
    "collapsed": true
   },
   "outputs": [],
   "source": [
    "fw_900.to_csv(save_path+'fw_fit.csv')"
   ]
  }
 ],
 "metadata": {
  "kernelspec": {
   "display_name": "Python 3",
   "language": "python",
   "name": "python3"
  },
  "language_info": {
   "codemirror_mode": {
    "name": "ipython",
    "version": 3
   },
   "file_extension": ".py",
   "mimetype": "text/x-python",
   "name": "python",
   "nbconvert_exporter": "python",
   "pygments_lexer": "ipython3",
   "version": "3.6.0"
  }
 },
 "nbformat": 4,
 "nbformat_minor": 2
}
