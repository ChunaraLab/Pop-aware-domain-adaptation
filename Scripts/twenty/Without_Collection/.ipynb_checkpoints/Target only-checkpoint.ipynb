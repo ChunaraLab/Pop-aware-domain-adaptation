{
 "cells": [
  {
   "cell_type": "code",
   "execution_count": 1,
   "metadata": {
    "collapsed": true
   },
   "outputs": [],
   "source": [
    "import pandas as pd\n",
    "import numpy as np\n",
    "import os\n",
    "import time\n",
    "from sklearn import linear_model\n",
    "from sklearn.metrics import f1_score,roc_curve,precision_score,recall_score,accuracy_score,auc\n",
    "from collections import defaultdict\n",
    "from sklearn import metrics\n",
    "import random\n",
    "random.seed(10)"
   ]
  },
  {
   "cell_type": "markdown",
   "metadata": {},
   "source": [
    "One dataset is held out. All the other datasets are concatenated. We implement a Logistic Regression on the concatenated data and then test out on the held out the data."
   ]
  },
  {
   "cell_type": "code",
   "execution_count": 91,
   "metadata": {
    "collapsed": true
   },
   "outputs": [],
   "source": [
    "symptoms = ['fever', 'sorethroat', 'cough', 'muscle', 'headache', 'fatigue', 'vomit', 'nausea', 'diarrhea', 'chills', 'sneeze', 'shortness of breath', 'phlegm', 'blockednose', 'earache', 'leg pain', 'runnynose', 'virus']\n"
   ]
  },
  {
   "cell_type": "code",
   "execution_count": 141,
   "metadata": {
    "collapsed": true
   },
   "outputs": [],
   "source": [
    "def read_files(filename):\n",
    "    data = pd.read_csv(filename)\n",
    "    data = data[symptoms]\n",
    "    print(data.head())\n",
    "    return data"
   ]
  },
  {
   "cell_type": "code",
   "execution_count": 142,
   "metadata": {
    "collapsed": true
   },
   "outputs": [],
   "source": [
    "def get_training_data(train_files_,train_directory):\n",
    "    data = []\n",
    "    for i in train_files_:\n",
    "        print(train_directory+i)\n",
    "        data.append(read_files(train_directory+i))\n",
    "        \n",
    "    training_data = pd.concat(data)\n",
    "    x_train = training_data.drop(['virus'],axis = 1)\n",
    "    y_train = training_data['virus']\n",
    "    return x_train,y_train"
   ]
  },
  {
   "cell_type": "code",
   "execution_count": 143,
   "metadata": {
    "collapsed": true
   },
   "outputs": [],
   "source": [
    "def get_test_data(test_file_,test_directory):\n",
    "    data = read_files(test_directory+test_file_)\n",
    "    x_test = data.drop(['virus'],axis = 1)\n",
    "    y_test = data['virus']\n",
    "    return x_test,y_test"
   ]
  },
  {
   "cell_type": "code",
   "execution_count": 144,
   "metadata": {
    "collapsed": true
   },
   "outputs": [],
   "source": [
    "def linear_regression_model(x_train,x_test,y_train,y_test):\n",
    "    lm = linear_model.LogisticRegression()\n",
    "    lm.fit(x_train,y_train)\n",
    "    y_pred = lm.predict(x_test)\n",
    "    fpr,tpr,threshold = roc_curve(y_test,y_pred)\n",
    "    auc_score = auc(fpr,tpr)\n",
    "    accuracy = accuracy_score(y_test,y_pred)\n",
    "    precision = precision_score(y_test,y_pred)\n",
    "    recall = recall_score(y_test,y_pred)\n",
    "    f1 = f1_score(y_test,y_pred)\n",
    "    return auc_score,accuracy,precision,recall,f1"
   ]
  },
  {
   "cell_type": "code",
   "execution_count": 145,
   "metadata": {
    "collapsed": true
   },
   "outputs": [],
   "source": [
    "def predict_on_unknown(train_files,test_file,train_directory,test_directory ):\n",
    "    results = defaultdict()\n",
    "    x_train,y_train = get_training_data(train_files,train_directory)\n",
    "    x_test,y_test = get_test_data(test_file,test_directory)\n",
    "    auc_score,accuracy,precision,recall,f1 = linear_regression_model(x_train,x_test,y_train,y_test)\n",
    "    results['AUC'] = auc_score\n",
    "    results['Accuracy'] = accuracy\n",
    "    results['Precision'] = precision\n",
    "    results['Recall'] = recall\n",
    "    results['F1'] = f1\n",
    "    for k,v in results.items():\n",
    "        print(k,\"\\t\",v)\n",
    "    return results"
   ]
  },
  {
   "cell_type": "markdown",
   "metadata": {},
   "source": [
    "### Predict on NYUMC"
   ]
  },
  {
   "cell_type": "code",
   "execution_count": 146,
   "metadata": {
    "collapsed": true
   },
   "outputs": [],
   "source": [
    "TRAIN_DIRECTORY = \"../Data/Symptoms_Demo/NYUMC/Train/\"\n",
    "TEST_DIRECTORY = \"../Data/Symptoms_Demo/NYUMC/Test/\""
   ]
  },
  {
   "cell_type": "code",
   "execution_count": 147,
   "metadata": {
    "collapsed": true
   },
   "outputs": [],
   "source": [
    "# train_files = ['nyumc.csv','goviral.csv','fluwatch.csv','hongkong.csv','hutter']\n",
    "train_files = ['nyumc.csv']\n",
    "test_file = 'nyumc.csv'\n",
    "name=\"\""
   ]
  },
  {
   "cell_type": "code",
   "execution_count": 148,
   "metadata": {},
   "outputs": [
    {
     "name": "stdout",
     "output_type": "stream",
     "text": [
      "NYUMC!\n",
      "../Data/Symptoms_Demo/NYUMC/Train/nyumc.csv\n",
      "   fever  sorethroat  cough  muscle  headache  fatigue  vomit  nausea  \\\n",
      "0      1           0      0       0         0        0      0       0   \n",
      "1      1           0      0       0         0        0      0       0   \n",
      "2      0           1      0       0         0        0      0       0   \n",
      "3      1           0      0       0         0        0      0       0   \n",
      "4      1           0      0       0         0        0      0       0   \n",
      "\n",
      "   diarrhea  chills  sneeze  shortness of breath  phlegm  blockednose  \\\n",
      "0         0       0       0                    0       0            0   \n",
      "1         0       0       0                    0       0            0   \n",
      "2         0       0       0                    0       0            0   \n",
      "3         0       0       0                    0       0            0   \n",
      "4         0       0       0                    0       0            0   \n",
      "\n",
      "   earache  leg pain  runnynose  virus  \n",
      "0        0         0          0      0  \n",
      "1        0         0          0      0  \n",
      "2        0         0          0      0  \n",
      "3        0         0          0      0  \n",
      "4        0         0          0      0  \n",
      "   fever  sorethroat  cough  muscle  headache  fatigue  vomit  nausea  \\\n",
      "0      0           0      1       0         0        0      0       0   \n",
      "1      1           0      0       0         0        0      0       0   \n",
      "2      1           0      0       0         0        0      0       0   \n",
      "3      1           0      0       0         0        0      0       0   \n",
      "4      1           0      0       0         0        0      0       0   \n",
      "\n",
      "   diarrhea  chills  sneeze  shortness of breath  phlegm  blockednose  \\\n",
      "0         0       0       0                    0       0            0   \n",
      "1         0       0       0                    0       0            0   \n",
      "2         0       0       0                    0       0            0   \n",
      "3         1       0       0                    0       0            0   \n",
      "4         0       0       0                    0       0            0   \n",
      "\n",
      "   earache  leg pain  runnynose  virus  \n",
      "0        0         0          0      0  \n",
      "1        0         0          0      0  \n",
      "2        0         0          0      0  \n",
      "3        0         0          0      0  \n",
      "4        0         0          0      0  \n",
      "AUC \t 0.9750278685526639\n",
      "Precision \t 0.9564719358533792\n",
      "F1 \t 0.9553775743707095\n",
      "Recall \t 0.9542857142857143\n",
      "Accuracy \t 0.99208804584876\n"
     ]
    }
   ],
   "source": [
    "print(\"NYUMC!\")\n",
    "results_nyumc = predict_on_unknown(train_files,test_file,TRAIN_DIRECTORY,TEST_DIRECTORY)"
   ]
  },
  {
   "cell_type": "markdown",
   "metadata": {},
   "source": [
    "### Predict on GoViral"
   ]
  },
  {
   "cell_type": "code",
   "execution_count": 149,
   "metadata": {
    "collapsed": true
   },
   "outputs": [],
   "source": [
    "TRAIN_DIRECTORY = \"../Data/Symptoms_Demo/Goviral/Train/\"\n",
    "TEST_DIRECTORY = \"../Data/Symptoms_Demo/Goviral/Test/\""
   ]
  },
  {
   "cell_type": "code",
   "execution_count": 150,
   "metadata": {
    "collapsed": true
   },
   "outputs": [],
   "source": [
    "# train_files = ['nyumc.csv','goviral.csv','fluwatch.csv','hongkong.csv','hutterite.csv']\n",
    "train_files = ['goviral.csv']\n",
    "test_file = 'goviral.csv'"
   ]
  },
  {
   "cell_type": "code",
   "execution_count": 151,
   "metadata": {},
   "outputs": [
    {
     "name": "stdout",
     "output_type": "stream",
     "text": [
      "GoViral!\n",
      "../Data/Symptoms_Demo/Goviral/Train/goviral.csv\n",
      "   fever  sorethroat  cough  muscle  headache  fatigue  vomit  nausea  \\\n",
      "0      1           1      1       1         0        1      0       1   \n",
      "1      0           0      1       0         0        0      0       0   \n",
      "2      0           1      0       1         0        1      1       1   \n",
      "3      0           0      0       0         0        0      0       0   \n",
      "4      1           1      1       1         0        1      0       0   \n",
      "\n",
      "   diarrhea  chills  sneeze  shortness of breath  phlegm  blockednose  \\\n",
      "0         1       1       0                    0       0            0   \n",
      "1         0       0       0                    0       0            0   \n",
      "2         1       1       0                    1       0            0   \n",
      "3         0       0       0                    0       0            0   \n",
      "4         0       1       0                    0       0            0   \n",
      "\n",
      "   earache  leg pain  runnynose  virus  \n",
      "0        0         1          1      1  \n",
      "1        0         0          1      1  \n",
      "2        0         1          1      1  \n",
      "3        0         0          0      0  \n",
      "4        0         0          1      1  \n",
      "   fever  sorethroat  cough  muscle  headache  fatigue  vomit  nausea  \\\n",
      "0      0           0      1       0         0        0      0       0   \n",
      "1      0           1      1       1         0        0      0       1   \n",
      "2      1           1      0       1         0        0      0       0   \n",
      "3      0           1      1       0         0        1      0       0   \n",
      "4      1           0      0       0         0        0      0       0   \n",
      "\n",
      "   diarrhea  chills  sneeze  shortness of breath  phlegm  blockednose  \\\n",
      "0         0       0       0                    0       0            0   \n",
      "1         0       0       0                    0       0            0   \n",
      "2         0       0       0                    0       0            0   \n",
      "3         0       0       0                    0       0            0   \n",
      "4         0       1       0                    0       0            0   \n",
      "\n",
      "   earache  leg pain  runnynose  virus  \n",
      "0        0         0          0      1  \n",
      "1        0         0          1      0  \n",
      "2        0         0          1      1  \n",
      "3        0         0          1      1  \n",
      "4        0         0          1      1  \n",
      "AUC \t 0.7960186573379977\n",
      "Precision \t 0.7810457516339869\n",
      "F1 \t 0.8430335097001763\n",
      "Recall \t 0.9157088122605364\n",
      "Accuracy \t 0.8098290598290598\n"
     ]
    }
   ],
   "source": [
    "print(\"GoViral!\")\n",
    "results_goviral = predict_on_unknown(train_files,test_file,TRAIN_DIRECTORY,TEST_DIRECTORY)"
   ]
  },
  {
   "cell_type": "markdown",
   "metadata": {},
   "source": [
    "### Predict on FluWatch"
   ]
  },
  {
   "cell_type": "code",
   "execution_count": 135,
   "metadata": {
    "collapsed": true
   },
   "outputs": [],
   "source": [
    "TRAIN_DIRECTORY = \"../Data/Symptoms_Demo/Fluwatch/Train/\"\n",
    "TEST_DIRECTORY = \"../Data/Symptoms_Demo/Fluwatch/Test/\""
   ]
  },
  {
   "cell_type": "code",
   "execution_count": 136,
   "metadata": {},
   "outputs": [
    {
     "name": "stdout",
     "output_type": "stream",
     "text": [
      "FluWatch!\n",
      "../Data/Symptoms_Demo/Fluwatch/Train/fluwatch.csv\n",
      "(91, 18)\n",
      "(824, 18)\n",
      "AUC \t 0.7369187773144182\n",
      "Precision \t 0.7768313458262351\n",
      "F1 \t 0.8306010928961748\n",
      "Recall \t 0.8923679060665362\n",
      "Accuracy \t 0.7742718446601942\n"
     ]
    }
   ],
   "source": [
    "# train_files = ['nyumc.csv','goviral.csv','fluwatch.csv','hongkong.csv','hutterite.csv']\n",
    "train_files = ['fluwatch.csv']\n",
    "test_file = 'fluwatch.csv'\n",
    "print(\"FluWatch!\")\n",
    "results_fluwatch = predict_on_unknown(train_files,test_file,TRAIN_DIRECTORY,TEST_DIRECTORY)"
   ]
  },
  {
   "cell_type": "markdown",
   "metadata": {},
   "source": [
    "### Predict on HongKong"
   ]
  },
  {
   "cell_type": "code",
   "execution_count": 137,
   "metadata": {
    "collapsed": true
   },
   "outputs": [],
   "source": [
    "TRAIN_DIRECTORY = \"../Data/Symptoms_Demo/Hongkong/Train/\"\n",
    "TEST_DIRECTORY = \"../Data/Symptoms_Demo/Hongkong/Test/\""
   ]
  },
  {
   "cell_type": "code",
   "execution_count": 138,
   "metadata": {},
   "outputs": [
    {
     "name": "stdout",
     "output_type": "stream",
     "text": [
      "HongKong\n",
      "../Data/Symptoms_Demo/Hongkong/Train/hongkong.csv\n",
      "(495, 18)\n",
      "(4459, 18)\n",
      "AUC \t 0.9603794349516314\n",
      "Precision \t 0.9582689335394127\n",
      "F1 \t 0.948012232415902\n",
      "Recall \t 0.9379727685325264\n",
      "Accuracy \t 0.9694998878672348\n"
     ]
    }
   ],
   "source": [
    "# train_files = ['nyumc.csv','goviral.csv','fluwatch.csv','hongkong.csv','hutterite.csv']\n",
    "train_files = ['hongkong.csv']\n",
    "test_file = 'hongkong.csv'\n",
    "print(\"HongKong\")\n",
    "results_hongkong = predict_on_unknown(train_files,test_file,TRAIN_DIRECTORY ,TEST_DIRECTORY)"
   ]
  },
  {
   "cell_type": "markdown",
   "metadata": {},
   "source": [
    "### Predict on Hutterite"
   ]
  },
  {
   "cell_type": "code",
   "execution_count": 139,
   "metadata": {
    "collapsed": true
   },
   "outputs": [],
   "source": [
    "TRAIN_DIRECTORY = \"../Data/Symptoms_Demo/Hutterite/Train/\"\n",
    "TEST_DIRECTORY = \"../Data/Symptoms_Demo/Hutterite/Test/\""
   ]
  },
  {
   "cell_type": "code",
   "execution_count": 140,
   "metadata": {},
   "outputs": [
    {
     "name": "stdout",
     "output_type": "stream",
     "text": [
      "Hutterite!\n",
      "../Data/Symptoms_Demo/Hutterite/Train/hutterite.csv\n",
      "(128, 18)\n",
      "(1153, 18)\n",
      "AUC \t 0.6410573952975054\n",
      "Precision \t 0.7052505966587113\n",
      "F1 \t 0.7650485436893203\n",
      "Recall \t 0.8359264497878359\n",
      "Accuracy \t 0.6851691240242844\n"
     ]
    }
   ],
   "source": [
    "# train_files = ['nyumc.csv','goviral.csv','fluwatch.csv','hongkong.csv','hutterite.csv']\n",
    "train_files = ['hutterite.csv']\n",
    "test_file = 'hutterite.csv'\n",
    "print(\"Hutterite!\")\n",
    "results_hutterite = predict_on_unknown(train_files,test_file,TRAIN_DIRECTORY,TEST_DIRECTORY)"
   ]
  },
  {
   "cell_type": "code",
   "execution_count": null,
   "metadata": {
    "collapsed": true
   },
   "outputs": [],
   "source": []
  },
  {
   "cell_type": "code",
   "execution_count": null,
   "metadata": {
    "collapsed": true
   },
   "outputs": [],
   "source": []
  },
  {
   "cell_type": "code",
   "execution_count": null,
   "metadata": {
    "collapsed": true
   },
   "outputs": [],
   "source": []
  },
  {
   "cell_type": "code",
   "execution_count": null,
   "metadata": {
    "collapsed": true
   },
   "outputs": [],
   "source": []
  },
  {
   "cell_type": "code",
   "execution_count": null,
   "metadata": {
    "collapsed": true
   },
   "outputs": [],
   "source": []
  }
 ],
 "metadata": {
  "kernelspec": {
   "display_name": "Python 3",
   "language": "python",
   "name": "python3"
  },
  "language_info": {
   "codemirror_mode": {
    "name": "ipython",
    "version": 3
   },
   "file_extension": ".py",
   "mimetype": "text/x-python",
   "name": "python",
   "nbconvert_exporter": "python",
   "pygments_lexer": "ipython3",
   "version": "3.5.4"
  }
 },
 "nbformat": 4,
 "nbformat_minor": 2
}
