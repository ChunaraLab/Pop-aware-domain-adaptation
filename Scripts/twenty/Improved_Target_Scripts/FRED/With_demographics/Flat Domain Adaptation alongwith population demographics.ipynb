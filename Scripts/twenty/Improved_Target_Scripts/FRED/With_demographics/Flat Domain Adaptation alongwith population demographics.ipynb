{
 "cells": [
  {
   "cell_type": "code",
   "execution_count": 1,
   "metadata": {
    "collapsed": true
   },
   "outputs": [],
   "source": [
    "import pandas as pd\n",
    "import numpy as np\n",
    "import os\n",
    "import time\n",
    "from collections import defaultdict\n",
    "from sklearn import linear_model\n",
    "from sklearn.metrics import accuracy_score,f1_score,recall_score,roc_curve\n",
    "from sklearn import metrics\n",
    "import seaborn as sns\n",
    "import matplotlib.pyplot as plt"
   ]
  },
  {
   "cell_type": "markdown",
   "metadata": {},
   "source": [
    "Flat Domain adaptation, one dataset is held out, the model is trained on the remaining four datasets. Prediction is done using the parameters of the dataset that is closest to the held out one."
   ]
  },
  {
   "cell_type": "code",
   "execution_count": 2,
   "metadata": {
    "collapsed": true
   },
   "outputs": [],
   "source": [
    "TRAIN_DIRECTORY = \"../../../Data/with_Improved_Target/With_Demographics/\"\n",
    "# TEST_DIRECTORY = \"../../../Data/Symptoms/Test/\"\n",
    "coefficients = defaultdict()"
   ]
  },
  {
   "cell_type": "code",
   "execution_count": 3,
   "metadata": {
    "collapsed": true
   },
   "outputs": [],
   "source": [
    "def read_file(filename):\n",
    "    return pd.read_csv(filename)\n",
    "\n",
    "def get_training_data(files_,training_directory = TRAIN_DIRECTORY):\n",
    "    data = defaultdict()\n",
    "    columns = defaultdict()\n",
    "    for i in files_:\n",
    "        name = i\n",
    "        name = name.replace('.csv','')\n",
    "        data[name] = read_file(training_directory+i)\n",
    "        columns[name] = list(data[name].columns)\n",
    "        columns[name].remove('virus')\n",
    "    return data,columns"
   ]
  },
  {
   "cell_type": "code",
   "execution_count": 4,
   "metadata": {
    "collapsed": true
   },
   "outputs": [],
   "source": [
    "def overlap_columns(columns_):\n",
    "    all_columns = list(columns_.values())\n",
    "    overlap = list(set(all_columns[0]) & set(all_columns[1]) & set(all_columns[2]) & set(all_columns[3]))\n",
    "    return overlap\n",
    "    "
   ]
  },
  {
   "cell_type": "code",
   "execution_count": 5,
   "metadata": {
    "collapsed": true
   },
   "outputs": [],
   "source": [
    "def create_columns(columns_):\n",
    "    overlap = overlap_columns(columns_)\n",
    "    new_columns = []\n",
    "    temp = []\n",
    "    for i in columns_.keys():\n",
    "        x = [i.replace('.csv','')+'_'+j for j in columns_[i]]\n",
    "        temp.append(x)\n",
    "    t = [val for sublist in temp for val in sublist]\n",
    "    new_columns = t + overlap\n",
    "    new_columns.append('virus')\n",
    "    return new_columns"
   ]
  },
  {
   "cell_type": "code",
   "execution_count": 6,
   "metadata": {
    "collapsed": true
   },
   "outputs": [],
   "source": [
    "def create_new_dataframe(data,columns):\n",
    "    new_columns = create_columns(columns)\n",
    "    new_dataset = defaultdict()\n",
    "    for i,name in enumerate(data.keys()):\n",
    "        new_data = pd.DataFrame(columns=new_columns)\n",
    "        dataset = data[name]\n",
    "        for j in columns[name]:\n",
    "            new_data[name+'_'+j] = dataset[j]\n",
    "            new_data[j] = dataset[j]\n",
    "        new_data['virus'] = dataset['virus']\n",
    "        new_data.fillna(0,inplace=True)\n",
    "        new_dataset[name] = new_data\n",
    "    #concatenate all the dataframe\n",
    "    new_dataset = pd.concat(new_dataset.values())\n",
    "    return new_dataset"
   ]
  },
  {
   "cell_type": "code",
   "execution_count": 7,
   "metadata": {
    "collapsed": true
   },
   "outputs": [],
   "source": [
    "def ml_model(dataset):\n",
    "    lm = linear_model.LogisticRegression()\n",
    "    x_train = dataset.drop(['virus'],axis = 1)\n",
    "    y_train = dataset['virus']\n",
    "    x = lm.fit(x_train,y_train)\n",
    "    coeff = x.coef_.tolist()[0]\n",
    "    return lm,coeff"
   ]
  },
  {
   "cell_type": "markdown",
   "metadata": {},
   "source": [
    "#### Heldout dataset : NYUMC"
   ]
  },
  {
   "cell_type": "code",
   "execution_count": 8,
   "metadata": {
    "collapsed": true
   },
   "outputs": [],
   "source": [
    "files_nyumc = ['goviral.csv','fluwatch.csv','hongkong.csv','hutterite.csv']\n",
    "data_nyumc,columns_nyumc = get_training_data(files_nyumc)\n",
    "\n",
    "#create the dataframe for domain adaptation\n",
    "new_dataset_nyumc = create_new_dataframe(data_nyumc,columns_nyumc)\n",
    "\n",
    "coeff_without_nyumc = ml_model(new_dataset_nyumc)\n",
    "coefficients['nyumc'] = coeff_without_nyumc"
   ]
  },
  {
   "cell_type": "markdown",
   "metadata": {},
   "source": [
    "#### Heldout dataset : Goviral"
   ]
  },
  {
   "cell_type": "code",
   "execution_count": 9,
   "metadata": {
    "collapsed": true
   },
   "outputs": [],
   "source": [
    "files_goviral = ['nyumc.csv','fluwatch.csv','hongkong.csv','hutterite.csv']\n",
    "data_goviral,columns_goviral = get_training_data(files_goviral)\n",
    "new_dataset_goviral = create_new_dataframe(data_goviral,columns_goviral)\n",
    "\n",
    "coeff_without_goviral = ml_model(new_dataset_goviral)\n",
    "coefficients['goviral'] = coeff_without_goviral"
   ]
  },
  {
   "cell_type": "markdown",
   "metadata": {},
   "source": [
    "#### Heldout dataset : FluWatch"
   ]
  },
  {
   "cell_type": "code",
   "execution_count": 10,
   "metadata": {
    "collapsed": true
   },
   "outputs": [],
   "source": [
    "files_fluwatch = ['nyumc.csv','goviral.csv','hongkong.csv','hutterite.csv']\n",
    "data_fluwatch,columns_fluwatch = get_training_data(files_fluwatch)\n",
    "new_dataset_fluwatch = create_new_dataframe(data_fluwatch,columns_fluwatch)\n",
    "\n",
    "coeff_without_fluwatch = ml_model(new_dataset_fluwatch)\n",
    "coefficients['fluwatch'] = coeff_without_fluwatch"
   ]
  },
  {
   "cell_type": "markdown",
   "metadata": {},
   "source": [
    "#### Heldout dataset : HongKong"
   ]
  },
  {
   "cell_type": "code",
   "execution_count": 11,
   "metadata": {
    "collapsed": true
   },
   "outputs": [],
   "source": [
    "files_hongkong = ['nyumc.csv','goviral.csv','fluwatch.csv','hutterite.csv']\n",
    "data_hongkong,columns_hongkong = get_training_data(files_hongkong)\n",
    "new_dataset_hongkong = create_new_dataframe(data_hongkong,columns_hongkong)\n",
    "\n",
    "coeff_without_hongkong = ml_model(new_dataset_hongkong)\n",
    "coefficients['hongkong'] = coeff_without_hongkong"
   ]
  },
  {
   "cell_type": "markdown",
   "metadata": {},
   "source": [
    "#### Heldout dataset : Hutterite"
   ]
  },
  {
   "cell_type": "code",
   "execution_count": 12,
   "metadata": {
    "collapsed": true
   },
   "outputs": [],
   "source": [
    "files_hutterite = ['nyumc.csv','goviral.csv','fluwatch.csv','hongkong.csv']\n",
    "data_hutterite,columns_hutterite = get_training_data(files_hutterite)\n",
    "new_dataset_hutterite = create_new_dataframe(data_hutterite,columns_hutterite)\n",
    "\n",
    "coeff_without_hutterite = ml_model(new_dataset_hutterite)\n",
    "coefficients['hutterite'] = coeff_without_hutterite"
   ]
  },
  {
   "cell_type": "markdown",
   "metadata": {},
   "source": [
    "#### Model for testing the performance"
   ]
  },
  {
   "cell_type": "code",
   "execution_count": 13,
   "metadata": {
    "collapsed": true
   },
   "outputs": [],
   "source": [
    "def test_model(train_data,test_data):\n",
    "    lm,coeff = ml_model(train_data)\n",
    "    train = test_data.drop(['virus'],axis = 1)\n",
    "    test = test_data['virus']\n",
    "    y_pred = lm.predict(train)\n",
    "    acc = accuracy_score(test,y_pred)\n",
    "    fpr,tpr,threshold = roc_curve(test,y_pred)\n",
    "    auc_score = metrics.auc(fpr,tpr)\n",
    "    return acc,auc_score\n",
    "    "
   ]
  },
  {
   "cell_type": "markdown",
   "metadata": {},
   "source": [
    "#### Prepare data for testing"
   ]
  },
  {
   "cell_type": "code",
   "execution_count": 14,
   "metadata": {
    "collapsed": true
   },
   "outputs": [],
   "source": [
    "files_ = ['nyumc.csv','goviral.csv','fluwatch.csv','hongkong.csv','hutterite.csv']\n",
    "\n",
    "data_,columns = get_training_data(files_)"
   ]
  },
  {
   "cell_type": "code",
   "execution_count": 15,
   "metadata": {
    "collapsed": true
   },
   "outputs": [],
   "source": [
    "def create_data_for_testing(data,name,columns_):\n",
    "    new_data = pd.DataFrame(columns = columns_)\n",
    "    columns_for_data = list(data.columns)\n",
    "    col = [x for x in columns_for_data if x != 'virus']\n",
    "    for i in col:\n",
    "        new_data[name+'_'+i] = data[i]\n",
    "        new_data[i] = data[i]\n",
    "    new_data['virus'] = data['virus']\n",
    "    new_data.fillna(0,inplace = True)\n",
    "    return new_data"
   ]
  },
  {
   "cell_type": "code",
   "execution_count": 16,
   "metadata": {
    "collapsed": true
   },
   "outputs": [],
   "source": [
    "def test_against_all(dataset_name,to_be_tested_names,data_,original_data,store_):\n",
    "    columns = list(original_data.columns)\n",
    "    data = data_[dataset_name]\n",
    "    for i in to_be_tested_names:\n",
    "        temp_data = create_data_for_testing(data,i,columns)\n",
    "        acc,auc_score = test_model(original_data,temp_data)\n",
    "        print(\"Comparing against \",i)\n",
    "        print(\"Accuracy : \",acc)\n",
    "        print(\"Auc Score : \",auc_score)\n",
    "        print(\"____________________________\")\n",
    "        store_[i] = auc_score\n",
    "    return store_"
   ]
  },
  {
   "cell_type": "markdown",
   "metadata": {},
   "source": [
    "#### Test NYUMC"
   ]
  },
  {
   "cell_type": "code",
   "execution_count": 17,
   "metadata": {},
   "outputs": [
    {
     "name": "stdout",
     "output_type": "stream",
     "text": [
      "Testing NYUMC Data!\n",
      "\n",
      "Comparing against  goviral\n",
      "Accuracy :  0.918473547268\n",
      "Auc Score :  0.551275069769\n",
      "____________________________\n",
      "Comparing against  fluwatch\n",
      "Accuracy :  0.910074405441\n",
      "Auc Score :  0.5\n",
      "____________________________\n",
      "Comparing against  hongkong\n",
      "Accuracy :  0.371342493267\n",
      "Auc Score :  0.635398866837\n",
      "____________________________\n",
      "Comparing against  hutterite\n",
      "Accuracy :  0.758387729949\n",
      "Auc Score :  0.80275553272\n",
      "____________________________\n"
     ]
    }
   ],
   "source": [
    "store_nyumc = defaultdict()\n",
    "print(\"Testing NYUMC Data!\\n\")\n",
    "store_nyumc = test_against_all('nyumc',['goviral','fluwatch','hongkong','hutterite'],data_,new_dataset_nyumc,store_nyumc)"
   ]
  },
  {
   "cell_type": "code",
   "execution_count": 18,
   "metadata": {},
   "outputs": [
    {
     "data": {
      "text/plain": [
       "defaultdict(None,\n",
       "            {'fluwatch': 0.5,\n",
       "             'goviral': 0.55127506976926555,\n",
       "             'hongkong': 0.63539886683662672,\n",
       "             'hutterite': 0.80275553271994604})"
      ]
     },
     "execution_count": 18,
     "metadata": {},
     "output_type": "execute_result"
    }
   ],
   "source": [
    "store_nyumc"
   ]
  },
  {
   "cell_type": "markdown",
   "metadata": {},
   "source": [
    "#### Test Goviral"
   ]
  },
  {
   "cell_type": "code",
   "execution_count": 19,
   "metadata": {},
   "outputs": [
    {
     "name": "stdout",
     "output_type": "stream",
     "text": [
      "Testing Goviral data!\n",
      "\n",
      "Comparing against  nyumc\n",
      "Accuracy :  0.590384615385\n",
      "Auc Score :  0.60610903525\n",
      "____________________________\n",
      "Comparing against  fluwatch\n",
      "Accuracy :  0.603846153846\n",
      "Auc Score :  0.618136526659\n",
      "____________________________\n",
      "Comparing against  hongkong\n",
      "Accuracy :  0.705769230769\n",
      "Auc Score :  0.692454868771\n",
      "____________________________\n",
      "Comparing against  hutterite\n",
      "Accuracy :  0.75\n",
      "Auc Score :  0.724530680232\n",
      "____________________________\n"
     ]
    }
   ],
   "source": [
    "store_gv = defaultdict()\n",
    "print(\"Testing Goviral data!\\n\")\n",
    "store_gv = test_against_all('goviral',['nyumc','fluwatch','hongkong','hutterite'],data_,new_dataset_goviral,store_gv)"
   ]
  },
  {
   "cell_type": "code",
   "execution_count": 20,
   "metadata": {},
   "outputs": [
    {
     "data": {
      "text/plain": [
       "defaultdict(None,\n",
       "            {'fluwatch': 0.61813652665856333,\n",
       "             'hongkong': 0.69245486877053986,\n",
       "             'hutterite': 0.72453068023229639,\n",
       "             'nyumc': 0.60610903524962867})"
      ]
     },
     "execution_count": 20,
     "metadata": {},
     "output_type": "execute_result"
    }
   ],
   "source": [
    "store_gv"
   ]
  },
  {
   "cell_type": "markdown",
   "metadata": {},
   "source": [
    "#### Test Fluwatch"
   ]
  },
  {
   "cell_type": "code",
   "execution_count": 21,
   "metadata": {},
   "outputs": [
    {
     "name": "stdout",
     "output_type": "stream",
     "text": [
      "Testing FluWatch data!\n",
      "\n",
      "Comparing against  nyumc\n",
      "Accuracy :  0.432786885246\n",
      "Auc Score :  0.485168460743\n",
      "____________________________\n",
      "Comparing against  goviral\n",
      "Accuracy :  0.59781420765\n",
      "Auc Score :  0.593907741896\n",
      "____________________________\n",
      "Comparing against  hongkong\n",
      "Accuracy :  0.533333333333\n",
      "Auc Score :  0.476395730706\n",
      "____________________________\n",
      "Comparing against  hutterite\n",
      "Accuracy :  0.622950819672\n",
      "Auc Score :  0.568129295141\n",
      "____________________________\n"
     ]
    }
   ],
   "source": [
    "store_fw = defaultdict()\n",
    "print(\"Testing FluWatch data!\\n\")\n",
    "store_fw = test_against_all('fluwatch',['nyumc','goviral','hongkong','hutterite'],data_,new_dataset_fluwatch,store_fw)"
   ]
  },
  {
   "cell_type": "code",
   "execution_count": 22,
   "metadata": {},
   "outputs": [
    {
     "data": {
      "text/plain": [
       "defaultdict(None,\n",
       "            {'goviral': 0.59390774189624762,\n",
       "             'hongkong': 0.47639573070607555,\n",
       "             'hutterite': 0.56812929514078936,\n",
       "             'nyumc': 0.48516846074317344})"
      ]
     },
     "execution_count": 22,
     "metadata": {},
     "output_type": "execute_result"
    }
   ],
   "source": [
    "store_fw"
   ]
  },
  {
   "cell_type": "markdown",
   "metadata": {},
   "source": [
    "#### Test Hongkong"
   ]
  },
  {
   "cell_type": "code",
   "execution_count": 23,
   "metadata": {},
   "outputs": [
    {
     "name": "stdout",
     "output_type": "stream",
     "text": [
      "Testing Hongkong!\n",
      "\n",
      "Comparing against  nyumc\n",
      "Accuracy :  0.777957206298\n",
      "Auc Score :  0.631995203272\n",
      "____________________________\n",
      "Comparing against  goviral\n",
      "Accuracy :  0.85708518369\n",
      "Auc Score :  0.771324758324\n",
      "____________________________\n",
      "Comparing against  fluwatch\n",
      "Accuracy :  0.789059345983\n",
      "Auc Score :  0.708613342499\n",
      "____________________________\n",
      "Comparing against  hutterite\n",
      "Accuracy :  0.886354461042\n",
      "Auc Score :  0.896991271385\n",
      "____________________________\n"
     ]
    }
   ],
   "source": [
    "store_hk = defaultdict()\n",
    "print(\"Testing Hongkong!\\n\")\n",
    "store_hk = test_against_all('hongkong',['nyumc','goviral','fluwatch','hutterite'],data_,new_dataset_hongkong,store_hk)"
   ]
  },
  {
   "cell_type": "code",
   "execution_count": 24,
   "metadata": {},
   "outputs": [
    {
     "data": {
      "text/plain": [
       "defaultdict(None,\n",
       "            {'fluwatch': 0.70861334249895536,\n",
       "             'goviral': 0.77132475832405745,\n",
       "             'hutterite': 0.8969912713845809,\n",
       "             'nyumc': 0.63199520327245495})"
      ]
     },
     "execution_count": 24,
     "metadata": {},
     "output_type": "execute_result"
    }
   ],
   "source": [
    "store_hk"
   ]
  },
  {
   "cell_type": "markdown",
   "metadata": {},
   "source": [
    "#### Test hutterite"
   ]
  },
  {
   "cell_type": "code",
   "execution_count": 25,
   "metadata": {},
   "outputs": [
    {
     "name": "stdout",
     "output_type": "stream",
     "text": [
      "Testing hutterite!\n",
      "\n",
      "Comparing against  nyumc\n",
      "Accuracy :  0.485558157689\n",
      "Auc Score :  0.573031395809\n",
      "____________________________\n",
      "Comparing against  goviral\n",
      "Accuracy :  0.688524590164\n",
      "Auc Score :  0.705432148938\n",
      "____________________________\n",
      "Comparing against  fluwatch\n",
      "Accuracy :  0.659640905543\n",
      "Auc Score :  0.673635082232\n",
      "____________________________\n",
      "Comparing against  hongkong\n",
      "Accuracy :  0.72287275566\n",
      "Auc Score :  0.700979736508\n",
      "____________________________\n"
     ]
    }
   ],
   "source": [
    "store_ht = defaultdict()\n",
    "print(\"Testing hutterite!\\n\")\n",
    "store_ht = test_against_all('hutterite',['nyumc','goviral','fluwatch','hongkong'],data_,new_dataset_hutterite,store_ht)"
   ]
  },
  {
   "cell_type": "code",
   "execution_count": 26,
   "metadata": {},
   "outputs": [
    {
     "data": {
      "text/plain": [
       "defaultdict(None,\n",
       "            {'fluwatch': 0.67363508223201929,\n",
       "             'goviral': 0.70543214893846873,\n",
       "             'hongkong': 0.70097973650772416,\n",
       "             'nyumc': 0.57303139580943374})"
      ]
     },
     "execution_count": 26,
     "metadata": {},
     "output_type": "execute_result"
    }
   ],
   "source": [
    "store_ht"
   ]
  },
  {
   "cell_type": "code",
   "execution_count": 27,
   "metadata": {
    "collapsed": true
   },
   "outputs": [],
   "source": [
    "results = defaultdict()\n",
    "results['nyumc'] = store_nyumc\n",
    "results['govial'] = store_gv\n",
    "results['fluwatch'] = store_fw\n",
    "results['hongkong'] = store_hk\n",
    "results['hutterite'] = store_ht"
   ]
  },
  {
   "cell_type": "code",
   "execution_count": 28,
   "metadata": {
    "collapsed": true
   },
   "outputs": [],
   "source": [
    "def create_plots(columns,dict_,name,order,label,title):\n",
    "    df = pd.DataFrame(columns)\n",
    "    df_list = []\n",
    "    for i in dict_.keys():\n",
    "        df_list.append(pd.DataFrame({k:[v] for (k,v) in dict(dict_[i]).items()}))\n",
    "    df = pd.concat(df_list)\n",
    "#     df.fillna(0,inplace = True)\n",
    "    df[name] = columns\n",
    "    df.set_index(name,inplace = True)\n",
    "    df = df[order]\n",
    "    sns.set()\n",
    "    ax = plt.axes()\n",
    "    sns.heatmap(df,annot=True,linewidth = 0.8,ax = ax,cbar_kws = {'label' : label},fmt = 'f')\n",
    "    ax.set_title(title)\n",
    "    ax.set_xlabel('Dataset')\n",
    "    plt.show()\n",
    "    return df\n",
    "    "
   ]
  },
  {
   "cell_type": "code",
   "execution_count": 29,
   "metadata": {},
   "outputs": [
    {
     "data": {
      "text/plain": [
       "defaultdict(None,\n",
       "            {'fluwatch': defaultdict(None,\n",
       "                         {'goviral': 0.59390774189624762,\n",
       "                          'hongkong': 0.47639573070607555,\n",
       "                          'hutterite': 0.56812929514078936,\n",
       "                          'nyumc': 0.48516846074317344}),\n",
       "             'govial': defaultdict(None,\n",
       "                         {'fluwatch': 0.61813652665856333,\n",
       "                          'hongkong': 0.69245486877053986,\n",
       "                          'hutterite': 0.72453068023229639,\n",
       "                          'nyumc': 0.60610903524962867}),\n",
       "             'hongkong': defaultdict(None,\n",
       "                         {'fluwatch': 0.70861334249895536,\n",
       "                          'goviral': 0.77132475832405745,\n",
       "                          'hutterite': 0.8969912713845809,\n",
       "                          'nyumc': 0.63199520327245495}),\n",
       "             'hutterite': defaultdict(None,\n",
       "                         {'fluwatch': 0.67363508223201929,\n",
       "                          'goviral': 0.70543214893846873,\n",
       "                          'hongkong': 0.70097973650772416,\n",
       "                          'nyumc': 0.57303139580943374}),\n",
       "             'nyumc': defaultdict(None,\n",
       "                         {'fluwatch': 0.5,\n",
       "                          'goviral': 0.55127506976926555,\n",
       "                          'hongkong': 0.63539886683662672,\n",
       "                          'hutterite': 0.80275553271994604})})"
      ]
     },
     "execution_count": 29,
     "metadata": {},
     "output_type": "execute_result"
    }
   ],
   "source": [
    "results"
   ]
  },
  {
   "cell_type": "code",
   "execution_count": 30,
   "metadata": {},
   "outputs": [
    {
     "data": {
      "image/png": "[encoded data removed]",
      "text/plain": [
       "<matplotlib.figure.Figure at 0x1166c2c18>"
      ]
     },
     "metadata": {},
     "output_type": "display_data"
    }
   ],
   "source": [
    "nyumc = create_plots(['nyumc','goviral','fluwatch','hongkong','hutterite'], \n",
    "                     results, \n",
    "                     'Dataset',\n",
    "                     ['hutterite','hongkong','fluwatch','goviral','nyumc'],'AUC Scores','FRED : AUC scores with demographics')"
   ]
  },
  {
   "cell_type": "markdown",
   "metadata": {},
   "source": [
    "#### Get the distance between the datasets"
   ]
  },
  {
   "cell_type": "code",
   "execution_count": 31,
   "metadata": {
    "collapsed": true
   },
   "outputs": [],
   "source": [
    "directory = \"../../../Data/with_Improved_Target/With_Demographics/\""
   ]
  },
  {
   "cell_type": "code",
   "execution_count": 32,
   "metadata": {
    "collapsed": true
   },
   "outputs": [],
   "source": [
    "data_,columns = get_training_data(files_,directory)"
   ]
  },
  {
   "cell_type": "code",
   "execution_count": 33,
   "metadata": {
    "collapsed": true
   },
   "outputs": [],
   "source": [
    "def only_positive_data_stats(data_dict):\n",
    "    data_stats = defaultdict()\n",
    "    for i in data_dict.keys():\n",
    "        data = data_dict[i]\n",
    "        data = data.loc[data['virus'] == 1]\n",
    "        data_stats[i] = data.var(axis = 0)\n",
    "    return data_stats"
   ]
  },
  {
   "cell_type": "code",
   "execution_count": 34,
   "metadata": {
    "collapsed": true
   },
   "outputs": [],
   "source": [
    "positive_data_stats = only_positive_data_stats(data_)"
   ]
  },
  {
   "cell_type": "code",
   "execution_count": 35,
   "metadata": {
    "collapsed": true
   },
   "outputs": [],
   "source": [
    "#l2 distance\n",
    "def get_distance(data_stats):\n",
    "\n",
    "    distance = defaultdict()\n",
    "    names = list(data_stats)\n",
    "    for i in names:\n",
    "        compare_to = [j for j in names if j!=i]\n",
    "        distance[i] = [(j,np.linalg.norm((np.asarray(data_stats[i]) - np.asarray(data_stats[j])),ord = 2)) for j in compare_to]\n",
    "    return distance\n"
   ]
  },
  {
   "cell_type": "code",
   "execution_count": 36,
   "metadata": {
    "collapsed": true
   },
   "outputs": [],
   "source": [
    "positive_distance = get_distance(positive_data_stats)"
   ]
  },
  {
   "cell_type": "code",
   "execution_count": 37,
   "metadata": {},
   "outputs": [
    {
     "data": {
      "text/plain": [
       "defaultdict(None,\n",
       "            {'fluwatch': [('nyumc', 0.56014723905669062),\n",
       "              ('goviral', 0.64451056422949071),\n",
       "              ('hongkong', 0.41841266237644892),\n",
       "              ('hutterite', 0.36922323903337906)],\n",
       "             'goviral': [('nyumc', 0.60523248233044791),\n",
       "              ('fluwatch', 0.64451056422949071),\n",
       "              ('hongkong', 0.61349935589774407),\n",
       "              ('hutterite', 0.5578155626145892)],\n",
       "             'hongkong': [('nyumc', 0.51544760098981524),\n",
       "              ('goviral', 0.61349935589774407),\n",
       "              ('fluwatch', 0.41841266237644892),\n",
       "              ('hutterite', 0.36774947307054651)],\n",
       "             'hutterite': [('nyumc', 0.51153969317164172),\n",
       "              ('goviral', 0.5578155626145892),\n",
       "              ('fluwatch', 0.36922323903337906),\n",
       "              ('hongkong', 0.36774947307054651)],\n",
       "             'nyumc': [('goviral', 0.60523248233044791),\n",
       "              ('fluwatch', 0.56014723905669062),\n",
       "              ('hongkong', 0.51544760098981524),\n",
       "              ('hutterite', 0.51153969317164172)]})"
      ]
     },
     "execution_count": 37,
     "metadata": {},
     "output_type": "execute_result"
    }
   ],
   "source": [
    "positive_distance"
   ]
  },
  {
   "cell_type": "code",
   "execution_count": 38,
   "metadata": {},
   "outputs": [
    {
     "data": {
      "image/png": "[encoded data removed]",
      "text/plain": [
       "<matplotlib.figure.Figure at 0x117c09908>"
      ]
     },
     "metadata": {},
     "output_type": "display_data"
    }
   ],
   "source": [
    "positive_distances = create_plots(['nyumc','goviral','fluwatch','hongkong','hutterite'],\n",
    "                  positive_distance,\n",
    "                  'Dataset',\n",
    "                  ['hutterite','hongkong','fluwatch','goviral','nyumc'],'distance',\n",
    "                  'Distance : symptoms and demographics')"
   ]
  },
  {
   "cell_type": "code",
   "execution_count": null,
   "metadata": {
    "collapsed": true
   },
   "outputs": [],
   "source": []
  },
  {
   "cell_type": "code",
   "execution_count": null,
   "metadata": {
    "collapsed": true
   },
   "outputs": [],
   "source": []
  }
 ],
 "metadata": {
  "kernelspec": {
   "display_name": "Python 3",
   "language": "python",
   "name": "python3"
  },
  "language_info": {
   "codemirror_mode": {
    "name": "ipython",
    "version": 3
   },
   "file_extension": ".py",
   "mimetype": "text/x-python",
   "name": "python",
   "nbconvert_exporter": "python",
   "pygments_lexer": "ipython3",
   "version": "3.6.1"
  }
 },
 "nbformat": 4,
 "nbformat_minor": 2
}
