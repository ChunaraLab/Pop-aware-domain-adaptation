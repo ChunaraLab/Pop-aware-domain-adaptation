{
 "cells": [
  {
   "cell_type": "code",
   "execution_count": 1,
   "metadata": {
    "collapsed": true
   },
   "outputs": [],
   "source": [
    "import pandas as pd\n",
    "import numpy as np\n",
    "import os\n",
    "import time\n",
    "from collections import defaultdict\n",
    "from sklearn import linear_model\n",
    "from sklearn.metrics import accuracy_score,f1_score,recall_score,roc_curve\n",
    "from sklearn import metrics\n",
    "import seaborn as sns\n",
    "import matplotlib.pyplot as plt"
   ]
  },
  {
   "cell_type": "markdown",
   "metadata": {},
   "source": [
    "Flat Domain adaptation, one dataset is held out, the model is trained on the remaining four datasets. Prediction is done using the parameters of the dataset that is closest to the held out one."
   ]
  },
  {
   "cell_type": "code",
   "execution_count": 2,
   "metadata": {
    "collapsed": true
   },
   "outputs": [],
   "source": [
    "TRAIN_DIRECTORY = \"../.././Data/Only_Symptoms/Total/\"\n",
    "TEST_DIRECTORY = \"../.././Data/Only_Symptoms/Total/\"\n",
    "coefficients = defaultdict()"
   ]
  },
  {
   "cell_type": "code",
   "execution_count": 3,
   "metadata": {
    "collapsed": true
   },
   "outputs": [],
   "source": [
    "def read_file(filename):\n",
    "    return pd.read_csv(filename)"
   ]
  },
  {
   "cell_type": "code",
   "execution_count": 4,
   "metadata": {
    "collapsed": true
   },
   "outputs": [],
   "source": [
    "def get_training_data(files_):\n",
    "    data = defaultdict()\n",
    "    columns = defaultdict()\n",
    "    for i in files_:\n",
    "        name = i\n",
    "        name = name.replace('.csv','')\n",
    "        data[name] = read_file(TRAIN_DIRECTORY+i)\n",
    "        columns[name] = list(data[name].columns)\n",
    "        columns[name].remove('virus')\n",
    "    return data,columns"
   ]
  },
  {
   "cell_type": "code",
   "execution_count": 5,
   "metadata": {
    "collapsed": true
   },
   "outputs": [],
   "source": [
    "def overlap_columns(columns_):\n",
    "    all_columns = list(columns_.values())\n",
    "    overlap = list(set(all_columns[0]) & set(all_columns[1]) & set(all_columns[2]) & set(all_columns[3]))\n",
    "    return overlap\n",
    "    "
   ]
  },
  {
   "cell_type": "code",
   "execution_count": 6,
   "metadata": {
    "collapsed": true
   },
   "outputs": [],
   "source": [
    "def create_columns(columns_):\n",
    "    overlap = overlap_columns(columns_)\n",
    "    new_columns = []\n",
    "    temp = []\n",
    "    for i in columns_.keys():\n",
    "        x = [i.replace('.csv','')+'_'+j for j in columns_[i]]\n",
    "        temp.append(x)\n",
    "    t = [val for sublist in temp for val in sublist]\n",
    "    new_columns = t + overlap\n",
    "    new_columns.append('virus')\n",
    "    return new_columns"
   ]
  },
  {
   "cell_type": "code",
   "execution_count": 7,
   "metadata": {
    "collapsed": true
   },
   "outputs": [],
   "source": [
    "def create_new_dataframe(data,columns):\n",
    "    new_columns = create_columns(columns)\n",
    "    new_dataset = defaultdict()\n",
    "    for i,name in enumerate(data.keys()):\n",
    "        new_data = pd.DataFrame(columns=new_columns)\n",
    "        dataset = data[name]\n",
    "        for j in columns[name]:\n",
    "            new_data[name+'_'+j] = dataset[j]\n",
    "            new_data[j] = dataset[j]\n",
    "        new_data['virus'] = dataset['virus']\n",
    "        new_data.fillna(0,inplace=True)\n",
    "        new_dataset[name] = new_data\n",
    "    #concatenate all the dataframe\n",
    "    new_dataset = pd.concat(new_dataset.values())\n",
    "    return new_dataset"
   ]
  },
  {
   "cell_type": "code",
   "execution_count": 8,
   "metadata": {
    "collapsed": true
   },
   "outputs": [],
   "source": [
    "def ml_model(dataset):\n",
    "    lm = linear_model.LogisticRegression()\n",
    "    x_train = dataset.drop(['virus'],axis = 1)\n",
    "    y_train = dataset['virus']\n",
    "    x = lm.fit(x_train,y_train)\n",
    "    coeff = x.coef_.tolist()[0]\n",
    "    return lm,coeff"
   ]
  },
  {
   "cell_type": "markdown",
   "metadata": {},
   "source": [
    "#### Heldout dataset : NYUMC"
   ]
  },
  {
   "cell_type": "code",
   "execution_count": 9,
   "metadata": {
    "collapsed": true
   },
   "outputs": [],
   "source": [
    "files_nyumc = ['goviral.csv','fluwatch.csv','hongkong.csv','hutterite.csv']\n",
    "data_nyumc,columns_nyumc = get_training_data(files_nyumc)\n",
    "\n",
    "#create the dataframe for domain adaptation\n",
    "new_dataset_nyumc = create_new_dataframe(data_nyumc,columns_nyumc)\n",
    "\n",
    "coeff_without_nyumc = ml_model(new_dataset_nyumc)\n",
    "coefficients['nyumc'] = coeff_without_nyumc"
   ]
  },
  {
   "cell_type": "markdown",
   "metadata": {},
   "source": [
    "#### Heldout dataset : Goviral"
   ]
  },
  {
   "cell_type": "code",
   "execution_count": 10,
   "metadata": {
    "collapsed": true
   },
   "outputs": [],
   "source": [
    "files_goviral = ['nyumc.csv','fluwatch.csv','hongkong.csv','hutterite.csv']\n",
    "data_goviral,columns_goviral = get_training_data(files_goviral)\n",
    "new_dataset_goviral = create_new_dataframe(data_goviral,columns_goviral)\n",
    "\n",
    "coeff_without_goviral = ml_model(new_dataset_goviral)\n",
    "coefficients['goviral'] = coeff_without_goviral"
   ]
  },
  {
   "cell_type": "markdown",
   "metadata": {},
   "source": [
    "#### Heldout dataset : FluWatch"
   ]
  },
  {
   "cell_type": "code",
   "execution_count": 11,
   "metadata": {
    "collapsed": true
   },
   "outputs": [],
   "source": [
    "files_fluwatch = ['nyumc.csv','goviral.csv','hongkong.csv','hutterite.csv']\n",
    "data_fluwatch,columns_fluwatch = get_training_data(files_fluwatch)\n",
    "new_dataset_fluwatch = create_new_dataframe(data_fluwatch,columns_fluwatch)\n",
    "\n",
    "coeff_without_fluwatch = ml_model(new_dataset_fluwatch)\n",
    "coefficients['fluwatch'] = coeff_without_fluwatch"
   ]
  },
  {
   "cell_type": "markdown",
   "metadata": {},
   "source": [
    "#### Heldout dataset : HongKong"
   ]
  },
  {
   "cell_type": "code",
   "execution_count": 12,
   "metadata": {
    "collapsed": true
   },
   "outputs": [],
   "source": [
    "files_hongkong = ['nyumc.csv','goviral.csv','fluwatch.csv','hutterite.csv']\n",
    "data_hongkong,columns_hongkong = get_training_data(files_hongkong)\n",
    "new_dataset_hongkong = create_new_dataframe(data_hongkong,columns_hongkong)\n",
    "\n",
    "coeff_without_hongkong = ml_model(new_dataset_hongkong)\n",
    "coefficients['hongkong'] = coeff_without_hongkong"
   ]
  },
  {
   "cell_type": "markdown",
   "metadata": {},
   "source": [
    "#### Heldout dataset : Hutterite"
   ]
  },
  {
   "cell_type": "code",
   "execution_count": 13,
   "metadata": {
    "collapsed": true
   },
   "outputs": [],
   "source": [
    "files_hutterite = ['nyumc.csv','goviral.csv','fluwatch.csv','hongkong.csv']\n",
    "data_hutterite,columns_hutterite = get_training_data(files_hutterite)\n",
    "new_dataset_hutterite = create_new_dataframe(data_hutterite,columns_hutterite)\n",
    "\n",
    "coeff_without_hutterite = ml_model(new_dataset_hutterite)\n",
    "coefficients['hutterite'] = coeff_without_hutterite"
   ]
  },
  {
   "cell_type": "code",
   "execution_count": 14,
   "metadata": {
    "collapsed": true
   },
   "outputs": [],
   "source": [
    "# remove the target variable\n",
    "def remove_target(data_dict):\n",
    "    for i in data_dict.keys():\n",
    "        data_dict[i].drop(['virus'],axis = 1,inplace = True)\n",
    "    return data_dict"
   ]
  },
  {
   "cell_type": "code",
   "execution_count": 15,
   "metadata": {},
   "outputs": [
    {
     "name": "stdout",
     "output_type": "stream",
     "text": [
      "dict_keys(['nyumc', 'goviral', 'fluwatch', 'hongkong', 'hutterite'])\n"
     ]
    }
   ],
   "source": [
    "#get the entire training data\n",
    "files_ = ['nyumc.csv','goviral.csv','fluwatch.csv','hongkong.csv','hutterite.csv']\n",
    "data_,columns_ = get_training_data(files_)\n",
    "print(data_.keys())\n",
    "data_ = remove_target(data_)"
   ]
  },
  {
   "cell_type": "markdown",
   "metadata": {
    "collapsed": true
   },
   "source": [
    "#### Get the statistical measure of the dataset:"
   ]
  },
  {
   "cell_type": "code",
   "execution_count": 16,
   "metadata": {
    "collapsed": true
   },
   "outputs": [],
   "source": [
    "def get_statistical_measure(data_dict):\n",
    "    data_stats = defaultdict()\n",
    "    for i in data_dict.keys():\n",
    "        data_stats[i] = data_dict[i].var(axis = 0)\n",
    "    return data_stats"
   ]
  },
  {
   "cell_type": "code",
   "execution_count": 17,
   "metadata": {
    "collapsed": true
   },
   "outputs": [],
   "source": [
    "data_stats = get_statistical_measure(data_)"
   ]
  },
  {
   "cell_type": "code",
   "execution_count": 18,
   "metadata": {
    "collapsed": true
   },
   "outputs": [],
   "source": [
    "#l2 distance\n",
    "def get_distance(data_stats):\n",
    "\n",
    "    distance = defaultdict()\n",
    "    names = list(data_stats)\n",
    "    for i in names:\n",
    "        compare_to = [j for j in names if j!=i]\n",
    "        distance[i] = [(j,np.linalg.norm((np.asarray(data_stats[i]) - np.asarray(data_stats[j])),ord = 2)) for j in compare_to]\n",
    "    return distance\n"
   ]
  },
  {
   "cell_type": "code",
   "execution_count": 19,
   "metadata": {
    "collapsed": true
   },
   "outputs": [],
   "source": [
    "distance = get_distance(data_stats)\n"
   ]
  },
  {
   "cell_type": "markdown",
   "metadata": {},
   "source": [
    "#### Model for testing the performance"
   ]
  },
  {
   "cell_type": "code",
   "execution_count": 20,
   "metadata": {
    "collapsed": true
   },
   "outputs": [],
   "source": [
    "def test_model(train_data,test_data):\n",
    "    lm,coeff = ml_model(train_data)\n",
    "    train = test_data.drop(['virus'],axis = 1)\n",
    "    test = test_data['virus']\n",
    "    y_pred = lm.predict(train)\n",
    "    acc = accuracy_score(test,y_pred)\n",
    "    fpr,tpr,threshold = roc_curve(test,y_pred)\n",
    "    auc_score = metrics.auc(fpr,tpr)\n",
    "    return acc,auc_score\n",
    "    "
   ]
  },
  {
   "cell_type": "markdown",
   "metadata": {},
   "source": [
    "#### Prepare data for testing"
   ]
  },
  {
   "cell_type": "code",
   "execution_count": 21,
   "metadata": {
    "collapsed": true
   },
   "outputs": [],
   "source": [
    "data_,columns = get_training_data(files_)"
   ]
  },
  {
   "cell_type": "code",
   "execution_count": 22,
   "metadata": {
    "collapsed": true
   },
   "outputs": [],
   "source": [
    "def create_data_for_testing(data,name,columns_):\n",
    "    new_data = pd.DataFrame(columns = columns_)\n",
    "    columns_for_data = list(data.columns)\n",
    "    col = [x for x in columns_for_data if x != 'virus']\n",
    "    for i in col:\n",
    "        new_data[name+'_'+i] = data[i]\n",
    "        new_data[i] = data[i]\n",
    "    new_data['virus'] = data['virus']\n",
    "    new_data.fillna(0,inplace = True)\n",
    "    return new_data"
   ]
  },
  {
   "cell_type": "code",
   "execution_count": 23,
   "metadata": {
    "collapsed": true
   },
   "outputs": [],
   "source": [
    "def test_against_all(dataset_name,to_be_tested_names,data_,original_data,store_):\n",
    "    columns = list(original_data.columns)\n",
    "    data = data_[dataset_name]\n",
    "    for i in to_be_tested_names:\n",
    "        temp_data = create_data_for_testing(data,i,columns)\n",
    "        acc,auc_score = test_model(original_data,temp_data)\n",
    "        print(\"Comparing against \",i)\n",
    "        print(\"Accuracy : \",acc)\n",
    "        print(\"Auc Score : \",auc_score)\n",
    "        print(\"____________________________\")\n",
    "        store_[i] = auc_score\n",
    "    return store_"
   ]
  },
  {
   "cell_type": "markdown",
   "metadata": {},
   "source": [
    "#### Test NYUMC"
   ]
  },
  {
   "cell_type": "code",
   "execution_count": 24,
   "metadata": {},
   "outputs": [
    {
     "name": "stdout",
     "output_type": "stream",
     "text": [
      "Testing NYUMC Data!\n",
      "\n",
      "Comparing against  goviral\n",
      "Accuracy :  0.697265714155\n",
      "Auc Score :  0.389257366288\n",
      "____________________________\n",
      "Comparing against  fluwatch\n",
      "Accuracy :  0.144109188844\n",
      "Auc Score :  0.0855787863751\n",
      "____________________________\n",
      "Comparing against  hongkong\n",
      "Accuracy :  0.424978317433\n",
      "Auc Score :  0.615690147314\n",
      "____________________________\n",
      "Comparing against  hutterite\n",
      "Accuracy :  0.215547541882\n",
      "Auc Score :  0.484616733064\n",
      "____________________________\n"
     ]
    }
   ],
   "source": [
    "store_nyumc = defaultdict()\n",
    "print(\"Testing NYUMC Data!\\n\")\n",
    "store_nyumc = test_against_all('nyumc',['goviral','fluwatch','hongkong','hutterite'],data_,new_dataset_nyumc,store_nyumc)"
   ]
  },
  {
   "cell_type": "code",
   "execution_count": 25,
   "metadata": {},
   "outputs": [
    {
     "data": {
      "text/plain": [
       "defaultdict(None,\n",
       "            {'fluwatch': 0.085578786375050966,\n",
       "             'goviral': 0.38925736628756213,\n",
       "             'hongkong': 0.61569014731429383,\n",
       "             'hutterite': 0.48461673306448311})"
      ]
     },
     "execution_count": 25,
     "metadata": {},
     "output_type": "execute_result"
    }
   ],
   "source": [
    "store_nyumc"
   ]
  },
  {
   "cell_type": "markdown",
   "metadata": {},
   "source": [
    "#### Test Goviral"
   ]
  },
  {
   "cell_type": "code",
   "execution_count": 26,
   "metadata": {},
   "outputs": [
    {
     "name": "stdout",
     "output_type": "stream",
     "text": [
      "Testing Goviral data!\n",
      "\n",
      "Comparing against  nyumc\n",
      "Accuracy :  0.476923076923\n",
      "Auc Score :  0.519155449512\n",
      "____________________________\n",
      "Comparing against  fluwatch\n",
      "Accuracy :  0.513461538462\n",
      "Auc Score :  0.557849007338\n",
      "____________________________\n",
      "Comparing against  hongkong\n",
      "Accuracy :  0.686538461538\n",
      "Auc Score :  0.684576599289\n",
      "____________________________\n",
      "Comparing against  hutterite\n",
      "Accuracy :  0.748076923077\n",
      "Auc Score :  0.745606926875\n",
      "____________________________\n"
     ]
    }
   ],
   "source": [
    "store_gv = defaultdict()\n",
    "print(\"Testing Goviral data!\\n\")\n",
    "store_gv = test_against_all('goviral',['nyumc','fluwatch','hongkong','hutterite'],data_,new_dataset_goviral,store_gv)"
   ]
  },
  {
   "cell_type": "code",
   "execution_count": 27,
   "metadata": {},
   "outputs": [
    {
     "data": {
      "text/plain": [
       "defaultdict(None,\n",
       "            {'fluwatch': 0.55784900733804532,\n",
       "             'hongkong': 0.68457659928870485,\n",
       "             'hutterite': 0.74560692687465302,\n",
       "             'nyumc': 0.51915544951154735})"
      ]
     },
     "execution_count": 27,
     "metadata": {},
     "output_type": "execute_result"
    }
   ],
   "source": [
    "store_gv"
   ]
  },
  {
   "cell_type": "markdown",
   "metadata": {},
   "source": [
    "#### Test Fluwatch"
   ]
  },
  {
   "cell_type": "code",
   "execution_count": 28,
   "metadata": {},
   "outputs": [
    {
     "name": "stdout",
     "output_type": "stream",
     "text": [
      "Testing FluWatch data!\n",
      "\n",
      "Comparing against  nyumc\n",
      "Accuracy :  0.512568306011\n",
      "Auc Score :  0.525679620507\n",
      "____________________________\n",
      "Comparing against  goviral\n",
      "Accuracy :  0.548633879781\n",
      "Auc Score :  0.540351517363\n",
      "____________________________\n",
      "Comparing against  hongkong\n",
      "Accuracy :  0.498360655738\n",
      "Auc Score :  0.451506720185\n",
      "____________________________\n",
      "Comparing against  hutterite\n",
      "Accuracy :  0.618579234973\n",
      "Auc Score :  0.610662591984\n",
      "____________________________\n"
     ]
    }
   ],
   "source": [
    "store_fw = defaultdict()\n",
    "print(\"Testing FluWatch data!\\n\")\n",
    "store_fw = test_against_all('fluwatch',['nyumc','goviral','hongkong','hutterite'],data_,new_dataset_fluwatch,store_fw)"
   ]
  },
  {
   "cell_type": "code",
   "execution_count": 29,
   "metadata": {},
   "outputs": [
    {
     "data": {
      "text/plain": [
       "defaultdict(None,\n",
       "            {'goviral': 0.54035151736301168,\n",
       "             'hongkong': 0.45150672018488114,\n",
       "             'hutterite': 0.61066259198443107,\n",
       "             'nyumc': 0.52567962050720674})"
      ]
     },
     "execution_count": 29,
     "metadata": {},
     "output_type": "execute_result"
    }
   ],
   "source": [
    "store_fw"
   ]
  },
  {
   "cell_type": "markdown",
   "metadata": {},
   "source": [
    "#### Test Hongkong"
   ]
  },
  {
   "cell_type": "code",
   "execution_count": 30,
   "metadata": {},
   "outputs": [
    {
     "name": "stdout",
     "output_type": "stream",
     "text": [
      "Testing Hongkong!\n",
      "\n",
      "Comparing against  nyumc\n",
      "Accuracy :  0.764432781591\n",
      "Auc Score :  0.664985099033\n",
      "____________________________\n",
      "Comparing against  goviral\n",
      "Accuracy :  0.84658861526\n",
      "Auc Score :  0.781138766072\n",
      "____________________________\n",
      "Comparing against  fluwatch\n",
      "Accuracy :  0.748687928946\n",
      "Auc Score :  0.65692946199\n",
      "____________________________\n",
      "Comparing against  hutterite\n",
      "Accuracy :  0.810052482842\n",
      "Auc Score :  0.769685349429\n",
      "____________________________\n"
     ]
    }
   ],
   "source": [
    "store_hk = defaultdict()\n",
    "print(\"Testing Hongkong!\\n\")\n",
    "store_hk = test_against_all('hongkong',['nyumc','goviral','fluwatch','hutterite'],data_,new_dataset_hongkong,store_hk)"
   ]
  },
  {
   "cell_type": "code",
   "execution_count": 31,
   "metadata": {},
   "outputs": [
    {
     "data": {
      "text/plain": [
       "defaultdict(None,\n",
       "            {'fluwatch': 0.6569294619900915,\n",
       "             'goviral': 0.78113876607228694,\n",
       "             'hutterite': 0.76968534942860267,\n",
       "             'nyumc': 0.66498509903302294})"
      ]
     },
     "execution_count": 31,
     "metadata": {},
     "output_type": "execute_result"
    }
   ],
   "source": [
    "store_hk"
   ]
  },
  {
   "cell_type": "markdown",
   "metadata": {},
   "source": [
    "#### Test hutterite"
   ]
  },
  {
   "cell_type": "code",
   "execution_count": 32,
   "metadata": {},
   "outputs": [
    {
     "name": "stdout",
     "output_type": "stream",
     "text": [
      "Testing hutterite!\n",
      "\n",
      "Comparing against  nyumc\n",
      "Accuracy :  0.478532396565\n",
      "Auc Score :  0.553747897258\n",
      "____________________________\n",
      "Comparing against  goviral\n",
      "Accuracy :  0.644808743169\n",
      "Auc Score :  0.664578499812\n",
      "____________________________\n",
      "Comparing against  fluwatch\n",
      "Accuracy :  0.630757220921\n",
      "Auc Score :  0.681027475835\n",
      "____________________________\n",
      "Comparing against  hongkong\n",
      "Accuracy :  0.669008587041\n",
      "Auc Score :  0.634156253697\n",
      "____________________________\n"
     ]
    }
   ],
   "source": [
    "store_ht = defaultdict()\n",
    "print(\"Testing hutterite!\\n\")\n",
    "store_ht = test_against_all('hutterite',['nyumc','goviral','fluwatch','hongkong'],data_,new_dataset_hutterite,store_ht)"
   ]
  },
  {
   "cell_type": "code",
   "execution_count": 33,
   "metadata": {},
   "outputs": [
    {
     "data": {
      "text/plain": [
       "defaultdict(None,\n",
       "            {'fluwatch': 0.68102747583453793,\n",
       "             'goviral': 0.66457849981223227,\n",
       "             'hongkong': 0.63415625369748285,\n",
       "             'nyumc': 0.55374789725756091})"
      ]
     },
     "execution_count": 33,
     "metadata": {},
     "output_type": "execute_result"
    }
   ],
   "source": [
    "store_ht"
   ]
  },
  {
   "cell_type": "code",
   "execution_count": 34,
   "metadata": {},
   "outputs": [
    {
     "data": {
      "text/plain": [
       "defaultdict(None,\n",
       "            {'fluwatch': defaultdict(None,\n",
       "                         {'goviral': 0.54035151736301168,\n",
       "                          'hongkong': 0.45150672018488114,\n",
       "                          'hutterite': 0.61066259198443107,\n",
       "                          'nyumc': 0.52567962050720674}),\n",
       "             'goviral': defaultdict(None,\n",
       "                         {'fluwatch': 0.55784900733804532,\n",
       "                          'hongkong': 0.68457659928870485,\n",
       "                          'hutterite': 0.74560692687465302,\n",
       "                          'nyumc': 0.51915544951154735}),\n",
       "             'hongkong': defaultdict(None,\n",
       "                         {'fluwatch': 0.6569294619900915,\n",
       "                          'goviral': 0.78113876607228694,\n",
       "                          'hutterite': 0.76968534942860267,\n",
       "                          'nyumc': 0.66498509903302294}),\n",
       "             'hutterite': defaultdict(None,\n",
       "                         {'fluwatch': 0.68102747583453793,\n",
       "                          'goviral': 0.66457849981223227,\n",
       "                          'hongkong': 0.63415625369748285,\n",
       "                          'nyumc': 0.55374789725756091}),\n",
       "             'nyumc': defaultdict(None,\n",
       "                         {'fluwatch': 0.085578786375050966,\n",
       "                          'goviral': 0.38925736628756213,\n",
       "                          'hongkong': 0.61569014731429383,\n",
       "                          'hutterite': 0.48461673306448311})})"
      ]
     },
     "execution_count": 34,
     "metadata": {},
     "output_type": "execute_result"
    }
   ],
   "source": [
    "results = defaultdict()\n",
    "results['nyumc'] = store_nyumc\n",
    "results['goviral'] = store_gv\n",
    "results['fluwatch'] = store_fw\n",
    "results['hongkong'] = store_hk\n",
    "results['hutterite'] = store_ht\n",
    "results"
   ]
  },
  {
   "cell_type": "code",
   "execution_count": 35,
   "metadata": {},
   "outputs": [
    {
     "name": "stdout",
     "output_type": "stream",
     "text": [
      "nyumc\n",
      "('hongkong', 0.46794596727436427)\n",
      "____________\n",
      "goviral\n",
      "('hutterite', 1.0853978426482258)\n",
      "____________\n",
      "fluwatch\n",
      "('hutterite', 0.81244322244654488)\n",
      "____________\n",
      "hongkong\n",
      "('nyumc', 0.46794596727436427)\n",
      "____________\n",
      "hutterite\n",
      "('hongkong', 0.56378519256897985)\n",
      "____________\n"
     ]
    }
   ],
   "source": [
    "for k,v in distance.items():\n",
    "    print(k)\n",
    "    print(min(v, key = lambda t:t[1]))\n",
    "    print(\"____________\")"
   ]
  },
  {
   "cell_type": "markdown",
   "metadata": {},
   "source": [
    "#### Considering only the symptoms where the target is positive"
   ]
  },
  {
   "cell_type": "code",
   "execution_count": 36,
   "metadata": {
    "collapsed": true
   },
   "outputs": [],
   "source": [
    "data_,columns = get_training_data(files_)"
   ]
  },
  {
   "cell_type": "code",
   "execution_count": 37,
   "metadata": {
    "collapsed": true
   },
   "outputs": [],
   "source": [
    "def only_positive_data_stats(data_dict):\n",
    "    data_stats = defaultdict()\n",
    "    for i in data_dict.keys():\n",
    "        data = data_dict[i]\n",
    "        data = data.loc[data['virus'] == 1]\n",
    "        data_stats[i] = data.var(axis = 0)\n",
    "    return data_stats"
   ]
  },
  {
   "cell_type": "code",
   "execution_count": 38,
   "metadata": {
    "collapsed": true,
    "scrolled": false
   },
   "outputs": [],
   "source": [
    "positive_data_stats = only_positive_data_stats(data_)"
   ]
  },
  {
   "cell_type": "code",
   "execution_count": 39,
   "metadata": {
    "collapsed": true
   },
   "outputs": [],
   "source": [
    "positive_distance = get_distance(positive_data_stats)"
   ]
  },
  {
   "cell_type": "markdown",
   "metadata": {},
   "source": [
    "#### compare the variance when only the positive target is considered whereas the total"
   ]
  },
  {
   "cell_type": "code",
   "execution_count": 45,
   "metadata": {
    "collapsed": true
   },
   "outputs": [],
   "source": [
    "def create_plots(columns,dict_,name,order,label,title):\n",
    "    df = pd.DataFrame(columns)\n",
    "    df_list = []\n",
    "    for i in dict_.keys():\n",
    "        df_list.append(pd.DataFrame({k:[v] for (k,v) in dict(dict_[i]).items()}))\n",
    "    df = pd.concat(df_list)\n",
    "#     df.fillna(0,inplace = True)\n",
    "    df[name] = columns\n",
    "    df.set_index(name,inplace = True)\n",
    "    df = df[order]\n",
    "    sns.set()\n",
    "    ax = plt.axes()\n",
    "    sns.heatmap(df,annot=True,linewidth = 0.8,ax = ax,cbar_kws = {'label' : label},fmt='f')\n",
    "    ax.set_title(title)\n",
    "    ax.set_xlabel('Dataset')\n",
    "    plt.show()\n",
    "    return df\n",
    "    "
   ]
  },
  {
   "cell_type": "code",
   "execution_count": null,
   "metadata": {
    "collapsed": true
   },
   "outputs": [],
   "source": []
  },
  {
   "cell_type": "code",
   "execution_count": 41,
   "metadata": {},
   "outputs": [
    {
     "data": {
      "image/png": "[encoded data removed]",
      "text/plain": [
       "<matplotlib.figure.Figure at 0x118e73f28>"
      ]
     },
     "metadata": {},
     "output_type": "display_data"
    }
   ],
   "source": [
    "positive_distances = create_plots(['nyumc','goviral','fluwatch','hongkong','hutterite'],\n",
    "                  positive_distance,\n",
    "                  'Dataset',\n",
    "                  ['hutterite','hongkong','fluwatch','goviral','nyumc'],'distance',\n",
    "                  'Distance : only symptoms')"
   ]
  },
  {
   "cell_type": "code",
   "execution_count": 42,
   "metadata": {},
   "outputs": [
    {
     "data": {
      "image/png": "[encoded data removed]",
      "text/plain": [
       "<matplotlib.figure.Figure at 0x11a6608d0>"
      ]
     },
     "metadata": {},
     "output_type": "display_data"
    }
   ],
   "source": [
    "general_distance = create_plots(['nyumc','goviral','fluwatch','hongkong','hutterite'],\n",
    "                  distance,\n",
    "                  'Dataset',\n",
    "                  ['hutterite','hongkong','fluwatch','goviral','nyumc'],'distance',\n",
    "                  'Distance : only target variable')"
   ]
  },
  {
   "cell_type": "code",
   "execution_count": null,
   "metadata": {
    "collapsed": true
   },
   "outputs": [],
   "source": []
  },
  {
   "cell_type": "code",
   "execution_count": 46,
   "metadata": {},
   "outputs": [
    {
     "data": {
      "image/png": "[encoded data removed]",
      "text/plain": [
       "<matplotlib.figure.Figure at 0x11b515a58>"
      ]
     },
     "metadata": {},
     "output_type": "display_data"
    }
   ],
   "source": [
    "nyumc = create_plots(['nyumc','goviral','fluwatch','hongkong','hutterite'], \n",
    "                     results, \n",
    "                     'Dataset',\n",
    "                     ['hutterite','hongkong','fluwatch','goviral','nyumc'],'AUC Scores','FRED : AUC scores only symptoms')"
   ]
  },
  {
   "cell_type": "code",
   "execution_count": 44,
   "metadata": {},
   "outputs": [
    {
     "data": {
      "text/plain": [
       "defaultdict(None,\n",
       "            {'fluwatch': defaultdict(None,\n",
       "                         {'goviral': 0.54035151736301168,\n",
       "                          'hongkong': 0.45150672018488114,\n",
       "                          'hutterite': 0.61066259198443107,\n",
       "                          'nyumc': 0.52567962050720674}),\n",
       "             'goviral': defaultdict(None,\n",
       "                         {'fluwatch': 0.55784900733804532,\n",
       "                          'hongkong': 0.68457659928870485,\n",
       "                          'hutterite': 0.74560692687465302,\n",
       "                          'nyumc': 0.51915544951154735}),\n",
       "             'hongkong': defaultdict(None,\n",
       "                         {'fluwatch': 0.6569294619900915,\n",
       "                          'goviral': 0.78113876607228694,\n",
       "                          'hutterite': 0.76968534942860267,\n",
       "                          'nyumc': 0.66498509903302294}),\n",
       "             'hutterite': defaultdict(None,\n",
       "                         {'fluwatch': 0.68102747583453793,\n",
       "                          'goviral': 0.66457849981223227,\n",
       "                          'hongkong': 0.63415625369748285,\n",
       "                          'nyumc': 0.55374789725756091}),\n",
       "             'nyumc': defaultdict(None,\n",
       "                         {'fluwatch': 0.085578786375050966,\n",
       "                          'goviral': 0.38925736628756213,\n",
       "                          'hongkong': 0.61569014731429383,\n",
       "                          'hutterite': 0.48461673306448311})})"
      ]
     },
     "execution_count": 44,
     "metadata": {},
     "output_type": "execute_result"
    }
   ],
   "source": [
    "results"
   ]
  },
  {
   "cell_type": "code",
   "execution_count": null,
   "metadata": {
    "collapsed": true
   },
   "outputs": [],
   "source": []
  },
  {
   "cell_type": "code",
   "execution_count": null,
   "metadata": {
    "collapsed": true
   },
   "outputs": [],
   "source": []
  },
  {
   "cell_type": "code",
   "execution_count": null,
   "metadata": {
    "collapsed": true
   },
   "outputs": [],
   "source": []
  }
 ],
 "metadata": {
  "kernelspec": {
   "display_name": "Python 3",
   "language": "python",
   "name": "python3"
  },
  "language_info": {
   "codemirror_mode": {
    "name": "ipython",
    "version": 3
   },
   "file_extension": ".py",
   "mimetype": "text/x-python",
   "name": "python",
   "nbconvert_exporter": "python",
   "pygments_lexer": "ipython3",
   "version": "3.6.1"
  }
 },
 "nbformat": 4,
 "nbformat_minor": 2
}
