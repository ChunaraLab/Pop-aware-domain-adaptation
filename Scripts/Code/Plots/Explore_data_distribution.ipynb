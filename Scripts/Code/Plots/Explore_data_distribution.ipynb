{
 "cells": [
  {
   "cell_type": "markdown",
   "metadata": {},
   "source": [
    "#### Explore the data distribution\n",
    "* How does the data look?\n",
    "* Is the distribution similar in all the population/domains?\n",
    "* How does the data distribution help in defining the trasport over observational data?\n"
   ]
  },
  {
   "cell_type": "code",
   "execution_count": 214,
   "metadata": {
    "collapsed": true
   },
   "outputs": [],
   "source": [
    "from __future__ import print_function\n",
    "import pandas as pd\n",
    "import numpy as np\n",
    "import matplotlib.pyplot as plt\n",
    "import seaborn as sns\n",
    "%matplotlib inline\n"
   ]
  },
  {
   "cell_type": "code",
   "execution_count": 215,
   "metadata": {
    "collapsed": true
   },
   "outputs": [],
   "source": [
    "data_dir = \"../../Data/\""
   ]
  },
  {
   "cell_type": "markdown",
   "metadata": {},
   "source": [
    "Since we are interested in finding the $P(symptom|Flu)$, we only sample data for positive flu cases."
   ]
  },
  {
   "cell_type": "code",
   "execution_count": 216,
   "metadata": {
    "collapsed": true
   },
   "outputs": [],
   "source": [
    "def read_data(filename):\n",
    "    data = pd.read_csv(filename)\n",
    "    data = data.loc[data['virus'] == 1]\n",
    "    return data"
   ]
  },
  {
   "cell_type": "markdown",
   "metadata": {},
   "source": [
    "The symptom variables have two values : {0,1}. Hence this can be modelled as a bernoulli distribution. Each symptom is denoted as a bernoulli distribution by a histrogram denoting the probability of occurence of the symptom."
   ]
  },
  {
   "cell_type": "code",
   "execution_count": 217,
   "metadata": {
    "collapsed": true
   },
   "outputs": [],
   "source": [
    "symptoms = ['fever','cough','muscle','sorethroat']"
   ]
  },
  {
   "cell_type": "code",
   "execution_count": 247,
   "metadata": {
    "collapsed": true
   },
   "outputs": [],
   "source": [
    "#the input to this function is a list of numpy arrays where\n",
    "#each element of the array has the frequency of 0s and 1s of the particular symptoms\n",
    "#in the order of the symptom mentioned in symptoms\n",
    "def plot_bernoulli(df1,df2,df3,df4,title):\n",
    "    \n",
    "    colors = ['b','g','r','y']\n",
    "    plt.figure(figsize=(14,10))\n",
    "    fig, ax1 = plt.subplots()\n",
    "    ax1.hist([df1['sorethroat'],df2['sorethroat'],df3['sorethroat'],df4['sorethroat']],alpha = 0.5,color=colors,\n",
    "            label = ['GoViral','Fluwatch','Hongkong','Hutterite'])\n",
    "    ax1.set_xlim(0,1)\n",
    "    ax1.set_ylabel(\"Count\",fontsize=12)\n",
    "    ax1.set_xlabel(\"Symptom value\",fontsize = 12)\n",
    "    plt.xticks(fontsize=12)\n",
    "    plt.yticks(fontsize=12)\n",
    "#     plt.tight_layout()\n",
    "    plt.title(\"Sorethroat distribution across different datasets\")\n",
    "    plt.legend(loc = 'best',fontsize=12)\n",
    "    plt.savefig(\"Combined_sorethroat.pdf\",bounds='tight')\n",
    "    plt.show()\n",
    "\n",
    "#     sns.distplot(df1['fever'],hist = True,kde = False)\n",
    "#     sns.distplot(df2['fever'],hist = True,kde= False)\n",
    "#     sns.distplot(df3['fever'],hist = True,kde= False)\n",
    "#     ax = sns.distplot(df4['fever'],hist = True, kde = False)\n",
    "#     ax.set(xlabel = 'Symptom value',ylabel = 'Normalized Frequency')\n",
    "#     ax.set_xlim(0,1)\n",
    "#     plt.show()\n",
    "#     for i in symptoms:\n",
    "#         sns.set()\n",
    "#         ax = sns.distplot(df[i],kde = True)\n",
    "#         ax = sns.distplot(df[i],kde = True)\n",
    "        \n",
    "#         ax.set(xlabel = 'Symptom value',ylabel = 'Normalized Frequency')\n",
    "#         ax.set_xlim(0,1)\n",
    "#         plt.title(i+\" \" + title)\n",
    "# #         plt.savefig(\"../Fig/\"+i+title+\".pdf\",bounds='tight')\n",
    "#         plt.close()\n",
    "        \n"
   ]
  },
  {
   "cell_type": "markdown",
   "metadata": {},
   "source": [
    "#### The study includes 4 datasets : GoViral, Fluwatch, HongKong, Hutterite"
   ]
  },
  {
   "cell_type": "code",
   "execution_count": 248,
   "metadata": {},
   "outputs": [
    {
     "data": {
      "text/plain": [
       "<matplotlib.figure.Figure at 0x201b5b2fd0>"
      ]
     },
     "metadata": {},
     "output_type": "display_data"
    },
    {
     "data": {
      "image/png": "[encoded data removed]",
      "text/plain": [
       "<matplotlib.figure.Figure at 0x201bc8b668>"
      ]
     },
     "metadata": {},
     "output_type": "display_data"
    }
   ],
   "source": [
    "if __name__ == '__main__':\n",
    "    #read_goviral\n",
    "    gv = read_data(data_dir+\"goviral.csv\")\n",
    "#     plot_bernoulli(gv,\"distribution for Goviral.\")\n",
    "    \n",
    "    #plot for fluwatch\n",
    "    fw = read_data(data_dir+\"fluwatch.csv\")\n",
    "#     plot_bernoulli(fw,\"distribution for Fluwatch.\")\n",
    "    \n",
    "    #plot for hongkong\n",
    "    hk = read_data(data_dir+\"hongkong.csv\")\n",
    "#     plot_bernoulli(hk,\"distribution for HongKong.\")\n",
    "    \n",
    "    #plot for hutterite\n",
    "    ht = read_data(data_dir+\"hutterite.csv\")\n",
    "    plot_bernoulli(gv,fw,hk,ht,\"distribution for Hutterite.\")\n",
    "    \n",
    "    \n",
    "    \n",
    "    \n",
    "#     fw = read_data(data_dir+\"fluwatch.csv\")\n",
    "#     hk = read_data(data_dir+\"hongkong.csv\")\n",
    "#     ht = read_data(data_dir+\"hutterite.csv\")\n",
    "#     gv_arr = transform_data_for_plot(gv)\n"
   ]
  },
  {
   "cell_type": "code",
   "execution_count": null,
   "metadata": {
    "collapsed": true
   },
   "outputs": [],
   "source": []
  },
  {
   "cell_type": "code",
   "execution_count": null,
   "metadata": {
    "collapsed": true
   },
   "outputs": [],
   "source": []
  },
  {
   "cell_type": "code",
   "execution_count": null,
   "metadata": {
    "collapsed": true
   },
   "outputs": [],
   "source": []
  },
  {
   "cell_type": "code",
   "execution_count": null,
   "metadata": {
    "collapsed": true
   },
   "outputs": [],
   "source": []
  },
  {
   "cell_type": "code",
   "execution_count": null,
   "metadata": {
    "collapsed": true
   },
   "outputs": [],
   "source": []
  },
  {
   "cell_type": "code",
   "execution_count": null,
   "metadata": {
    "collapsed": true
   },
   "outputs": [],
   "source": []
  },
  {
   "cell_type": "code",
   "execution_count": null,
   "metadata": {
    "collapsed": true
   },
   "outputs": [],
   "source": []
  },
  {
   "cell_type": "code",
   "execution_count": null,
   "metadata": {
    "collapsed": true
   },
   "outputs": [],
   "source": []
  }
 ],
 "metadata": {
  "kernelspec": {
   "display_name": "Python 3",
   "language": "python",
   "name": "python3"
  },
  "language_info": {
   "codemirror_mode": {
    "name": "ipython",
    "version": 3
   },
   "file_extension": ".py",
   "mimetype": "text/x-python",
   "name": "python",
   "nbconvert_exporter": "python",
   "pygments_lexer": "ipython3",
   "version": "3.5.4"
  }
 },
 "nbformat": 4,
 "nbformat_minor": 2
}
