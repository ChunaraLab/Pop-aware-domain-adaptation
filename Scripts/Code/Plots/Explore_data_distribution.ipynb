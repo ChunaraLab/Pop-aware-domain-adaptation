{
 "cells": [
  {
   "cell_type": "markdown",
   "metadata": {},
   "source": [
    "#### Explore the data distribution\n",
    "* How does the data look?\n",
    "* Is the distribution similar in all the population/domains?\n",
    "* How does the data distribution help in defining the trasport over observational data?\n"
   ]
  },
  {
   "cell_type": "code",
   "execution_count": 1,
   "metadata": {
    "collapsed": true
   },
   "outputs": [],
   "source": [
    "from __future__ import print_function\n",
    "import pandas as pd\n",
    "import numpy as np\n",
    "import matplotlib.pyplot as plt\n",
    "import seaborn as sns\n",
    "%matplotlib inline\n"
   ]
  },
  {
   "cell_type": "code",
   "execution_count": 2,
   "metadata": {
    "collapsed": true
   },
   "outputs": [],
   "source": [
    "data_dir = \"../../Data/\""
   ]
  },
  {
   "cell_type": "markdown",
   "metadata": {},
   "source": [
    "Since we are interested in finding the $P(symptom|Flu)$, we only sample data for positive flu cases."
   ]
  },
  {
   "cell_type": "code",
   "execution_count": 14,
   "metadata": {
    "collapsed": true
   },
   "outputs": [],
   "source": [
    "def read_data(filename):\n",
    "    data = pd.read_csv(filename)\n",
    "#     data = data.loc[data['virus'] == 1]\n",
    "    return data"
   ]
  },
  {
   "cell_type": "markdown",
   "metadata": {},
   "source": [
    "The symptom variables have two values : {0,1}. Hence this can be modelled as a bernoulli distribution. Each symptom is denoted as a bernoulli distribution by a histrogram denoting the probability of occurence of the symptom."
   ]
  },
  {
   "cell_type": "code",
   "execution_count": 15,
   "metadata": {
    "collapsed": true
   },
   "outputs": [],
   "source": [
    "symptoms = ['fever','cough','muscle','sorethroat']"
   ]
  },
  {
   "cell_type": "code",
   "execution_count": 28,
   "metadata": {
    "collapsed": true
   },
   "outputs": [],
   "source": [
    "#plot the distribution of the symptoms \n",
    "#kde = True draws the kernel density estimate for the histrograms\n",
    "def plot_dist(df,title,kd=False):\n",
    "    y_label = 'Frequency'\n",
    "    for i in symptoms:\n",
    "        sns.set()\n",
    "        ax = sns.distplot(df[i],kde = kd)\n",
    "        if kd:\n",
    "            y_label = 'Normalized frequency'\n",
    "        ax.set(xlabel = 'Symptom value',ylabel = y_label)\n",
    "        ax.set_xlim(0,1)\n",
    "        plt.title(i+\" \" + title)\n",
    "#         plt.show()\n",
    "        plt.savefig(\"../without_KDE/\"+i+title+\".pdf\",bounds='tight')\n",
    "        plt.close()"
   ]
  },
  {
   "cell_type": "code",
   "execution_count": 29,
   "metadata": {
    "collapsed": true
   },
   "outputs": [],
   "source": [
    "#the input to this function is a list of numpy arrays where\n",
    "#each element of the array has the frequency of 0s and 1s of the particular symptoms\n",
    "#in the order of the symptom mentioned in symptoms\n",
    "def plot_bernoulli(df1,df2,df3,df4,title):\n",
    "    \n",
    "    colors = ['b','g','r','y']\n",
    "    plt.figure(figsize=(14,10))\n",
    "    fig, ax1 = plt.subplots()\n",
    "    ax1.hist([df1['sorethroat'],df2['sorethroat'],df3['sorethroat'],df4['sorethroat']],alpha = 0.5,color=colors,\n",
    "            label = ['GoViral','Fluwatch','Hongkong','Hutterite'])\n",
    "    ax1.set_xlim(0,1)\n",
    "    ax1.set_ylabel(\"Count\",fontsize=12)\n",
    "    ax1.set_xlabel(\"Symptom value\",fontsize = 12)\n",
    "    plt.xticks(fontsize=12)\n",
    "    plt.yticks(fontsize=12)\n",
    "#     plt.tight_layout()\n",
    "    plt.title(\"Sorethroat distribution across different datasets\")\n",
    "    plt.legend(loc = 'best',fontsize=12)\n",
    "    plt.savefig(\"Combined_sorethroat.pdf\",bounds='tight')\n",
    "    plt.show()\n",
    "\n",
    "#     sns.distplot(df1['fever'],hist = True,kde = False)\n",
    "#     sns.distplot(df2['fever'],hist = True,kde= False)\n",
    "#     sns.distplot(df3['fever'],hist = True,kde= False)\n",
    "#     ax = sns.distplot(df4['fever'],hist = True, kde = False)\n",
    "#     ax.set(xlabel = 'Symptom value',ylabel = 'Normalized Frequency')\n",
    "#     ax.set_xlim(0,1)\n",
    "#     plt.show()\n",
    "#     for i in symptoms:\n",
    "#         sns.set()\n",
    "#         ax = sns.distplot(df[i],kde = True)\n",
    "#         ax = sns.distplot(df[i],kde = True)\n",
    "        \n",
    "#         ax.set(xlabel = 'Symptom value',ylabel = 'Normalized Frequency')\n",
    "#         ax.set_xlim(0,1)\n",
    "#         plt.title(i+\" \" + title)\n",
    "# #         plt.savefig(\"../Fig/\"+i+title+\".pdf\",bounds='tight')\n",
    "#         plt.close()\n",
    "        \n"
   ]
  },
  {
   "cell_type": "markdown",
   "metadata": {},
   "source": [
    "Get the pvalues of the predictors"
   ]
  },
  {
   "cell_type": "code",
   "execution_count": 30,
   "metadata": {
    "collapsed": true
   },
   "outputs": [],
   "source": [
    "def p_value(data):\n",
    "    X = np.matrix(data[symptoms])\n",
    "    y = np.array(data['virus'])\n",
    "    \n",
    "    #import the library function\n",
    "    import statsmodels.api as sm\n",
    "    from scipy import stats\n",
    "    \n",
    "    X2 = sm.add_constant(X)\n",
    "    est = sm.OLS(y, X2)\n",
    "    est2 = est.fit()\n",
    "    print(est2.summary())\n",
    "#     print(\"f : \",x)\n",
    "#     print(\"p :\",p)"
   ]
  },
  {
   "cell_type": "markdown",
   "metadata": {},
   "source": [
    "#### The study includes 4 datasets : GoViral, Fluwatch, HongKong, Hutterite"
   ]
  },
  {
   "cell_type": "code",
   "execution_count": 32,
   "metadata": {},
   "outputs": [
    {
     "name": "stderr",
     "output_type": "stream",
     "text": [
      "/Applications/anaconda/lib/python3.5/site-packages/scipy/stats/stats.py:1713: FutureWarning: Using a non-tuple sequence for multidimensional indexing is deprecated; use `arr[tuple(seq)]` instead of `arr[seq]`. In the future this will be interpreted as an array index, `arr[np.array(seq)]`, which will result either in an error or a different result.\n",
      "  return np.add.reduce(sorted[indexer] * weights, axis=axis) / sumval\n"
     ]
    },
    {
     "name": "stdout",
     "output_type": "stream",
     "text": [
      "_________________________________\n"
     ]
    },
    {
     "name": "stderr",
     "output_type": "stream",
     "text": [
      "/Applications/anaconda/lib/python3.5/site-packages/statsmodels/compat/pandas.py:56: FutureWarning: The pandas.core.datetools module is deprecated and will be removed in a future version. Please use the pandas.tseries module instead.\n",
      "  from pandas.core import datetools\n"
     ]
    },
    {
     "name": "stdout",
     "output_type": "stream",
     "text": [
      "                            OLS Regression Results                            \n",
      "==============================================================================\n",
      "Dep. Variable:                      y   R-squared:                       0.057\n",
      "Model:                            OLS   Adj. R-squared:                  0.053\n",
      "Method:                 Least Squares   F-statistic:                     13.74\n",
      "Date:                Thu, 14 Feb 2019   Prob (F-statistic):           6.95e-11\n",
      "Time:                        15:13:25   Log-Likelihood:                -636.16\n",
      "No. Observations:                 915   AIC:                             1282.\n",
      "Df Residuals:                     910   BIC:                             1306.\n",
      "Df Model:                           4                                         \n",
      "Covariance Type:            nonrobust                                         \n",
      "==============================================================================\n",
      "                 coef    std err          t      P>|t|      [0.025      0.975]\n",
      "------------------------------------------------------------------------------\n",
      "const          0.6391      0.033     19.446      0.000       0.575       0.704\n",
      "x1            -0.0589      0.039     -1.507      0.132      -0.136       0.018\n",
      "x2            -0.0498      0.036     -1.381      0.168      -0.121       0.021\n",
      "x3             0.0345      0.039      0.881      0.378      -0.042       0.111\n",
      "x4            -0.2192      0.035     -6.325      0.000      -0.287      -0.151\n",
      "==============================================================================\n",
      "Omnibus:                        1.034   Durbin-Watson:                   2.007\n",
      "Prob(Omnibus):                  0.596   Jarque-Bera (JB):              117.978\n",
      "Skew:                           0.082   Prob(JB):                     2.41e-26\n",
      "Kurtosis:                       1.249   Cond. No.                         4.31\n",
      "==============================================================================\n",
      "\n",
      "Warnings:\n",
      "[1] Standard Errors assume that the covariance matrix of the errors is correctly specified.\n"
     ]
    }
   ],
   "source": [
    "if __name__ == '__main__':\n",
    "    #read_goviral\n",
    "    gv = read_data(data_dir+\"goviral.csv\")\n",
    "#     plot_bernoulli(gv,\"distribution for Goviral.\")\n",
    "    plot_dist(gv,'distribution for Goviral.')\n",
    "    print(\"_________________________________\")\n",
    "    #plot for fluwatch\n",
    "    fw = read_data(data_dir+\"fluwatch.csv\")\n",
    "    plot_dist(fw,'distribution for FluWatch.')\n",
    "#     plot_bernoulli(fw,\"distribution for Fluwatch.\")\n",
    "    \n",
    "    #plot for hongkong\n",
    "    hk = read_data(data_dir+\"hongkong.csv\")\n",
    "    plot_dist(hk,'distribution for Hongkong.')\n",
    "#     plot_bernoulli(hk,\"distribution for HongKong.\")\n",
    "    \n",
    "    #plot for hutterite\n",
    "    ht = read_data(data_dir+\"hutterite.csv\")\n",
    "    plot_dist(ht,'distribution for Hutterite.')\n",
    "#     plot_bernoulli(gv,fw,hk,ht,\"distribution for Hutterite.\")\n",
    "    \n",
    "#     p_value(gv)\n",
    "    p_value(fw)\n",
    "#     p_value(hk)\n",
    "#     p_value(ht)\n",
    "    \n",
    "    \n"
   ]
  },
  {
   "cell_type": "code",
   "execution_count": null,
   "metadata": {
    "collapsed": true
   },
   "outputs": [],
   "source": []
  },
  {
   "cell_type": "code",
   "execution_count": null,
   "metadata": {
    "collapsed": true
   },
   "outputs": [],
   "source": []
  },
  {
   "cell_type": "code",
   "execution_count": null,
   "metadata": {
    "collapsed": true
   },
   "outputs": [],
   "source": []
  },
  {
   "cell_type": "code",
   "execution_count": null,
   "metadata": {
    "collapsed": true
   },
   "outputs": [],
   "source": []
  },
  {
   "cell_type": "code",
   "execution_count": null,
   "metadata": {
    "collapsed": true
   },
   "outputs": [],
   "source": []
  },
  {
   "cell_type": "code",
   "execution_count": null,
   "metadata": {
    "collapsed": true
   },
   "outputs": [],
   "source": []
  },
  {
   "cell_type": "code",
   "execution_count": null,
   "metadata": {
    "collapsed": true
   },
   "outputs": [],
   "source": []
  },
  {
   "cell_type": "code",
   "execution_count": null,
   "metadata": {
    "collapsed": true
   },
   "outputs": [],
   "source": []
  }
 ],
 "metadata": {
  "kernelspec": {
   "display_name": "Python 3",
   "language": "python",
   "name": "python3"
  },
  "language_info": {
   "codemirror_mode": {
    "name": "ipython",
    "version": 3
   },
   "file_extension": ".py",
   "mimetype": "text/x-python",
   "name": "python",
   "nbconvert_exporter": "python",
   "pygments_lexer": "ipython3",
   "version": "3.5.4"
  }
 },
 "nbformat": 4,
 "nbformat_minor": 2
}
