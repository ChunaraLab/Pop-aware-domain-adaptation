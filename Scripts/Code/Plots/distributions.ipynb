{
 "cells": [
  {
   "cell_type": "markdown",
   "metadata": {},
   "source": [
    "#### How do the distributions look for the different datasets and as we go up higher the hierarchy?"
   ]
  },
  {
   "cell_type": "code",
   "execution_count": 1,
   "metadata": {
    "collapsed": true
   },
   "outputs": [],
   "source": [
    "import numpy as np\n",
    "import pandas as pd\n",
    "import seaborn as sns\n",
    "import matplotlib.pyplot as plt\n",
    "from collections import defaultdict"
   ]
  },
  {
   "cell_type": "code",
   "execution_count": 2,
   "metadata": {
    "collapsed": true
   },
   "outputs": [],
   "source": [
    "data_dir = \"../../Data/\""
   ]
  },
  {
   "cell_type": "code",
   "execution_count": 14,
   "metadata": {
    "collapsed": true
   },
   "outputs": [],
   "source": [
    "#since we are interested in the P(x|Y=1) we sample accordingly\n",
    "def read_data(filename):\n",
    "    data = pd.read_csv(filename)\n",
    "    data = data.loc[data['virus'] == 1]\n",
    "    return data"
   ]
  },
  {
   "cell_type": "code",
   "execution_count": 15,
   "metadata": {
    "collapsed": true
   },
   "outputs": [],
   "source": [
    "symptoms = ['fever','cough','muscle','sorethroat']"
   ]
  },
  {
   "cell_type": "code",
   "execution_count": 16,
   "metadata": {
    "collapsed": true
   },
   "outputs": [],
   "source": [
    "#check if all values are present or not\n",
    "def dist_dict(dict_):\n",
    "    ans = [0,0]\n",
    "    if 0 in dict_.keys():\n",
    "        ans[0] = dict_[0]\n",
    "    if 1 in dict_.keys():\n",
    "        ans[1] = dict_[1]\n",
    "    return ans"
   ]
  },
  {
   "cell_type": "code",
   "execution_count": 17,
   "metadata": {
    "collapsed": true
   },
   "outputs": [],
   "source": [
    "#get the conditonal probabilities for the gender\n",
    "def gender_prob(df,symp):\n",
    "    dist = defaultdict()\n",
    "    \n",
    "    #get the conditional probability distribution for males\n",
    "    dist['male'] = dist_dict(df.loc[df['male'] == 1][symp].value_counts()) #/\\\n",
    "#                 df.loc[df['male']==1][symp].count()\n",
    "    \n",
    "    #get the conditional probability distribution for females\n",
    "    dist['female'] = dist_dict(df.loc[df['female'] == 1][symp].value_counts()) #/\\\n",
    "#                 df.loc[df['female']==1][symp].count()\n",
    "    \n",
    "    #get the conditional probability distribution for age 0-4\n",
    "    dist['age 0-4'] = dist_dict(df.loc[df['age 0-4'] == 1][symp].value_counts()) #/\\\n",
    "#                 df.loc[df['age 0-4']==1][symp].count()\n",
    "    \n",
    "    dist['age 5-15'] = dist_dict(df.loc[df['age 5-15'] == 1][symp].value_counts())#/\\\n",
    "#                 df.loc[df['age 5-15']==1][symp].count()\n",
    "    \n",
    "    dist['age 16-44'] = dist_dict(df.loc[df['age 16-44'] == 1][symp].value_counts())#/\\\n",
    "#                 df.loc[df['age 16-44']==1][symp].count()\n",
    "    \n",
    "    dist['age 45-64'] = dist_dict(df.loc[df['age 45-64'] == 1][symp].value_counts())#/\\\n",
    "#                 df.loc[df['age 45-64']==1][symp].count()\n",
    "    \n",
    "    dist['age 65+'] = dist_dict(df.loc[df['age 65+'] == 1][symp].value_counts())#/\\\n",
    "#                 df.loc[df['age 65+']==1][symp].count()\n",
    "    \n",
    "    dist = pd.DataFrame.from_dict(dist)\n",
    "    return dist"
   ]
  },
  {
   "cell_type": "code",
   "execution_count": 18,
   "metadata": {
    "collapsed": true
   },
   "outputs": [],
   "source": [
    "#returns the probabilities of the values in a list\n",
    "def prob(data):\n",
    "    x = data['fever']\n",
    "    vector = data.groupby('fever').size().div(len(data))\n",
    "\n",
    "    vector = data.groupby('cough').size().div(len(data))\n",
    "    \n",
    "    vector = data.groupby('muscle').size().div(len(data))\n",
    "    \n",
    "    vector = data.groupby('sorethroat').size().div(len(data))\n",
    "    "
   ]
  },
  {
   "cell_type": "code",
   "execution_count": 19,
   "metadata": {
    "collapsed": true
   },
   "outputs": [],
   "source": [
    "#input is list of tuples, where first element is the symptom and\\\n",
    "#second element is the pandas dataframe with the distribution\n",
    "def plot_dist_demo(list_,name):\n",
    "    for item in list_:\n",
    "        i = item[1]\n",
    "        ans_0 = list(i['male'])\n",
    "        ans_1 = list(i['female'])\n",
    "        plt.figure(figsize=(14,10))\n",
    "        fig,ax = plt.subplots()\n",
    "        index = np.arange(2)\n",
    "        bar_width = 0.35\n",
    "        opacity = 0.6\n",
    "        rects1 = plt.bar(index, ans_0, bar_width,\n",
    "        alpha=opacity,\n",
    "        color='b',\n",
    "        label='Male')\n",
    "\n",
    "        rects2 = plt.bar(index + bar_width, ans_1, bar_width,\n",
    "        alpha=opacity,\n",
    "        color='g',\n",
    "        label='Female')\n",
    "\n",
    "        plt.xlabel('Symptom Value',fontsize = 12)\n",
    "        plt.ylabel('Freqency',fontsize = 12)\n",
    "        plt.title('Distribution of ' + item[0]+ \" across gender\",fontsize =12)\n",
    "        plt.xticks(index + bar_width/2 , ('0','1'),fontsize = 12)\n",
    "        plt.legend()\n",
    "        plt.savefig(\"../Distributions/\"+name+\"/\"+item[0]+\".pdf\",bounds=\"tight\")\n",
    "#         plt.tight_layout()\n",
    "#         plt.show()\n",
    "        plt.close()\n",
    "        "
   ]
  },
  {
   "cell_type": "code",
   "execution_count": 48,
   "metadata": {},
   "outputs": [],
   "source": [
    "def get_prob(df,symp):\n",
    "    #get the conditional probability of the symptom given fever\n",
    "    ans = (df[symp].value_counts()/df[symp].count()).to_dict()\n",
    "    \n",
    "    #check if both the values of 0 and 1 are present\n",
    "    #if not set the missing value to 0\n",
    "    if 0 not in ans.keys():\n",
    "        answer = np.abs(ans[1])\n",
    "#         return {0:0,1:ans[1]}\n",
    "        return answer\n",
    "    elif 1 not in ans.keys():\n",
    "        answer = np.abs(ans[0])\n",
    "#         return {0:ans[0],1:0}\n",
    "        return answer\n",
    "    else:\n",
    "        answer = np.abs(ans[0] - ans[1])\n",
    "        return answer\n",
    "  "
   ]
  },
  {
   "cell_type": "code",
   "execution_count": 61,
   "metadata": {},
   "outputs": [
    {
     "name": "stdout",
     "output_type": "stream",
     "text": [
      "                             cough     fever    muscle  sorethroat\n",
      "Nodes                                                             \n",
      "Total                     0.606455  0.443375  0.544168    0.001133\n",
      "Male                      0.599778  0.475264  0.577543    0.077265\n",
      "Female                    0.623154  0.418783  0.519197    0.075015\n",
      "Age1                      0.463087  0.248322  0.740492    0.199105\n",
      "Age2                      0.737775  0.462792  0.669738    0.060241\n",
      "Age3                      0.580786  0.548035  0.268559    0.251092\n",
      "Age4                      0.622449  0.469388  0.321429    0.107143\n",
      "Age5                      0.509804  0.176471  0.274510    0.098039\n",
      "Indi_repo                 0.384828  0.326897  0.268966    0.136552\n",
      "Healthworker_facilitated  0.663698  0.473459  0.615248    0.036694\n",
      "Goviral                   0.482759  0.089655  0.082759    0.524138\n",
      "Fluwatch                  0.319540  0.485057  0.393103    0.121839\n",
      "Hongkong                  0.629916  0.466151  0.522888    0.178594\n",
      "Hutterite                 0.795222  0.529010  0.662116    0.201365\n"
     ]
    }
   ],
   "source": [
    "if __name__ == '__main__':\n",
    "    \n",
    "    #read the total data\n",
    "    total = read_data(data_dir + \"total.csv\")\n",
    "    \n",
    "    #read male samples\n",
    "    male = read_data(data_dir + \"male.csv\")\n",
    "    \n",
    "    #read female sample \n",
    "    female = read_data(data_dir + \"female.csv\")\n",
    "    \n",
    "    #age1 \n",
    "    age1 = read_data(data_dir + \"age1.csv\")\n",
    "    \n",
    "    #age2 \n",
    "    age2 = read_data(data_dir + \"age2.csv\")\n",
    "    \n",
    "     #age3 \n",
    "    age3 = read_data(data_dir + \"age3.csv\")\n",
    "    \n",
    "    #age4 \n",
    "    age4 = read_data(data_dir + \"age4.csv\")\n",
    "    #get the count right now for fever\n",
    "    \n",
    "    #age5 \n",
    "    age5 = read_data(data_dir + \"age5.csv\")\n",
    "    \n",
    "    #individually collected\n",
    "    ic = read_data(data_dir + \"individually_reported.csv\")\n",
    "    \n",
    "    #healthworker reported\n",
    "    hw = read_data(data_dir + \"health_worker_facilitated.csv\")\n",
    "    \n",
    "    #goviral\n",
    "    gv  = read_data(data_dir + \"goviral.csv\")\n",
    "    \n",
    "    #fluwatch\n",
    "    fw = read_data(data_dir + 'fluwatch.csv')\n",
    "    \n",
    "    #hongkong\n",
    "    hk = read_data(data_dir + 'hongkong.csv')\n",
    "    \n",
    "    #hutterite\n",
    "    ht = read_data(data_dir + 'hutterite.csv')\n",
    "    \n",
    "    #get the difference between the conditional probabilities\n",
    "    #for all the levels\n",
    "    \n",
    "    final_dict = defaultdict()\n",
    "    for symp in symptoms:\n",
    "        temp = []\n",
    "        \n",
    "        temp.append(get_prob(total,symp)) #total\n",
    "        temp.append(get_prob(male,symp))  #males\n",
    "        temp.append(get_prob(female,symp))#females\n",
    "        temp.append(get_prob(age1,symp)) #age1\n",
    "        temp.append(get_prob(age2,symp)) #age2\n",
    "        temp.append(get_prob(age3,symp)) #age3\n",
    "        temp.append(get_prob(age4,symp)) #age4\n",
    "        temp.append(get_prob(age5,symp)) #age5\n",
    "        temp.append(get_prob(ic,symp))   #individually collected\n",
    "        temp.append(get_prob(hw,symp))   #healthworker reported\n",
    "        temp.append(get_prob(gv,symp))   #goviral\n",
    "        temp.append(get_prob(fw,symp))   #fluwatch\n",
    "        temp.append(get_prob(hk,symp))   #hongkong\n",
    "        temp.append(get_prob(ht,symp))   #hutterite\n",
    "        \n",
    "        final_dict[symp] = temp\n",
    "        \n",
    "    final_dataframe = pd.DataFrame.from_dict(final_dict)\n",
    "    final_dataframe['Nodes'] = ['Total','Male','Female','Age1',\\\n",
    "                               'Age2','Age3','Age4','Age5','Indi_repo',\\\n",
    "                               'Healthworker_facilitated','Goviral','Fluwatch','Hongkong',\\\n",
    "                               'Hutterite']\n",
    "    final_dataframe.set_index('Nodes',inplace = True)\n",
    "#     final_dataframe = final_dataframe.T\n",
    "    print(final_dataframe)\n",
    "    final_dataframe.to_csv(\"../Distributions/conditional_probability.csv\")"
   ]
  },
  {
   "cell_type": "code",
   "execution_count": null,
   "metadata": {
    "collapsed": true
   },
   "outputs": [],
   "source": []
  },
  {
   "cell_type": "code",
   "execution_count": null,
   "metadata": {
    "collapsed": true
   },
   "outputs": [],
   "source": []
  },
  {
   "cell_type": "code",
   "execution_count": 9,
   "metadata": {},
   "outputs": [],
   "source": [
    "# if __name__ == '__main__':\n",
    "#     fw = read_data(data_dir+\"hutterite.csv\")\n",
    "#     dist_df = pd.DataFrame(columns = ['male','female','age 0-4','age 5-15'\\\n",
    "#                                      'age 16-44','age 45-64','age 65+'])\n",
    "#     temp = []\n",
    "\n",
    "#     for symp in symptoms: \n",
    "#         dist_symp = gender_prob(fw,symp)\n",
    "#         temp.append((symp,dist_symp))\n",
    "#     plot_dist_demo(temp,'Hutterite')"
   ]
  },
  {
   "cell_type": "code",
   "execution_count": null,
   "metadata": {
    "collapsed": true
   },
   "outputs": [],
   "source": []
  },
  {
   "cell_type": "code",
   "execution_count": null,
   "metadata": {
    "collapsed": true
   },
   "outputs": [],
   "source": []
  },
  {
   "cell_type": "code",
   "execution_count": null,
   "metadata": {
    "collapsed": true
   },
   "outputs": [],
   "source": []
  }
 ],
 "metadata": {
  "kernelspec": {
   "display_name": "Python 3",
   "language": "python",
   "name": "python3"
  },
  "language_info": {
   "codemirror_mode": {
    "name": "ipython",
    "version": 3
   },
   "file_extension": ".py",
   "mimetype": "text/x-python",
   "name": "python",
   "nbconvert_exporter": "python",
   "pygments_lexer": "ipython3",
   "version": "3.5.4"
  }
 },
 "nbformat": 4,
 "nbformat_minor": 2
}
