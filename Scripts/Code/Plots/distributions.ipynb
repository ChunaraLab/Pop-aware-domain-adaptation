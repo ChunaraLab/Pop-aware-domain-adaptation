{
 "cells": [
  {
   "cell_type": "markdown",
   "metadata": {},
   "source": [
    "#### How do the distributions look for the different datasets and as we go up higher the hierarchy?"
   ]
  },
  {
   "cell_type": "code",
   "execution_count": 47,
   "metadata": {
    "collapsed": true
   },
   "outputs": [],
   "source": [
    "import numpy as np\n",
    "import pandas as pd\n",
    "import seaborn as sns\n",
    "import matplotlib.pyplot as plt\n",
    "from collections import defaultdict"
   ]
  },
  {
   "cell_type": "code",
   "execution_count": 48,
   "metadata": {
    "collapsed": true
   },
   "outputs": [],
   "source": [
    "data_dir = \"../../Data/\""
   ]
  },
  {
   "cell_type": "code",
   "execution_count": 49,
   "metadata": {
    "collapsed": true
   },
   "outputs": [],
   "source": [
    "#since we are interested in the P(x|Y=1) we sample accordingly\n",
    "def read_data(filename):\n",
    "    data = pd.read_csv(filename)\n",
    "    data = data.loc[data['virus'] == 1]\n",
    "    return data"
   ]
  },
  {
   "cell_type": "code",
   "execution_count": 50,
   "metadata": {
    "collapsed": true
   },
   "outputs": [],
   "source": [
    "symptoms = ['fever','cough','muscle','sorethroat']"
   ]
  },
  {
   "cell_type": "code",
   "execution_count": 148,
   "metadata": {
    "collapsed": true
   },
   "outputs": [],
   "source": [
    "#check if all values are present or not\n",
    "def dist_dict(dict_):\n",
    "    ans = [0,0]\n",
    "    if 0 in dict_.keys():\n",
    "        ans[0] = dict_[0]\n",
    "    if 1 in dict_.keys():\n",
    "        ans[1] = dict_[1]\n",
    "    return ans"
   ]
  },
  {
   "cell_type": "code",
   "execution_count": 171,
   "metadata": {},
   "outputs": [],
   "source": [
    "#get the conditonal probabilities for the gender\n",
    "def gender_prob(df,symp):\n",
    "    dist = defaultdict()\n",
    "    \n",
    "    #get the conditional probability distribution for males\n",
    "    dist['male'] = dist_dict(df.loc[df['male'] == 1][symp].value_counts()) #/\\\n",
    "#                 df.loc[df['male']==1][symp].count()\n",
    "    \n",
    "    #get the conditional probability distribution for females\n",
    "    dist['female'] = dist_dict(df.loc[df['female'] == 1][symp].value_counts()) #/\\\n",
    "#                 df.loc[df['female']==1][symp].count()\n",
    "    \n",
    "    #get the conditional probability distribution for age 0-4\n",
    "    dist['age 0-4'] = dist_dict(df.loc[df['age 0-4'] == 1][symp].value_counts()) #/\\\n",
    "#                 df.loc[df['age 0-4']==1][symp].count()\n",
    "    \n",
    "    dist['age 5-15'] = dist_dict(df.loc[df['age 5-15'] == 1][symp].value_counts())#/\\\n",
    "#                 df.loc[df['age 5-15']==1][symp].count()\n",
    "    \n",
    "    dist['age 16-44'] = dist_dict(df.loc[df['age 16-44'] == 1][symp].value_counts())#/\\\n",
    "#                 df.loc[df['age 16-44']==1][symp].count()\n",
    "    \n",
    "    dist['age 45-64'] = dist_dict(df.loc[df['age 45-64'] == 1][symp].value_counts())#/\\\n",
    "#                 df.loc[df['age 45-64']==1][symp].count()\n",
    "    \n",
    "    dist['age 65+'] = dist_dict(df.loc[df['age 65+'] == 1][symp].value_counts())#/\\\n",
    "#                 df.loc[df['age 65+']==1][symp].count()\n",
    "    \n",
    "    dist = pd.DataFrame.from_dict(dist)\n",
    "    return dist"
   ]
  },
  {
   "cell_type": "code",
   "execution_count": 172,
   "metadata": {
    "collapsed": true
   },
   "outputs": [],
   "source": [
    "#returns the probabilities of the values in a list\n",
    "def prob(data):\n",
    "    x = data['fever']\n",
    "    vector = data.groupby('fever').size().div(len(data))\n",
    "\n",
    "    vector = data.groupby('cough').size().div(len(data))\n",
    "    \n",
    "    vector = data.groupby('muscle').size().div(len(data))\n",
    "    \n",
    "    vector = data.groupby('sorethroat').size().div(len(data))\n",
    "    "
   ]
  },
  {
   "cell_type": "code",
   "execution_count": 208,
   "metadata": {
    "collapsed": true
   },
   "outputs": [],
   "source": [
    "#input is list of tuples, where first element is the symptom and\\\n",
    "#second element is the pandas dataframe with the distribution\n",
    "def plot_dist_demo(list_,name):\n",
    "    for item in list_:\n",
    "        i = item[1]\n",
    "        ans_0 = list(i['male'])\n",
    "        ans_1 = list(i['female'])\n",
    "        plt.figure(figsize=(14,10))\n",
    "        fig,ax = plt.subplots()\n",
    "        index = np.arange(2)\n",
    "        bar_width = 0.35\n",
    "        opacity = 0.6\n",
    "        rects1 = plt.bar(index, ans_0, bar_width,\n",
    "        alpha=opacity,\n",
    "        color='b',\n",
    "        label='Male')\n",
    "\n",
    "        rects2 = plt.bar(index + bar_width, ans_1, bar_width,\n",
    "        alpha=opacity,\n",
    "        color='g',\n",
    "        label='Female')\n",
    "\n",
    "        plt.xlabel('Symptom Value',fontsize = 12)\n",
    "        plt.ylabel('Freqency',fontsize = 12)\n",
    "        plt.title('Distribution of ' + item[0]+ \" across gender\",fontsize =12)\n",
    "        plt.xticks(index + bar_width/2 , ('0','1'),fontsize = 12)\n",
    "        plt.legend()\n",
    "        plt.savefig(\"../Distributions/\"+name+\"/\"+item[0]+\".pdf\",bounds=\"tight\")\n",
    "#         plt.tight_layout()\n",
    "#         plt.show()\n",
    "        plt.close()\n",
    "        "
   ]
  },
  {
   "cell_type": "code",
   "execution_count": null,
   "metadata": {
    "collapsed": true
   },
   "outputs": [],
   "source": []
  },
  {
   "cell_type": "code",
   "execution_count": null,
   "metadata": {
    "collapsed": true
   },
   "outputs": [],
   "source": []
  },
  {
   "cell_type": "code",
   "execution_count": null,
   "metadata": {
    "collapsed": true
   },
   "outputs": [],
   "source": []
  },
  {
   "cell_type": "code",
   "execution_count": 212,
   "metadata": {},
   "outputs": [
    {
     "data": {
      "text/plain": [
       "<matplotlib.figure.Figure at 0x201be262b0>"
      ]
     },
     "metadata": {},
     "output_type": "display_data"
    },
    {
     "data": {
      "image/png": "[encoded data removed]",
      "text/plain": [
       "<matplotlib.figure.Figure at 0x201f61f8d0>"
      ]
     },
     "metadata": {},
     "output_type": "display_data"
    },
    {
     "data": {
      "text/plain": [
       "<matplotlib.figure.Figure at 0x201be13320>"
      ]
     },
     "metadata": {},
     "output_type": "display_data"
    },
    {
     "data": {
      "image/png": "[encoded data removed]",
      "text/plain": [
       "<matplotlib.figure.Figure at 0x1136ea1d0>"
      ]
     },
     "metadata": {},
     "output_type": "display_data"
    },
    {
     "data": {
      "text/plain": [
       "<matplotlib.figure.Figure at 0x201bd88f60>"
      ]
     },
     "metadata": {},
     "output_type": "display_data"
    },
    {
     "data": {
      "image/png": "[encoded data removed]",
      "text/plain": [
       "<matplotlib.figure.Figure at 0x1135bd978>"
      ]
     },
     "metadata": {},
     "output_type": "display_data"
    },
    {
     "data": {
      "text/plain": [
       "<matplotlib.figure.Figure at 0x201bd690b8>"
      ]
     },
     "metadata": {},
     "output_type": "display_data"
    },
    {
     "data": {
      "image/png": "[encoded data removed]",
      "text/plain": [
       "<matplotlib.figure.Figure at 0x1133d8b70>"
      ]
     },
     "metadata": {},
     "output_type": "display_data"
    }
   ],
   "source": [
    "if __name__ == '__main__':\n",
    "    fw = read_data(data_dir+\"hutterite.csv\")\n",
    "    dist_df = pd.DataFrame(columns = ['male','female','age 0-4','age 5-15'\\\n",
    "                                     'age 16-44','age 45-64','age 65+'])\n",
    "    temp = []\n",
    "\n",
    "    for symp in symptoms: \n",
    "        dist_symp = gender_prob(fw,symp)\n",
    "        temp.append((symp,dist_symp))\n",
    "    plot_dist_demo(temp,'Hutterite')"
   ]
  },
  {
   "cell_type": "code",
   "execution_count": null,
   "metadata": {
    "collapsed": true
   },
   "outputs": [],
   "source": []
  },
  {
   "cell_type": "code",
   "execution_count": null,
   "metadata": {
    "collapsed": true
   },
   "outputs": [],
   "source": []
  },
  {
   "cell_type": "code",
   "execution_count": null,
   "metadata": {
    "collapsed": true
   },
   "outputs": [],
   "source": []
  }
 ],
 "metadata": {
  "kernelspec": {
   "display_name": "Python 3",
   "language": "python",
   "name": "python3"
  },
  "language_info": {
   "codemirror_mode": {
    "name": "ipython",
    "version": 3
   },
   "file_extension": ".py",
   "mimetype": "text/x-python",
   "name": "python",
   "nbconvert_exporter": "python",
   "pygments_lexer": "ipython3",
   "version": "3.5.4"
  }
 },
 "nbformat": 4,
 "nbformat_minor": 2
}
