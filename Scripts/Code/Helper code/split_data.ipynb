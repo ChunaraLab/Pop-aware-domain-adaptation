{
 "cells": [
  {
   "cell_type": "code",
   "execution_count": 1,
   "metadata": {},
   "outputs": [
    {
     "name": "stderr",
     "output_type": "stream",
     "text": [
      "/Applications/anaconda/lib/python3.5/site-packages/sklearn/cross_validation.py:44: DeprecationWarning: This module was deprecated in version 0.18 in favor of the model_selection module into which all the refactored classes and functions are moved. Also note that the interface of the new CV iterators are different from that of this module. This module will be removed in 0.20.\n",
      "  \"This module will be removed in 0.20.\", DeprecationWarning)\n"
     ]
    }
   ],
   "source": [
    "import pandas as pd\n",
    "import numpy as np\n",
    "from sklearn.cross_validation import train_test_split"
   ]
  },
  {
   "cell_type": "code",
   "execution_count": 2,
   "metadata": {
    "collapsed": true
   },
   "outputs": [],
   "source": [
    "store_directory = \"./Data/Symptoms_Demo/With_Demographics/\"\n",
    "train_directory = \"./Data/Symptoms_Demo/\"\n",
    "test_directory = \"./Data/Symptoms_Demo/\""
   ]
  },
  {
   "cell_type": "code",
   "execution_count": 3,
   "metadata": {
    "collapsed": true
   },
   "outputs": [],
   "source": [
    "symptoms = ['fever', 'cough', 'muscle','sorethroat',\n",
    "            'age 0-4','age 5-15' ,'age 16-44','age 45-64','age 65+','female','male',\n",
    "            'virus']\n"
   ]
  },
  {
   "cell_type": "code",
   "execution_count": 4,
   "metadata": {
    "collapsed": true
   },
   "outputs": [],
   "source": [
    "def split(dataset):\n",
    "    cols = list(dataset.columns)\n",
    "    cols = [i for i in cols if i!='virus']\n",
    "    pos = dataset.loc[dataset['virus']==1]\n",
    "    neg = dataset.loc[dataset['virus']==0]\n",
    "    print(pos.shape[0])\n",
    "    print(neg.shape[0])\n",
    "    x_train,x_test,y_train,y_test = train_test_split(dataset.drop('virus',axis = 1),dataset['virus'],test_size=0.9,random_state = 100)\n",
    "    print(sum(y_train))\n",
    "    print(sum(y_test))\n",
    "    train = pd.DataFrame(x_train,columns=cols)\n",
    "    test = pd.DataFrame(x_test,columns = cols)\n",
    "    train['virus'] = y_train\n",
    "    test['virus'] = y_test\n",
    "#     train = dataset.sample(frac = 0.1, random_state = 100)\n",
    "#     test = dataset.drop(train.index)\n",
    "# #     test.to_csv(test_directory+filename,index=False)\n",
    "#     train.to_csv(train_directory+filename,index=False)\n",
    "    return train,test"
   ]
  },
  {
   "cell_type": "code",
   "execution_count": 5,
   "metadata": {
    "collapsed": true
   },
   "outputs": [],
   "source": [
    "files_ = ['goviral.csv','fluwatch.csv','hongkong.csv','hutterite.csv','male.csv','female.csv',\n",
    "          'age1.csv','age2.csv','age3.csv','age4.csv','age5.csv','individually_reported.csv',\n",
    "          'health_worker_facilitated.csv','total.csv']"
   ]
  },
  {
   "cell_type": "code",
   "execution_count": 6,
   "metadata": {},
   "outputs": [
    {
     "data": {
      "text/plain": [
       "14"
      ]
     },
     "execution_count": 6,
     "metadata": {},
     "output_type": "execute_result"
    }
   ],
   "source": [
    "len(files_)"
   ]
  },
  {
   "cell_type": "code",
   "execution_count": null,
   "metadata": {
    "collapsed": true
   },
   "outputs": [],
   "source": []
  },
  {
   "cell_type": "code",
   "execution_count": null,
   "metadata": {
    "collapsed": true
   },
   "outputs": [],
   "source": []
  },
  {
   "cell_type": "code",
   "execution_count": 7,
   "metadata": {},
   "outputs": [
    {
     "name": "stdout",
     "output_type": "stream",
     "text": [
      "290\n",
      "230\n",
      "31\n",
      "259\n"
     ]
    }
   ],
   "source": [
    "goviral = pd.read_csv(store_directory+'goviral.csv')\n",
    "train,test = split(goviral)\n",
    "\n",
    "train.to_csv(train_directory+\"Goviral/Train/\"+'goviral.csv',index=False)\n",
    "test.to_csv(train_directory+\"Goviral/Test/\"+'goviral.csv',index=False)\n"
   ]
  },
  {
   "cell_type": "code",
   "execution_count": 8,
   "metadata": {},
   "outputs": [
    {
     "name": "stdout",
     "output_type": "stream",
     "text": [
      "435\n",
      "480\n",
      "44\n",
      "391\n"
     ]
    }
   ],
   "source": [
    "fluwatch = pd.read_csv(store_directory+'fluwatch.csv')\n",
    "train,test = split(fluwatch)\n",
    "\n",
    "train.to_csv(train_directory+\"Fluwatch/Train/\"+'fluwatch.csv',index=False)\n",
    "test.to_csv(train_directory+\"Fluwatch/Test/\"+'fluwatch.csv',index=False)\n"
   ]
  },
  {
   "cell_type": "code",
   "execution_count": 9,
   "metadata": {},
   "outputs": [
    {
     "name": "stdout",
     "output_type": "stream",
     "text": [
      "1551\n",
      "3403\n",
      "158\n",
      "1393\n"
     ]
    }
   ],
   "source": [
    "hongkong = pd.read_csv(store_directory+'hongkong.csv')\n",
    "train,test = split(hongkong)\n",
    "\n",
    "train.to_csv(train_directory+\"Hongkong/Train/\"+'hongkong.csv',index=False)\n",
    "test.to_csv(train_directory+\"Hongkong/Test/\"+'hongkong.csv',index=False)\n"
   ]
  },
  {
   "cell_type": "code",
   "execution_count": 10,
   "metadata": {},
   "outputs": [
    {
     "name": "stdout",
     "output_type": "stream",
     "text": [
      "586\n",
      "695\n",
      "54\n",
      "532\n"
     ]
    }
   ],
   "source": [
    "hutterite = pd.read_csv(store_directory+'hutterite.csv')\n",
    "train,test = split(hutterite)\n",
    "\n",
    "train.to_csv(train_directory+\"Hutterite/Train/\"+'hutterite.csv',index=False)\n",
    "test.to_csv(train_directory+\"Hutterite/Test/\"+'hutterite.csv',index=False)"
   ]
  },
  {
   "cell_type": "code",
   "execution_count": 11,
   "metadata": {},
   "outputs": [
    {
     "name": "stdout",
     "output_type": "stream",
     "text": [
      "670\n",
      "566\n",
      "69\n",
      "601\n"
     ]
    }
   ],
   "source": [
    "loeb = pd.read_csv(store_directory+'loeb.csv')\n",
    "train,test = split(loeb)\n",
    "\n",
    "train.to_csv(train_directory+\"Loeb/Train/\"+'loeb.csv',index=False)\n",
    "test.to_csv(train_directory+\"Loeb/Test/\"+'loeb.csv',index=False)"
   ]
  },
  {
   "cell_type": "code",
   "execution_count": null,
   "metadata": {
    "collapsed": true
   },
   "outputs": [],
   "source": []
  },
  {
   "cell_type": "code",
   "execution_count": null,
   "metadata": {
    "collapsed": true
   },
   "outputs": [],
   "source": []
  },
  {
   "cell_type": "code",
   "execution_count": null,
   "metadata": {
    "collapsed": true
   },
   "outputs": [],
   "source": []
  },
  {
   "cell_type": "code",
   "execution_count": null,
   "metadata": {
    "collapsed": true
   },
   "outputs": [],
   "source": []
  },
  {
   "cell_type": "code",
   "execution_count": null,
   "metadata": {
    "collapsed": true
   },
   "outputs": [],
   "source": []
  },
  {
   "cell_type": "code",
   "execution_count": 12,
   "metadata": {
    "scrolled": false
   },
   "outputs": [
    {
     "name": "stdout",
     "output_type": "stream",
     "text": [
      "goviral.csv\n",
      "   fever  cough  muscle  sorethroat  virus  male  female  age 0-4  age 5-15  \\\n",
      "0      1      1       1           1      1   1.0     0.0        0         0   \n",
      "1      1      1       0           1      1   1.0     0.0        0         0   \n",
      "2      0      1       0           1      0   1.0     0.0        0         0   \n",
      "3      0      0       0           0      0   0.0     1.0        0         0   \n",
      "4      1      1       0           0      1   1.0     0.0        0         0   \n",
      "\n",
      "   age 16-44  age 45-64  age 65+  \n",
      "0          0          1        0  \n",
      "1          1          0        0  \n",
      "2          0          1        0  \n",
      "3          1          0        0  \n",
      "4          0          1        0  \n"
     ]
    },
    {
     "ename": "TypeError",
     "evalue": "split() takes 1 positional argument but 2 were given",
     "output_type": "error",
     "traceback": [
      "\u001b[0;31m---------------------------------------------------------------------------\u001b[0m",
      "\u001b[0;31mTypeError\u001b[0m                                 Traceback (most recent call last)",
      "\u001b[0;32m<ipython-input-12-71d3d7e60406>\u001b[0m in \u001b[0;36m<module>\u001b[0;34m()\u001b[0m\n\u001b[1;32m      3\u001b[0m     \u001b[0mdata\u001b[0m \u001b[0;34m=\u001b[0m \u001b[0mpd\u001b[0m\u001b[0;34m.\u001b[0m\u001b[0mread_csv\u001b[0m\u001b[0;34m(\u001b[0m\u001b[0mstore_directory\u001b[0m\u001b[0;34m+\u001b[0m\u001b[0mfn\u001b[0m\u001b[0;34m)\u001b[0m\u001b[0;34m\u001b[0m\u001b[0m\n\u001b[1;32m      4\u001b[0m     \u001b[0mprint\u001b[0m\u001b[0;34m(\u001b[0m\u001b[0mdata\u001b[0m\u001b[0;34m.\u001b[0m\u001b[0mhead\u001b[0m\u001b[0;34m(\u001b[0m\u001b[0;34m)\u001b[0m\u001b[0;34m)\u001b[0m\u001b[0;34m\u001b[0m\u001b[0m\n\u001b[0;32m----> 5\u001b[0;31m     \u001b[0msplit\u001b[0m\u001b[0;34m(\u001b[0m\u001b[0mdata\u001b[0m\u001b[0;34m,\u001b[0m\u001b[0mfn\u001b[0m\u001b[0;34m)\u001b[0m\u001b[0;34m\u001b[0m\u001b[0m\n\u001b[0m",
      "\u001b[0;31mTypeError\u001b[0m: split() takes 1 positional argument but 2 were given"
     ]
    }
   ],
   "source": [
    "for fn in files_:\n",
    "    print(fn)\n",
    "    data = pd.read_csv(store_directory+fn)\n",
    "    print(data.head())\n",
    "    split(data,fn)"
   ]
  },
  {
   "cell_type": "code",
   "execution_count": null,
   "metadata": {
    "collapsed": true
   },
   "outputs": [],
   "source": []
  },
  {
   "cell_type": "code",
   "execution_count": 13,
   "metadata": {},
   "outputs": [
    {
     "ename": "TypeError",
     "evalue": "split() takes 1 positional argument but 2 were given",
     "output_type": "error",
     "traceback": [
      "\u001b[0;31m---------------------------------------------------------------------------\u001b[0m",
      "\u001b[0;31mTypeError\u001b[0m                                 Traceback (most recent call last)",
      "\u001b[0;32m<ipython-input-13-de2f1011d799>\u001b[0m in \u001b[0;36m<module>\u001b[0;34m()\u001b[0m\n\u001b[1;32m      1\u001b[0m \u001b[0mgoviral\u001b[0m \u001b[0;34m=\u001b[0m \u001b[0mpd\u001b[0m\u001b[0;34m.\u001b[0m\u001b[0mread_csv\u001b[0m\u001b[0;34m(\u001b[0m\u001b[0mstore_directory\u001b[0m\u001b[0;34m+\u001b[0m\u001b[0;34m'goviral.csv'\u001b[0m\u001b[0;34m)\u001b[0m\u001b[0;34m\u001b[0m\u001b[0m\n\u001b[0;32m----> 2\u001b[0;31m \u001b[0msplit\u001b[0m\u001b[0;34m(\u001b[0m\u001b[0mgoviral\u001b[0m\u001b[0;34m,\u001b[0m\u001b[0;34m'goviral.csv'\u001b[0m\u001b[0;34m)\u001b[0m\u001b[0;34m\u001b[0m\u001b[0m\n\u001b[0m",
      "\u001b[0;31mTypeError\u001b[0m: split() takes 1 positional argument but 2 were given"
     ]
    }
   ],
   "source": [
    "goviral = pd.read_csv(store_directory+'goviral.csv')\n",
    "split(goviral,'goviral.csv')"
   ]
  },
  {
   "cell_type": "code",
   "execution_count": 14,
   "metadata": {},
   "outputs": [
    {
     "ename": "TypeError",
     "evalue": "split() takes 1 positional argument but 2 were given",
     "output_type": "error",
     "traceback": [
      "\u001b[0;31m---------------------------------------------------------------------------\u001b[0m",
      "\u001b[0;31mTypeError\u001b[0m                                 Traceback (most recent call last)",
      "\u001b[0;32m<ipython-input-14-37fb068e5754>\u001b[0m in \u001b[0;36m<module>\u001b[0;34m()\u001b[0m\n\u001b[1;32m      1\u001b[0m \u001b[0mhongkong\u001b[0m \u001b[0;34m=\u001b[0m \u001b[0mpd\u001b[0m\u001b[0;34m.\u001b[0m\u001b[0mread_csv\u001b[0m\u001b[0;34m(\u001b[0m\u001b[0mstore_directory\u001b[0m\u001b[0;34m+\u001b[0m\u001b[0;34m'hongkong.csv'\u001b[0m\u001b[0;34m)\u001b[0m\u001b[0;34m\u001b[0m\u001b[0m\n\u001b[0;32m----> 2\u001b[0;31m \u001b[0msplit\u001b[0m\u001b[0;34m(\u001b[0m\u001b[0mhongkong\u001b[0m\u001b[0;34m,\u001b[0m\u001b[0;34m'hongkong.csv'\u001b[0m\u001b[0;34m)\u001b[0m\u001b[0;34m\u001b[0m\u001b[0m\n\u001b[0m",
      "\u001b[0;31mTypeError\u001b[0m: split() takes 1 positional argument but 2 were given"
     ]
    }
   ],
   "source": [
    "hongkong = pd.read_csv(store_directory+'hongkong.csv')\n",
    "split(hongkong,'hongkong.csv')"
   ]
  },
  {
   "cell_type": "code",
   "execution_count": 15,
   "metadata": {},
   "outputs": [
    {
     "ename": "TypeError",
     "evalue": "split() takes 1 positional argument but 2 were given",
     "output_type": "error",
     "traceback": [
      "\u001b[0;31m---------------------------------------------------------------------------\u001b[0m",
      "\u001b[0;31mTypeError\u001b[0m                                 Traceback (most recent call last)",
      "\u001b[0;32m<ipython-input-15-c440798e82fd>\u001b[0m in \u001b[0;36m<module>\u001b[0;34m()\u001b[0m\n\u001b[1;32m      1\u001b[0m \u001b[0mfluwatch\u001b[0m \u001b[0;34m=\u001b[0m \u001b[0mpd\u001b[0m\u001b[0;34m.\u001b[0m\u001b[0mread_csv\u001b[0m\u001b[0;34m(\u001b[0m\u001b[0mstore_directory\u001b[0m\u001b[0;34m+\u001b[0m\u001b[0;34m'fluwatch.csv'\u001b[0m\u001b[0;34m)\u001b[0m\u001b[0;34m\u001b[0m\u001b[0m\n\u001b[0;32m----> 2\u001b[0;31m \u001b[0msplit\u001b[0m\u001b[0;34m(\u001b[0m\u001b[0mfluwatch\u001b[0m\u001b[0;34m,\u001b[0m\u001b[0;34m'fluwatch.csv'\u001b[0m\u001b[0;34m)\u001b[0m\u001b[0;34m\u001b[0m\u001b[0m\n\u001b[0m",
      "\u001b[0;31mTypeError\u001b[0m: split() takes 1 positional argument but 2 were given"
     ]
    }
   ],
   "source": [
    "fluwatch = pd.read_csv(store_directory+'fluwatch.csv')\n",
    "split(fluwatch,'fluwatch.csv')"
   ]
  },
  {
   "cell_type": "code",
   "execution_count": 16,
   "metadata": {},
   "outputs": [
    {
     "ename": "TypeError",
     "evalue": "split() takes 1 positional argument but 2 were given",
     "output_type": "error",
     "traceback": [
      "\u001b[0;31m---------------------------------------------------------------------------\u001b[0m",
      "\u001b[0;31mTypeError\u001b[0m                                 Traceback (most recent call last)",
      "\u001b[0;32m<ipython-input-16-2c8928aaa84b>\u001b[0m in \u001b[0;36m<module>\u001b[0;34m()\u001b[0m\n\u001b[1;32m      1\u001b[0m \u001b[0mhutterite\u001b[0m \u001b[0;34m=\u001b[0m \u001b[0mpd\u001b[0m\u001b[0;34m.\u001b[0m\u001b[0mread_csv\u001b[0m\u001b[0;34m(\u001b[0m\u001b[0mstore_directory\u001b[0m\u001b[0;34m+\u001b[0m\u001b[0;34m'hutterite.csv'\u001b[0m\u001b[0;34m)\u001b[0m\u001b[0;34m\u001b[0m\u001b[0m\n\u001b[0;32m----> 2\u001b[0;31m \u001b[0msplit\u001b[0m\u001b[0;34m(\u001b[0m\u001b[0mhutterite\u001b[0m\u001b[0;34m,\u001b[0m\u001b[0;34m'hutterite.csv'\u001b[0m\u001b[0;34m)\u001b[0m\u001b[0;34m\u001b[0m\u001b[0m\n\u001b[0m",
      "\u001b[0;31mTypeError\u001b[0m: split() takes 1 positional argument but 2 were given"
     ]
    }
   ],
   "source": [
    "hutterite = pd.read_csv(store_directory+'hutterite.csv')\n",
    "split(hutterite,'hutterite.csv')"
   ]
  },
  {
   "cell_type": "code",
   "execution_count": null,
   "metadata": {
    "collapsed": true
   },
   "outputs": [],
   "source": []
  },
  {
   "cell_type": "code",
   "execution_count": null,
   "metadata": {
    "collapsed": true
   },
   "outputs": [],
   "source": []
  },
  {
   "cell_type": "code",
   "execution_count": null,
   "metadata": {
    "collapsed": true
   },
   "outputs": [],
   "source": []
  },
  {
   "cell_type": "code",
   "execution_count": null,
   "metadata": {
    "collapsed": true
   },
   "outputs": [],
   "source": []
  }
 ],
 "metadata": {
  "kernelspec": {
   "display_name": "Python 3",
   "language": "python",
   "name": "python3"
  },
  "language_info": {
   "codemirror_mode": {
    "name": "ipython",
    "version": 3
   },
   "file_extension": ".py",
   "mimetype": "text/x-python",
   "name": "python",
   "nbconvert_exporter": "python",
   "pygments_lexer": "ipython3",
   "version": "3.5.4"
  }
 },
 "nbformat": 4,
 "nbformat_minor": 2
}
