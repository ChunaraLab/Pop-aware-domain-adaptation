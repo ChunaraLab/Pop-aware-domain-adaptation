{
 "cells": [
  {
   "cell_type": "code",
   "execution_count": 2,
   "metadata": {},
   "outputs": [],
   "source": [
    "import warnings\n",
    "warnings.filterwarnings('ignore')\n",
    "\n",
    "import pandas as pd\n",
    "import numpy as np\n",
    "from sklearn.cross_validation import train_test_split"
   ]
  },
  {
   "cell_type": "code",
   "execution_count": 3,
   "metadata": {
    "collapsed": true
   },
   "outputs": [],
   "source": [
    "store_directory = \"../../Data/\"\n",
    "train_directory = \"../../Sampled_data/\"\n",
    "test_directory = \"../../Sampled_data/\""
   ]
  },
  {
   "cell_type": "code",
   "execution_count": 4,
   "metadata": {
    "collapsed": true
   },
   "outputs": [],
   "source": [
    "symptoms = ['fever', 'cough', 'muscle','sorethroat',\n",
    "            'age 0-4','age 5-15' ,'age 16-44','age 45-64','age 65+','female','male',\n",
    "            'virus']\n"
   ]
  },
  {
   "cell_type": "code",
   "execution_count": 13,
   "metadata": {
    "collapsed": true
   },
   "outputs": [],
   "source": [
    "def split(dataset):\n",
    "    cols = list(dataset.columns)\n",
    "    cols = [i for i in cols if i!='virus']\n",
    "    pos = dataset.loc[dataset['virus']==1]\n",
    "    neg = dataset.loc[dataset['virus']==0]\n",
    "    print(pos.shape[0])\n",
    "    print(neg.shape[0])\n",
    "    x_train,x_test,y_train,y_test = train_test_split(dataset.drop('virus',axis = 1),dataset['virus'],test_size=0.8,random_state = 100)\n",
    "    print(sum(y_train))\n",
    "    print(sum(y_test))\n",
    "    train = pd.DataFrame(x_train,columns=cols)\n",
    "    test = pd.DataFrame(x_test,columns = cols)\n",
    "    train['virus'] = y_train\n",
    "    test['virus'] = y_test\n",
    "#     train = dataset.sample(frac = 0.1, random_state = 100)\n",
    "#     test = dataset.drop(train.index)\n",
    "# #     test.to_csv(test_directory+filename,index=False)\n",
    "#     train.to_csv(train_directory+filename,index=False)\n",
    "    return train,test"
   ]
  },
  {
   "cell_type": "code",
   "execution_count": 14,
   "metadata": {
    "collapsed": true
   },
   "outputs": [],
   "source": [
    "files_ = ['goviral.csv','fluwatch.csv','hongkong.csv','hutterite.csv','male.csv','female.csv',\n",
    "          'age1.csv','age2.csv','age3.csv','age4.csv','age5.csv','individually_reported.csv',\n",
    "          'health_worker_facilitated.csv','total.csv']"
   ]
  },
  {
   "cell_type": "code",
   "execution_count": 15,
   "metadata": {},
   "outputs": [
    {
     "data": {
      "text/plain": [
       "14"
      ]
     },
     "execution_count": 15,
     "metadata": {},
     "output_type": "execute_result"
    }
   ],
   "source": [
    "len(files_)"
   ]
  },
  {
   "cell_type": "code",
   "execution_count": null,
   "metadata": {
    "collapsed": true
   },
   "outputs": [],
   "source": []
  },
  {
   "cell_type": "code",
   "execution_count": null,
   "metadata": {
    "collapsed": true
   },
   "outputs": [],
   "source": []
  },
  {
   "cell_type": "code",
   "execution_count": 16,
   "metadata": {},
   "outputs": [
    {
     "name": "stdout",
     "output_type": "stream",
     "text": [
      "290\n",
      "230\n",
      "60\n",
      "230\n"
     ]
    }
   ],
   "source": [
    "goviral = pd.read_csv(store_directory+'goviral.csv')\n",
    "train,test = split(goviral)\n",
    "\n",
    "train.to_csv(train_directory+\"Goviral/Train/\"+'goviral.csv',index=False)\n",
    "test.to_csv(train_directory+\"Goviral/Test/\"+'goviral.csv',index=False)\n"
   ]
  },
  {
   "cell_type": "code",
   "execution_count": 17,
   "metadata": {},
   "outputs": [
    {
     "name": "stdout",
     "output_type": "stream",
     "text": [
      "435\n",
      "480\n",
      "82\n",
      "353\n"
     ]
    }
   ],
   "source": [
    "fluwatch = pd.read_csv(store_directory+'fluwatch.csv')\n",
    "train,test = split(fluwatch)\n",
    "\n",
    "train.to_csv(train_directory+\"Fluwatch/Train/\"+'fluwatch.csv',index=False)\n",
    "test.to_csv(train_directory+\"Fluwatch/Test/\"+'fluwatch.csv',index=False)\n"
   ]
  },
  {
   "cell_type": "code",
   "execution_count": 18,
   "metadata": {},
   "outputs": [
    {
     "name": "stdout",
     "output_type": "stream",
     "text": [
      "1551\n",
      "3403\n",
      "330\n",
      "1221\n"
     ]
    }
   ],
   "source": [
    "hongkong = pd.read_csv(store_directory+'hongkong.csv')\n",
    "train,test = split(hongkong)\n",
    "\n",
    "train.to_csv(train_directory+\"Hongkong/Train/\"+'hongkong.csv',index=False)\n",
    "test.to_csv(train_directory+\"Hongkong/Test/\"+'hongkong.csv',index=False)\n"
   ]
  },
  {
   "cell_type": "code",
   "execution_count": 19,
   "metadata": {},
   "outputs": [
    {
     "name": "stdout",
     "output_type": "stream",
     "text": [
      "586\n",
      "695\n",
      "111\n",
      "475\n"
     ]
    }
   ],
   "source": [
    "hutterite = pd.read_csv(store_directory+'hutterite.csv')\n",
    "train,test = split(hutterite)\n",
    "\n",
    "train.to_csv(train_directory+\"Hutterite/Train/\"+'hutterite.csv',index=False)\n",
    "test.to_csv(train_directory+\"Hutterite/Test/\"+'hutterite.csv',index=False)"
   ]
  }
 ],
 "metadata": {
  "kernelspec": {
   "display_name": "Python 3",
   "language": "python",
   "name": "python3"
  },
  "language_info": {
   "codemirror_mode": {
    "name": "ipython",
    "version": 3
   },
   "file_extension": ".py",
   "mimetype": "text/x-python",
   "name": "python",
   "nbconvert_exporter": "python",
   "pygments_lexer": "ipython3",
   "version": "3.5.4"
  }
 },
 "nbformat": 4,
 "nbformat_minor": 2
}
