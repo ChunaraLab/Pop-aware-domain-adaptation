{
 "cells": [
  {
   "cell_type": "markdown",
   "metadata": {},
   "source": [
    "* "
   ]
  },
  {
   "cell_type": "code",
   "execution_count": 1,
   "metadata": {
    "collapsed": true
   },
   "outputs": [],
   "source": [
    "import time\n",
    "import os\n",
    "import pandas as pd\n",
    "import numpy as np"
   ]
  },
  {
   "cell_type": "code",
   "execution_count": 2,
   "metadata": {
    "collapsed": true
   },
   "outputs": [],
   "source": [
    "def read_files(filename):\n",
    "    data = pd.read_csv(filename)\n",
    "    return data"
   ]
  },
  {
   "cell_type": "code",
   "execution_count": 5,
   "metadata": {
    "collapsed": true
   },
   "outputs": [],
   "source": [
    "data_directory = \"../Data/With_Improved_Target/With_Demographics/\""
   ]
  },
  {
   "cell_type": "code",
   "execution_count": 6,
   "metadata": {
    "collapsed": true
   },
   "outputs": [],
   "source": [
    "data_nyumc = read_files(data_directory+\"nyumc.csv\")\n",
    "data_gv = read_files(data_directory+\"goviral.csv\")\n",
    "data_fw = read_files(data_directory+\"fluwatch.csv\")\n",
    "data_hk = read_files(data_directory+\"hongkong.csv\")\n",
    "data_ht = read_files(data_directory+\"hutterite.csv\")"
   ]
  },
  {
   "cell_type": "code",
   "execution_count": 7,
   "metadata": {
    "collapsed": true
   },
   "outputs": [],
   "source": [
    "def set_target(dataset):\n",
    "    columns_ = dataset.columns\n",
    "    if 'virus' not in columns_:\n",
    "        print(\"Virus is not present in the columns!\")\n",
    "        dataset = dataset.rename(columns = {'flu':'virus'})\n",
    "        print(\"New columns :\\n\")\n",
    "        print(dataset.columns)\n",
    "    else:\n",
    "        print(\"Virus is already the target variable!\")\n",
    "    return dataset"
   ]
  },
  {
   "cell_type": "code",
   "execution_count": 8,
   "metadata": {},
   "outputs": [
    {
     "name": "stdout",
     "output_type": "stream",
     "text": [
      "Virus is already the target variable!\n"
     ]
    }
   ],
   "source": [
    "#set target variable for NYUMC\n",
    "data_nyumc = set_target(data_nyumc)"
   ]
  },
  {
   "cell_type": "code",
   "execution_count": 9,
   "metadata": {},
   "outputs": [
    {
     "name": "stdout",
     "output_type": "stream",
     "text": [
      "Virus is already the target variable!\n"
     ]
    }
   ],
   "source": [
    "#set the target variable for GoViral\n",
    "data_gv = set_target(data_gv)"
   ]
  },
  {
   "cell_type": "code",
   "execution_count": 10,
   "metadata": {},
   "outputs": [
    {
     "name": "stdout",
     "output_type": "stream",
     "text": [
      "Virus is already the target variable!\n"
     ]
    }
   ],
   "source": [
    "#set the target variable for FluWatch\n",
    "data_fw = set_target(data_fw)"
   ]
  },
  {
   "cell_type": "code",
   "execution_count": 11,
   "metadata": {},
   "outputs": [
    {
     "name": "stdout",
     "output_type": "stream",
     "text": [
      "Virus is already the target variable!\n"
     ]
    }
   ],
   "source": [
    "#set the target variable for hongkong\n",
    "data_hk = set_target(data_hk)"
   ]
  },
  {
   "cell_type": "code",
   "execution_count": 12,
   "metadata": {},
   "outputs": [
    {
     "name": "stdout",
     "output_type": "stream",
     "text": [
      "Virus is already the target variable!\n"
     ]
    }
   ],
   "source": [
    "#set the target variable for hutterite\n",
    "data_ht = set_target(data_ht)"
   ]
  },
  {
   "cell_type": "code",
   "execution_count": 13,
   "metadata": {
    "collapsed": true
   },
   "outputs": [],
   "source": [
    "symptoms = ['fever',\n",
    "            'sorethroat',\n",
    "            'cough',\n",
    "            'muscle',\n",
    "            'headache',\n",
    "            'fatigue',\n",
    "            'vomit',\n",
    "            'nausea',\n",
    "            'diarrhea',\n",
    "            'chills',\n",
    "            'sneeze',\n",
    "            'shortness of breath',\n",
    "            'phlegm',\n",
    "            'blockednose',\n",
    "            'earache',\n",
    "            'leg pain',\n",
    "            'runnynose',\n",
    "            'virus']"
   ]
  },
  {
   "cell_type": "code",
   "execution_count": 14,
   "metadata": {
    "collapsed": true
   },
   "outputs": [],
   "source": [
    "data = [data_nyumc,data_gv,data_fw,data_hk,data_ht]"
   ]
  },
  {
   "cell_type": "code",
   "execution_count": 15,
   "metadata": {},
   "outputs": [
    {
     "name": "stdout",
     "output_type": "stream",
     "text": [
      "NYUMC :  21907\n",
      "GoViral :  520\n",
      "FluWatch :  915\n",
      "HongKong :  4954\n",
      "Hutterite :  1281\n"
     ]
    }
   ],
   "source": [
    "print(\"NYUMC : \",data_nyumc.shape[0])\n",
    "print(\"GoViral : \",data_gv.shape[0])\n",
    "print(\"FluWatch : \",data_fw.shape[0])\n",
    "print(\"HongKong : \",data_hk.shape[0])\n",
    "print(\"Hutterite : \",data_ht.shape[0])"
   ]
  },
  {
   "cell_type": "code",
   "execution_count": 16,
   "metadata": {
    "collapsed": true
   },
   "outputs": [],
   "source": [
    "def return_with_symptoms(dataset,symptoms):\n",
    "    data = dataset[symptoms]\n",
    "    return data"
   ]
  },
  {
   "cell_type": "code",
   "execution_count": 17,
   "metadata": {
    "collapsed": true
   },
   "outputs": [],
   "source": [
    "def choose_specific(dataset,symptoms,column):\n",
    "    dataset = dataset.loc[dataset[column] == 1]\n",
    "    data = return_with_symptoms(dataset,symptoms)\n",
    "    return data"
   ]
  },
  {
   "cell_type": "code",
   "execution_count": 18,
   "metadata": {
    "collapsed": true
   },
   "outputs": [],
   "source": [
    "def get_data(demographic):\n",
    "    to_concat = []\n",
    "    for i in data:\n",
    "        to_concat.append(choose_specific(i,symptoms,demographic))\n",
    "    temp = pd.concat(to_concat)\n",
    "    print(temp.shape[0])\n",
    "    return temp"
   ]
  },
  {
   "cell_type": "code",
   "execution_count": 19,
   "metadata": {},
   "outputs": [
    {
     "data": {
      "text/plain": [
       "Index(['Unnamed: 0', 'fever', 'sorethroat', 'cough', 'muscle', 'headache',\n",
       "       'fatigue', 'vomit', 'nausea', 'diarrhea', 'chills', 'sneeze',\n",
       "       'shortness of breath', 'phlegm', 'blockednose', 'earache', 'leg pain',\n",
       "       'runnynose', 'age 0-4', 'age 5-15', 'age 16-44', 'age 45-64', 'age 65+',\n",
       "       'male', 'female', 'virus'],\n",
       "      dtype='object')"
      ]
     },
     "execution_count": 19,
     "metadata": {},
     "output_type": "execute_result"
    }
   ],
   "source": [
    "data_nyumc.columns"
   ]
  },
  {
   "cell_type": "markdown",
   "metadata": {},
   "source": [
    "### Get all datapoints where male is positive from all the datasets"
   ]
  },
  {
   "cell_type": "code",
   "execution_count": 20,
   "metadata": {},
   "outputs": [
    {
     "name": "stdout",
     "output_type": "stream",
     "text": [
      "13671\n"
     ]
    }
   ],
   "source": [
    "male = get_data('male')"
   ]
  },
  {
   "cell_type": "code",
   "execution_count": 21,
   "metadata": {},
   "outputs": [
    {
     "name": "stdout",
     "output_type": "stream",
     "text": [
      "15856\n"
     ]
    }
   ],
   "source": [
    "female = get_data('female')"
   ]
  },
  {
   "cell_type": "code",
   "execution_count": 22,
   "metadata": {},
   "outputs": [
    {
     "name": "stdout",
     "output_type": "stream",
     "text": [
      "5209\n"
     ]
    }
   ],
   "source": [
    "age1 = get_data('age 0-4')"
   ]
  },
  {
   "cell_type": "code",
   "execution_count": 23,
   "metadata": {},
   "outputs": [
    {
     "name": "stdout",
     "output_type": "stream",
     "text": [
      "3780\n"
     ]
    }
   ],
   "source": [
    "age2 = get_data('age 5-15')"
   ]
  },
  {
   "cell_type": "code",
   "execution_count": 24,
   "metadata": {},
   "outputs": [
    {
     "name": "stdout",
     "output_type": "stream",
     "text": [
      "10667\n"
     ]
    }
   ],
   "source": [
    "age3 = get_data('age 16-44')"
   ]
  },
  {
   "cell_type": "code",
   "execution_count": 25,
   "metadata": {},
   "outputs": [
    {
     "name": "stdout",
     "output_type": "stream",
     "text": [
      "5587\n"
     ]
    }
   ],
   "source": [
    "age4 = get_data('age 45-64')"
   ]
  },
  {
   "cell_type": "code",
   "execution_count": 26,
   "metadata": {},
   "outputs": [
    {
     "name": "stdout",
     "output_type": "stream",
     "text": [
      "4061\n"
     ]
    }
   ],
   "source": [
    "age5 = get_data('age 65+')"
   ]
  },
  {
   "cell_type": "markdown",
   "metadata": {},
   "source": [
    "### Get only the symptoms for all the datasets"
   ]
  },
  {
   "cell_type": "code",
   "execution_count": 27,
   "metadata": {
    "collapsed": true
   },
   "outputs": [],
   "source": [
    "nyumc = return_with_symptoms(data_nyumc,symptoms)"
   ]
  },
  {
   "cell_type": "code",
   "execution_count": 28,
   "metadata": {
    "collapsed": true
   },
   "outputs": [],
   "source": [
    "goviral = return_with_symptoms(data_gv,symptoms)"
   ]
  },
  {
   "cell_type": "code",
   "execution_count": 29,
   "metadata": {
    "collapsed": true
   },
   "outputs": [],
   "source": [
    "fluwatch = return_with_symptoms(data_fw,symptoms)"
   ]
  },
  {
   "cell_type": "code",
   "execution_count": 30,
   "metadata": {
    "collapsed": true
   },
   "outputs": [],
   "source": [
    "hongkong = return_with_symptoms(data_hk,symptoms)"
   ]
  },
  {
   "cell_type": "code",
   "execution_count": 31,
   "metadata": {
    "collapsed": true
   },
   "outputs": [],
   "source": [
    "hutterite = return_with_symptoms(data_ht,symptoms)"
   ]
  },
  {
   "cell_type": "markdown",
   "metadata": {},
   "source": [
    "### Get datapoints based on the collection mode"
   ]
  },
  {
   "cell_type": "code",
   "execution_count": 32,
   "metadata": {
    "collapsed": true
   },
   "outputs": [],
   "source": [
    "clinically_collected = nyumc"
   ]
  },
  {
   "cell_type": "code",
   "execution_count": 33,
   "metadata": {
    "collapsed": true
   },
   "outputs": [],
   "source": [
    "individually_reported = pd.concat([goviral,fluwatch])"
   ]
  },
  {
   "cell_type": "code",
   "execution_count": 34,
   "metadata": {
    "collapsed": true
   },
   "outputs": [],
   "source": [
    "health_worker_facilitated = pd.concat([hongkong,hutterite])"
   ]
  },
  {
   "cell_type": "markdown",
   "metadata": {},
   "source": [
    "### All the datapoints together in one dataset"
   ]
  },
  {
   "cell_type": "code",
   "execution_count": 35,
   "metadata": {
    "collapsed": true
   },
   "outputs": [],
   "source": [
    "total = pd.concat([nyumc,goviral,fluwatch,hongkong,hutterite])"
   ]
  },
  {
   "cell_type": "markdown",
   "metadata": {},
   "source": [
    "### Save the datafiles"
   ]
  },
  {
   "cell_type": "code",
   "execution_count": 37,
   "metadata": {
    "collapsed": true
   },
   "outputs": [],
   "source": [
    "def save_file(dataset,filename):\n",
    "    print(dataset.head())\n",
    "    dataset.to_csv(filename,index = False)"
   ]
  },
  {
   "cell_type": "code",
   "execution_count": 40,
   "metadata": {
    "collapsed": true
   },
   "outputs": [],
   "source": [
    "directory = \"../Data/With_Improved_Target/Processed_Features/\""
   ]
  },
  {
   "cell_type": "code",
   "execution_count": 41,
   "metadata": {},
   "outputs": [
    {
     "name": "stdout",
     "output_type": "stream",
     "text": [
      "    fever  sorethroat  cough  muscle  headache  fatigue  vomit  nausea  \\\n",
      "0     1.0         0.0    0.0     0.0       0.0        0      0       0   \n",
      "7     1.0         0.0    0.0     0.0       0.0        0      0       0   \n",
      "10    1.0         0.0    0.0     0.0       0.0        0      0       0   \n",
      "11    1.0         0.0    1.0     0.0       0.0        0      0       0   \n",
      "14    0.0         0.0    1.0     0.0       0.0        0      0       0   \n",
      "\n",
      "    diarrhea  chills  sneeze  shortness of breath  phlegm  blockednose  \\\n",
      "0        0.0       0     0.0                    0     0.0          0.0   \n",
      "7        0.0       0     0.0                    0     0.0          0.0   \n",
      "10       0.0       0     0.0                    0     0.0          0.0   \n",
      "11       0.0       0     0.0                    0     0.0          0.0   \n",
      "14       0.0       0     0.0                    0     0.0          0.0   \n",
      "\n",
      "    earache  leg pain  runnynose  virus  \n",
      "0       0.0         0        0.0      0  \n",
      "7       0.0         0        0.0      0  \n",
      "10      0.0         0        0.0      0  \n",
      "11      0.0         0        0.0      1  \n",
      "14      0.0         0        0.0      0  \n"
     ]
    }
   ],
   "source": [
    "save_file(male,directory+\"male.csv\")"
   ]
  },
  {
   "cell_type": "code",
   "execution_count": 42,
   "metadata": {},
   "outputs": [
    {
     "name": "stdout",
     "output_type": "stream",
     "text": [
      "   fever  sorethroat  cough  muscle  headache  fatigue  vomit  nausea  \\\n",
      "1    0.0         0.0    1.0     0.0       0.0        0      0       0   \n",
      "2    0.0         0.0    1.0     1.0       0.0        0      0       0   \n",
      "3    1.0         0.0    1.0     0.0       0.0        0      0       0   \n",
      "4    1.0         0.0    0.0     0.0       0.0        0      0       0   \n",
      "5    1.0         0.0    1.0     0.0       0.0        0      0       0   \n",
      "\n",
      "   diarrhea  chills  sneeze  shortness of breath  phlegm  blockednose  \\\n",
      "1       0.0       0     0.0                    0     0.0          0.0   \n",
      "2       0.0       0     0.0                    0     0.0          0.0   \n",
      "3       0.0       0     0.0                    0     0.0          0.0   \n",
      "4       0.0       0     0.0                    0     0.0          0.0   \n",
      "5       0.0       0     0.0                    0     0.0          0.0   \n",
      "\n",
      "   earache  leg pain  runnynose  virus  \n",
      "1      0.0         0        0.0      1  \n",
      "2      0.0         0        0.0      1  \n",
      "3      0.0         0        0.0      1  \n",
      "4      0.0         0        0.0      1  \n",
      "5      0.0         0        0.0      1  \n"
     ]
    }
   ],
   "source": [
    "save_file(female,directory+\"female.csv\")"
   ]
  },
  {
   "cell_type": "code",
   "execution_count": 43,
   "metadata": {},
   "outputs": [
    {
     "name": "stdout",
     "output_type": "stream",
     "text": [
      "    fever  sorethroat  cough  muscle  headache  fatigue  vomit  nausea  \\\n",
      "0     1.0         0.0    0.0     0.0       0.0        0      0       0   \n",
      "16    1.0         0.0    0.0     0.0       0.0        0      1       0   \n",
      "21    1.0         0.0    0.0     0.0       0.0        0      0       0   \n",
      "22    1.0         0.0    0.0     0.0       0.0        0      0       0   \n",
      "27    0.0         0.0    1.0     0.0       0.0        0      0       0   \n",
      "\n",
      "    diarrhea  chills  sneeze  shortness of breath  phlegm  blockednose  \\\n",
      "0        0.0       0     0.0                    0     0.0          0.0   \n",
      "16       0.0       0     0.0                    0     0.0          0.0   \n",
      "21       0.0       0     0.0                    0     0.0          0.0   \n",
      "22       0.0       0     0.0                    0     0.0          0.0   \n",
      "27       1.0       0     0.0                    0     0.0          0.0   \n",
      "\n",
      "    earache  leg pain  runnynose  virus  \n",
      "0       0.0         0        0.0      0  \n",
      "16      0.0         0        0.0      0  \n",
      "21      0.0         0        0.0      0  \n",
      "22      0.0         0        0.0      0  \n",
      "27      0.0         0        0.0      0  \n"
     ]
    }
   ],
   "source": [
    "save_file(age1,directory+\"age1.csv\")"
   ]
  },
  {
   "cell_type": "code",
   "execution_count": 44,
   "metadata": {},
   "outputs": [
    {
     "name": "stdout",
     "output_type": "stream",
     "text": [
      "    fever  sorethroat  cough  muscle  headache  fatigue  vomit  nausea  \\\n",
      "3     1.0         0.0    1.0     0.0       0.0        0      0       0   \n",
      "14    0.0         0.0    1.0     0.0       0.0        0      0       0   \n",
      "15    1.0         0.0    1.0     0.0       0.0        0      0       0   \n",
      "45    1.0         0.0    0.0     0.0       0.0        0      0       0   \n",
      "48    1.0         0.0    0.0     0.0       0.0        0      0       0   \n",
      "\n",
      "    diarrhea  chills  sneeze  shortness of breath  phlegm  blockednose  \\\n",
      "3        0.0       0     0.0                    0     0.0          0.0   \n",
      "14       0.0       0     0.0                    0     0.0          0.0   \n",
      "15       0.0       0     0.0                    0     0.0          0.0   \n",
      "45       0.0       0     0.0                    0     0.0          0.0   \n",
      "48       0.0       0     0.0                    0     0.0          0.0   \n",
      "\n",
      "    earache  leg pain  runnynose  virus  \n",
      "3       0.0         0        0.0      1  \n",
      "14      0.0         0        0.0      0  \n",
      "15      0.0         0        0.0      1  \n",
      "45      0.0         0        0.0      1  \n",
      "48      0.0         0        0.0      1  \n"
     ]
    }
   ],
   "source": [
    "save_file(age2,directory+\"age2.csv\")"
   ]
  },
  {
   "cell_type": "code",
   "execution_count": 45,
   "metadata": {},
   "outputs": [
    {
     "name": "stdout",
     "output_type": "stream",
     "text": [
      "   fever  sorethroat  cough  muscle  headache  fatigue  vomit  nausea  \\\n",
      "2    0.0         0.0    1.0     1.0       0.0        0      0       0   \n",
      "4    1.0         0.0    0.0     0.0       0.0        0      0       0   \n",
      "5    1.0         0.0    1.0     0.0       0.0        0      0       0   \n",
      "8    1.0         0.0    0.0     0.0       0.0        0      0       0   \n",
      "9    0.0         0.0    1.0     0.0       0.0        0      0       0   \n",
      "\n",
      "   diarrhea  chills  sneeze  shortness of breath  phlegm  blockednose  \\\n",
      "2       0.0       0     0.0                    0     0.0          0.0   \n",
      "4       0.0       0     0.0                    0     0.0          0.0   \n",
      "5       0.0       0     0.0                    0     0.0          0.0   \n",
      "8       0.0       0     0.0                    0     0.0          0.0   \n",
      "9       0.0       0     0.0                    0     0.0          0.0   \n",
      "\n",
      "   earache  leg pain  runnynose  virus  \n",
      "2      0.0         0        0.0      1  \n",
      "4      0.0         0        0.0      1  \n",
      "5      0.0         0        0.0      1  \n",
      "8      0.0         0        0.0      1  \n",
      "9      0.0         0        0.0      0  \n"
     ]
    }
   ],
   "source": [
    "save_file(age3,directory+\"age3.csv\")"
   ]
  },
  {
   "cell_type": "code",
   "execution_count": 46,
   "metadata": {},
   "outputs": [
    {
     "name": "stdout",
     "output_type": "stream",
     "text": [
      "    fever  sorethroat  cough  muscle  headache  fatigue  vomit  nausea  \\\n",
      "6     0.0         0.0    1.0     0.0       0.0        0      0       0   \n",
      "18    1.0         0.0    0.0     0.0       0.0        0      0       0   \n",
      "23    1.0         0.0    0.0     0.0       0.0        0      1       0   \n",
      "24    0.0         0.0    1.0     0.0       0.0        0      0       0   \n",
      "30    1.0         0.0    0.0     0.0       0.0        0      0       0   \n",
      "\n",
      "    diarrhea  chills  sneeze  shortness of breath  phlegm  blockednose  \\\n",
      "6        0.0       0     0.0                    0     0.0          0.0   \n",
      "18       0.0       0     0.0                    0     0.0          0.0   \n",
      "23       1.0       0     0.0                    0     0.0          0.0   \n",
      "24       0.0       0     0.0                    0     0.0          0.0   \n",
      "30       0.0       0     0.0                    0     0.0          0.0   \n",
      "\n",
      "    earache  leg pain  runnynose  virus  \n",
      "6       0.0         0        0.0      0  \n",
      "18      0.0         0        0.0      0  \n",
      "23      0.0         0        0.0      0  \n",
      "24      0.0         0        0.0      0  \n",
      "30      0.0         0        0.0      1  \n"
     ]
    }
   ],
   "source": [
    "save_file(age4,directory+\"age4.csv\")"
   ]
  },
  {
   "cell_type": "code",
   "execution_count": 47,
   "metadata": {},
   "outputs": [
    {
     "name": "stdout",
     "output_type": "stream",
     "text": [
      "    fever  sorethroat  cough  muscle  headache  fatigue  vomit  nausea  \\\n",
      "1     0.0         0.0    1.0     0.0       0.0        0      0       0   \n",
      "7     1.0         0.0    0.0     0.0       0.0        0      0       0   \n",
      "10    1.0         0.0    0.0     0.0       0.0        0      0       0   \n",
      "12    1.0         0.0    0.0     0.0       0.0        0      0       0   \n",
      "25    0.0         0.0    1.0     0.0       0.0        0      0       0   \n",
      "\n",
      "    diarrhea  chills  sneeze  shortness of breath  phlegm  blockednose  \\\n",
      "1        0.0       0     0.0                    0     0.0          0.0   \n",
      "7        0.0       0     0.0                    0     0.0          0.0   \n",
      "10       0.0       0     0.0                    0     0.0          0.0   \n",
      "12       0.0       0     0.0                    0     0.0          0.0   \n",
      "25       0.0       0     0.0                    0     0.0          0.0   \n",
      "\n",
      "    earache  leg pain  runnynose  virus  \n",
      "1       0.0         0        0.0      1  \n",
      "7       0.0         0        0.0      0  \n",
      "10      0.0         0        0.0      0  \n",
      "12      0.0         0        0.0      0  \n",
      "25      0.0         0        0.0      1  \n"
     ]
    }
   ],
   "source": [
    "save_file(age5,directory+\"age5.csv\")"
   ]
  },
  {
   "cell_type": "code",
   "execution_count": 48,
   "metadata": {},
   "outputs": [
    {
     "name": "stdout",
     "output_type": "stream",
     "text": [
      "   fever  sorethroat  cough  muscle  headache  fatigue  vomit  nausea  \\\n",
      "0      1           0      0       0         0        0      0       0   \n",
      "1      0           0      1       0         0        0      0       0   \n",
      "2      0           0      1       1         0        0      0       0   \n",
      "3      1           0      1       0         0        0      0       0   \n",
      "4      1           0      0       0         0        0      0       0   \n",
      "\n",
      "   diarrhea  chills  sneeze  shortness of breath  phlegm  blockednose  \\\n",
      "0         0       0       0                    0       0            0   \n",
      "1         0       0       0                    0       0            0   \n",
      "2         0       0       0                    0       0            0   \n",
      "3         0       0       0                    0       0            0   \n",
      "4         0       0       0                    0       0            0   \n",
      "\n",
      "   earache  leg pain  runnynose  virus  \n",
      "0        0         0          0      0  \n",
      "1        0         0          0      1  \n",
      "2        0         0          0      1  \n",
      "3        0         0          0      1  \n",
      "4        0         0          0      1  \n"
     ]
    }
   ],
   "source": [
    "save_file(clinically_collected,directory+\"clinically_collected.csv\")"
   ]
  },
  {
   "cell_type": "code",
   "execution_count": 49,
   "metadata": {},
   "outputs": [
    {
     "name": "stdout",
     "output_type": "stream",
     "text": [
      "   fever  sorethroat  cough  muscle  headache  fatigue  vomit  nausea  \\\n",
      "0    0.0         1.0    0.0     0.0       0.0        1      0       0   \n",
      "1    0.0         0.0    0.0     0.0       0.0        0      0       0   \n",
      "2    1.0         1.0    1.0     1.0       0.0        1      1       1   \n",
      "3    0.0         0.0    1.0     0.0       0.0        0      0       0   \n",
      "4    1.0         1.0    1.0     0.0       0.0        0      0       0   \n",
      "\n",
      "   diarrhea  chills  sneeze  shortness of breath  phlegm  blockednose  \\\n",
      "0       0.0       0     0.0                    0       0          0.0   \n",
      "1       0.0       0     0.0                    0       0          0.0   \n",
      "2       1.0       1     0.0                    1       0          0.0   \n",
      "3       0.0       0     0.0                    0       0          0.0   \n",
      "4       0.0       0     0.0                    0       0          0.0   \n",
      "\n",
      "   earache  leg pain  runnynose  virus  \n",
      "0        0         0        1.0      0  \n",
      "1        0         0        0.0      0  \n",
      "2        0         1        1.0      0  \n",
      "3        0         0        0.0      0  \n",
      "4        0         0        0.0      0  \n"
     ]
    }
   ],
   "source": [
    "save_file(individually_reported,directory+\"individually_reported.csv\")"
   ]
  },
  {
   "cell_type": "code",
   "execution_count": 50,
   "metadata": {},
   "outputs": [
    {
     "name": "stdout",
     "output_type": "stream",
     "text": [
      "   fever  sorethroat  cough  muscle  headache  fatigue  vomit  nausea  \\\n",
      "0    0.0         0.0    0.0     0.0       0.0        0      0       0   \n",
      "1    0.0         0.0    0.0     0.0       0.0        0      0       0   \n",
      "2    0.0         0.0    0.0     0.0       0.0        0      0       0   \n",
      "3    0.0         0.0    1.0     0.0       0.0        0      0       0   \n",
      "4    0.0         0.0    0.0     0.0       0.0        0      0       0   \n",
      "\n",
      "   diarrhea  chills  sneeze  shortness of breath  phlegm  blockednose  \\\n",
      "0         0       0       0                    0     0.0            0   \n",
      "1         0       0       0                    0     0.0            0   \n",
      "2         0       0       0                    0     0.0            0   \n",
      "3         0       0       0                    0     1.0            0   \n",
      "4         0       0       0                    0     0.0            0   \n",
      "\n",
      "   earache  leg pain  runnynose  virus  \n",
      "0      0.0         0        0.0      0  \n",
      "1      0.0         0        0.0      0  \n",
      "2      0.0         0        0.0      0  \n",
      "3      0.0         0        1.0      1  \n",
      "4      0.0         0        0.0      0  \n"
     ]
    }
   ],
   "source": [
    "save_file(health_worker_facilitated,directory+\"health_worker_facilitated.csv\")"
   ]
  },
  {
   "cell_type": "code",
   "execution_count": 51,
   "metadata": {},
   "outputs": [
    {
     "name": "stdout",
     "output_type": "stream",
     "text": [
      "   fever  sorethroat  cough  muscle  headache  fatigue  vomit  nausea  \\\n",
      "0    1.0         0.0    0.0     0.0       0.0        0      0       0   \n",
      "1    0.0         0.0    1.0     0.0       0.0        0      0       0   \n",
      "2    0.0         0.0    1.0     1.0       0.0        0      0       0   \n",
      "3    1.0         0.0    1.0     0.0       0.0        0      0       0   \n",
      "4    1.0         0.0    0.0     0.0       0.0        0      0       0   \n",
      "\n",
      "   diarrhea  chills  sneeze  shortness of breath  phlegm  blockednose  \\\n",
      "0       0.0       0     0.0                    0     0.0          0.0   \n",
      "1       0.0       0     0.0                    0     0.0          0.0   \n",
      "2       0.0       0     0.0                    0     0.0          0.0   \n",
      "3       0.0       0     0.0                    0     0.0          0.0   \n",
      "4       0.0       0     0.0                    0     0.0          0.0   \n",
      "\n",
      "   earache  leg pain  runnynose  virus  \n",
      "0      0.0         0        0.0      0  \n",
      "1      0.0         0        0.0      1  \n",
      "2      0.0         0        0.0      1  \n",
      "3      0.0         0        0.0      1  \n",
      "4      0.0         0        0.0      1  \n"
     ]
    }
   ],
   "source": [
    "save_file(total,directory+\"total.csv\")"
   ]
  },
  {
   "cell_type": "code",
   "execution_count": 52,
   "metadata": {},
   "outputs": [
    {
     "name": "stdout",
     "output_type": "stream",
     "text": [
      "   fever  sorethroat  cough  muscle  headache  fatigue  vomit  nausea  \\\n",
      "0      1           0      0       0         0        0      0       0   \n",
      "1      0           0      1       0         0        0      0       0   \n",
      "2      0           0      1       1         0        0      0       0   \n",
      "3      1           0      1       0         0        0      0       0   \n",
      "4      1           0      0       0         0        0      0       0   \n",
      "\n",
      "   diarrhea  chills  sneeze  shortness of breath  phlegm  blockednose  \\\n",
      "0         0       0       0                    0       0            0   \n",
      "1         0       0       0                    0       0            0   \n",
      "2         0       0       0                    0       0            0   \n",
      "3         0       0       0                    0       0            0   \n",
      "4         0       0       0                    0       0            0   \n",
      "\n",
      "   earache  leg pain  runnynose  virus  \n",
      "0        0         0          0      0  \n",
      "1        0         0          0      1  \n",
      "2        0         0          0      1  \n",
      "3        0         0          0      1  \n",
      "4        0         0          0      1  \n"
     ]
    }
   ],
   "source": [
    "save_file(nyumc,directory+\"nyumc.csv\")"
   ]
  },
  {
   "cell_type": "code",
   "execution_count": 53,
   "metadata": {},
   "outputs": [
    {
     "name": "stdout",
     "output_type": "stream",
     "text": [
      "   fever  sorethroat  cough  muscle  headache  fatigue  vomit  nausea  \\\n",
      "0      0           1      0       0         0        1      0       0   \n",
      "1      0           0      0       0         0        0      0       0   \n",
      "2      1           1      1       1         0        1      1       1   \n",
      "3      0           0      1       0         0        0      0       0   \n",
      "4      1           1      1       0         0        0      0       0   \n",
      "\n",
      "   diarrhea  chills  sneeze  shortness of breath  phlegm  blockednose  \\\n",
      "0         0       0       0                    0       0            0   \n",
      "1         0       0       0                    0       0            0   \n",
      "2         1       1       0                    1       0            0   \n",
      "3         0       0       0                    0       0            0   \n",
      "4         0       0       0                    0       0            0   \n",
      "\n",
      "   earache  leg pain  runnynose  virus  \n",
      "0        0         0          1      0  \n",
      "1        0         0          0      0  \n",
      "2        0         1          1      0  \n",
      "3        0         0          0      0  \n",
      "4        0         0          0      0  \n"
     ]
    }
   ],
   "source": [
    "save_file(goviral,directory+\"goviral.csv\")"
   ]
  },
  {
   "cell_type": "code",
   "execution_count": 54,
   "metadata": {},
   "outputs": [
    {
     "name": "stdout",
     "output_type": "stream",
     "text": [
      "   fever  sorethroat  cough  muscle  headache  fatigue  vomit  nausea  \\\n",
      "0    1.0         1.0    1.0     1.0       1.0        0      0       0   \n",
      "1    0.0         0.0    1.0     0.0       0.0        0      0       0   \n",
      "2    0.0         1.0    1.0     1.0       1.0        0      0       0   \n",
      "3    0.0         0.0    0.0     0.0       1.0        0      0       0   \n",
      "4    0.0         0.0    0.0     0.0       0.0        0      0       0   \n",
      "\n",
      "   diarrhea  chills  sneeze  shortness of breath  phlegm  blockednose  \\\n",
      "0       0.0       0     1.0                    0       0          0.0   \n",
      "1       0.0       0     0.0                    0       0          0.0   \n",
      "2       0.0       0     1.0                    0       0          0.0   \n",
      "3       0.0       0     1.0                    0       0          0.0   \n",
      "4       0.0       0     0.0                    0       0          0.0   \n",
      "\n",
      "   earache  leg pain  runnynose  virus  \n",
      "0        0         0        1.0      0  \n",
      "1        0         0        1.0      1  \n",
      "2        0         0        1.0      0  \n",
      "3        0         0        1.0      1  \n",
      "4        0         0        0.0      1  \n"
     ]
    }
   ],
   "source": [
    "save_file(fluwatch,directory+\"fluwatch.csv\")"
   ]
  },
  {
   "cell_type": "code",
   "execution_count": 55,
   "metadata": {},
   "outputs": [
    {
     "name": "stdout",
     "output_type": "stream",
     "text": [
      "   fever  sorethroat  cough  muscle  headache  fatigue  vomit  nausea  \\\n",
      "0    0.0         0.0    0.0     0.0       0.0        0      0       0   \n",
      "1    0.0         0.0    0.0     0.0       0.0        0      0       0   \n",
      "2    0.0         0.0    0.0     0.0       0.0        0      0       0   \n",
      "3    0.0         0.0    1.0     0.0       0.0        0      0       0   \n",
      "4    0.0         0.0    0.0     0.0       0.0        0      0       0   \n",
      "\n",
      "   diarrhea  chills  sneeze  shortness of breath  phlegm  blockednose  \\\n",
      "0         0       0       0                    0     0.0            0   \n",
      "1         0       0       0                    0     0.0            0   \n",
      "2         0       0       0                    0     0.0            0   \n",
      "3         0       0       0                    0     1.0            0   \n",
      "4         0       0       0                    0     0.0            0   \n",
      "\n",
      "   earache  leg pain  runnynose  virus  \n",
      "0        0         0        0.0      0  \n",
      "1        0         0        0.0      0  \n",
      "2        0         0        0.0      0  \n",
      "3        0         0        1.0      1  \n",
      "4        0         0        0.0      0  \n"
     ]
    }
   ],
   "source": [
    "save_file(hongkong,directory+\"hongkong.csv\")"
   ]
  },
  {
   "cell_type": "code",
   "execution_count": 56,
   "metadata": {},
   "outputs": [
    {
     "name": "stdout",
     "output_type": "stream",
     "text": [
      "   fever  sorethroat  cough  muscle  headache  fatigue  vomit  nausea  \\\n",
      "0      0           0      1       0         0        0      0       0   \n",
      "1      0           0      0       0         0        0      0       0   \n",
      "2      0           1      0       1         1        0      0       0   \n",
      "3      0           0      1       0         0        0      0       0   \n",
      "4      1           0      1       1         1        0      0       0   \n",
      "\n",
      "   diarrhea  chills  sneeze  shortness of breath  phlegm  blockednose  \\\n",
      "0         0       0       0                    0       0            0   \n",
      "1         0       1       0                    0       0            0   \n",
      "2         0       1       0                    0       0            1   \n",
      "3         0       0       0                    0       0            0   \n",
      "4         0       1       0                    0       0            1   \n",
      "\n",
      "   earache  leg pain  runnynose  virus  \n",
      "0      0.0         0          1      1  \n",
      "1      0.0         0          1      0  \n",
      "2      0.0         0          1      1  \n",
      "3      0.0         0          1      0  \n",
      "4      0.0         0          1      1  \n"
     ]
    }
   ],
   "source": [
    "save_file(hutterite,directory+\"hutterite.csv\")"
   ]
  },
  {
   "cell_type": "code",
   "execution_count": null,
   "metadata": {
    "collapsed": true
   },
   "outputs": [],
   "source": []
  },
  {
   "cell_type": "code",
   "execution_count": null,
   "metadata": {
    "collapsed": true
   },
   "outputs": [],
   "source": []
  },
  {
   "cell_type": "code",
   "execution_count": null,
   "metadata": {
    "collapsed": true
   },
   "outputs": [],
   "source": []
  }
 ],
 "metadata": {
  "kernelspec": {
   "display_name": "Python 3",
   "language": "python",
   "name": "python3"
  },
  "language_info": {
   "codemirror_mode": {
    "name": "ipython",
    "version": 3
   },
   "file_extension": ".py",
   "mimetype": "text/x-python",
   "name": "python",
   "nbconvert_exporter": "python",
   "pygments_lexer": "ipython3",
   "version": "3.5.4"
  }
 },
 "nbformat": 4,
 "nbformat_minor": 2
}
