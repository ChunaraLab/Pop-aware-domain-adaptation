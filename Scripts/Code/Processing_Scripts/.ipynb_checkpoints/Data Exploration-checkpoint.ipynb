{
 "cells": [
  {
   "cell_type": "code",
   "execution_count": 1,
   "metadata": {
    "collapsed": true
   },
   "outputs": [],
   "source": [
    "import pandas as pd\n",
    "import numpy as np\n",
    "import time\n",
    "from collections import defaultdict\n",
    "import os\n",
    "import matplotlib.pyplot as plt"
   ]
  },
  {
   "cell_type": "code",
   "execution_count": 2,
   "metadata": {
    "collapsed": true
   },
   "outputs": [],
   "source": [
    "def get_files(filename):\n",
    "    data_files_ = []\n",
    "    print(\"The data files are :\\n\")\n",
    "    for fn in os.listdir(filename):\n",
    "        if fn[-4:] == '.csv':\n",
    "            data_files_.append(fn)\n",
    "    print(\"\\n\",data_files_,\"\\n\")\n",
    "    print(\"Enter the number to analyze the file :\")\n",
    "    no = int(input())\n",
    "    return data_files_[no]"
   ]
  },
  {
   "cell_type": "code",
   "execution_count": 3,
   "metadata": {
    "collapsed": true
   },
   "outputs": [],
   "source": [
    "def read_file(filename):\n",
    "    print(\"\\n---------------------------------\\n\")\n",
    "    print(\"The file being analyzed is :\\t\",filename)\n",
    "    data = pd.read_csv(filename)\n",
    "    print(\"\\n---------------------------------\\n\")\n",
    "#     print(\"The features of this data are :\\n\",data.columns)\n",
    "#     print(\"\\n---------------------------------\\n\")\n",
    "    return data"
   ]
  },
  {
   "cell_type": "code",
   "execution_count": 4,
   "metadata": {
    "collapsed": true
   },
   "outputs": [],
   "source": [
    "def select_dataset(filename_):\n",
    "    data_file = get_files(filename_)\n",
    "    filename = filename_+data_file\n",
    "    data = read_file(filename)\n",
    "    if 'muscles' in data.columns:\n",
    "        data = data.rename(columns={'muscles': 'muscle'})\n",
    "    return data"
   ]
  },
  {
   "cell_type": "code",
   "execution_count": 5,
   "metadata": {
    "collapsed": true
   },
   "outputs": [],
   "source": [
    "#choose the dataset to be analyzed\n",
    "filename_ = \"../Data/cleaned data files/\""
   ]
  },
  {
   "cell_type": "code",
   "execution_count": 6,
   "metadata": {},
   "outputs": [
    {
     "name": "stdout",
     "output_type": "stream",
     "text": [
      "The data files are :\n",
      "\n",
      "\n",
      " ['fw_fit.csv', 'gv_fit_some_missing_values.csv', 'hk_fit.csv', 'loeb_fit.csv', 'nigeria.csv', 'nyumc_new.csv', 'wnyc_fit.csv'] \n",
      "\n",
      "Enter the number to analyze the file :\n",
      "5\n",
      "\n",
      "---------------------------------\n",
      "\n",
      "The file being analyzed is :\t ../Data/cleaned data files/nyumc_new.csv\n",
      "\n",
      "---------------------------------\n",
      "\n",
      "NYUMC Dataset!\n",
      "\n"
     ]
    },
    {
     "data": {
      "text/html": [
       "<div>\n",
       "<style>\n",
       "    .dataframe thead tr:only-child th {\n",
       "        text-align: right;\n",
       "    }\n",
       "\n",
       "    .dataframe thead th {\n",
       "        text-align: left;\n",
       "    }\n",
       "\n",
       "    .dataframe tbody tr th {\n",
       "        vertical-align: top;\n",
       "    }\n",
       "</style>\n",
       "<table border=\"1\" class=\"dataframe\">\n",
       "  <thead>\n",
       "    <tr style=\"text-align: right;\">\n",
       "      <th></th>\n",
       "      <th>Unnamed: 0</th>\n",
       "      <th>flu</th>\n",
       "      <th>fever</th>\n",
       "      <th>sorethroat</th>\n",
       "      <th>cough</th>\n",
       "      <th>muscle</th>\n",
       "      <th>headache</th>\n",
       "      <th>fatigue</th>\n",
       "      <th>vomit</th>\n",
       "      <th>nausea</th>\n",
       "      <th>diarrhea</th>\n",
       "      <th>male</th>\n",
       "      <th>age 0-4</th>\n",
       "      <th>age 5-15</th>\n",
       "      <th>age 16-44</th>\n",
       "      <th>age 45-64</th>\n",
       "      <th>age 65+</th>\n",
       "    </tr>\n",
       "  </thead>\n",
       "  <tbody>\n",
       "    <tr>\n",
       "      <th>0</th>\n",
       "      <td>3</td>\n",
       "      <td>0</td>\n",
       "      <td>1</td>\n",
       "      <td>0</td>\n",
       "      <td>1</td>\n",
       "      <td>0</td>\n",
       "      <td>0</td>\n",
       "      <td>0</td>\n",
       "      <td>1</td>\n",
       "      <td>0</td>\n",
       "      <td>0</td>\n",
       "      <td>1</td>\n",
       "      <td>0</td>\n",
       "      <td>1</td>\n",
       "      <td>0</td>\n",
       "      <td>0</td>\n",
       "      <td>0</td>\n",
       "    </tr>\n",
       "    <tr>\n",
       "      <th>1</th>\n",
       "      <td>4</td>\n",
       "      <td>0</td>\n",
       "      <td>1</td>\n",
       "      <td>0</td>\n",
       "      <td>1</td>\n",
       "      <td>0</td>\n",
       "      <td>0</td>\n",
       "      <td>0</td>\n",
       "      <td>1</td>\n",
       "      <td>0</td>\n",
       "      <td>0</td>\n",
       "      <td>0</td>\n",
       "      <td>0</td>\n",
       "      <td>1</td>\n",
       "      <td>0</td>\n",
       "      <td>0</td>\n",
       "      <td>0</td>\n",
       "    </tr>\n",
       "    <tr>\n",
       "      <th>2</th>\n",
       "      <td>6</td>\n",
       "      <td>0</td>\n",
       "      <td>1</td>\n",
       "      <td>0</td>\n",
       "      <td>0</td>\n",
       "      <td>0</td>\n",
       "      <td>0</td>\n",
       "      <td>0</td>\n",
       "      <td>0</td>\n",
       "      <td>0</td>\n",
       "      <td>0</td>\n",
       "      <td>0</td>\n",
       "      <td>0</td>\n",
       "      <td>0</td>\n",
       "      <td>0</td>\n",
       "      <td>1</td>\n",
       "      <td>0</td>\n",
       "    </tr>\n",
       "    <tr>\n",
       "      <th>3</th>\n",
       "      <td>8</td>\n",
       "      <td>0</td>\n",
       "      <td>0</td>\n",
       "      <td>0</td>\n",
       "      <td>1</td>\n",
       "      <td>0</td>\n",
       "      <td>0</td>\n",
       "      <td>0</td>\n",
       "      <td>0</td>\n",
       "      <td>0</td>\n",
       "      <td>0</td>\n",
       "      <td>0</td>\n",
       "      <td>0</td>\n",
       "      <td>0</td>\n",
       "      <td>1</td>\n",
       "      <td>0</td>\n",
       "      <td>0</td>\n",
       "    </tr>\n",
       "    <tr>\n",
       "      <th>4</th>\n",
       "      <td>9</td>\n",
       "      <td>0</td>\n",
       "      <td>0</td>\n",
       "      <td>0</td>\n",
       "      <td>1</td>\n",
       "      <td>0</td>\n",
       "      <td>0</td>\n",
       "      <td>0</td>\n",
       "      <td>0</td>\n",
       "      <td>0</td>\n",
       "      <td>0</td>\n",
       "      <td>0</td>\n",
       "      <td>0</td>\n",
       "      <td>0</td>\n",
       "      <td>0</td>\n",
       "      <td>0</td>\n",
       "      <td>1</td>\n",
       "    </tr>\n",
       "  </tbody>\n",
       "</table>\n",
       "</div>"
      ],
      "text/plain": [
       "   Unnamed: 0  flu  fever  sorethroat  cough  muscle  headache  fatigue  \\\n",
       "0           3    0      1           0      1       0         0        0   \n",
       "1           4    0      1           0      1       0         0        0   \n",
       "2           6    0      1           0      0       0         0        0   \n",
       "3           8    0      0           0      1       0         0        0   \n",
       "4           9    0      0           0      1       0         0        0   \n",
       "\n",
       "   vomit  nausea  diarrhea  male  age 0-4  age 5-15  age 16-44  age 45-64  \\\n",
       "0      1       0         0     1        0         1          0          0   \n",
       "1      1       0         0     0        0         1          0          0   \n",
       "2      0       0         0     0        0         0          0          1   \n",
       "3      0       0         0     0        0         0          1          0   \n",
       "4      0       0         0     0        0         0          0          0   \n",
       "\n",
       "   age 65+  \n",
       "0        0  \n",
       "1        0  \n",
       "2        0  \n",
       "3        0  \n",
       "4        1  "
      ]
     },
     "execution_count": 6,
     "metadata": {},
     "output_type": "execute_result"
    }
   ],
   "source": [
    "data_nyumc = select_dataset(filename_)\n",
    "print(\"NYUMC Dataset!\\n\")\n",
    "data_nyumc.head()"
   ]
  },
  {
   "cell_type": "code",
   "execution_count": 7,
   "metadata": {},
   "outputs": [
    {
     "name": "stdout",
     "output_type": "stream",
     "text": [
      "The data files are :\n",
      "\n",
      "\n",
      " ['fw_fit.csv', 'gv_fit_some_missing_values.csv', 'hk_fit.csv', 'loeb_fit.csv', 'nigeria.csv', 'nyumc_new.csv', 'wnyc_fit.csv'] \n",
      "\n",
      "Enter the number to analyze the file :\n",
      "1\n",
      "\n",
      "---------------------------------\n",
      "\n",
      "The file being analyzed is :\t ../Data/cleaned data files/gv_fit_some_missing_values.csv\n",
      "\n",
      "---------------------------------\n",
      "\n",
      "GoViral Dataset!\n",
      "\n"
     ]
    },
    {
     "data": {
      "text/html": [
       "<div>\n",
       "<style>\n",
       "    .dataframe thead tr:only-child th {\n",
       "        text-align: right;\n",
       "    }\n",
       "\n",
       "    .dataframe thead th {\n",
       "        text-align: left;\n",
       "    }\n",
       "\n",
       "    .dataframe tbody tr th {\n",
       "        vertical-align: top;\n",
       "    }\n",
       "</style>\n",
       "<table border=\"1\" class=\"dataframe\">\n",
       "  <thead>\n",
       "    <tr style=\"text-align: right;\">\n",
       "      <th></th>\n",
       "      <th>Unnamed: 0</th>\n",
       "      <th>virus</th>\n",
       "      <th>age</th>\n",
       "      <th>fever</th>\n",
       "      <th>cough</th>\n",
       "      <th>runnynose</th>\n",
       "      <th>sorethroat</th>\n",
       "      <th>muscle</th>\n",
       "      <th>fatigue</th>\n",
       "      <th>chills</th>\n",
       "      <th>shortness of breath</th>\n",
       "      <th>leg pain</th>\n",
       "      <th>nausea</th>\n",
       "      <th>diarrhea</th>\n",
       "      <th>vomit</th>\n",
       "      <th>male</th>\n",
       "      <th>female</th>\n",
       "    </tr>\n",
       "  </thead>\n",
       "  <tbody>\n",
       "    <tr>\n",
       "      <th>0</th>\n",
       "      <td>0</td>\n",
       "      <td>1</td>\n",
       "      <td>33.0</td>\n",
       "      <td>0</td>\n",
       "      <td>0</td>\n",
       "      <td>0</td>\n",
       "      <td>1</td>\n",
       "      <td>1</td>\n",
       "      <td>1</td>\n",
       "      <td>1</td>\n",
       "      <td>0</td>\n",
       "      <td>1</td>\n",
       "      <td>0</td>\n",
       "      <td>1</td>\n",
       "      <td>0</td>\n",
       "      <td>1.0</td>\n",
       "      <td>NaN</td>\n",
       "    </tr>\n",
       "    <tr>\n",
       "      <th>1</th>\n",
       "      <td>1</td>\n",
       "      <td>1</td>\n",
       "      <td>33.0</td>\n",
       "      <td>0</td>\n",
       "      <td>0</td>\n",
       "      <td>0</td>\n",
       "      <td>1</td>\n",
       "      <td>1</td>\n",
       "      <td>1</td>\n",
       "      <td>1</td>\n",
       "      <td>0</td>\n",
       "      <td>1</td>\n",
       "      <td>0</td>\n",
       "      <td>1</td>\n",
       "      <td>0</td>\n",
       "      <td>1.0</td>\n",
       "      <td>NaN</td>\n",
       "    </tr>\n",
       "    <tr>\n",
       "      <th>2</th>\n",
       "      <td>2</td>\n",
       "      <td>1</td>\n",
       "      <td>30.0</td>\n",
       "      <td>1</td>\n",
       "      <td>1</td>\n",
       "      <td>1</td>\n",
       "      <td>0</td>\n",
       "      <td>1</td>\n",
       "      <td>1</td>\n",
       "      <td>1</td>\n",
       "      <td>0</td>\n",
       "      <td>0</td>\n",
       "      <td>0</td>\n",
       "      <td>0</td>\n",
       "      <td>0</td>\n",
       "      <td>NaN</td>\n",
       "      <td>1.0</td>\n",
       "    </tr>\n",
       "    <tr>\n",
       "      <th>3</th>\n",
       "      <td>3</td>\n",
       "      <td>1</td>\n",
       "      <td>30.0</td>\n",
       "      <td>1</td>\n",
       "      <td>1</td>\n",
       "      <td>1</td>\n",
       "      <td>0</td>\n",
       "      <td>1</td>\n",
       "      <td>1</td>\n",
       "      <td>1</td>\n",
       "      <td>0</td>\n",
       "      <td>0</td>\n",
       "      <td>0</td>\n",
       "      <td>0</td>\n",
       "      <td>0</td>\n",
       "      <td>NaN</td>\n",
       "      <td>1.0</td>\n",
       "    </tr>\n",
       "    <tr>\n",
       "      <th>4</th>\n",
       "      <td>4</td>\n",
       "      <td>1</td>\n",
       "      <td>33.0</td>\n",
       "      <td>0</td>\n",
       "      <td>1</td>\n",
       "      <td>1</td>\n",
       "      <td>0</td>\n",
       "      <td>1</td>\n",
       "      <td>1</td>\n",
       "      <td>1</td>\n",
       "      <td>0</td>\n",
       "      <td>0</td>\n",
       "      <td>0</td>\n",
       "      <td>0</td>\n",
       "      <td>0</td>\n",
       "      <td>1.0</td>\n",
       "      <td>NaN</td>\n",
       "    </tr>\n",
       "  </tbody>\n",
       "</table>\n",
       "</div>"
      ],
      "text/plain": [
       "   Unnamed: 0  virus   age  fever  cough  runnynose  sorethroat  muscle  \\\n",
       "0           0      1  33.0      0      0          0           1       1   \n",
       "1           1      1  33.0      0      0          0           1       1   \n",
       "2           2      1  30.0      1      1          1           0       1   \n",
       "3           3      1  30.0      1      1          1           0       1   \n",
       "4           4      1  33.0      0      1          1           0       1   \n",
       "\n",
       "   fatigue  chills  shortness of breath  leg pain  nausea  diarrhea  vomit  \\\n",
       "0        1       1                    0         1       0         1      0   \n",
       "1        1       1                    0         1       0         1      0   \n",
       "2        1       1                    0         0       0         0      0   \n",
       "3        1       1                    0         0       0         0      0   \n",
       "4        1       1                    0         0       0         0      0   \n",
       "\n",
       "   male  female  \n",
       "0   1.0     NaN  \n",
       "1   1.0     NaN  \n",
       "2   NaN     1.0  \n",
       "3   NaN     1.0  \n",
       "4   1.0     NaN  "
      ]
     },
     "execution_count": 7,
     "metadata": {},
     "output_type": "execute_result"
    }
   ],
   "source": [
    "data_gv = select_dataset(filename_)\n",
    "print(\"GoViral Dataset!\\n\")\n",
    "data_gv.head()"
   ]
  },
  {
   "cell_type": "code",
   "execution_count": 8,
   "metadata": {},
   "outputs": [
    {
     "name": "stdout",
     "output_type": "stream",
     "text": [
      "The data files are :\n",
      "\n",
      "\n",
      " ['fw_fit.csv', 'gv_fit_some_missing_values.csv', 'hk_fit.csv', 'loeb_fit.csv', 'nigeria.csv', 'nyumc_new.csv', 'wnyc_fit.csv'] \n",
      "\n",
      "Enter the number to analyze the file :\n",
      "0\n",
      "\n",
      "---------------------------------\n",
      "\n",
      "The file being analyzed is :\t ../Data/cleaned data files/fw_fit.csv\n",
      "\n",
      "---------------------------------\n",
      "\n",
      "FluWatch dataset!\n",
      "\n"
     ]
    },
    {
     "data": {
      "text/html": [
       "<div>\n",
       "<style>\n",
       "    .dataframe thead tr:only-child th {\n",
       "        text-align: right;\n",
       "    }\n",
       "\n",
       "    .dataframe thead th {\n",
       "        text-align: left;\n",
       "    }\n",
       "\n",
       "    .dataframe tbody tr th {\n",
       "        vertical-align: top;\n",
       "    }\n",
       "</style>\n",
       "<table border=\"1\" class=\"dataframe\">\n",
       "  <thead>\n",
       "    <tr style=\"text-align: right;\">\n",
       "      <th></th>\n",
       "      <th>Unnamed: 0</th>\n",
       "      <th>fever</th>\n",
       "      <th>cough</th>\n",
       "      <th>sorethroat</th>\n",
       "      <th>runnynose</th>\n",
       "      <th>blockednose</th>\n",
       "      <th>sneeze</th>\n",
       "      <th>diarrhea</th>\n",
       "      <th>muscle</th>\n",
       "      <th>headache</th>\n",
       "      <th>flu</th>\n",
       "      <th>age 0-4</th>\n",
       "      <th>age 45-64</th>\n",
       "      <th>age 16-44</th>\n",
       "      <th>age 5-15</th>\n",
       "      <th>age 65+</th>\n",
       "      <th>male</th>\n",
       "      <th>female</th>\n",
       "    </tr>\n",
       "  </thead>\n",
       "  <tbody>\n",
       "    <tr>\n",
       "      <th>0</th>\n",
       "      <td>0</td>\n",
       "      <td>1.0</td>\n",
       "      <td>0.0</td>\n",
       "      <td>0.0</td>\n",
       "      <td>1.0</td>\n",
       "      <td>0.0</td>\n",
       "      <td>0.0</td>\n",
       "      <td>0.0</td>\n",
       "      <td>0.0</td>\n",
       "      <td>0.0</td>\n",
       "      <td>0</td>\n",
       "      <td>1.0</td>\n",
       "      <td>0.0</td>\n",
       "      <td>0.0</td>\n",
       "      <td>0.0</td>\n",
       "      <td>0.0</td>\n",
       "      <td>0.0</td>\n",
       "      <td>1.0</td>\n",
       "    </tr>\n",
       "    <tr>\n",
       "      <th>1</th>\n",
       "      <td>1</td>\n",
       "      <td>1.0</td>\n",
       "      <td>1.0</td>\n",
       "      <td>1.0</td>\n",
       "      <td>1.0</td>\n",
       "      <td>0.0</td>\n",
       "      <td>1.0</td>\n",
       "      <td>0.0</td>\n",
       "      <td>1.0</td>\n",
       "      <td>1.0</td>\n",
       "      <td>0</td>\n",
       "      <td>0.0</td>\n",
       "      <td>1.0</td>\n",
       "      <td>0.0</td>\n",
       "      <td>0.0</td>\n",
       "      <td>0.0</td>\n",
       "      <td>0.0</td>\n",
       "      <td>1.0</td>\n",
       "    </tr>\n",
       "    <tr>\n",
       "      <th>2</th>\n",
       "      <td>2</td>\n",
       "      <td>0.0</td>\n",
       "      <td>1.0</td>\n",
       "      <td>0.0</td>\n",
       "      <td>0.0</td>\n",
       "      <td>0.0</td>\n",
       "      <td>1.0</td>\n",
       "      <td>0.0</td>\n",
       "      <td>0.0</td>\n",
       "      <td>0.0</td>\n",
       "      <td>1</td>\n",
       "      <td>0.0</td>\n",
       "      <td>1.0</td>\n",
       "      <td>0.0</td>\n",
       "      <td>0.0</td>\n",
       "      <td>0.0</td>\n",
       "      <td>1.0</td>\n",
       "      <td>0.0</td>\n",
       "    </tr>\n",
       "    <tr>\n",
       "      <th>3</th>\n",
       "      <td>3</td>\n",
       "      <td>0.0</td>\n",
       "      <td>0.0</td>\n",
       "      <td>0.0</td>\n",
       "      <td>1.0</td>\n",
       "      <td>0.0</td>\n",
       "      <td>1.0</td>\n",
       "      <td>0.0</td>\n",
       "      <td>0.0</td>\n",
       "      <td>1.0</td>\n",
       "      <td>1</td>\n",
       "      <td>0.0</td>\n",
       "      <td>0.0</td>\n",
       "      <td>1.0</td>\n",
       "      <td>0.0</td>\n",
       "      <td>0.0</td>\n",
       "      <td>0.0</td>\n",
       "      <td>1.0</td>\n",
       "    </tr>\n",
       "    <tr>\n",
       "      <th>4</th>\n",
       "      <td>4</td>\n",
       "      <td>0.0</td>\n",
       "      <td>1.0</td>\n",
       "      <td>1.0</td>\n",
       "      <td>1.0</td>\n",
       "      <td>1.0</td>\n",
       "      <td>0.0</td>\n",
       "      <td>0.0</td>\n",
       "      <td>1.0</td>\n",
       "      <td>1.0</td>\n",
       "      <td>1</td>\n",
       "      <td>0.0</td>\n",
       "      <td>1.0</td>\n",
       "      <td>0.0</td>\n",
       "      <td>0.0</td>\n",
       "      <td>0.0</td>\n",
       "      <td>1.0</td>\n",
       "      <td>0.0</td>\n",
       "    </tr>\n",
       "  </tbody>\n",
       "</table>\n",
       "</div>"
      ],
      "text/plain": [
       "   Unnamed: 0  fever  cough  sorethroat  runnynose  blockednose  sneeze  \\\n",
       "0           0    1.0    0.0         0.0        1.0          0.0     0.0   \n",
       "1           1    1.0    1.0         1.0        1.0          0.0     1.0   \n",
       "2           2    0.0    1.0         0.0        0.0          0.0     1.0   \n",
       "3           3    0.0    0.0         0.0        1.0          0.0     1.0   \n",
       "4           4    0.0    1.0         1.0        1.0          1.0     0.0   \n",
       "\n",
       "   diarrhea  muscle  headache  flu  age 0-4  age 45-64  age 16-44  age 5-15  \\\n",
       "0       0.0     0.0       0.0    0      1.0        0.0        0.0       0.0   \n",
       "1       0.0     1.0       1.0    0      0.0        1.0        0.0       0.0   \n",
       "2       0.0     0.0       0.0    1      0.0        1.0        0.0       0.0   \n",
       "3       0.0     0.0       1.0    1      0.0        0.0        1.0       0.0   \n",
       "4       0.0     1.0       1.0    1      0.0        1.0        0.0       0.0   \n",
       "\n",
       "   age 65+  male  female  \n",
       "0      0.0   0.0     1.0  \n",
       "1      0.0   0.0     1.0  \n",
       "2      0.0   1.0     0.0  \n",
       "3      0.0   0.0     1.0  \n",
       "4      0.0   1.0     0.0  "
      ]
     },
     "execution_count": 8,
     "metadata": {},
     "output_type": "execute_result"
    }
   ],
   "source": [
    "data_fw = select_dataset(filename_)\n",
    "print(\"FluWatch dataset!\\n\")\n",
    "data_fw.head()"
   ]
  },
  {
   "cell_type": "code",
   "execution_count": 9,
   "metadata": {},
   "outputs": [
    {
     "name": "stdout",
     "output_type": "stream",
     "text": [
      "The data files are :\n",
      "\n",
      "\n",
      " ['fw_fit.csv', 'gv_fit_some_missing_values.csv', 'hk_fit.csv', 'loeb_fit.csv', 'nigeria.csv', 'nyumc_new.csv', 'wnyc_fit.csv'] \n",
      "\n",
      "Enter the number to analyze the file :\n",
      "2\n",
      "\n",
      "---------------------------------\n",
      "\n",
      "The file being analyzed is :\t ../Data/cleaned data files/hk_fit.csv\n",
      "\n",
      "---------------------------------\n",
      "\n",
      "HongKong Dataset!\n",
      "\n"
     ]
    },
    {
     "data": {
      "text/html": [
       "<div>\n",
       "<style>\n",
       "    .dataframe thead tr:only-child th {\n",
       "        text-align: right;\n",
       "    }\n",
       "\n",
       "    .dataframe thead th {\n",
       "        text-align: left;\n",
       "    }\n",
       "\n",
       "    .dataframe tbody tr th {\n",
       "        vertical-align: top;\n",
       "    }\n",
       "</style>\n",
       "<table border=\"1\" class=\"dataframe\">\n",
       "  <thead>\n",
       "    <tr style=\"text-align: right;\">\n",
       "      <th></th>\n",
       "      <th>Unnamed: 0</th>\n",
       "      <th>headache</th>\n",
       "      <th>sorethroat</th>\n",
       "      <th>cough</th>\n",
       "      <th>muscle</th>\n",
       "      <th>runnynose</th>\n",
       "      <th>phlegm</th>\n",
       "      <th>male</th>\n",
       "      <th>flu</th>\n",
       "      <th>fever</th>\n",
       "      <th>age 5-15</th>\n",
       "      <th>age 16-44</th>\n",
       "      <th>age 0-4</th>\n",
       "      <th>age 65+</th>\n",
       "      <th>age 45-64</th>\n",
       "      <th>gender</th>\n",
       "      <th>female</th>\n",
       "    </tr>\n",
       "  </thead>\n",
       "  <tbody>\n",
       "    <tr>\n",
       "      <th>0</th>\n",
       "      <td>0</td>\n",
       "      <td>0.0</td>\n",
       "      <td>1.0</td>\n",
       "      <td>1.0</td>\n",
       "      <td>0.0</td>\n",
       "      <td>1.0</td>\n",
       "      <td>1.0</td>\n",
       "      <td>1.0</td>\n",
       "      <td>1.0</td>\n",
       "      <td>1.0</td>\n",
       "      <td>1.0</td>\n",
       "      <td>0.0</td>\n",
       "      <td>0.0</td>\n",
       "      <td>0.0</td>\n",
       "      <td>0.0</td>\n",
       "      <td>1.0</td>\n",
       "      <td>0</td>\n",
       "    </tr>\n",
       "    <tr>\n",
       "      <th>1</th>\n",
       "      <td>1</td>\n",
       "      <td>0.0</td>\n",
       "      <td>0.0</td>\n",
       "      <td>0.0</td>\n",
       "      <td>0.0</td>\n",
       "      <td>0.0</td>\n",
       "      <td>0.0</td>\n",
       "      <td>1.0</td>\n",
       "      <td>0.0</td>\n",
       "      <td>0.0</td>\n",
       "      <td>0.0</td>\n",
       "      <td>1.0</td>\n",
       "      <td>0.0</td>\n",
       "      <td>0.0</td>\n",
       "      <td>0.0</td>\n",
       "      <td>1.0</td>\n",
       "      <td>0</td>\n",
       "    </tr>\n",
       "    <tr>\n",
       "      <th>2</th>\n",
       "      <td>2</td>\n",
       "      <td>0.0</td>\n",
       "      <td>1.0</td>\n",
       "      <td>0.0</td>\n",
       "      <td>0.0</td>\n",
       "      <td>0.0</td>\n",
       "      <td>0.0</td>\n",
       "      <td>0.0</td>\n",
       "      <td>0.0</td>\n",
       "      <td>0.0</td>\n",
       "      <td>0.0</td>\n",
       "      <td>1.0</td>\n",
       "      <td>0.0</td>\n",
       "      <td>0.0</td>\n",
       "      <td>0.0</td>\n",
       "      <td>0.0</td>\n",
       "      <td>1</td>\n",
       "    </tr>\n",
       "    <tr>\n",
       "      <th>3</th>\n",
       "      <td>3</td>\n",
       "      <td>1.0</td>\n",
       "      <td>1.0</td>\n",
       "      <td>1.0</td>\n",
       "      <td>1.0</td>\n",
       "      <td>1.0</td>\n",
       "      <td>1.0</td>\n",
       "      <td>0.0</td>\n",
       "      <td>1.0</td>\n",
       "      <td>1.0</td>\n",
       "      <td>0.0</td>\n",
       "      <td>0.0</td>\n",
       "      <td>1.0</td>\n",
       "      <td>0.0</td>\n",
       "      <td>0.0</td>\n",
       "      <td>0.0</td>\n",
       "      <td>1</td>\n",
       "    </tr>\n",
       "    <tr>\n",
       "      <th>4</th>\n",
       "      <td>4</td>\n",
       "      <td>0.0</td>\n",
       "      <td>0.0</td>\n",
       "      <td>0.0</td>\n",
       "      <td>0.0</td>\n",
       "      <td>0.0</td>\n",
       "      <td>0.0</td>\n",
       "      <td>0.0</td>\n",
       "      <td>0.0</td>\n",
       "      <td>0.0</td>\n",
       "      <td>0.0</td>\n",
       "      <td>1.0</td>\n",
       "      <td>0.0</td>\n",
       "      <td>0.0</td>\n",
       "      <td>0.0</td>\n",
       "      <td>0.0</td>\n",
       "      <td>1</td>\n",
       "    </tr>\n",
       "  </tbody>\n",
       "</table>\n",
       "</div>"
      ],
      "text/plain": [
       "   Unnamed: 0  headache  sorethroat  cough  muscle  runnynose  phlegm  male  \\\n",
       "0           0       0.0         1.0    1.0     0.0        1.0     1.0   1.0   \n",
       "1           1       0.0         0.0    0.0     0.0        0.0     0.0   1.0   \n",
       "2           2       0.0         1.0    0.0     0.0        0.0     0.0   0.0   \n",
       "3           3       1.0         1.0    1.0     1.0        1.0     1.0   0.0   \n",
       "4           4       0.0         0.0    0.0     0.0        0.0     0.0   0.0   \n",
       "\n",
       "   flu  fever  age 5-15  age 16-44  age 0-4  age 65+  age 45-64  gender  \\\n",
       "0  1.0    1.0       1.0        0.0      0.0      0.0        0.0     1.0   \n",
       "1  0.0    0.0       0.0        1.0      0.0      0.0        0.0     1.0   \n",
       "2  0.0    0.0       0.0        1.0      0.0      0.0        0.0     0.0   \n",
       "3  1.0    1.0       0.0        0.0      1.0      0.0        0.0     0.0   \n",
       "4  0.0    0.0       0.0        1.0      0.0      0.0        0.0     0.0   \n",
       "\n",
       "   female  \n",
       "0       0  \n",
       "1       0  \n",
       "2       1  \n",
       "3       1  \n",
       "4       1  "
      ]
     },
     "execution_count": 9,
     "metadata": {},
     "output_type": "execute_result"
    }
   ],
   "source": [
    "data_hk = select_dataset(filename_)\n",
    "print(\"HongKong Dataset!\\n\")\n",
    "data_hk.head()"
   ]
  },
  {
   "cell_type": "code",
   "execution_count": 10,
   "metadata": {},
   "outputs": [
    {
     "name": "stdout",
     "output_type": "stream",
     "text": [
      "The data files are :\n",
      "\n",
      "\n",
      " ['fw_fit.csv', 'gv_fit_some_missing_values.csv', 'hk_fit.csv', 'loeb_fit.csv', 'nigeria.csv', 'nyumc_new.csv', 'wnyc_fit.csv'] \n",
      "\n",
      "Enter the number to analyze the file :\n",
      "3\n",
      "\n",
      "---------------------------------\n",
      "\n",
      "The file being analyzed is :\t ../Data/cleaned data files/loeb_fit.csv\n",
      "\n",
      "---------------------------------\n",
      "\n",
      "Loeb dataset!\n",
      "\n"
     ]
    },
    {
     "data": {
      "text/html": [
       "<div>\n",
       "<style>\n",
       "    .dataframe thead tr:only-child th {\n",
       "        text-align: right;\n",
       "    }\n",
       "\n",
       "    .dataframe thead th {\n",
       "        text-align: left;\n",
       "    }\n",
       "\n",
       "    .dataframe tbody tr th {\n",
       "        vertical-align: top;\n",
       "    }\n",
       "</style>\n",
       "<table border=\"1\" class=\"dataframe\">\n",
       "  <thead>\n",
       "    <tr style=\"text-align: right;\">\n",
       "      <th></th>\n",
       "      <th>RID</th>\n",
       "      <th>virus</th>\n",
       "      <th>chills</th>\n",
       "      <th>cough</th>\n",
       "      <th>fatigue</th>\n",
       "      <th>fever</th>\n",
       "      <th>headache</th>\n",
       "      <th>muscle</th>\n",
       "      <th>runnynose</th>\n",
       "      <th>blockednose</th>\n",
       "      <th>sorethroat</th>\n",
       "      <th>female</th>\n",
       "      <th>male</th>\n",
       "      <th>age 45-64</th>\n",
       "      <th>age 16-44</th>\n",
       "      <th>age 5-15</th>\n",
       "      <th>age 65+</th>\n",
       "      <th>age 0-4</th>\n",
       "      <th>earache</th>\n",
       "    </tr>\n",
       "  </thead>\n",
       "  <tbody>\n",
       "    <tr>\n",
       "      <th>0</th>\n",
       "      <td>1</td>\n",
       "      <td>0.0</td>\n",
       "      <td>0</td>\n",
       "      <td>0</td>\n",
       "      <td>0</td>\n",
       "      <td>0</td>\n",
       "      <td>1</td>\n",
       "      <td>0</td>\n",
       "      <td>0</td>\n",
       "      <td>0</td>\n",
       "      <td>0</td>\n",
       "      <td>1.0</td>\n",
       "      <td>0.0</td>\n",
       "      <td>1.0</td>\n",
       "      <td>0.0</td>\n",
       "      <td>0.0</td>\n",
       "      <td>0.0</td>\n",
       "      <td>0.0</td>\n",
       "      <td>0.0</td>\n",
       "    </tr>\n",
       "    <tr>\n",
       "      <th>1</th>\n",
       "      <td>2</td>\n",
       "      <td>0.0</td>\n",
       "      <td>0</td>\n",
       "      <td>1</td>\n",
       "      <td>0</td>\n",
       "      <td>0</td>\n",
       "      <td>1</td>\n",
       "      <td>1</td>\n",
       "      <td>1</td>\n",
       "      <td>1</td>\n",
       "      <td>1</td>\n",
       "      <td>1.0</td>\n",
       "      <td>0.0</td>\n",
       "      <td>1.0</td>\n",
       "      <td>0.0</td>\n",
       "      <td>0.0</td>\n",
       "      <td>0.0</td>\n",
       "      <td>0.0</td>\n",
       "      <td>0.0</td>\n",
       "    </tr>\n",
       "    <tr>\n",
       "      <th>2</th>\n",
       "      <td>3</td>\n",
       "      <td>0.0</td>\n",
       "      <td>0</td>\n",
       "      <td>0</td>\n",
       "      <td>0</td>\n",
       "      <td>0</td>\n",
       "      <td>1</td>\n",
       "      <td>0</td>\n",
       "      <td>1</td>\n",
       "      <td>1</td>\n",
       "      <td>1</td>\n",
       "      <td>1.0</td>\n",
       "      <td>0.0</td>\n",
       "      <td>0.0</td>\n",
       "      <td>1.0</td>\n",
       "      <td>0.0</td>\n",
       "      <td>0.0</td>\n",
       "      <td>0.0</td>\n",
       "      <td>0.0</td>\n",
       "    </tr>\n",
       "    <tr>\n",
       "      <th>3</th>\n",
       "      <td>4</td>\n",
       "      <td>0.0</td>\n",
       "      <td>0</td>\n",
       "      <td>1</td>\n",
       "      <td>0</td>\n",
       "      <td>0</td>\n",
       "      <td>0</td>\n",
       "      <td>0</td>\n",
       "      <td>1</td>\n",
       "      <td>0</td>\n",
       "      <td>1</td>\n",
       "      <td>1.0</td>\n",
       "      <td>0.0</td>\n",
       "      <td>0.0</td>\n",
       "      <td>1.0</td>\n",
       "      <td>0.0</td>\n",
       "      <td>0.0</td>\n",
       "      <td>0.0</td>\n",
       "      <td>0.0</td>\n",
       "    </tr>\n",
       "    <tr>\n",
       "      <th>4</th>\n",
       "      <td>5</td>\n",
       "      <td>0.0</td>\n",
       "      <td>0</td>\n",
       "      <td>1</td>\n",
       "      <td>0</td>\n",
       "      <td>0</td>\n",
       "      <td>0</td>\n",
       "      <td>0</td>\n",
       "      <td>1</td>\n",
       "      <td>0</td>\n",
       "      <td>1</td>\n",
       "      <td>1.0</td>\n",
       "      <td>0.0</td>\n",
       "      <td>0.0</td>\n",
       "      <td>0.0</td>\n",
       "      <td>1.0</td>\n",
       "      <td>0.0</td>\n",
       "      <td>0.0</td>\n",
       "      <td>0.0</td>\n",
       "    </tr>\n",
       "  </tbody>\n",
       "</table>\n",
       "</div>"
      ],
      "text/plain": [
       "   RID  virus  chills  cough  fatigue  fever  headache  muscle  runnynose  \\\n",
       "0    1    0.0       0      0        0      0         1       0          0   \n",
       "1    2    0.0       0      1        0      0         1       1          1   \n",
       "2    3    0.0       0      0        0      0         1       0          1   \n",
       "3    4    0.0       0      1        0      0         0       0          1   \n",
       "4    5    0.0       0      1        0      0         0       0          1   \n",
       "\n",
       "   blockednose  sorethroat  female  male  age 45-64  age 16-44  age 5-15  \\\n",
       "0            0           0     1.0   0.0        1.0        0.0       0.0   \n",
       "1            1           1     1.0   0.0        1.0        0.0       0.0   \n",
       "2            1           1     1.0   0.0        0.0        1.0       0.0   \n",
       "3            0           1     1.0   0.0        0.0        1.0       0.0   \n",
       "4            0           1     1.0   0.0        0.0        0.0       1.0   \n",
       "\n",
       "   age 65+  age 0-4  earache  \n",
       "0      0.0      0.0      0.0  \n",
       "1      0.0      0.0      0.0  \n",
       "2      0.0      0.0      0.0  \n",
       "3      0.0      0.0      0.0  \n",
       "4      0.0      0.0      0.0  "
      ]
     },
     "execution_count": 10,
     "metadata": {},
     "output_type": "execute_result"
    }
   ],
   "source": [
    "data_ht = select_dataset(filename_)\n",
    "print(\"Loeb dataset!\\n\")\n",
    "data_ht.head()"
   ]
  },
  {
   "cell_type": "code",
   "execution_count": 11,
   "metadata": {
    "collapsed": true
   },
   "outputs": [],
   "source": [
    "def gender_with_flu(dataset):\n",
    "    unique_flu_values = set(list(dataset['flu']))\n",
    "    print(\"The unique flu values are :\\n\",unique_flu_values)\n",
    "    print(\"---------------------------------------\")\n",
    "    flu_occurence = dataset.loc[dataset['flu'] == 1]\n",
    "    print(\"The positive cases of flu:\\n\",flu_occurence.shape[0])\n",
    "    print(\"---------------------------------------\")\n",
    "    male_positive = flu_occurence.loc[dataset['male'] == 1]\n",
    "    male_positive_count = male_positive.shape[0]\n",
    "    female_positive = flu_occurence.loc[dataset['male' ] == 0]\n",
    "    female_positive_count = female_positive.shape[0]\n",
    "    print(\"Number of males with flu :\\t\",male_positive_count)\n",
    "    print(\"Number of females with flu :\\t\",female_positive_count)\n",
    "    positive_gender = defaultdict()\n",
    "    positive_gender['Male'] = male_positive_count\n",
    "    positive_gender['Female'] = female_positive_count\n",
    "    return male_positive,female_positive,positive_gender\n",
    "    \n",
    "    "
   ]
  },
  {
   "cell_type": "code",
   "execution_count": 12,
   "metadata": {
    "collapsed": true
   },
   "outputs": [],
   "source": [
    "def gender_analysis(dataset):\n",
    "    unique_gender_values = set(list(dataset['male']))\n",
    "    print(\"The unique values for the gender demographic in the dataset are:\\n\",unique_gender_values)\n",
    "    print(\"---------------------------------------\")\n",
    "    frequency = dataset['male'].value_counts()\n",
    "    male_counts = frequency[1]\n",
    "    female_counts = frequency[0]\n",
    "    gender_distribution = defaultdict()\n",
    "    gender_distribution['Male'] = male_counts\n",
    "    gender_distribution['Female'] = female_counts\n",
    "    print(\"Number of males :\\t\",male_counts)\n",
    "    print(\"Number of females :\\t\",female_counts)\n",
    "    print(\"---------------------------------------\")\n",
    "    return gender_distribution\n",
    "    "
   ]
  },
  {
   "cell_type": "code",
   "execution_count": 13,
   "metadata": {
    "collapsed": true
   },
   "outputs": [],
   "source": [
    "def plot_distribution(data_to_plot,data_to_plot_positive,xlabel_,ylabel_,title_,xticks_):\n",
    "    fig,ax = plt.subplots()\n",
    "    index = np.arange(len(data_to_plot))\n",
    "    bar_width = 0.35\n",
    "    opacity = 0.6\n",
    "    rects1 = plt.bar(index,data_to_plot,bar_width,\n",
    "                    alpha = opacity,\n",
    "                    color = 'b',\n",
    "                    label = 'General')\n",
    "    if len(data_to_plot_positive) != 0:\n",
    "        rects2 = plt.bar(index + bar_width,data_to_plot_positive,bar_width,\n",
    "                        alpha = opacity,\n",
    "                        color = 'r',\n",
    "                        label = 'Positive Cases')\n",
    "        \n",
    "    plt.xlabel(xlabel_)\n",
    "    plt.ylabel(ylabel_)\n",
    "    plt.title(title_)\n",
    "    plt.xticks(index,xticks_)\n",
    "    plt.legend(loc = 9)\n",
    "#     plt.tight_layout()\n",
    "    plt.show()"
   ]
  },
  {
   "cell_type": "code",
   "execution_count": 14,
   "metadata": {
    "collapsed": true
   },
   "outputs": [],
   "source": [
    "def understand_nyumc(dataset):\n",
    "    print(\"The number of records in this dataset are :\\n\",dataset.shape[0])\n",
    "    print(\"---------------------------------------\")\n",
    "    print(\"The columns in this dataset are :\\n\",dataset.columns)\n",
    "    print(\"---------------------------------------\")\n",
    "    gender_distribution = gender_analysis(dataset)\n",
    "    male_positive,female_positive,positive_gender = gender_with_flu(dataset)\n",
    "    return gender_distribution,positive_gender\n"
   ]
  },
  {
   "cell_type": "markdown",
   "metadata": {},
   "source": [
    "### NYUMC dataset"
   ]
  },
  {
   "cell_type": "code",
   "execution_count": 15,
   "metadata": {},
   "outputs": [
    {
     "name": "stdout",
     "output_type": "stream",
     "text": [
      "NYUMC Dataset!\n",
      "The number of records in this dataset are :\n",
      " 21907\n",
      "---------------------------------------\n",
      "The columns in this dataset are :\n",
      " Index(['Unnamed: 0', 'flu', 'fever', 'sorethroat', 'cough', 'muscle',\n",
      "       'headache', 'fatigue', 'vomit', 'nausea', 'diarrhea', 'male', 'age 0-4',\n",
      "       'age 5-15', 'age 16-44', 'age 45-64', 'age 65+'],\n",
      "      dtype='object')\n",
      "---------------------------------------\n",
      "The unique values for the gender demographic in the dataset are:\n",
      " {0, 1}\n",
      "---------------------------------------\n",
      "Number of males :\t 10583\n",
      "Number of females :\t 11324\n",
      "---------------------------------------\n",
      "The unique flu values are :\n",
      " {0, 1}\n",
      "---------------------------------------\n",
      "The positive cases of flu:\n",
      " 583\n",
      "---------------------------------------\n",
      "Number of males with flu :\t 272\n",
      "Number of females with flu :\t 311\n",
      "---------------------------------------\n"
     ]
    },
    {
     "data": {
      "image/png": "[encoded data removed]",
      "text/plain": [
       "<matplotlib.figure.Figure at 0x1189429e8>"
      ]
     },
     "metadata": {},
     "output_type": "display_data"
    },
    {
     "data": {
      "image/png": "[encoded data removed]",
      "text/plain": [
       "<matplotlib.figure.Figure at 0x118949c18>"
      ]
     },
     "metadata": {},
     "output_type": "display_data"
    },
    {
     "data": {
      "image/png": "[encoded data removed]",
      "text/plain": [
       "<matplotlib.figure.Figure at 0x118949160>"
      ]
     },
     "metadata": {},
     "output_type": "display_data"
    }
   ],
   "source": [
    "print(\"NYUMC Dataset!\")\n",
    "gender_distribution,positive_gender = understand_nyumc(data_nyumc)\n",
    "print(\"---------------------------------------\")\n",
    "\n",
    "#plot the general gender distribution\n",
    "plot_distribution(gender_distribution.values(),[],'Gender','Frequency','General gender distribution',['Male','Female'])\n",
    "\n",
    "#plot the gender distribution for the positive flu cases\n",
    "plot_distribution(positive_gender.values(),[],'Gender','Frequency','Gender distribution for positive cases',['Male','Female'])\n",
    "\n",
    "#plot them together\n",
    "plot_distribution(gender_distribution.values(),positive_gender.values(),'Gender','Frequency','Gender distribution ',['Male','Female'])"
   ]
  },
  {
   "cell_type": "markdown",
   "metadata": {},
   "source": [
    "### Go Viral dataset"
   ]
  },
  {
   "cell_type": "code",
   "execution_count": 16,
   "metadata": {
    "collapsed": true
   },
   "outputs": [],
   "source": [
    "def preprocess_goviral(dataset):\n",
    "    dataset = dataset.fillna(0)\n",
    "    return dataset"
   ]
  },
  {
   "cell_type": "code",
   "execution_count": 17,
   "metadata": {
    "collapsed": true
   },
   "outputs": [],
   "source": [
    "#understand goviral\n",
    "def understand_goviral(dataset):\n",
    "    print(\"The number of records in this dataset are :\\n\",dataset.shape[0])\n",
    "    print(\"---------------------------------------\")\n",
    "    print(\"The columns in this dataset are :\\n\",dataset.columns)\n",
    "    print(\"---------------------------------------\")\n",
    "    dataset = preprocess_goviral(dataset)\n",
    "    \n",
    "    #understand the gender distribution\n",
    "    male_counts = dataset['male'].value_counts()[1]\n",
    "    female_counts = dataset['female'].value_counts()[1]\n",
    "    gender_distribution = defaultdict()\n",
    "    gender_distribution['Male'] = male_counts\n",
    "    gender_distribution['Female'] = female_counts\n",
    "    print(\"Number of males :\\t\",male_counts)\n",
    "    print(\"Number of females :\\t\",female_counts)\n",
    "    print(\"---------------------------------------\")\n",
    "    \n",
    "    #positive_cases\n",
    "    print(\"The unique values for virus are :\\t\",set(list(dataset['virus'])))\n",
    "    print(\"The number of positive cases :\\t\",dataset['virus'].value_counts()[1])\n",
    "    print(\"---------------------------------------\")\n",
    "    \n",
    "    #gender_distribution for positive_cases\n",
    "    positive_cases = dataset.loc[dataset['virus'] == 1]\n",
    "    positive_gender = defaultdict()\n",
    "    positive_gender_male = positive_cases.loc[(positive_cases['male'] == 1) & (positive_cases['female'] == 0)]\n",
    "    positive_gender_female = positive_cases.loc[(positive_cases['female'] == 1) & (positive_cases['male'] == 0)]\n",
    "    missing_gender = positive_cases.loc[(positive_cases['male'] == 0) & (positive_cases['female'] == 0)]\n",
    "    print(\"Number of males having flu :\\t\",positive_gender_male.shape[0])\n",
    "    print(\"Number of females having flu :\\t\",positive_gender_female.shape[0])\n",
    "    print(\"Gender is missing for {0} enteries!\".format(missing_gender.shape[0]))\n",
    "    positive_gender['Male'] = positive_gender_male.shape[0]\n",
    "    positive_gender['Female'] = positive_gender_female.shape[0]\n",
    "    \n",
    "    return gender_distribution,positive_gender\n",
    "    "
   ]
  },
  {
   "cell_type": "code",
   "execution_count": 18,
   "metadata": {},
   "outputs": [
    {
     "name": "stdout",
     "output_type": "stream",
     "text": [
      "The number of records in this dataset are :\n",
      " 520\n",
      "---------------------------------------\n",
      "The columns in this dataset are :\n",
      " Index(['Unnamed: 0', 'virus', 'age', 'fever', 'cough', 'runnynose',\n",
      "       'sorethroat', 'muscle', 'fatigue', 'chills', 'shortness of breath',\n",
      "       'leg pain', 'nausea', 'diarrhea', 'vomit', 'male', 'female'],\n",
      "      dtype='object')\n",
      "---------------------------------------\n",
      "Number of males :\t 203\n",
      "Number of females :\t 269\n",
      "---------------------------------------\n",
      "The unique values for virus are :\t {0, 1}\n",
      "The number of positive cases :\t 297\n",
      "---------------------------------------\n",
      "Number of males having flu :\t 113\n",
      "Number of females having flu :\t 149\n",
      "Gender is missing for 35 enteries!\n",
      "-------------------------------------\n",
      "Go Viral data!\n",
      "-------------------------------------\n"
     ]
    },
    {
     "data": {
      "image/png": "[encoded data removed]",
      "text/plain": [
       "<matplotlib.figure.Figure at 0x118fb09e8>"
      ]
     },
     "metadata": {},
     "output_type": "display_data"
    },
    {
     "data": {
      "image/png": "[encoded data removed]",
      "text/plain": [
       "<matplotlib.figure.Figure at 0x1191ec978>"
      ]
     },
     "metadata": {},
     "output_type": "display_data"
    },
    {
     "data": {
      "image/png": "[encoded data removed]",
      "text/plain": [
       "<matplotlib.figure.Figure at 0x1191ec438>"
      ]
     },
     "metadata": {},
     "output_type": "display_data"
    }
   ],
   "source": [
    "gender_distribution, positive_gender = understand_goviral(data_gv)\n",
    "print(\"-------------------------------------\")\n",
    "print(\"Go Viral data!\")\n",
    "print(\"-------------------------------------\")\n",
    "#plot the general gender distribution\n",
    "plot_distribution(gender_distribution.values(),[],'Gender','Frequency','General gender distribution',['Male','Female'])\n",
    "\n",
    "#plot the gender distribution for the positive flu cases\n",
    "plot_distribution(positive_gender.values(),[],'Gender','Frequency','Gender distribution for positive cases',['Male','Female'])\n",
    "\n",
    "#plot them together\n",
    "plot_distribution(gender_distribution.values(),positive_gender.values(),'Gender','Frequency','Gender distribution ',['Male','Female'])"
   ]
  },
  {
   "cell_type": "markdown",
   "metadata": {},
   "source": [
    "### FluWatch dataset"
   ]
  },
  {
   "cell_type": "code",
   "execution_count": 19,
   "metadata": {
    "collapsed": true
   },
   "outputs": [],
   "source": [
    "def understand_fluwatch(dataset):\n",
    "    print(\"The number of records in this dataset are :\\n\",dataset.shape[0])\n",
    "    print(\"---------------------------------------\")\n",
    "    print(\"The columns in this dataset are :\\n\",dataset.columns)\n",
    "    print(\"---------------------------------------\")\n",
    "    \n",
    "    #understand the gender distribution\n",
    "    male_counts = dataset['male'].value_counts()[1]\n",
    "    female_counts = dataset['female'].value_counts()[1]\n",
    "    gender_distribution = defaultdict()\n",
    "    gender_distribution['Male'] = male_counts\n",
    "    gender_distribution['Female'] = female_counts\n",
    "    print(\"Number of males :\\t\",male_counts)\n",
    "    print(\"Number of females :\\t\",female_counts)\n",
    "    print(\"---------------------------------------\")\n",
    "    \n",
    "    #positive_cases\n",
    "    print(\"The unique values for virus are :\\t\",set(list(dataset['flu'])))\n",
    "    print(\"The number of positive cases :\\t\",dataset['flu'].value_counts()[1])\n",
    "    print(\"---------------------------------------\")\n",
    "    \n",
    "    #gender_distribution for positive_cases\n",
    "    positive_cases = dataset.loc[dataset['flu'] == 1]\n",
    "    positive_gender = defaultdict()\n",
    "    positive_gender_male = positive_cases.loc[(positive_cases['male'] == 1) & (positive_cases['female'] == 0)]\n",
    "    positive_gender_female = positive_cases.loc[(positive_cases['female'] == 1) & (positive_cases['male'] == 0)]\n",
    "    missing_gender = positive_cases.loc[(positive_cases['male'] == 0) & (positive_cases['female'] == 0)]\n",
    "    print(\"Number of males having flu :\\t\",positive_gender_male.shape[0])\n",
    "    print(\"Number of females having flu :\\t\",positive_gender_female.shape[0])\n",
    "    print(\"Gender is missing for {0} enteries!\".format(missing_gender.shape[0]))\n",
    "    positive_gender['Male'] = positive_gender_male.shape[0]\n",
    "    positive_gender['Female'] = positive_gender_female.shape[0]\n",
    "    \n",
    "    return gender_distribution,positive_gender"
   ]
  },
  {
   "cell_type": "code",
   "execution_count": 20,
   "metadata": {},
   "outputs": [
    {
     "name": "stdout",
     "output_type": "stream",
     "text": [
      "The number of records in this dataset are :\n",
      " 915\n",
      "---------------------------------------\n",
      "The columns in this dataset are :\n",
      " Index(['Unnamed: 0', 'fever', 'cough', 'sorethroat', 'runnynose',\n",
      "       'blockednose', 'sneeze', 'diarrhea', 'muscle', 'headache', 'flu',\n",
      "       'age 0-4', 'age 45-64', 'age 16-44', 'age 5-15', 'age 65+', 'male',\n",
      "       'female'],\n",
      "      dtype='object')\n",
      "---------------------------------------\n",
      "Number of males :\t 404\n",
      "Number of females :\t 509\n",
      "---------------------------------------\n",
      "The unique values for virus are :\t {0, 1}\n",
      "The number of positive cases :\t 498\n",
      "---------------------------------------\n",
      "Number of males having flu :\t 232\n",
      "Number of females having flu :\t 266\n",
      "Gender is missing for 0 enteries!\n",
      "-------------------------------------\n",
      "FluWatch data!\n",
      "-------------------------------------\n"
     ]
    },
    {
     "data": {
      "image/png": "[encoded data removed]",
      "text/plain": [
       "<matplotlib.figure.Figure at 0x119216eb8>"
      ]
     },
     "metadata": {},
     "output_type": "display_data"
    },
    {
     "data": {
      "image/png": "[encoded data removed]",
      "text/plain": [
       "<matplotlib.figure.Figure at 0x1189e3f98>"
      ]
     },
     "metadata": {},
     "output_type": "display_data"
    },
    {
     "data": {
      "image/png": "[encoded data removed]",
      "text/plain": [
       "<matplotlib.figure.Figure at 0x1191f64e0>"
      ]
     },
     "metadata": {},
     "output_type": "display_data"
    }
   ],
   "source": [
    "gender_distribution,positive_gender = understand_fluwatch(data_fw)\n",
    "\n",
    "print(\"-------------------------------------\")\n",
    "print(\"FluWatch data!\")\n",
    "print(\"-------------------------------------\")\n",
    "#plot the general gender distribution\n",
    "plot_distribution(gender_distribution.values(),[],'Gender','Frequency','General gender distribution',['Male','Female'])\n",
    "\n",
    "#plot the gender distribution for the positive flu cases\n",
    "plot_distribution(positive_gender.values(),[],'Gender','Frequency','Gender distribution for positive cases',['Male','Female'])\n",
    "\n",
    "#plot them together\n",
    "plot_distribution(gender_distribution.values(),positive_gender.values(),'Gender','Frequency','Gender distribution ',['Male','Female'])"
   ]
  },
  {
   "cell_type": "markdown",
   "metadata": {},
   "source": [
    "### HongKong data"
   ]
  },
  {
   "cell_type": "code",
   "execution_count": 21,
   "metadata": {
    "collapsed": true
   },
   "outputs": [],
   "source": [
    "def understand_hongkong(dataset):\n",
    "    print(\"The number of records in this dataset are :\\n\",dataset.shape[0])\n",
    "    print(\"---------------------------------------\")\n",
    "    print(\"The columns in this dataset are :\\n\",dataset.columns)\n",
    "    print(\"---------------------------------------\")\n",
    "    \n",
    "    #understand the gender distribution\n",
    "    male_counts = dataset['male'].value_counts()[1]\n",
    "    female_counts = dataset['female'].value_counts()[1]\n",
    "    gender_distribution = defaultdict()\n",
    "    gender_distribution['Male'] = male_counts\n",
    "    gender_distribution['Female'] = female_counts\n",
    "    \n",
    "    print(\"Number of males :\\t\",male_counts)\n",
    "    print(\"Number of females :\\t\",female_counts)\n",
    "    print(\"---------------------------------------\")\n",
    "    \n",
    "    #positive_cases\n",
    "    print(\"The unique values for virus are :\\t\",set(list(dataset['flu'])))\n",
    "    print(\"The number of positive cases :\\t\",dataset['flu'].value_counts()[1])\n",
    "    print(\"---------------------------------------\")\n",
    "    \n",
    "    #gender_distribution for positive_cases\n",
    "    positive_cases = dataset.loc[dataset['flu'] == 1]\n",
    "    positive_gender = defaultdict()\n",
    "    positive_gender_male = positive_cases.loc[(positive_cases['male'] == 1) & (positive_cases['female'] == 0)]\n",
    "    positive_gender_female = positive_cases.loc[(positive_cases['female'] == 1) & (positive_cases['male'] == 0)]\n",
    "    missing_gender = positive_cases.loc[(positive_cases['male'] == 0) & (positive_cases['female'] == 0)]\n",
    "    print(\"Number of males having flu :\\t\",positive_gender_male.shape[0])\n",
    "    print(\"Number of females having flu :\\t\",positive_gender_female.shape[0])\n",
    "    print(\"Gender is missing for {0} enteries!\".format(missing_gender.shape[0]))\n",
    "    positive_gender['Male'] = positive_gender_male.shape[0]\n",
    "    positive_gender['Female'] = positive_gender_female.shape[0]\n",
    "    \n",
    "    return gender_distribution,positive_gender\n",
    "    \n",
    "    "
   ]
  },
  {
   "cell_type": "code",
   "execution_count": 22,
   "metadata": {},
   "outputs": [
    {
     "name": "stdout",
     "output_type": "stream",
     "text": [
      "The number of records in this dataset are :\n",
      " 4954\n",
      "---------------------------------------\n",
      "The columns in this dataset are :\n",
      " Index(['Unnamed: 0', 'headache', 'sorethroat', 'cough', 'muscle', 'runnynose',\n",
      "       'phlegm', 'male', 'flu', 'fever', 'age 5-15', 'age 16-44', 'age 0-4',\n",
      "       'age 65+', 'age 45-64', 'gender', 'female'],\n",
      "      dtype='object')\n",
      "---------------------------------------\n",
      "Number of males :\t 2013\n",
      "Number of females :\t 2941\n",
      "---------------------------------------\n",
      "The unique values for virus are :\t {0.0, 1.0}\n",
      "The number of positive cases :\t 1137\n",
      "---------------------------------------\n",
      "Number of males having flu :\t 543\n",
      "Number of females having flu :\t 594\n",
      "Gender is missing for 0 enteries!\n",
      "-------------------------------------\n",
      "HongKong data!\n",
      "-------------------------------------\n"
     ]
    },
    {
     "data": {
      "image/png": "[encoded data removed]",
      "text/plain": [
       "<matplotlib.figure.Figure at 0x11993a048>"
      ]
     },
     "metadata": {},
     "output_type": "display_data"
    },
    {
     "data": {
      "image/png": "[encoded data removed]",
      "text/plain": [
       "<matplotlib.figure.Figure at 0x11cebdac8>"
      ]
     },
     "metadata": {},
     "output_type": "display_data"
    },
    {
     "data": {
      "image/png": "[encoded data removed]",
      "text/plain": [
       "<matplotlib.figure.Figure at 0x11cebda58>"
      ]
     },
     "metadata": {},
     "output_type": "display_data"
    }
   ],
   "source": [
    "gender_distribution,positive_gender = understand_hongkong(data_hk)\n",
    "\n",
    "print(\"-------------------------------------\")\n",
    "print(\"HongKong data!\")\n",
    "print(\"-------------------------------------\")\n",
    "#plot the general gender distribution\n",
    "plot_distribution(gender_distribution.values(),[],'Gender','Frequency','General gender distribution',['Male','Female'])\n",
    "\n",
    "#plot the gender distribution for the positive flu cases\n",
    "plot_distribution(positive_gender.values(),[],'Gender','Frequency','Gender distribution for positive cases',['Male','Female'])\n",
    "\n",
    "#plot them together\n",
    "plot_distribution(gender_distribution.values(),positive_gender.values(),'Gender','Frequency','Gender distribution ',['Male','Female'])"
   ]
  },
  {
   "cell_type": "markdown",
   "metadata": {},
   "source": [
    "### Huterite Data"
   ]
  },
  {
   "cell_type": "code",
   "execution_count": 23,
   "metadata": {
    "collapsed": true
   },
   "outputs": [],
   "source": [
    "def understand_huterite(dataset):\n",
    "    print(\"The number of records in this dataset are :\\n\",dataset.shape[0])\n",
    "    print(\"---------------------------------------\")\n",
    "    print(\"The columns in this dataset are :\\n\",dataset.columns)\n",
    "    print(\"---------------------------------------\")\n",
    "    \n",
    "    #understand the gender distribution\n",
    "    male_counts = dataset['male'].value_counts()[1]\n",
    "    female_counts = dataset['female'].value_counts()[1]\n",
    "    gender_distribution = defaultdict()\n",
    "    gender_distribution['Male'] = male_counts\n",
    "    gender_distribution['Female'] = female_counts\n",
    "    \n",
    "    print(\"Number of males :\\t\",male_counts)\n",
    "    print(\"Number of females :\\t\",female_counts)\n",
    "    print(\"---------------------------------------\")\n",
    "    \n",
    "    #positive_cases\n",
    "    print(\"The unique values for virus are :\\t\",set(list(dataset['virus'])))\n",
    "    print(\"The number of positive cases :\\t\",dataset['virus'].value_counts()[1])\n",
    "    print(\"---------------------------------------\")\n",
    "    \n",
    "    #gender_distribution for positive_cases\n",
    "    positive_cases = dataset.loc[dataset['virus'] == 1]\n",
    "    positive_gender = defaultdict()\n",
    "    positive_gender_male = positive_cases.loc[(positive_cases['male'] == 1) & (positive_cases['female'] == 0)]\n",
    "    positive_gender_female = positive_cases.loc[(positive_cases['female'] == 1) & (positive_cases['male'] == 0)]\n",
    "    missing_gender = positive_cases.loc[(positive_cases['male'] == 0) & (positive_cases['female'] == 0)]\n",
    "    print(\"Number of males having flu :\\t\",positive_gender_male.shape[0])\n",
    "    print(\"Number of females having flu :\\t\",positive_gender_female.shape[0])\n",
    "    print(\"Gender is missing for {0} enteries!\".format(missing_gender.shape[0]))\n",
    "    positive_gender['Male'] = positive_gender_male.shape[0]\n",
    "    positive_gender['Female'] = positive_gender_female.shape[0]\n",
    "    \n",
    "    return gender_distribution,positive_gender\n",
    "    \n",
    "    \n",
    "    "
   ]
  },
  {
   "cell_type": "code",
   "execution_count": 24,
   "metadata": {},
   "outputs": [
    {
     "name": "stdout",
     "output_type": "stream",
     "text": [
      "The number of records in this dataset are :\n",
      " 1281\n",
      "---------------------------------------\n",
      "The columns in this dataset are :\n",
      " Index(['RID', 'virus', 'chills', 'cough', 'fatigue', 'fever', 'headache',\n",
      "       'muscle', 'runnynose', 'blockednose', 'sorethroat', 'female', 'male',\n",
      "       'age 45-64', 'age 16-44', 'age 5-15', 'age 65+', 'age 0-4', 'earache'],\n",
      "      dtype='object')\n",
      "---------------------------------------\n",
      "Number of males :\t 468\n",
      "Number of females :\t 813\n",
      "---------------------------------------\n",
      "The unique values for virus are :\t {0.0, 1.0}\n",
      "The number of positive cases :\t 616\n",
      "---------------------------------------\n",
      "Number of males having flu :\t 246\n",
      "Number of females having flu :\t 370\n",
      "Gender is missing for 0 enteries!\n",
      "-------------------------------------\n",
      "Huterite data!\n",
      "-------------------------------------\n"
     ]
    },
    {
     "data": {
      "image/png": "[encoded data removed]",
      "text/plain": [
       "<matplotlib.figure.Figure at 0x1189b5940>"
      ]
     },
     "metadata": {},
     "output_type": "display_data"
    },
    {
     "data": {
      "image/png": "[encoded data removed]",
      "text/plain": [
       "<matplotlib.figure.Figure at 0x1189b5860>"
      ]
     },
     "metadata": {},
     "output_type": "display_data"
    },
    {
     "data": {
      "image/png": "[encoded data removed]",
      "text/plain": [
       "<matplotlib.figure.Figure at 0x1197b9320>"
      ]
     },
     "metadata": {},
     "output_type": "display_data"
    }
   ],
   "source": [
    "gender_distribution, positive_gender = understand_huterite(data_ht)\n",
    "\n",
    "print(\"-------------------------------------\")\n",
    "print(\"Huterite data!\")\n",
    "print(\"-------------------------------------\")\n",
    "#plot the general gender distribution\n",
    "plot_distribution(gender_distribution.values(),[],'Gender','Frequency','General gender distribution',['Male','Female'])\n",
    "\n",
    "#plot the gender distribution for the positive flu cases\n",
    "plot_distribution(positive_gender.values(),[],'Gender','Frequency','Gender distribution for positive cases',['Male','Female'])\n",
    "\n",
    "#plot them together\n",
    "plot_distribution(gender_distribution.values(),positive_gender.values(),'Gender','Frequency','Gender distribution ',['Male','Female'])"
   ]
  },
  {
   "cell_type": "markdown",
   "metadata": {},
   "source": [
    "### Feature exploration for the different datasets"
   ]
  },
  {
   "cell_type": "code",
   "execution_count": 25,
   "metadata": {
    "collapsed": true
   },
   "outputs": [],
   "source": [
    "DATASETS = [data_nyumc,data_gv,data_fw,data_hk,data_ht]\n",
    "DATASET_NAMES = ['NYUMC','GoViral','FluWatch','HongKong','Hutterite']\n",
    "symptoms = defaultdict()\n",
    "target_variable = defaultdict()"
   ]
  },
  {
   "cell_type": "code",
   "execution_count": 26,
   "metadata": {
    "collapsed": true
   },
   "outputs": [],
   "source": [
    "def get_columns(dataframe):\n",
    "    columns = list(dataframe.columns)\n",
    "    return columns"
   ]
  },
  {
   "cell_type": "code",
   "execution_count": 27,
   "metadata": {
    "collapsed": true
   },
   "outputs": [],
   "source": [
    "common_features = []\n",
    "all_feaures = []"
   ]
  },
  {
   "cell_type": "code",
   "execution_count": 28,
   "metadata": {
    "collapsed": true
   },
   "outputs": [],
   "source": [
    "def print_columns(dataset):\n",
    "    print(\"The features in this dataset are :\\n\",get_columns(dataset))\n",
    "    print(\"_________________________________________________________\")"
   ]
  },
  {
   "cell_type": "code",
   "execution_count": 29,
   "metadata": {},
   "outputs": [
    {
     "name": "stdout",
     "output_type": "stream",
     "text": [
      "The features in this dataset are :\n",
      " ['Unnamed: 0', 'flu', 'fever', 'sorethroat', 'cough', 'muscle', 'headache', 'fatigue', 'vomit', 'nausea', 'diarrhea', 'male', 'age 0-4', 'age 5-15', 'age 16-44', 'age 45-64', 'age 65+']\n",
      "_________________________________________________________\n"
     ]
    }
   ],
   "source": [
    "#for NYUMC:\n",
    "print_columns(data_nyumc)\n",
    "symptoms['NYUMC'] = [\n",
    "                     'fever',\n",
    "                     'sorethroat',\n",
    "                     'cough',\n",
    "                     'muscle',\n",
    "                     'headache',\n",
    "                     'fatigue',\n",
    "                     'vomit',\n",
    "                     'nausea',\n",
    "                     'diarrhea']\n",
    "target_variable['NYUMC'] = 'flu'"
   ]
  },
  {
   "cell_type": "code",
   "execution_count": 43,
   "metadata": {},
   "outputs": [
    {
     "name": "stdout",
     "output_type": "stream",
     "text": [
      "The features in this dataset are :\n",
      " ['Unnamed: 0', 'virus', 'age', 'fever', 'cough', 'runnynose', 'sorethroat', 'muscle', 'fatigue', 'chills', 'shortness of breath', 'leg pain', 'nausea', 'diarrhea', 'vomit', 'male', 'female']\n",
      "_________________________________________________________\n"
     ]
    }
   ],
   "source": [
    "#for GoViral\n",
    "print_columns(data_gv)\n",
    "symptoms['GoViral'] = [\n",
    "                       'fever',\n",
    "                       'cough',\n",
    "                       'runnynose',\n",
    "                       'sorethroat',\n",
    "                       'muscle',\n",
    "                       'fatigue',\n",
    "                       'chills',\n",
    "                       'shortness of breath',\n",
    "                       'leg pain',\n",
    "                       'nausea',\n",
    "                       'diarrhea',\n",
    "                       'vomit']\n",
    "target_variable['GoViral'] = 'virus'"
   ]
  },
  {
   "cell_type": "code",
   "execution_count": 44,
   "metadata": {},
   "outputs": [
    {
     "name": "stdout",
     "output_type": "stream",
     "text": [
      "The features in this dataset are :\n",
      " ['Unnamed: 0', 'fever', 'cough', 'sorethroat', 'runnynose', 'blockednose', 'sneeze', 'diarrhea', 'muscle', 'headache', 'flu', 'age 0-4', 'age 45-64', 'age 16-44', 'age 5-15', 'age 65+', 'male', 'female']\n",
      "_________________________________________________________\n"
     ]
    }
   ],
   "source": [
    "#for FluWatch\n",
    "print_columns(data_fw)\n",
    "symptoms['FluWatch'] = ['fever',\n",
    "                        'cough',\n",
    "                        'sorethroat',\n",
    "                        'runnynose',\n",
    "                        'blockednose',\n",
    "                        'sneeze',\n",
    "                        'diarrhea',\n",
    "                        'muscle',\n",
    "                        'headache',\n",
    "                        ]\n",
    "target_variable['FluWatch'] = 'flu'"
   ]
  },
  {
   "cell_type": "code",
   "execution_count": 45,
   "metadata": {},
   "outputs": [
    {
     "name": "stdout",
     "output_type": "stream",
     "text": [
      "The features in this dataset are :\n",
      " ['Unnamed: 0', 'headache', 'sorethroat', 'cough', 'muscle', 'runnynose', 'phlegm', 'male', 'flu', 'fever', 'age 5-15', 'age 16-44', 'age 0-4', 'age 65+', 'age 45-64', 'gender', 'female']\n",
      "_________________________________________________________\n"
     ]
    }
   ],
   "source": [
    "#for HongKong\n",
    "print_columns(data_hk)\n",
    "symptoms['HongKong'] = ['headache',\n",
    "                        'sorethroat',\n",
    "                        'cough',\n",
    "                        'muscle',\n",
    "                        'runnynose',\n",
    "                        'phlegm',\n",
    "                        'fever']\n",
    "target_variable['HongKong'] = 'flu'"
   ]
  },
  {
   "cell_type": "code",
   "execution_count": 67,
   "metadata": {},
   "outputs": [
    {
     "name": "stdout",
     "output_type": "stream",
     "text": [
      "The features in this dataset are :\n",
      " ['RID', 'virus', 'chills', 'cough', 'fatigue', 'fever', 'headache', 'muscle', 'runnynose', 'blockednose', 'sorethroat', 'female', 'male', 'age 45-64', 'age 16-44', 'age 5-15', 'age 65+', 'age 0-4', 'earache']\n",
      "_________________________________________________________\n"
     ]
    }
   ],
   "source": [
    "#for hutterite\n",
    "print_columns(data_ht)\n",
    "symptoms['Hutterite'] = [\n",
    "                         'chills',\n",
    "                         'cough',\n",
    "                         'fatigue',\n",
    "                         'fever',\n",
    "                         'headache',\n",
    "                         'muscle',\n",
    "                         'runnynose',\n",
    "                         'blockednose',\n",
    "                         'sorethroat',\n",
    "                         'earache']\n",
    "target_variable['Hutterite'] = 'virus'"
   ]
  },
  {
   "cell_type": "code",
   "execution_count": 47,
   "metadata": {
    "collapsed": true
   },
   "outputs": [],
   "source": [
    "def get_common_features():\n",
    "    common_features = list(set(symptoms['NYUMC']) & set(symptoms['GoViral']) & set(symptoms['FluWatch']) & set(symptoms['HongKong']) & set(symptoms['Hutterite']))\n",
    "    return common_features"
   ]
  },
  {
   "cell_type": "code",
   "execution_count": 48,
   "metadata": {},
   "outputs": [
    {
     "name": "stdout",
     "output_type": "stream",
     "text": [
      "The common features in all the datasets are :\n",
      " ['cough', 'sorethroat', 'fever', 'muscle']\n",
      "Number of common features are : 4\n",
      "____________________________________\n"
     ]
    }
   ],
   "source": [
    "common_features = get_common_features()\n",
    "print(\"The common features in all the datasets are :\\n\",common_features)\n",
    "print(\"Number of common features are :\",len(common_features))\n",
    "print(\"____________________________________\")"
   ]
  },
  {
   "cell_type": "code",
   "execution_count": 49,
   "metadata": {
    "collapsed": true
   },
   "outputs": [],
   "source": [
    "def get_all_features():\n",
    "    all_features = list(set(symptoms['NYUMC']) | set(symptoms['GoViral']) | set(symptoms['FluWatch']) | set(symptoms['HongKong']) | set(symptoms['Hutterite']))\n",
    "    return all_features"
   ]
  },
  {
   "cell_type": "code",
   "execution_count": 50,
   "metadata": {},
   "outputs": [
    {
     "name": "stdout",
     "output_type": "stream",
     "text": [
      "Features from all the datasets:\n",
      " ['blockednose', 'headache', 'sorethroat', 'muscle', 'runnynose', 'fever', 'leg pain', 'phlegm', 'shortness of breath', 'cough', 'fatigue', 'chills', 'earache', 'sneeze', 'diarrhea', 'nausea', 'vomit']\n",
      "Total number of symptoms across all the datasets : 17\n",
      "____________________________________\n"
     ]
    }
   ],
   "source": [
    "all_features = get_all_features()\n",
    "print(\"Features from all the datasets:\\n\",all_features)\n",
    "print(\"Total number of symptoms across all the datasets :\",len(all_features))\n",
    "print(\"____________________________________\")"
   ]
  },
  {
   "cell_type": "markdown",
   "metadata": {},
   "source": [
    "### Gender distribution across features"
   ]
  },
  {
   "cell_type": "code",
   "execution_count": 144,
   "metadata": {
    "collapsed": true
   },
   "outputs": [],
   "source": [
    "def plot_gd_across_features(male_distribution,\n",
    "                            female_distribution,\n",
    "                            positive_male_distribution,\n",
    "                            positive_female_distribution,\n",
    "                            labels,\n",
    "                            title):\n",
    "    plt.figure(figsize=(16,8))\n",
    "    \n",
    "    ind = np.array([x for x,_ in enumerate(labels)])\n",
    "    width = 0.6\n",
    "    opacity = 0.2\n",
    "    plt.bar(ind,\n",
    "            male_distribution-positive_male_distribution,\n",
    "            width,\n",
    "            alpha = opacity,\n",
    "            label='Negative Male',\n",
    "            color = 'y',\n",
    "            bottom=female_distribution+positive_male_distribution)\n",
    "    \n",
    "    plt.bar(ind ,\n",
    "            positive_male_distribution,\n",
    "            width,\n",
    "            alpha = 0.8,\n",
    "            label = 'Positive Male',\n",
    "            color = 'y',\n",
    "            bottom = female_distribution)\n",
    "    \n",
    "    plt.bar(ind,\n",
    "            female_distribution-positive_female_distribution,\n",
    "            width,\n",
    "            alpha = opacity,\n",
    "            label='Negative Female',\n",
    "            color='b',\n",
    "            bottom = positive_female_distribution)\n",
    "    \n",
    "    plt.bar(ind,\n",
    "            positive_female_distribution,\n",
    "            width,\n",
    "            alpha = 0.8,\n",
    "            label = 'Positive Female',\n",
    "            color = 'b')\n",
    "    \n",
    "    plt.xticks(ind,labels)\n",
    "    plt.ylabel('Number of individuals')\n",
    "    plt.xlabel('Features')\n",
    "    plt.legend(loc=\"upper right\")\n",
    "    plt.title(title)\n",
    "    plt.show()"
   ]
  },
  {
   "cell_type": "code",
   "execution_count": 145,
   "metadata": {
    "collapsed": true
   },
   "outputs": [],
   "source": [
    "def gender_distribution_across_features(dataset,symptoms,target,title,female = True):\n",
    "    \n",
    "    male_distribution = defaultdict()\n",
    "    female_distribution = defaultdict()\n",
    "    positive_male_distribution = defaultdict()\n",
    "    positive_female_distribution = defaultdict()\n",
    "    for i in symptoms:\n",
    "        #male distribution\n",
    "        \n",
    "        male_feature = dataset.loc[(dataset[i] == 1) & (dataset['male'] == 1)]\n",
    "        male_distribution[i] = male_feature.shape[0]\n",
    "        \n",
    "        #female distribution\n",
    "        if female:\n",
    "            female_feature = dataset.loc[(dataset[i] == 1) & (dataset['female'] == 1)]\n",
    "            female_distribution[i] = female_feature.shape[0]\n",
    "        else:\n",
    "            female_feature = dataset.loc[(dataset[i] == 1) & (dataset['male'] == 0)]\n",
    "            female_distribution[i] = female_feature.shape[0]\n",
    "        \n",
    "        #positive cases male distribution\n",
    "        positive_male_feature = dataset.loc[(dataset[i] == 1) & (dataset['male'] == 1) & (dataset[target] == 1)]\n",
    "        positive_male_distribution[i] = positive_male_feature.shape[0]\n",
    "        \n",
    "        #positive cases female distribution\n",
    "        if female:\n",
    "            positive_female_feature = dataset.loc[(dataset[i] == 1) & (dataset['female'] == 1) & (dataset[target] ==1)]\n",
    "            positive_female_distribution[i] = positive_female_feature.shape[0]\n",
    "        else:\n",
    "            positive_female_feature = dataset.loc[(dataset[i] == 1) & (dataset['male'] == 0) & (dataset[target] ==1)]\n",
    "            positive_female_distribution[i] = positive_female_feature.shape[0]\n",
    "            \n",
    "        \n",
    "    print(\"Male distribution : \",male_distribution)\n",
    "    print(\"Female distribution :\",female_distribution)\n",
    "    print(\"Positive male distribution :\",positive_male_distribution)\n",
    "    print(\"Positive female distribution :\",positive_female_distribution)\n",
    "    print(\"______________________________________________________________________\")\n",
    "    \n",
    "    \n",
    "    plot_gd_across_features(np.array(list(male_distribution.values())),\n",
    "                            np.array(list(female_distribution.values())),\n",
    "                            np.array(list(positive_male_distribution.values())),\n",
    "                            np.array(list(positive_female_distribution.values())),\n",
    "                            symptoms,\n",
    "                            'Gender distribution across features for '+title)\n",
    "    \n",
    "    \n",
    "    \n",
    "\n",
    "    return male_distribution,female_distribution,positive_male_distribution,positive_female_distribution\n",
    "    "
   ]
  },
  {
   "cell_type": "code",
   "execution_count": 146,
   "metadata": {},
   "outputs": [
    {
     "name": "stdout",
     "output_type": "stream",
     "text": [
      "Male distribution :  defaultdict(None, {'fever': 7661, 'sorethroat': 752, 'cough': 3139, 'muscle': 144, 'headache': 17, 'fatigue': 33, 'vomit': 414, 'nausea': 129, 'diarrhea': 199})\n",
      "Female distribution : defaultdict(None, {'fever': 7801, 'sorethroat': 1013, 'cough': 3491, 'muscle': 181, 'headache': 19, 'fatigue': 25, 'vomit': 475, 'nausea': 224, 'diarrhea': 214})\n",
      "Positive male distribution : defaultdict(None, {'fever': 221, 'sorethroat': 6, 'cough': 101, 'muscle': 6, 'headache': 0, 'fatigue': 0, 'vomit': 12, 'nausea': 6, 'diarrhea': 2})\n",
      "Positive female distribution : defaultdict(None, {'fever': 238, 'sorethroat': 11, 'cough': 124, 'muscle': 9, 'headache': 1, 'fatigue': 0, 'vomit': 10, 'nausea': 7, 'diarrhea': 2})\n",
      "______________________________________________________________________\n"
     ]
    },
    {
     "data": {
      "image/png": "[encoded data removed]",
      "text/plain": [
       "<matplotlib.figure.Figure at 0x11d4ad5c0>"
      ]
     },
     "metadata": {},
     "output_type": "display_data"
    }
   ],
   "source": [
    "m_nyumc,f_nyumc,pm_nyumc,pf_nyumc = gender_distribution_across_features(data_nyumc,\n",
    "                                                                        symptoms['NYUMC'],\n",
    "                                                                        target_variable['NYUMC'],\n",
    "                                                                        \"NYUMC\",\n",
    "                                                                        False)"
   ]
  },
  {
   "cell_type": "code",
   "execution_count": 147,
   "metadata": {},
   "outputs": [
    {
     "name": "stdout",
     "output_type": "stream",
     "text": [
      "Male distribution :  defaultdict(None, {'fever': 75, 'cough': 131, 'runnynose': 145, 'sorethroat': 135, 'muscle': 90, 'fatigue': 118, 'chills': 81, 'shortness of breath': 17, 'leg pain': 56, 'nausea': 58, 'diarrhea': 54, 'vomit': 14})\n",
      "Female distribution : defaultdict(None, {'fever': 80, 'cough': 147, 'runnynose': 152, 'sorethroat': 158, 'muscle': 87, 'fatigue': 130, 'chills': 81, 'shortness of breath': 25, 'leg pain': 56, 'nausea': 68, 'diarrhea': 57, 'vomit': 17})\n",
      "Positive male distribution : defaultdict(None, {'fever': 45, 'cough': 77, 'runnynose': 85, 'sorethroat': 85, 'muscle': 56, 'fatigue': 69, 'chills': 44, 'shortness of breath': 5, 'leg pain': 28, 'nausea': 29, 'diarrhea': 27, 'vomit': 8})\n",
      "Positive female distribution : defaultdict(None, {'fever': 50, 'cough': 94, 'runnynose': 98, 'sorethroat': 94, 'muscle': 50, 'fatigue': 84, 'chills': 51, 'shortness of breath': 13, 'leg pain': 30, 'nausea': 38, 'diarrhea': 33, 'vomit': 7})\n",
      "______________________________________________________________________\n"
     ]
    },
    {
     "data": {
      "image/png": "[encoded data removed]",
      "text/plain": [
       "<matplotlib.figure.Figure at 0x11cd9a048>"
      ]
     },
     "metadata": {},
     "output_type": "display_data"
    }
   ],
   "source": [
    "m_gv,f_gv,pm_gv,pf_gv = gender_distribution_across_features(data_gv,\n",
    "                                                symptoms['GoViral'],\n",
    "                                                target_variable['GoViral'],\n",
    "                                                \"GoViral\")"
   ]
  },
  {
   "cell_type": "code",
   "execution_count": 148,
   "metadata": {},
   "outputs": [
    {
     "name": "stdout",
     "output_type": "stream",
     "text": [
      "Male distribution :  defaultdict(None, {'fever': 126, 'cough': 279, 'sorethroat': 213, 'runnynose': 303, 'blockednose': 209, 'sneeze': 250, 'diarrhea': 22, 'muscle': 140, 'headache': 166})\n",
      "Female distribution : defaultdict(None, {'fever': 154, 'cough': 361, 'sorethroat': 298, 'runnynose': 377, 'blockednose': 268, 'sneeze': 331, 'diarrhea': 23, 'muscle': 169, 'headache': 267})\n",
      "Positive male distribution : defaultdict(None, {'fever': 73, 'cough': 163, 'sorethroat': 121, 'runnynose': 194, 'blockednose': 129, 'sneeze': 154, 'diarrhea': 14, 'muscle': 79, 'headache': 97})\n",
      "Positive female distribution : defaultdict(None, {'fever': 74, 'cough': 182, 'sorethroat': 144, 'runnynose': 209, 'blockednose': 145, 'sneeze': 186, 'diarrhea': 13, 'muscle': 81, 'headache': 133})\n",
      "______________________________________________________________________\n"
     ]
    },
    {
     "data": {
      "image/png": "[encoded data removed]",
      "text/plain": [
       "<matplotlib.figure.Figure at 0x11d30cef0>"
      ]
     },
     "metadata": {},
     "output_type": "display_data"
    }
   ],
   "source": [
    "m_fw,f_fw,pm_fw,pf_fw = gender_distribution_across_features(data_fw,\n",
    "                                                symptoms['FluWatch'],\n",
    "                                                target_variable['FluWatch'],\n",
    "                                                \"FluWatch\")"
   ]
  },
  {
   "cell_type": "code",
   "execution_count": 149,
   "metadata": {},
   "outputs": [
    {
     "name": "stdout",
     "output_type": "stream",
     "text": [
      "Male distribution :  defaultdict(None, {'headache': 204, 'sorethroat': 298, 'cough': 669, 'muscle': 193, 'runnynose': 636, 'phlegm': 547, 'fever': 189})\n",
      "Female distribution : defaultdict(None, {'headache': 323, 'sorethroat': 436, 'cough': 769, 'muscle': 317, 'runnynose': 807, 'phlegm': 705, 'fever': 253})\n",
      "Positive male distribution : defaultdict(None, {'headache': 136, 'sorethroat': 198, 'cough': 381, 'muscle': 119, 'runnynose': 353, 'phlegm': 295, 'fever': 163})\n",
      "Positive female distribution : defaultdict(None, {'headache': 158, 'sorethroat': 257, 'cough': 406, 'muscle': 149, 'runnynose': 405, 'phlegm': 344, 'fever': 190})\n",
      "______________________________________________________________________\n"
     ]
    },
    {
     "data": {
      "image/png": "[encoded data removed]",
      "text/plain": [
       "<matplotlib.figure.Figure at 0x11cfb3518>"
      ]
     },
     "metadata": {},
     "output_type": "display_data"
    }
   ],
   "source": [
    "m_hk,f_hk,pm_hk,pf_hk = gender_distribution_across_features(data_hk,\n",
    "                                                symptoms['HongKong'],\n",
    "                                                target_variable['HongKong'],\n",
    "                                                \"Hong Kong\")"
   ]
  },
  {
   "cell_type": "code",
   "execution_count": 150,
   "metadata": {},
   "outputs": [
    {
     "name": "stdout",
     "output_type": "stream",
     "text": [
      "Male distribution :  defaultdict(None, {'chills': 106, 'cough': 320, 'fatigue': 94, 'fever': 88, 'headache': 133, 'muscle': 83, 'runnynose': 284, 'blockednose': 111, 'sorethroat': 241, 'earache': 0})\n",
      "Female distribution : defaultdict(None, {'chills': 166, 'cough': 487, 'fatigue': 156, 'fever': 99, 'headache': 295, 'muscle': 141, 'runnynose': 538, 'blockednose': 259, 'sorethroat': 435, 'earache': 0})\n",
      "Positive male distribution : defaultdict(None, {'chills': 57, 'cough': 193, 'fatigue': 47, 'fever': 46, 'headache': 62, 'muscle': 43, 'runnynose': 155, 'blockednose': 57, 'sorethroat': 129, 'earache': 0})\n",
      "Positive female distribution : defaultdict(None, {'chills': 78, 'cough': 264, 'fatigue': 63, 'fever': 74, 'headache': 119, 'muscle': 56, 'runnynose': 278, 'blockednose': 116, 'sorethroat': 217, 'earache': 0})\n",
      "______________________________________________________________________\n"
     ]
    },
    {
     "data": {
      "image/png": "[encoded data removed]",
      "text/plain": [
       "<matplotlib.figure.Figure at 0x11d212d68>"
      ]
     },
     "metadata": {},
     "output_type": "display_data"
    }
   ],
   "source": [
    "m_ht,f_ht,pm_ht,pf_ht = gender_distribution_across_features(data_ht,\n",
    "                                                symptoms['Hutterite'],\n",
    "                                                target_variable['Hutterite'],\n",
    "                                                \"Hutterite\")"
   ]
  },
  {
   "cell_type": "code",
   "execution_count": null,
   "metadata": {
    "collapsed": true
   },
   "outputs": [],
   "source": []
  },
  {
   "cell_type": "code",
   "execution_count": null,
   "metadata": {
    "collapsed": true
   },
   "outputs": [],
   "source": []
  },
  {
   "cell_type": "code",
   "execution_count": null,
   "metadata": {
    "collapsed": true
   },
   "outputs": [],
   "source": []
  },
  {
   "cell_type": "code",
   "execution_count": null,
   "metadata": {
    "collapsed": true
   },
   "outputs": [],
   "source": []
  },
  {
   "cell_type": "code",
   "execution_count": null,
   "metadata": {
    "collapsed": true
   },
   "outputs": [],
   "source": []
  },
  {
   "cell_type": "code",
   "execution_count": null,
   "metadata": {
    "collapsed": true
   },
   "outputs": [],
   "source": []
  },
  {
   "cell_type": "code",
   "execution_count": null,
   "metadata": {
    "collapsed": true
   },
   "outputs": [],
   "source": []
  },
  {
   "cell_type": "code",
   "execution_count": null,
   "metadata": {
    "collapsed": true
   },
   "outputs": [],
   "source": []
  },
  {
   "cell_type": "code",
   "execution_count": null,
   "metadata": {
    "collapsed": true
   },
   "outputs": [],
   "source": []
  },
  {
   "cell_type": "code",
   "execution_count": null,
   "metadata": {
    "collapsed": true
   },
   "outputs": [],
   "source": []
  },
  {
   "cell_type": "code",
   "execution_count": null,
   "metadata": {
    "collapsed": true
   },
   "outputs": [],
   "source": []
  },
  {
   "cell_type": "code",
   "execution_count": null,
   "metadata": {
    "collapsed": true
   },
   "outputs": [],
   "source": []
  },
  {
   "cell_type": "code",
   "execution_count": null,
   "metadata": {
    "collapsed": true
   },
   "outputs": [],
   "source": []
  },
  {
   "cell_type": "code",
   "execution_count": null,
   "metadata": {
    "collapsed": true
   },
   "outputs": [],
   "source": []
  },
  {
   "cell_type": "code",
   "execution_count": null,
   "metadata": {
    "collapsed": true
   },
   "outputs": [],
   "source": []
  }
 ],
 "metadata": {
  "kernelspec": {
   "display_name": "Python 3",
   "language": "python",
   "name": "python3"
  },
  "language_info": {
   "codemirror_mode": {
    "name": "ipython",
    "version": 3
   },
   "file_extension": ".py",
   "mimetype": "text/x-python",
   "name": "python",
   "nbconvert_exporter": "python",
   "pygments_lexer": "ipython3",
   "version": "3.5.4"
  }
 },
 "nbformat": 4,
 "nbformat_minor": 2
}
