{
 "cells": [
  {
   "cell_type": "code",
   "execution_count": 1,
   "metadata": {
    "collapsed": true
   },
   "outputs": [],
   "source": [
    "import warnings; warnings.simplefilter('ignore')\n",
    "import pandas as pd\n",
    "import numpy as np\n",
    "import os\n",
    "import time\n",
    "from collections import defaultdict\n",
    "from sklearn.metrics import f1_score,accuracy_score,precision_score,recall_score,roc_curve\n",
    "from sklearn import metrics\n",
    "import seaborn as sns\n",
    "import matplotlib.pyplot as plt"
   ]
  },
  {
   "cell_type": "markdown",
   "metadata": {},
   "source": [
    "* The symptoms included are as follows:"
   ]
  },
  {
   "cell_type": "code",
   "execution_count": 2,
   "metadata": {
    "collapsed": true
   },
   "outputs": [],
   "source": [
    "symptoms = ['intercept',\n",
    "            'fever',\n",
    "            'sorethroat',\n",
    "            'cough',\n",
    "            'muscle',\n",
    "            'headache',\n",
    "            'fatigue',\n",
    "            'vomit',\n",
    "            'nausea',\n",
    "            'diarrhea',\n",
    "            'chills',\n",
    "            'sneeze',\n",
    "            'shortness of breath',\n",
    "            'phlegm',\n",
    "            'blockednose',\n",
    "            'earache',\n",
    "            'leg pain',\n",
    "            'runnynose',\n",
    "            'virus']"
   ]
  },
  {
   "cell_type": "code",
   "execution_count": 3,
   "metadata": {
    "collapsed": true
   },
   "outputs": [],
   "source": [
    "def read_file(filename):\n",
    "    data = pd.read_csv(filename)\n",
    "    data['intercept'] = 1\n",
    "    columns = list(data.columns)\n",
    "    columns = columns[-1:] + columns[:-1]\n",
    "    data = data[columns]\n",
    "    data = data[symptoms]\n",
    "    train_data = data.drop(['virus'],axis =1).as_matrix()\n",
    "    return data,train_data"
   ]
  },
  {
   "cell_type": "code",
   "execution_count": 4,
   "metadata": {
    "collapsed": true
   },
   "outputs": [],
   "source": [
    "def read_parameters(filename):\n",
    "    parameters = pd.read_csv(filename)\n",
    "    return parameters"
   ]
  },
  {
   "cell_type": "markdown",
   "metadata": {},
   "source": [
    "#### Get the parameters for the different dataset combinations"
   ]
  },
  {
   "cell_type": "code",
   "execution_count": 5,
   "metadata": {
    "collapsed": true
   },
   "outputs": [],
   "source": [
    "directory_ = \"./Generated_Parameters_3/\"\n",
    "only_symptoms_ = ['only_symptoms_nyumc.csv','only_symptoms_goviral.csv','only_symptoms_fluwatch.csv','only_symptoms_hongkong.csv','only_symptoms_hutterite.csv']\n",
    "with_demographics_ = ['with_demographics_nyumc.csv','with_demographics_goviral.csv','with_demographics_fluwatch.csv','with_demographics_hongkong.csv','with_demographics_hutterite.csv']\n",
    "only_symptoms_parameters = defaultdict()\n",
    "with_demographic_parameters = defaultdict()"
   ]
  },
  {
   "cell_type": "code",
   "execution_count": 6,
   "metadata": {
    "collapsed": true
   },
   "outputs": [],
   "source": [
    "def return_parameters(file,dataset_names):\n",
    "    param = read_parameters(file)\n",
    "    parameter_dict = defaultdict()\n",
    "    for i in dataset_names:\n",
    "        parameter_dict[i] = list(param[i])\n",
    "    return parameter_dict\n",
    "    "
   ]
  },
  {
   "cell_type": "code",
   "execution_count": 7,
   "metadata": {
    "collapsed": true
   },
   "outputs": [],
   "source": [
    "def get_parameters(dataset_name,parameters):\n",
    "    return np.array(list(parameters[dataset_name]))"
   ]
  },
  {
   "cell_type": "code",
   "execution_count": 8,
   "metadata": {
    "collapsed": true
   },
   "outputs": [],
   "source": [
    "def sigmoid(x):\n",
    "    return 1/(1 + np.exp(-x))"
   ]
  },
  {
   "cell_type": "code",
   "execution_count": 9,
   "metadata": {
    "collapsed": true
   },
   "outputs": [],
   "source": [
    "def get_results(param,sample_points):\n",
    "    return sigmoid(np.dot(param,sample_points.T)  )"
   ]
  },
  {
   "cell_type": "code",
   "execution_count": 10,
   "metadata": {
    "collapsed": true
   },
   "outputs": [],
   "source": [
    "def save_results_for_finding_threshold(filename,dataframe,predicted):\n",
    "    results = pd.DataFrame()\n",
    "    results['Actual'] = dataframe['virus']\n",
    "    results['Predicted'] = predicted\n",
    "    print(results.head())\n",
    "    results.to_csv(filename,index = False)"
   ]
  },
  {
   "cell_type": "code",
   "execution_count": 11,
   "metadata": {
    "collapsed": true
   },
   "outputs": [],
   "source": [
    "def get_all_datasets(training_data_):\n",
    "    datasets = defaultdict()\n",
    "    for i in training_data_:\n",
    "        data,training = read_file(training_directory+i)\n",
    "        datasets[i[:-4]] = (data,training)\n",
    "    return datasets"
   ]
  },
  {
   "cell_type": "code",
   "execution_count": 12,
   "metadata": {
    "collapsed": true
   },
   "outputs": [],
   "source": [
    "def get_all_results(data_dict,param):\n",
    "    results = defaultdict()\n",
    "    for i in list(param.keys()):\n",
    "        data,train = data_dict[i]\n",
    "        results[i] = get_results(param[i],train)\n",
    "    return results"
   ]
  },
  {
   "cell_type": "code",
   "execution_count": 13,
   "metadata": {
    "collapsed": true
   },
   "outputs": [],
   "source": [
    "def result_statistics(list_):\n",
    "#     print(\"Min : \",min(list_))\n",
    "#     print(\"Max : \",max(list_))\n",
    "#     print(\"Mean : \",np.mean(list_))\n",
    "#     print(\"Standard Deviation : \",np.std(list_))\n",
    "    return min(list_),max(list_)"
   ]
  },
  {
   "cell_type": "code",
   "execution_count": 14,
   "metadata": {
    "collapsed": true
   },
   "outputs": [],
   "source": [
    "def return_class(threshold,list_):\n",
    "    ans = list_ >= threshold * 1\n",
    "    return [int(i) for i in ans]\n",
    "\n",
    "def metrics_pred(list1,list2):\n",
    "    f1 =f1_score(list1,list2)\n",
    "    precision = precision_score(list1,list2)\n",
    "    recall = recall_score(list1,list2)\n",
    "    accuracy = accuracy_score(list1,list2)\n",
    "    fpr,tpr,threshold = roc_curve(list1,list2)\n",
    "    auc = metrics.auc(fpr,tpr)\n",
    "#     print(\"f1 score : \",f1)\n",
    "#     print(\"Precision score : \",precision)\n",
    "#     print(\"Recall : \",recall)\n",
    "#     print(\"Accuracy : \",accuracy)\n",
    "#     print(\"Area under the curve : \",auc)\n",
    "    return auc"
   ]
  },
  {
   "cell_type": "code",
   "execution_count": 15,
   "metadata": {
    "collapsed": true
   },
   "outputs": [],
   "source": [
    "def find_threshold(min_,max_,list1,list2,step_size = 1e-3):\n",
    "    auc_thresholds = defaultdict()\n",
    "    value = min_\n",
    "    while value < max_:\n",
    "        auc_thresholds[value] = metrics_pred(list1['virus'],return_class(value,list2))\n",
    "        value += step_size\n",
    "    optimal_threshold = max(auc_thresholds.items(), key=lambda x: x[1]) \n",
    "    return optimal_threshold"
   ]
  },
  {
   "cell_type": "code",
   "execution_count": 16,
   "metadata": {
    "collapsed": true
   },
   "outputs": [],
   "source": [
    "def return_all_thresholds(results,data):\n",
    "    thresholds = defaultdict()\n",
    "    for i in list(data.keys()):\n",
    "        print(\"_____________________\")\n",
    "        print(i)\n",
    "        min_,max_ = result_statistics(results[i])\n",
    "        threshold = find_threshold(min_,max_,data[i][0],results[i])\n",
    "        print(\"Found threshold for : \",i)\n",
    "        thresholds[i] = threshold\n",
    "    return thresholds"
   ]
  },
  {
   "cell_type": "code",
   "execution_count": 17,
   "metadata": {
    "collapsed": true
   },
   "outputs": [],
   "source": [
    "def test(filename_,param,thresholds_):\n",
    "    aucs = defaultdict()\n",
    "    data,train = read_file(filename_)\n",
    "    for i in list(param.keys()):\n",
    "        test_results = get_results(param[i],train)\n",
    "        auc_ = metrics_pred(data['virus'],return_class(thresholds_[i][0],test_results))\n",
    "        aucs[i] = auc_\n",
    "    return aucs"
   ]
  },
  {
   "cell_type": "code",
   "execution_count": 18,
   "metadata": {
    "collapsed": true
   },
   "outputs": [],
   "source": [
    "def return_final_auc_scores(training_data_,training_directory,filename_,parameters):\n",
    "    data = get_all_datasets(training_data_)\n",
    "    results = get_all_results(data,parameters)\n",
    "    #find the thresholds\n",
    "    thresholds = return_all_thresholds(results,data)\n",
    "    #get the auc values\n",
    "    aucs_= test(filename_,parameters,thresholds)\n",
    "    return aucs_\n"
   ]
  },
  {
   "cell_type": "code",
   "execution_count": 19,
   "metadata": {
    "collapsed": true
   },
   "outputs": [],
   "source": [
    "def create_dict(dict_):\n",
    "    temp = []\n",
    "    for k,v in dict_.items():\n",
    "        temp.append((k,v))\n",
    "    return temp\n",
    "        "
   ]
  },
  {
   "cell_type": "code",
   "execution_count": 20,
   "metadata": {
    "collapsed": true
   },
   "outputs": [],
   "source": [
    "results_symp = defaultdict()\n",
    "results_demo = defaultdict()"
   ]
  },
  {
   "cell_type": "markdown",
   "metadata": {},
   "source": [
    "#### Get the symptoms"
   ]
  },
  {
   "cell_type": "code",
   "execution_count": 21,
   "metadata": {},
   "outputs": [],
   "source": [
    "symp_nyumc = return_parameters(directory_+only_symptoms_[0],['goviral','fluwatch','hongkong','hutterite'])\n",
    "symp_goviral = return_parameters(directory_+only_symptoms_[1],['nyumc','fluwatch','hongkong','hutterite'])\n",
    "symp_fluwatch = return_parameters(directory_+only_symptoms_[2],['nyumc','goviral','hongkong','hutterite'])\n",
    "symp_hongkong = return_parameters(directory_+only_symptoms_[3],['nyumc','goviral','fluwatch','hutterite'])\n",
    "symp_hutterite = return_parameters(directory_+only_symptoms_[4],['nyumc','goviral','fluwatch','hongkong'])\n",
    "demo_nyumc = return_parameters(directory_+with_demographics_[0],['goviral','fluwatch','hongkong','hutterite'])\n",
    "demo_goviral = return_parameters(directory_+with_demographics_[1],['nyumc','fluwatch','hongkong','hutterite'])\n",
    "demo_fluwatch = return_parameters(directory_+with_demographics_[2],['nyumc','goviral','hongkong','hutterite'])\n",
    "demo_hongkong = return_parameters(directory_+with_demographics_[3],['nyumc','goviral','fluwatch','hutterite'])\n",
    "demo_hutterite = return_parameters(directory_+with_demographics_[4],['nyumc','goviral','fluwatch','hongkong'])\n"
   ]
  },
  {
   "cell_type": "markdown",
   "metadata": {},
   "source": [
    "#### Only symptoms"
   ]
  },
  {
   "cell_type": "markdown",
   "metadata": {},
   "source": [
    "##### NYUMC not considered in the training data"
   ]
  },
  {
   "cell_type": "code",
   "execution_count": 22,
   "metadata": {
    "collapsed": true
   },
   "outputs": [],
   "source": [
    "training_data_nyumc = ['goviral.csv','fluwatch.csv','hongkong.csv','hutterite.csv']\n",
    "training_directory = \"../../Data/With_Improved_Target/With_Demographics/\"\n",
    "filename_ = \"../../Data/With_Improved_Target/With_Demographics/goviral.csv\""
   ]
  },
  {
   "cell_type": "code",
   "execution_count": 23,
   "metadata": {},
   "outputs": [
    {
     "name": "stdout",
     "output_type": "stream",
     "text": [
      "Only symptoms\n",
      "_____________________\n",
      "goviral\n",
      "Found threshold for :  goviral\n",
      "_____________________\n",
      "fluwatch\n",
      "Found threshold for :  fluwatch\n",
      "_____________________\n",
      "hongkong\n",
      "Found threshold for :  hongkong\n",
      "_____________________\n",
      "hutterite\n",
      "Found threshold for :  hutterite\n"
     ]
    },
    {
     "data": {
      "text/plain": [
       "defaultdict(None,\n",
       "            {'fluwatch': 0.70000300124551695,\n",
       "             'goviral': 0.76933927579945682,\n",
       "             'hongkong': 0.70083584687645373,\n",
       "             'hutterite': 0.75867735110070678})"
      ]
     },
     "execution_count": 23,
     "metadata": {},
     "output_type": "execute_result"
    }
   ],
   "source": [
    "print(\"Only symptoms\")\n",
    "aucs_nyumc_sym = return_final_auc_scores(training_data_nyumc,training_directory,filename_,symp_nyumc)\n",
    "aucs_nyumc_sym"
   ]
  },
  {
   "cell_type": "code",
   "execution_count": 24,
   "metadata": {},
   "outputs": [
    {
     "data": {
      "text/plain": [
       "[('goviral', 0.76933927579945682),\n",
       " ('fluwatch', 0.70000300124551695),\n",
       " ('hongkong', 0.70083584687645373),\n",
       " ('hutterite', 0.75867735110070678)]"
      ]
     },
     "execution_count": 24,
     "metadata": {},
     "output_type": "execute_result"
    }
   ],
   "source": [
    "results_symp['goviral'] = create_dict(aucs_nyumc_sym)\n",
    "results_symp['goviral']"
   ]
  },
  {
   "cell_type": "code",
   "execution_count": null,
   "metadata": {
    "collapsed": true
   },
   "outputs": [],
   "source": []
  },
  {
   "cell_type": "code",
   "execution_count": 25,
   "metadata": {},
   "outputs": [
    {
     "name": "stdout",
     "output_type": "stream",
     "text": [
      "With demographics\n",
      "_____________________\n",
      "goviral\n",
      "Found threshold for :  goviral\n",
      "_____________________\n",
      "fluwatch\n",
      "Found threshold for :  fluwatch\n",
      "_____________________\n",
      "hongkong\n",
      "Found threshold for :  hongkong\n",
      "_____________________\n",
      "hutterite\n",
      "Found threshold for :  hutterite\n"
     ]
    },
    {
     "data": {
      "text/plain": [
       "defaultdict(None,\n",
       "            {'fluwatch': 0.70000300124551695,\n",
       "             'goviral': 0.76933927579945682,\n",
       "             'hongkong': 0.70083584687645373,\n",
       "             'hutterite': 0.75867735110070678})"
      ]
     },
     "execution_count": 25,
     "metadata": {},
     "output_type": "execute_result"
    }
   ],
   "source": [
    "print(\"With demographics\")\n",
    "aucs_nyumc_demo = return_final_auc_scores(training_data_nyumc,training_directory,filename_,demo_nyumc)\n",
    "aucs_nyumc_demo"
   ]
  },
  {
   "cell_type": "code",
   "execution_count": 26,
   "metadata": {},
   "outputs": [
    {
     "data": {
      "text/plain": [
       "[('goviral', 0.76933927579945682),\n",
       " ('fluwatch', 0.70000300124551695),\n",
       " ('hongkong', 0.70083584687645373),\n",
       " ('hutterite', 0.75867735110070678)]"
      ]
     },
     "execution_count": 26,
     "metadata": {},
     "output_type": "execute_result"
    }
   ],
   "source": [
    "results_demo['goviral'] = create_dict(aucs_nyumc_demo)\n",
    "results_demo['goviral']"
   ]
  },
  {
   "cell_type": "code",
   "execution_count": null,
   "metadata": {
    "collapsed": true
   },
   "outputs": [],
   "source": []
  },
  {
   "cell_type": "markdown",
   "metadata": {},
   "source": [
    "##### Goviral not considered in training data"
   ]
  },
  {
   "cell_type": "code",
   "execution_count": 27,
   "metadata": {
    "collapsed": true
   },
   "outputs": [],
   "source": [
    "training_data_goviral = ['nyumc.csv','fluwatch.csv','hongkong.csv','hutterite.csv']\n",
    "training_directory = \"../../Data/With_Improved_Target/With_Demographics/\"\n",
    "filename_ = \"../../Data/With_Improved_Target/With_Demographics/nyumc.csv\"\n"
   ]
  },
  {
   "cell_type": "code",
   "execution_count": 28,
   "metadata": {},
   "outputs": [
    {
     "name": "stdout",
     "output_type": "stream",
     "text": [
      "Only Symptoms\n",
      "_____________________\n",
      "nyumc\n",
      "Found threshold for :  nyumc\n",
      "_____________________\n",
      "fluwatch\n",
      "Found threshold for :  fluwatch\n",
      "_____________________\n",
      "hongkong\n",
      "Found threshold for :  hongkong\n",
      "_____________________\n",
      "hutterite\n",
      "Found threshold for :  hutterite\n"
     ]
    },
    {
     "data": {
      "text/plain": [
       "defaultdict(None,\n",
       "            {'fluwatch': 0.5,\n",
       "             'hongkong': 0.64554624987492326,\n",
       "             'hutterite': 0.91542529017165486,\n",
       "             'nyumc': 0.89035532994923861})"
      ]
     },
     "execution_count": 28,
     "metadata": {},
     "output_type": "execute_result"
    }
   ],
   "source": [
    "print(\"Only Symptoms\")\n",
    "aucs_goviral_sym = return_final_auc_scores(training_data_goviral,training_directory,filename_,symp_goviral)\n",
    "aucs_goviral_sym"
   ]
  },
  {
   "cell_type": "code",
   "execution_count": 29,
   "metadata": {
    "collapsed": true
   },
   "outputs": [],
   "source": [
    "results_symp['nyumc'] = create_dict(aucs_goviral_sym)"
   ]
  },
  {
   "cell_type": "code",
   "execution_count": 30,
   "metadata": {},
   "outputs": [
    {
     "data": {
      "text/plain": [
       "[('nyumc', 0.89035532994923861),\n",
       " ('fluwatch', 0.5),\n",
       " ('hongkong', 0.64554624987492326),\n",
       " ('hutterite', 0.91542529017165486)]"
      ]
     },
     "execution_count": 30,
     "metadata": {},
     "output_type": "execute_result"
    }
   ],
   "source": [
    "results_symp['nyumc']"
   ]
  },
  {
   "cell_type": "code",
   "execution_count": null,
   "metadata": {
    "collapsed": true
   },
   "outputs": [],
   "source": []
  },
  {
   "cell_type": "code",
   "execution_count": 31,
   "metadata": {},
   "outputs": [
    {
     "name": "stdout",
     "output_type": "stream",
     "text": [
      "With demographics\n",
      "_____________________\n",
      "nyumc\n",
      "Found threshold for :  nyumc\n",
      "_____________________\n",
      "fluwatch\n",
      "Found threshold for :  fluwatch\n",
      "_____________________\n",
      "hongkong\n",
      "Found threshold for :  hongkong\n",
      "_____________________\n",
      "hutterite\n",
      "Found threshold for :  hutterite\n"
     ]
    }
   ],
   "source": [
    "print(\"With demographics\")\n",
    "aucs_goviral_demo = return_final_auc_scores(training_data_goviral,training_directory,filename_,demo_goviral)"
   ]
  },
  {
   "cell_type": "code",
   "execution_count": 32,
   "metadata": {},
   "outputs": [
    {
     "data": {
      "text/plain": [
       "defaultdict(None,\n",
       "            {'fluwatch': 0.5,\n",
       "             'hongkong': 0.64554624987492326,\n",
       "             'hutterite': 0.91542529017165486,\n",
       "             'nyumc': 0.89035532994923861})"
      ]
     },
     "execution_count": 32,
     "metadata": {},
     "output_type": "execute_result"
    }
   ],
   "source": [
    "aucs_goviral_demo"
   ]
  },
  {
   "cell_type": "code",
   "execution_count": 33,
   "metadata": {
    "collapsed": true
   },
   "outputs": [],
   "source": [
    "results_demo['nyumc'] = create_dict(aucs_goviral_demo)"
   ]
  },
  {
   "cell_type": "code",
   "execution_count": 34,
   "metadata": {},
   "outputs": [
    {
     "data": {
      "text/plain": [
       "[('nyumc', 0.89035532994923861),\n",
       " ('fluwatch', 0.5),\n",
       " ('hongkong', 0.64554624987492326),\n",
       " ('hutterite', 0.91542529017165486)]"
      ]
     },
     "execution_count": 34,
     "metadata": {},
     "output_type": "execute_result"
    }
   ],
   "source": [
    "results_demo['nyumc']"
   ]
  },
  {
   "cell_type": "code",
   "execution_count": null,
   "metadata": {
    "collapsed": true
   },
   "outputs": [],
   "source": []
  },
  {
   "cell_type": "markdown",
   "metadata": {},
   "source": [
    "#### FluWatch not considered in training data"
   ]
  },
  {
   "cell_type": "code",
   "execution_count": 35,
   "metadata": {
    "collapsed": true
   },
   "outputs": [],
   "source": [
    "training_data_fluwatch = ['nyumc.csv','goviral.csv','hongkong.csv','hutterite.csv']\n",
    "training_directory = \"../../Data/With_Improved_Target/With_Demographics/\"\n",
    "filename_ = \"../../Data/With_Improved_Target/With_Demographics/hongkong.csv\"\n"
   ]
  },
  {
   "cell_type": "code",
   "execution_count": 36,
   "metadata": {},
   "outputs": [
    {
     "name": "stdout",
     "output_type": "stream",
     "text": [
      "Only Symptoms\n",
      "_____________________\n",
      "nyumc\n",
      "Found threshold for :  nyumc\n",
      "_____________________\n",
      "goviral\n",
      "Found threshold for :  goviral\n",
      "_____________________\n",
      "hongkong\n",
      "Found threshold for :  hongkong\n",
      "_____________________\n",
      "hutterite\n",
      "Found threshold for :  hutterite\n"
     ]
    }
   ],
   "source": [
    "print(\"Only Symptoms\")\n",
    "aucs_fluwatch_sym = return_final_auc_scores(training_data_fluwatch,training_directory,filename_,symp_fluwatch)\n"
   ]
  },
  {
   "cell_type": "code",
   "execution_count": 37,
   "metadata": {},
   "outputs": [
    {
     "data": {
      "text/plain": [
       "[('nyumc', 0.50509857239972811),\n",
       " ('goviral', 0.68986978219741879),\n",
       " ('hongkong', 0.97990238300315813),\n",
       " ('hutterite', 0.95329426623594493)]"
      ]
     },
     "execution_count": 37,
     "metadata": {},
     "output_type": "execute_result"
    }
   ],
   "source": [
    "results_symp['hongkong'] = create_dict(aucs_fluwatch_sym)\n",
    "results_symp['hongkong']"
   ]
  },
  {
   "cell_type": "code",
   "execution_count": 38,
   "metadata": {},
   "outputs": [
    {
     "name": "stdout",
     "output_type": "stream",
     "text": [
      "With demographics\n",
      "_____________________\n",
      "nyumc\n",
      "Found threshold for :  nyumc\n",
      "_____________________\n",
      "goviral\n",
      "Found threshold for :  goviral\n",
      "_____________________\n",
      "hongkong\n",
      "Found threshold for :  hongkong\n",
      "_____________________\n",
      "hutterite\n",
      "Found threshold for :  hutterite\n"
     ]
    },
    {
     "data": {
      "text/plain": [
       "defaultdict(None,\n",
       "            {'goviral': 0.68986978219741879,\n",
       "             'hongkong': 0.97990238300315813,\n",
       "             'hutterite': 0.95329426623594493,\n",
       "             'nyumc': 0.50509857239972811})"
      ]
     },
     "execution_count": 38,
     "metadata": {},
     "output_type": "execute_result"
    }
   ],
   "source": [
    "print(\"With demographics\")\n",
    "aucs_fluwatch_demo = return_final_auc_scores(training_data_fluwatch,training_directory,filename_,demo_fluwatch)\n",
    "aucs_fluwatch_demo"
   ]
  },
  {
   "cell_type": "code",
   "execution_count": 39,
   "metadata": {},
   "outputs": [
    {
     "data": {
      "text/plain": [
       "[('nyumc', 0.50509857239972811),\n",
       " ('goviral', 0.68986978219741879),\n",
       " ('hongkong', 0.97990238300315813),\n",
       " ('hutterite', 0.95329426623594493)]"
      ]
     },
     "execution_count": 39,
     "metadata": {},
     "output_type": "execute_result"
    }
   ],
   "source": [
    "results_demo['hongkong']= create_dict(aucs_fluwatch_demo)\n",
    "results_demo['hongkong']"
   ]
  },
  {
   "cell_type": "code",
   "execution_count": null,
   "metadata": {
    "collapsed": true
   },
   "outputs": [],
   "source": []
  },
  {
   "cell_type": "markdown",
   "metadata": {},
   "source": [
    "##### Hongkong not considered in training data"
   ]
  },
  {
   "cell_type": "code",
   "execution_count": 40,
   "metadata": {
    "collapsed": true
   },
   "outputs": [],
   "source": [
    "training_data_hongkong = ['nyumc.csv','goviral.csv','fluwatch.csv','hutterite.csv']\n",
    "training_directory = \"../../Data/With_Improved_Target/With_Demographics/\"\n",
    "filename_ = \"../../Data/With_Improved_Target/With_Demographics/hutterite.csv\""
   ]
  },
  {
   "cell_type": "code",
   "execution_count": null,
   "metadata": {
    "collapsed": true
   },
   "outputs": [],
   "source": []
  },
  {
   "cell_type": "code",
   "execution_count": 41,
   "metadata": {},
   "outputs": [
    {
     "name": "stdout",
     "output_type": "stream",
     "text": [
      "Only Symptoms\n",
      "_____________________\n",
      "nyumc\n",
      "Found threshold for :  nyumc\n",
      "_____________________\n",
      "goviral\n",
      "Found threshold for :  goviral\n",
      "_____________________\n",
      "fluwatch\n",
      "Found threshold for :  fluwatch\n",
      "_____________________\n",
      "hutterite\n",
      "Found threshold for :  hutterite\n"
     ]
    },
    {
     "data": {
      "text/plain": [
       "defaultdict(None,\n",
       "            {'fluwatch': 0.51178950455015459,\n",
       "             'goviral': 0.58303324776607734,\n",
       "             'hutterite': 0.7454086908209826,\n",
       "             'nyumc': 0.50254129606099107})"
      ]
     },
     "execution_count": 41,
     "metadata": {},
     "output_type": "execute_result"
    }
   ],
   "source": [
    "print(\"Only Symptoms\")\n",
    "aucs_hongkong_sym = return_final_auc_scores(training_data_hongkong,training_directory,filename_,symp_hongkong)\n",
    "aucs_hongkong_sym"
   ]
  },
  {
   "cell_type": "code",
   "execution_count": 42,
   "metadata": {},
   "outputs": [
    {
     "data": {
      "text/plain": [
       "[('nyumc', 0.50254129606099107),\n",
       " ('goviral', 0.58303324776607734),\n",
       " ('fluwatch', 0.51178950455015459),\n",
       " ('hutterite', 0.7454086908209826)]"
      ]
     },
     "execution_count": 42,
     "metadata": {},
     "output_type": "execute_result"
    }
   ],
   "source": [
    "results_symp['hutterite']= create_dict(aucs_hongkong_sym)\n",
    "results_symp['hutterite']"
   ]
  },
  {
   "cell_type": "code",
   "execution_count": null,
   "metadata": {
    "collapsed": true
   },
   "outputs": [],
   "source": []
  },
  {
   "cell_type": "code",
   "execution_count": 43,
   "metadata": {},
   "outputs": [
    {
     "name": "stdout",
     "output_type": "stream",
     "text": [
      "With Demographics\n",
      "_____________________\n",
      "nyumc\n",
      "Found threshold for :  nyumc\n",
      "_____________________\n",
      "goviral\n",
      "Found threshold for :  goviral\n",
      "_____________________\n",
      "fluwatch\n",
      "Found threshold for :  fluwatch\n",
      "_____________________\n",
      "hutterite\n",
      "Found threshold for :  hutterite\n"
     ]
    },
    {
     "data": {
      "text/plain": [
       "defaultdict(None,\n",
       "            {'fluwatch': 0.51178950455015459,\n",
       "             'goviral': 0.58303324776607734,\n",
       "             'hutterite': 0.7454086908209826,\n",
       "             'nyumc': 0.50254129606099107})"
      ]
     },
     "execution_count": 43,
     "metadata": {},
     "output_type": "execute_result"
    }
   ],
   "source": [
    "print(\"With Demographics\")\n",
    "aucs_hongkong_demo = return_final_auc_scores(training_data_hongkong,training_directory,filename_,demo_hongkong)\n",
    "aucs_hongkong_demo"
   ]
  },
  {
   "cell_type": "code",
   "execution_count": 44,
   "metadata": {
    "collapsed": true
   },
   "outputs": [],
   "source": [
    "results_demo['hutterite'] = aucs_hongkong_demo"
   ]
  },
  {
   "cell_type": "markdown",
   "metadata": {},
   "source": [
    "##### Hutterite not considered in training data"
   ]
  },
  {
   "cell_type": "code",
   "execution_count": 45,
   "metadata": {
    "collapsed": true
   },
   "outputs": [],
   "source": [
    "training_data_hutterite = ['nyumc.csv','goviral.csv','fluwatch.csv','hongkong.csv']\n",
    "training_directory = \"../../Data/With_Improved_Target/With_Demographics/\"\n",
    "filename_ = \"../../Data/With_Improved_Target/With_Demographics/fluwatch.csv\""
   ]
  },
  {
   "cell_type": "code",
   "execution_count": 46,
   "metadata": {},
   "outputs": [
    {
     "name": "stdout",
     "output_type": "stream",
     "text": [
      "Only Symptoms\n",
      "_____________________\n",
      "nyumc\n",
      "Found threshold for :  nyumc\n",
      "_____________________\n",
      "goviral\n",
      "Found threshold for :  goviral\n",
      "_____________________\n",
      "fluwatch\n",
      "Found threshold for :  fluwatch\n",
      "_____________________\n",
      "hongkong\n",
      "Found threshold for :  hongkong\n"
     ]
    },
    {
     "data": {
      "text/plain": [
       "defaultdict(None,\n",
       "            {'fluwatch': 0.63447211579395479,\n",
       "             'goviral': 0.59071489387581333,\n",
       "             'hongkong': 0.50133035334184761,\n",
       "             'nyumc': 0.49568965517241381})"
      ]
     },
     "execution_count": 46,
     "metadata": {},
     "output_type": "execute_result"
    }
   ],
   "source": [
    "print(\"Only Symptoms\")\n",
    "aucs_hutterite_sym = return_final_auc_scores(training_data_hutterite,training_directory,filename_,symp_hutterite)\n",
    "aucs_hutterite_sym"
   ]
  },
  {
   "cell_type": "code",
   "execution_count": 47,
   "metadata": {
    "collapsed": true
   },
   "outputs": [],
   "source": [
    "results_symp['fluwatch'] = create_dict(aucs_hutterite_sym)"
   ]
  },
  {
   "cell_type": "code",
   "execution_count": 48,
   "metadata": {},
   "outputs": [
    {
     "name": "stdout",
     "output_type": "stream",
     "text": [
      "With Demographics\n",
      "_____________________\n",
      "nyumc\n",
      "Found threshold for :  nyumc\n",
      "_____________________\n",
      "goviral\n",
      "Found threshold for :  goviral\n",
      "_____________________\n",
      "fluwatch\n",
      "Found threshold for :  fluwatch\n",
      "_____________________\n",
      "hongkong\n",
      "Found threshold for :  hongkong\n"
     ]
    },
    {
     "data": {
      "text/plain": [
       "defaultdict(None,\n",
       "            {'fluwatch': 0.63447211579395479,\n",
       "             'goviral': 0.59071489387581333,\n",
       "             'hongkong': 0.50133035334184761,\n",
       "             'nyumc': 0.49568965517241381})"
      ]
     },
     "execution_count": 48,
     "metadata": {},
     "output_type": "execute_result"
    }
   ],
   "source": [
    "print(\"With Demographics\")\n",
    "aucs_hutterite_demo = return_final_auc_scores(training_data_hutterite,training_directory,filename_,demo_hutterite)\n",
    "aucs_hutterite_demo"
   ]
  },
  {
   "cell_type": "code",
   "execution_count": 49,
   "metadata": {
    "collapsed": true
   },
   "outputs": [],
   "source": [
    "results_demo['fluwatch'] = create_dict(aucs_hutterite_demo)"
   ]
  },
  {
   "cell_type": "code",
   "execution_count": null,
   "metadata": {
    "collapsed": true
   },
   "outputs": [],
   "source": []
  },
  {
   "cell_type": "code",
   "execution_count": 50,
   "metadata": {},
   "outputs": [
    {
     "data": {
      "text/plain": [
       "defaultdict(None,\n",
       "            {'fluwatch': [('nyumc', 0.49568965517241381),\n",
       "              ('goviral', 0.59071489387581333),\n",
       "              ('fluwatch', 0.63447211579395479),\n",
       "              ('hongkong', 0.50133035334184761)],\n",
       "             'goviral': [('goviral', 0.76933927579945682),\n",
       "              ('fluwatch', 0.70000300124551695),\n",
       "              ('hongkong', 0.70083584687645373),\n",
       "              ('hutterite', 0.75867735110070678)],\n",
       "             'hongkong': [('nyumc', 0.50509857239972811),\n",
       "              ('goviral', 0.68986978219741879),\n",
       "              ('hongkong', 0.97990238300315813),\n",
       "              ('hutterite', 0.95329426623594493)],\n",
       "             'hutterite': [('nyumc', 0.50254129606099107),\n",
       "              ('goviral', 0.58303324776607734),\n",
       "              ('fluwatch', 0.51178950455015459),\n",
       "              ('hutterite', 0.7454086908209826)],\n",
       "             'nyumc': [('nyumc', 0.89035532994923861),\n",
       "              ('fluwatch', 0.5),\n",
       "              ('hongkong', 0.64554624987492326),\n",
       "              ('hutterite', 0.91542529017165486)]})"
      ]
     },
     "execution_count": 50,
     "metadata": {},
     "output_type": "execute_result"
    }
   ],
   "source": [
    "results_symp"
   ]
  },
  {
   "cell_type": "code",
   "execution_count": 51,
   "metadata": {},
   "outputs": [
    {
     "data": {
      "text/plain": [
       "defaultdict(None,\n",
       "            {'fluwatch': [('nyumc', 0.49568965517241381),\n",
       "              ('goviral', 0.59071489387581333),\n",
       "              ('fluwatch', 0.63447211579395479),\n",
       "              ('hongkong', 0.50133035334184761)],\n",
       "             'goviral': [('goviral', 0.76933927579945682),\n",
       "              ('fluwatch', 0.70000300124551695),\n",
       "              ('hongkong', 0.70083584687645373),\n",
       "              ('hutterite', 0.75867735110070678)],\n",
       "             'hongkong': [('nyumc', 0.50509857239972811),\n",
       "              ('goviral', 0.68986978219741879),\n",
       "              ('hongkong', 0.97990238300315813),\n",
       "              ('hutterite', 0.95329426623594493)],\n",
       "             'hutterite': defaultdict(None,\n",
       "                         {'fluwatch': 0.51178950455015459,\n",
       "                          'goviral': 0.58303324776607734,\n",
       "                          'hutterite': 0.7454086908209826,\n",
       "                          'nyumc': 0.50254129606099107}),\n",
       "             'nyumc': [('nyumc', 0.89035532994923861),\n",
       "              ('fluwatch', 0.5),\n",
       "              ('hongkong', 0.64554624987492326),\n",
       "              ('hutterite', 0.91542529017165486)]})"
      ]
     },
     "execution_count": 51,
     "metadata": {},
     "output_type": "execute_result"
    }
   ],
   "source": [
    "results_demo"
   ]
  },
  {
   "cell_type": "code",
   "execution_count": 52,
   "metadata": {
    "collapsed": true
   },
   "outputs": [],
   "source": [
    "def create_plots(columns,dict_,name,order,label,title):\n",
    "    columns = list(dict_.keys())\n",
    "    df = pd.DataFrame(columns)\n",
    "    df_list = []\n",
    "    for i in dict_.keys():\n",
    "        df_list.append(pd.DataFrame({k:[v] for (k,v) in dict(dict_[i]).items()}))\n",
    "    df = pd.concat(df_list)\n",
    "#     df.fillna(0,inplace = True)\n",
    "    df[name] = columns\n",
    "    df.set_index(name,inplace = True)\n",
    "    df = df[list(dict_.keys())]\n",
    "    df = df[columns[::-1]]\n",
    "    print(df)\n",
    "    sns.set()\n",
    "    ax = plt.axes()\n",
    "    sns.heatmap(df,annot=True,linewidth = 0.8,ax = ax,cbar_kws = {'label' : label},cbar = 'purple',fmt='f')\n",
    "    ax.set_title(title)\n",
    "    ax.set_xlabel('Predicted using datatset')\n",
    "    plt.show()\n",
    "    return df\n",
    "    "
   ]
  },
  {
   "cell_type": "code",
   "execution_count": 53,
   "metadata": {},
   "outputs": [
    {
     "name": "stdout",
     "output_type": "stream",
     "text": [
      "              fluwatch  hutterite  hongkong     nyumc   goviral\n",
      "Test Dataset                                                   \n",
      "goviral       0.700003   0.758677  0.700836       NaN  0.769339\n",
      "nyumc         0.500000   0.915425  0.645546  0.890355       NaN\n",
      "hongkong           NaN   0.953294  0.979902  0.505099  0.689870\n",
      "hutterite     0.511790   0.745409       NaN  0.502541  0.583033\n",
      "fluwatch      0.634472        NaN  0.501330  0.495690  0.590715\n"
     ]
    },
    {
     "data": {
      "image/png": "[encoded data removed]",
      "text/plain": [
       "<matplotlib.figure.Figure at 0x10fa713c8>"
      ]
     },
     "metadata": {},
     "output_type": "display_data"
    }
   ],
   "source": [
    "positive_distances = create_plots(['nyumc','goviral','fluwatch','hongkong','hutterite'],\n",
    "                  results_symp,\n",
    "                  'Test Dataset',\n",
    "                  ['hutterite','hongkong','fluwatch','goviral','nyumc'],'AUC',\n",
    "                  'Hierarchical: AUCS only symptoms')"
   ]
  },
  {
   "cell_type": "code",
   "execution_count": null,
   "metadata": {
    "collapsed": true
   },
   "outputs": [],
   "source": []
  },
  {
   "cell_type": "code",
   "execution_count": null,
   "metadata": {
    "collapsed": true
   },
   "outputs": [],
   "source": []
  },
  {
   "cell_type": "code",
   "execution_count": null,
   "metadata": {
    "collapsed": true
   },
   "outputs": [],
   "source": []
  },
  {
   "cell_type": "code",
   "execution_count": 54,
   "metadata": {},
   "outputs": [
    {
     "data": {
      "text/plain": [
       "defaultdict(None,\n",
       "            {'fluwatch': [('nyumc', 0.49568965517241381),\n",
       "              ('goviral', 0.59071489387581333),\n",
       "              ('fluwatch', 0.63447211579395479),\n",
       "              ('hongkong', 0.50133035334184761)],\n",
       "             'goviral': [('goviral', 0.76933927579945682),\n",
       "              ('fluwatch', 0.70000300124551695),\n",
       "              ('hongkong', 0.70083584687645373),\n",
       "              ('hutterite', 0.75867735110070678)],\n",
       "             'hongkong': [('nyumc', 0.50509857239972811),\n",
       "              ('goviral', 0.68986978219741879),\n",
       "              ('hongkong', 0.97990238300315813),\n",
       "              ('hutterite', 0.95329426623594493)],\n",
       "             'hutterite': defaultdict(None,\n",
       "                         {'fluwatch': 0.51178950455015459,\n",
       "                          'goviral': 0.58303324776607734,\n",
       "                          'hutterite': 0.7454086908209826,\n",
       "                          'nyumc': 0.50254129606099107}),\n",
       "             'nyumc': [('nyumc', 0.89035532994923861),\n",
       "              ('fluwatch', 0.5),\n",
       "              ('hongkong', 0.64554624987492326),\n",
       "              ('hutterite', 0.91542529017165486)]})"
      ]
     },
     "execution_count": 54,
     "metadata": {},
     "output_type": "execute_result"
    }
   ],
   "source": [
    "results_demo"
   ]
  },
  {
   "cell_type": "code",
   "execution_count": 55,
   "metadata": {},
   "outputs": [
    {
     "name": "stdout",
     "output_type": "stream",
     "text": [
      "              fluwatch  hutterite  hongkong     nyumc   goviral\n",
      "Test Dataset                                                   \n",
      "goviral       0.700003   0.758677  0.700836       NaN  0.769339\n",
      "nyumc         0.500000   0.915425  0.645546  0.890355       NaN\n",
      "hongkong           NaN   0.953294  0.979902  0.505099  0.689870\n",
      "hutterite     0.511790   0.745409       NaN  0.502541  0.583033\n",
      "fluwatch      0.634472        NaN  0.501330  0.495690  0.590715\n"
     ]
    },
    {
     "data": {
      "image/png": "[encoded data removed]",
      "text/plain": [
       "<matplotlib.figure.Figure at 0x110681470>"
      ]
     },
     "metadata": {},
     "output_type": "display_data"
    }
   ],
   "source": [
    "positive_distances = create_plots(['nyumc','goviral','fluwatch','hongkong','hutterite'],\n",
    "                  results_demo,\n",
    "                  'Test Dataset',\n",
    "                  ['hutterite','hongkong','fluwatch','goviral','nyumc'],'AUC',\n",
    "                  'AUCS only symptoms')"
   ]
  },
  {
   "cell_type": "code",
   "execution_count": null,
   "metadata": {
    "collapsed": true
   },
   "outputs": [],
   "source": []
  },
  {
   "cell_type": "code",
   "execution_count": null,
   "metadata": {
    "collapsed": true
   },
   "outputs": [],
   "source": []
  },
  {
   "cell_type": "code",
   "execution_count": null,
   "metadata": {
    "collapsed": true
   },
   "outputs": [],
   "source": []
  },
  {
   "cell_type": "code",
   "execution_count": null,
   "metadata": {
    "collapsed": true
   },
   "outputs": [],
   "source": []
  },
  {
   "cell_type": "code",
   "execution_count": null,
   "metadata": {
    "collapsed": true
   },
   "outputs": [],
   "source": []
  },
  {
   "cell_type": "code",
   "execution_count": null,
   "metadata": {
    "collapsed": true
   },
   "outputs": [],
   "source": []
  },
  {
   "cell_type": "code",
   "execution_count": null,
   "metadata": {
    "collapsed": true
   },
   "outputs": [],
   "source": []
  },
  {
   "cell_type": "code",
   "execution_count": null,
   "metadata": {
    "collapsed": true
   },
   "outputs": [],
   "source": []
  },
  {
   "cell_type": "code",
   "execution_count": null,
   "metadata": {
    "collapsed": true
   },
   "outputs": [],
   "source": []
  }
 ],
 "metadata": {
  "kernelspec": {
   "display_name": "Python 3",
   "language": "python",
   "name": "python3"
  },
  "language_info": {
   "codemirror_mode": {
    "name": "ipython",
    "version": 3
   },
   "file_extension": ".py",
   "mimetype": "text/x-python",
   "name": "python",
   "nbconvert_exporter": "python",
   "pygments_lexer": "ipython3",
   "version": "3.6.1"
  }
 },
 "nbformat": 4,
 "nbformat_minor": 2
}
