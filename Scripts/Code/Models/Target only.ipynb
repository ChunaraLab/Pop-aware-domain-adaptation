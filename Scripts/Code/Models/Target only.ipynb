{
 "cells": [
  {
   "cell_type": "code",
   "execution_count": 10,
   "metadata": {
    "collapsed": true
   },
   "outputs": [],
   "source": [
    "import pandas as pd\n",
    "import numpy as np\n",
    "import os\n",
    "import time\n",
    "from sklearn import linear_model\n",
    "from sklearn.metrics import f1_score,roc_curve,precision_score,recall_score,accuracy_score,auc\n",
    "from collections import defaultdict\n",
    "from sklearn import metrics\n",
    "import random\n",
    "random.seed(10)"
   ]
  },
  {
   "cell_type": "markdown",
   "metadata": {},
   "source": [
    "One dataset is held out. All the other datasets are concatenated. We implement a Logistic Regression on the concatenated data and then test out on the held out the data."
   ]
  },
  {
   "cell_type": "code",
   "execution_count": 11,
   "metadata": {
    "collapsed": true
   },
   "outputs": [],
   "source": [
    "symptoms = ['fever','cough','muscle','sorethroat','virus']"
   ]
  },
  {
   "cell_type": "code",
   "execution_count": 12,
   "metadata": {
    "collapsed": true
   },
   "outputs": [],
   "source": [
    "def read_files(filename):\n",
    "    data = pd.read_csv(filename)\n",
    "    data = data[symptoms]\n",
    "    print(data.head())\n",
    "    return data"
   ]
  },
  {
   "cell_type": "code",
   "execution_count": 13,
   "metadata": {
    "collapsed": true
   },
   "outputs": [],
   "source": [
    "def get_training_data(train_files_,train_directory):\n",
    "    data = []\n",
    "    for i in train_files_:\n",
    "        print(train_directory+i)\n",
    "        data.append(read_files(train_directory+i))\n",
    "        \n",
    "    training_data = pd.concat(data)\n",
    "    x_train = training_data.drop(['virus'],axis = 1)\n",
    "    y_train = training_data['virus']\n",
    "    return x_train,y_train"
   ]
  },
  {
   "cell_type": "code",
   "execution_count": 14,
   "metadata": {
    "collapsed": true
   },
   "outputs": [],
   "source": [
    "def get_test_data(test_file_,test_directory):\n",
    "    data = read_files(test_directory+test_file_)\n",
    "    x_test = data.drop(['virus'],axis = 1)\n",
    "    y_test = data['virus']\n",
    "    return x_test,y_test"
   ]
  },
  {
   "cell_type": "code",
   "execution_count": 15,
   "metadata": {
    "collapsed": true
   },
   "outputs": [],
   "source": [
    "def linear_regression_model(x_train,x_test,y_train,y_test):\n",
    "    lm = linear_model.LogisticRegression()\n",
    "    lm.fit(x_train,y_train)\n",
    "    y_pred = lm.predict(x_test)\n",
    "    fpr,tpr,threshold = roc_curve(y_test,y_pred)\n",
    "    auc_score = auc(fpr,tpr)\n",
    "    accuracy = accuracy_score(y_test,y_pred)\n",
    "    precision = precision_score(y_test,y_pred)\n",
    "    recall = recall_score(y_test,y_pred)\n",
    "    f1 = f1_score(y_test,y_pred)\n",
    "    return auc_score,accuracy,precision,recall,f1"
   ]
  },
  {
   "cell_type": "code",
   "execution_count": 16,
   "metadata": {
    "collapsed": true
   },
   "outputs": [],
   "source": [
    "def predict_on_unknown(train_files,test_file,train_directory,test_directory ):\n",
    "    results = defaultdict()\n",
    "    x_train,y_train = get_training_data(train_files,train_directory)\n",
    "    x_test,y_test = get_test_data(test_file,test_directory)\n",
    "    auc_score,accuracy,precision,recall,f1 = linear_regression_model(x_train,x_test,y_train,y_test)\n",
    "    results['AUC'] = auc_score\n",
    "    results['Accuracy'] = accuracy\n",
    "    results['Precision'] = precision\n",
    "    results['Recall'] = recall\n",
    "    results['F1'] = f1\n",
    "    for k,v in results.items():\n",
    "        print(k,\"\\t\",v)\n",
    "    return results"
   ]
  },
  {
   "cell_type": "markdown",
   "metadata": {},
   "source": [
    "### Predict on GoViral"
   ]
  },
  {
   "cell_type": "code",
   "execution_count": 20,
   "metadata": {
    "collapsed": true
   },
   "outputs": [],
   "source": [
    "TRAIN_DIRECTORY = \"../Data/Symptoms_Demo/Goviral/Train/\"\n",
    "TEST_DIRECTORY = \"../Data/Symptoms_Demo/Goviral/Test/\""
   ]
  },
  {
   "cell_type": "code",
   "execution_count": 21,
   "metadata": {
    "collapsed": true
   },
   "outputs": [],
   "source": [
    "# train_files = ['nyumc.csv','goviral.csv','fluwatch.csv','hongkong.csv','hutterite.csv']\n",
    "train_files = ['goviral.csv']\n",
    "test_file = 'goviral.csv'"
   ]
  },
  {
   "cell_type": "code",
   "execution_count": 22,
   "metadata": {},
   "outputs": [
    {
     "name": "stdout",
     "output_type": "stream",
     "text": [
      "GoViral!\n",
      "../Data/Symptoms_Demo/Goviral/Train/goviral.csv\n",
      "   fever  cough  muscle  sorethroat  virus\n",
      "0      0      1       1           0      0\n",
      "1      0      0       0           1      1\n",
      "2      1      1       1           1      1\n",
      "3      0      1       0           1      0\n",
      "4      0      0       0           1      1\n",
      "   fever  cough  muscle  sorethroat  virus\n",
      "0      1      1       1           1      1\n",
      "1      1      1       0           1      1\n",
      "2      0      1       0           1      0\n",
      "3      0      0       0           0      0\n",
      "4      1      1       0           0      1\n",
      "Precision \t 0.6816608996539792\n",
      "F1 \t 0.7150635208711434\n",
      "AUC \t 0.652653227599496\n",
      "Accuracy \t 0.6645299145299145\n",
      "Recall \t 0.7519083969465649\n"
     ]
    }
   ],
   "source": [
    "print(\"GoViral!\")\n",
    "results_goviral = predict_on_unknown(train_files,test_file,TRAIN_DIRECTORY,TEST_DIRECTORY)"
   ]
  },
  {
   "cell_type": "markdown",
   "metadata": {},
   "source": [
    "### Predict on FluWatch"
   ]
  },
  {
   "cell_type": "code",
   "execution_count": 23,
   "metadata": {
    "collapsed": true
   },
   "outputs": [],
   "source": [
    "TRAIN_DIRECTORY = \"../Data/Symptoms_Demo/Fluwatch/Train/\"\n",
    "TEST_DIRECTORY = \"../Data/Symptoms_Demo/Fluwatch/Test/\""
   ]
  },
  {
   "cell_type": "code",
   "execution_count": 24,
   "metadata": {},
   "outputs": [
    {
     "name": "stdout",
     "output_type": "stream",
     "text": [
      "FluWatch!\n",
      "../Data/Symptoms_Demo/Fluwatch/Train/fluwatch.csv\n",
      "   fever  cough  muscle  sorethroat  virus\n",
      "0    0.0    1.0     0.0         1.0      1\n",
      "1    0.0    1.0     0.0         1.0      0\n",
      "2    0.0    1.0     0.0         0.0      1\n",
      "3    0.0    1.0     0.0         0.0      0\n",
      "4    0.0    1.0     0.0         1.0      0\n",
      "   fever  cough  muscle  sorethroat  virus\n",
      "0    1.0    0.0     1.0         1.0      0\n",
      "1    0.0    0.0     0.0         0.0      1\n",
      "2    0.0    1.0     0.0         1.0      0\n",
      "3    0.0    1.0     0.0         0.0      1\n",
      "4    0.0    1.0     0.0         1.0      0\n",
      "Precision \t 0.6844919786096256\n",
      "F1 \t 0.43611584327086883\n",
      "AUC \t 0.5904245283018869\n",
      "Accuracy \t 0.5983009708737864\n",
      "Recall \t 0.32\n"
     ]
    }
   ],
   "source": [
    "# train_files = ['nyumc.csv','goviral.csv','fluwatch.csv','hongkong.csv','hutterite.csv']\n",
    "train_files = ['fluwatch.csv']\n",
    "test_file = 'fluwatch.csv'\n",
    "print(\"FluWatch!\")\n",
    "results_fluwatch = predict_on_unknown(train_files,test_file,TRAIN_DIRECTORY,TEST_DIRECTORY)"
   ]
  },
  {
   "cell_type": "markdown",
   "metadata": {},
   "source": [
    "### Predict on HongKong"
   ]
  },
  {
   "cell_type": "code",
   "execution_count": 25,
   "metadata": {
    "collapsed": true
   },
   "outputs": [],
   "source": [
    "TRAIN_DIRECTORY = \"../Data/Symptoms_Demo/Hongkong/Train/\"\n",
    "TEST_DIRECTORY = \"../Data/Symptoms_Demo/Hongkong/Test/\""
   ]
  },
  {
   "cell_type": "code",
   "execution_count": 26,
   "metadata": {},
   "outputs": [
    {
     "name": "stdout",
     "output_type": "stream",
     "text": [
      "HongKong\n",
      "../Data/Symptoms_Demo/Hongkong/Train/hongkong.csv\n",
      "   fever  cough  muscle  sorethroat  virus\n",
      "0    0.0    1.0     0.0         1.0      1\n",
      "1    0.0    0.0     0.0         0.0      0\n",
      "2    0.0    0.0     1.0         0.0      0\n",
      "3    1.0    1.0     1.0         1.0      1\n",
      "4    0.0    0.0     0.0         0.0      0\n",
      "   fever  cough  muscle  sorethroat  virus\n",
      "0    0.0    1.0     1.0         1.0      1\n",
      "1    0.0    0.0     0.0         0.0      0\n",
      "2    0.0    1.0     0.0         0.0      1\n",
      "3    1.0    1.0     1.0         1.0      1\n",
      "4    0.0    1.0     0.0         1.0      1\n",
      "Precision \t 0.8785117691723614\n",
      "F1 \t 0.8554528650646951\n",
      "AUC \t 0.8907365969837758\n",
      "Accuracy \t 0.9123121776183001\n",
      "Recall \t 0.8335734870317003\n"
     ]
    }
   ],
   "source": [
    "# train_files = ['nyumc.csv','goviral.csv','fluwatch.csv','hongkong.csv','hutterite.csv']\n",
    "train_files = ['hongkong.csv']\n",
    "test_file = 'hongkong.csv'\n",
    "print(\"HongKong\")\n",
    "results_hongkong = predict_on_unknown(train_files,test_file,TRAIN_DIRECTORY ,TEST_DIRECTORY)"
   ]
  },
  {
   "cell_type": "markdown",
   "metadata": {},
   "source": [
    "### Predict on Hutterite"
   ]
  },
  {
   "cell_type": "code",
   "execution_count": 27,
   "metadata": {
    "collapsed": true
   },
   "outputs": [],
   "source": [
    "TRAIN_DIRECTORY = \"../Data/Symptoms_Demo/Hutterite/Train/\"\n",
    "TEST_DIRECTORY = \"../Data/Symptoms_Demo/Hutterite/Test/\""
   ]
  },
  {
   "cell_type": "code",
   "execution_count": 28,
   "metadata": {},
   "outputs": [
    {
     "name": "stdout",
     "output_type": "stream",
     "text": [
      "Hutterite!\n",
      "../Data/Symptoms_Demo/Hutterite/Train/hutterite.csv\n",
      "   fever  cough  muscle  sorethroat  virus\n",
      "0      0      1       0           0      0\n",
      "1      0      0       0           0      0\n",
      "2      0      1       0           0      1\n",
      "3      0      0       0           0      0\n",
      "4      0      1       0           0      0\n",
      "   fever  cough  muscle  sorethroat  virus\n",
      "0      0      0       0           0      0\n",
      "1      0      0       0           1      0\n",
      "2      1      0       0           0      1\n",
      "3      0      1       0           0      1\n",
      "4      0      1       0           0      1\n",
      "Precision \t 0.6513249651324965\n",
      "F1 \t 0.7538337368845843\n",
      "AUC \t 0.7492197509274945\n",
      "Accuracy \t 0.7354726799653079\n",
      "Recall \t 0.8946360153256705\n"
     ]
    }
   ],
   "source": [
    "# train_files = ['nyumc.csv','goviral.csv','fluwatch.csv','hongkong.csv','hutterite.csv']\n",
    "train_files = ['hutterite.csv']\n",
    "test_file = 'hutterite.csv'\n",
    "print(\"Hutterite!\")\n",
    "results_hutterite = predict_on_unknown(train_files,test_file,TRAIN_DIRECTORY,TEST_DIRECTORY)"
   ]
  },
  {
   "cell_type": "markdown",
   "metadata": {
    "collapsed": true
   },
   "source": [
    "### Predict on Loeb"
   ]
  },
  {
   "cell_type": "code",
   "execution_count": 29,
   "metadata": {
    "collapsed": true
   },
   "outputs": [],
   "source": [
    "TRAIN_DIRECTORY = \"../Data/Symptoms_Demo/Loeb/Train/\"\n",
    "TEST_DIRECTORY = \"../Data/Symptoms_Demo/Loeb/Test/\""
   ]
  },
  {
   "cell_type": "code",
   "execution_count": 31,
   "metadata": {},
   "outputs": [
    {
     "name": "stdout",
     "output_type": "stream",
     "text": [
      "Loeb!\n",
      "../Data/Symptoms_Demo/Loeb/Train/loeb.csv\n",
      "   fever  cough  muscle  sorethroat  virus\n",
      "0      0      1       0           0      1\n",
      "1      0      1       1           1      1\n",
      "2      0      1       1           1      0\n",
      "3      1      1       0           1      1\n",
      "4      0      1       0           0      0\n",
      "   fever  cough  muscle  sorethroat  virus\n",
      "0      0      1       0           1      1\n",
      "1      0      1       0           1      1\n",
      "2      1      0       0           1      0\n",
      "3      0      1       0           1      1\n",
      "4      1      1       0           1      1\n",
      "Precision \t 0.5333333333333333\n",
      "F1 \t 0.6674968866749689\n",
      "AUC \t 0.48791564839850254\n",
      "Accuracy \t 0.5202156334231806\n",
      "Recall \t 0.891846921797005\n"
     ]
    }
   ],
   "source": [
    "# train_files = ['nyumc.csv','goviral.csv','fluwatch.csv','hongkong.csv','hutterite.csv']\n",
    "train_files = ['loeb.csv']\n",
    "test_file = 'loeb.csv'\n",
    "print(\"Loeb!\")\n",
    "results_hutterite = predict_on_unknown(train_files,test_file,TRAIN_DIRECTORY,TEST_DIRECTORY)"
   ]
  },
  {
   "cell_type": "code",
   "execution_count": null,
   "metadata": {
    "collapsed": true
   },
   "outputs": [],
   "source": []
  },
  {
   "cell_type": "code",
   "execution_count": null,
   "metadata": {
    "collapsed": true
   },
   "outputs": [],
   "source": []
  },
  {
   "cell_type": "code",
   "execution_count": null,
   "metadata": {
    "collapsed": true
   },
   "outputs": [],
   "source": []
  },
  {
   "cell_type": "code",
   "execution_count": null,
   "metadata": {
    "collapsed": true
   },
   "outputs": [],
   "source": []
  },
  {
   "cell_type": "code",
   "execution_count": null,
   "metadata": {
    "collapsed": true
   },
   "outputs": [],
   "source": []
  }
 ],
 "metadata": {
  "kernelspec": {
   "display_name": "Python 3",
   "language": "python",
   "name": "python3"
  },
  "language_info": {
   "codemirror_mode": {
    "name": "ipython",
    "version": 3
   },
   "file_extension": ".py",
   "mimetype": "text/x-python",
   "name": "python",
   "nbconvert_exporter": "python",
   "pygments_lexer": "ipython3",
   "version": "3.5.4"
  }
 },
 "nbformat": 4,
 "nbformat_minor": 2
}
